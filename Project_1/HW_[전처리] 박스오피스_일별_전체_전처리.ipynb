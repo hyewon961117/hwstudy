{
 "cells": [
  {
   "cell_type": "code",
   "execution_count": 1,
   "id": "f13c7c84",
   "metadata": {},
   "outputs": [],
   "source": [
    "import requests\n",
    "from bs4 import BeautifulSoup\n",
    "import time\n",
    "from tqdm.notebook import tqdm\n",
    "from urllib.parse import quote\n",
    "\n",
    "import pandas as pd\n",
    "import selenium\n",
    "from selenium import webdriver\n",
    "from selenium.webdriver.common.keys import Keys\n",
    "from selenium.webdriver.common.by import By\n",
    "from selenium.webdriver.common.alert import Alert\n",
    "\n",
    "from datetime import datetime, timedelta\n",
    "\n",
    "import pandas as pd\n",
    "import numpy as np\n",
    "from glob import glob\n",
    "import warnings\n",
    "warnings.filterwarnings('ignore')"
   ]
  },
  {
   "cell_type": "markdown",
   "id": "3580e42b",
   "metadata": {},
   "source": [
    "# 1차 전처리"
   ]
  },
  {
   "cell_type": "markdown",
   "id": "63b332d8",
   "metadata": {},
   "source": [
    "# 크롤링한 파일 합치기"
   ]
  },
  {
   "cell_type": "code",
   "execution_count": 2,
   "id": "b86bcb5e",
   "metadata": {},
   "outputs": [],
   "source": [
    "# 컬럼 리스트 만들기\n",
    "col_list = ['순위', '영화명', '개봉일', '매출액', '매출액점유율', \n",
    "            '매출액증감(전일대비)', '매출액증감율(전일대비) ','누적매출액 ', \n",
    "            '관객수 ', '관객수증감(전일대비) ', '관객수증감율(전일대비) ', \n",
    "            '누적관객수 ','스크린수 ', '상영횟수 ', '대표국적 ', '국적 ', \n",
    "            '제작사 ', '배급사 ', '등급 ', '장르 ','감독 ', '배우 ','기준일']\n",
    "\n",
    "# 빈 데이터 프레임 만들기\n",
    "df1 = pd.DataFrame(columns = col_list)\n",
    "\n",
    "\n",
    "for file in glob(r\"C:\\workspace\\City_Rock\\최종\\*.csv\"):\n",
    "    base = pd.read_csv(file)\n",
    "    df1 = pd.concat([base, df1], axis=0)"
   ]
  },
  {
   "cell_type": "code",
   "execution_count": 28,
   "id": "fb47e3cc",
   "metadata": {},
   "outputs": [
    {
     "data": {
      "text/plain": [
       "(570807, 23)"
      ]
     },
     "execution_count": 28,
     "metadata": {},
     "output_type": "execute_result"
    }
   ],
   "source": [
    "df1.shape"
   ]
  },
  {
   "cell_type": "code",
   "execution_count": 29,
   "id": "74e9962a",
   "metadata": {},
   "outputs": [
    {
     "data": {
      "text/plain": [
       "순위                    0\n",
       "영화명                7003\n",
       "개봉일               76422\n",
       "매출액                   0\n",
       "매출액점유율             6991\n",
       "매출액증감(전일대비)        6991\n",
       "매출액증감율(전일대비)       6991\n",
       "누적매출액                 0\n",
       "관객수                   0\n",
       "관객수증감(전일대비)        6991\n",
       "관객수증감율(전일대비)       6991\n",
       "누적관객수                 0\n",
       "스크린수                  0\n",
       "상영횟수                  0\n",
       "대표국적              10219\n",
       "국적                10219\n",
       "제작사              348729\n",
       "배급사               88208\n",
       "등급                68736\n",
       "장르                13281\n",
       "감독                43672\n",
       "배우                86658\n",
       "기준일                   0\n",
       "dtype: int64"
      ]
     },
     "execution_count": 29,
     "metadata": {},
     "output_type": "execute_result"
    }
   ],
   "source": [
    "df1.isnull().sum()"
   ]
  },
  {
   "cell_type": "code",
   "execution_count": 30,
   "id": "c4082c4c",
   "metadata": {},
   "outputs": [],
   "source": [
    "new_col_list = ['순위', '영화명', '개봉일', '등급 ', '장르 ', '대표국적 ', \n",
    "                '국적 ', '제작사 ', '배급사 ','감독 ', '배우 ','기준일',\n",
    "                '매출액','누적매출액 ','관객수 ','누적관객수 ','스크린수 ', \n",
    "                '상영횟수 ']\n",
    "new_col_name = ['순위', '영화명', '개봉일', '등급', '장르', '대표국적', \n",
    "                '국적', '제작사', '배급사','감독', '배우 ','기준일',\n",
    "                '매출액','누적매출액','관객수','누적관객수','스크린수', \n",
    "                '상영횟수']"
   ]
  },
  {
   "cell_type": "markdown",
   "id": "ccb32c90",
   "metadata": {},
   "source": [
    "# 영화명 결측 제거"
   ]
  },
  {
   "cell_type": "code",
   "execution_count": 31,
   "id": "2f6eafe8",
   "metadata": {},
   "outputs": [
    {
     "data": {
      "text/plain": [
       "(563804, 18)"
      ]
     },
     "execution_count": 31,
     "metadata": {},
     "output_type": "execute_result"
    }
   ],
   "source": [
    "df2 = df1[new_col_list].copy()\n",
    "\n",
    "# 컬럼명 띄어쓰기 없애기\n",
    "df2.columns = new_col_name\n",
    "\n",
    "# 영화명 결측인 행 제거\n",
    "df2 = df2[df2[\"영화명\"].isnull()==False].copy()\n",
    "\n",
    "df2.shape"
   ]
  },
  {
   "cell_type": "code",
   "execution_count": 13,
   "id": "a48d244a",
   "metadata": {},
   "outputs": [
    {
     "data": {
      "text/plain": [
       "(570807, 23)"
      ]
     },
     "execution_count": 13,
     "metadata": {},
     "output_type": "execute_result"
    }
   ],
   "source": [
    "df1.shape"
   ]
  },
  {
   "cell_type": "code",
   "execution_count": 32,
   "id": "f2c61e75",
   "metadata": {},
   "outputs": [
    {
     "name": "stdout",
     "output_type": "stream",
     "text": [
      "<class 'pandas.core.frame.DataFrame'>\n",
      "Int64Index: 563804 entries, 0 to 21966\n",
      "Data columns (total 18 columns):\n",
      " #   Column  Non-Null Count   Dtype \n",
      "---  ------  --------------   ----- \n",
      " 0   순위      563804 non-null  object\n",
      " 1   영화명     563804 non-null  object\n",
      " 2   개봉일     494385 non-null  object\n",
      " 3   등급      502071 non-null  object\n",
      " 4   장르      557515 non-null  object\n",
      " 5   대표국적    560576 non-null  object\n",
      " 6   국적      560576 non-null  object\n",
      " 7   제작사     222078 non-null  object\n",
      " 8   배급사     482599 non-null  object\n",
      " 9   감독      527125 non-null  object\n",
      " 10  배우      484149 non-null  object\n",
      " 11  기준일     563804 non-null  object\n",
      " 12  매출액     563804 non-null  object\n",
      " 13  누적매출액   563804 non-null  object\n",
      " 14  관객수     563804 non-null  object\n",
      " 15  누적관객수   563804 non-null  object\n",
      " 16  스크린수    563804 non-null  object\n",
      " 17  상영횟수    563804 non-null  object\n",
      "dtypes: object(18)\n",
      "memory usage: 81.7+ MB\n"
     ]
    }
   ],
   "source": [
    "df2.info()"
   ]
  },
  {
   "cell_type": "markdown",
   "id": "7b9106d2",
   "metadata": {},
   "source": [
    "# 컬럼 dtype 변경"
   ]
  },
  {
   "cell_type": "code",
   "execution_count": 7,
   "id": "9d95ddaa",
   "metadata": {},
   "outputs": [],
   "source": [
    "# 컬럼 dtype 변경\n",
    "df2[\"순위\"] = df2[\"순위\"].astype(np.int64)\n",
    "df2[\"개봉일\"] = pd.to_datetime(df2[\"개봉일\"], format=\"%Y-%m-%d\")\n",
    "df2[\"기준일\"] = pd.to_datetime(df2[\"기준일\"], format=\"%Y-%m-%d\")\n",
    "df2[\"매출액\"] = df2[\"매출액\"].astype(np.int64)\n",
    "df2[\"누적매출액\"] = df2[\"누적매출액\"].astype(np.int64)\n",
    "df2[\"관객수\"] = df2[\"관객수\"].astype(np.int64)\n",
    "df2[\"누적관객수\"] = df2[\"누적관객수\"].astype(np.int64)\n",
    "df2[\"스크린수\"] = df2[\"스크린수\"].astype(np.int64)\n",
    "df2[\"상영횟수\"] = df2[\"상영횟수\"].astype(np.int64)"
   ]
  },
  {
   "cell_type": "code",
   "execution_count": 9,
   "id": "6e196af0",
   "metadata": {},
   "outputs": [
    {
     "name": "stdout",
     "output_type": "stream",
     "text": [
      "<class 'pandas.core.frame.DataFrame'>\n",
      "Int64Index: 563804 entries, 0 to 21966\n",
      "Data columns (total 18 columns):\n",
      " #   Column  Non-Null Count   Dtype         \n",
      "---  ------  --------------   -----         \n",
      " 0   순위      563804 non-null  int64         \n",
      " 1   영화명     563804 non-null  object        \n",
      " 2   개봉일     494385 non-null  datetime64[ns]\n",
      " 3   등급      502071 non-null  object        \n",
      " 4   장르      557515 non-null  object        \n",
      " 5   대표국적    560576 non-null  object        \n",
      " 6   국적      560576 non-null  object        \n",
      " 7   제작사     222078 non-null  object        \n",
      " 8   배급사     482599 non-null  object        \n",
      " 9   감독      527125 non-null  object        \n",
      " 10  배우      484149 non-null  object        \n",
      " 11  기준일     563804 non-null  datetime64[ns]\n",
      " 12  매출액     563804 non-null  int64         \n",
      " 13  누적매출액   563804 non-null  int64         \n",
      " 14  관객수     563804 non-null  int64         \n",
      " 15  누적관객수   563804 non-null  int64         \n",
      " 16  스크린수    563804 non-null  int64         \n",
      " 17  상영횟수    563804 non-null  int64         \n",
      "dtypes: datetime64[ns](2), int64(7), object(9)\n",
      "memory usage: 81.7+ MB\n"
     ]
    }
   ],
   "source": [
    "df2.info()"
   ]
  },
  {
   "cell_type": "markdown",
   "id": "13d9d3ea",
   "metadata": {},
   "source": [
    "# 기준일 기준 오름차순 정렬"
   ]
  },
  {
   "cell_type": "code",
   "execution_count": 10,
   "id": "f40fe322",
   "metadata": {},
   "outputs": [
    {
     "data": {
      "text/html": [
       "<div>\n",
       "<style scoped>\n",
       "    .dataframe tbody tr th:only-of-type {\n",
       "        vertical-align: middle;\n",
       "    }\n",
       "\n",
       "    .dataframe tbody tr th {\n",
       "        vertical-align: top;\n",
       "    }\n",
       "\n",
       "    .dataframe thead th {\n",
       "        text-align: right;\n",
       "    }\n",
       "</style>\n",
       "<table border=\"1\" class=\"dataframe\">\n",
       "  <thead>\n",
       "    <tr style=\"text-align: right;\">\n",
       "      <th></th>\n",
       "      <th>순위</th>\n",
       "      <th>영화명</th>\n",
       "      <th>개봉일</th>\n",
       "      <th>등급</th>\n",
       "      <th>장르</th>\n",
       "      <th>대표국적</th>\n",
       "      <th>국적</th>\n",
       "      <th>제작사</th>\n",
       "      <th>배급사</th>\n",
       "      <th>감독</th>\n",
       "      <th>배우</th>\n",
       "      <th>기준일</th>\n",
       "      <th>매출액</th>\n",
       "      <th>누적매출액</th>\n",
       "      <th>관객수</th>\n",
       "      <th>누적관객수</th>\n",
       "      <th>스크린수</th>\n",
       "      <th>상영횟수</th>\n",
       "    </tr>\n",
       "  </thead>\n",
       "  <tbody>\n",
       "    <tr>\n",
       "      <th>21966</th>\n",
       "      <td>1</td>\n",
       "      <td>동갑내기 과외하기</td>\n",
       "      <td>2003-02-07</td>\n",
       "      <td>12세관람가</td>\n",
       "      <td>코미디</td>\n",
       "      <td>한국</td>\n",
       "      <td>한국</td>\n",
       "      <td>코리아 엔터테인먼트</td>\n",
       "      <td>CJ ENM</td>\n",
       "      <td>김경형</td>\n",
       "      <td>김하늘,권상우,공유,김지우,백일섭,김혜옥,김자옥,오승근,이성진,손영민,송병철,신지현...</td>\n",
       "      <td>2003-01-12</td>\n",
       "      <td>633500</td>\n",
       "      <td>633500</td>\n",
       "      <td>102</td>\n",
       "      <td>102</td>\n",
       "      <td>1</td>\n",
       "      <td>1</td>\n",
       "    </tr>\n",
       "    <tr>\n",
       "      <th>239</th>\n",
       "      <td>1</td>\n",
       "      <td>매트릭스3 레볼루션</td>\n",
       "      <td>2003-11-05</td>\n",
       "      <td>15세관람가</td>\n",
       "      <td>SF,액션,범죄</td>\n",
       "      <td>미국</td>\n",
       "      <td>미국</td>\n",
       "      <td>NaN</td>\n",
       "      <td>워너브러더스 코리아(주)</td>\n",
       "      <td>릴리 워쇼스키,라나 워쇼스키</td>\n",
       "      <td>키아누 리브스,로렌스 피쉬번,캐리 앤 모스</td>\n",
       "      <td>2003-11-11</td>\n",
       "      <td>7676000</td>\n",
       "      <td>7676000</td>\n",
       "      <td>870</td>\n",
       "      <td>870</td>\n",
       "      <td>6</td>\n",
       "      <td>16</td>\n",
       "    </tr>\n",
       "    <tr>\n",
       "      <th>240</th>\n",
       "      <td>2</td>\n",
       "      <td>위대한 유산</td>\n",
       "      <td>2003-10-24</td>\n",
       "      <td>15세관람가</td>\n",
       "      <td>코미디</td>\n",
       "      <td>한국</td>\n",
       "      <td>한국</td>\n",
       "      <td>CJ ENM</td>\n",
       "      <td>CJ ENM</td>\n",
       "      <td>오상훈</td>\n",
       "      <td>김선아,임창정,최무인,송은정,홍금봉,신성아,김대중,오유진,유순철,신이,모지은,김기천...</td>\n",
       "      <td>2003-11-11</td>\n",
       "      <td>1658000</td>\n",
       "      <td>1658000</td>\n",
       "      <td>177</td>\n",
       "      <td>177</td>\n",
       "      <td>1</td>\n",
       "      <td>3</td>\n",
       "    </tr>\n",
       "    <tr>\n",
       "      <th>241</th>\n",
       "      <td>3</td>\n",
       "      <td>황산벌</td>\n",
       "      <td>2003-10-17</td>\n",
       "      <td>15세관람가</td>\n",
       "      <td>코미디</td>\n",
       "      <td>한국</td>\n",
       "      <td>한국</td>\n",
       "      <td>(주)씨네월드</td>\n",
       "      <td>(주)씨네월드</td>\n",
       "      <td>이준익</td>\n",
       "      <td>박중훈,정진영,오지명,김병철,김선아,김윤태,이문식,조대은,김만수,김현두,나수원,조철...</td>\n",
       "      <td>2003-11-11</td>\n",
       "      <td>1257000</td>\n",
       "      <td>1257000</td>\n",
       "      <td>116</td>\n",
       "      <td>116</td>\n",
       "      <td>1</td>\n",
       "      <td>3</td>\n",
       "    </tr>\n",
       "    <tr>\n",
       "      <th>242</th>\n",
       "      <td>4</td>\n",
       "      <td>아이덴티티</td>\n",
       "      <td>2003-10-31</td>\n",
       "      <td>15세관람가</td>\n",
       "      <td>범죄,스릴러</td>\n",
       "      <td>미국</td>\n",
       "      <td>미국</td>\n",
       "      <td>콜럼비아트라이스타</td>\n",
       "      <td>콜럼비아트라이스타</td>\n",
       "      <td>제임스 맨골드</td>\n",
       "      <td>존 쿠삭,레이 리오타</td>\n",
       "      <td>2003-11-11</td>\n",
       "      <td>821000</td>\n",
       "      <td>821000</td>\n",
       "      <td>102</td>\n",
       "      <td>102</td>\n",
       "      <td>1</td>\n",
       "      <td>4</td>\n",
       "    </tr>\n",
       "    <tr>\n",
       "      <th>...</th>\n",
       "      <td>...</td>\n",
       "      <td>...</td>\n",
       "      <td>...</td>\n",
       "      <td>...</td>\n",
       "      <td>...</td>\n",
       "      <td>...</td>\n",
       "      <td>...</td>\n",
       "      <td>...</td>\n",
       "      <td>...</td>\n",
       "      <td>...</td>\n",
       "      <td>...</td>\n",
       "      <td>...</td>\n",
       "      <td>...</td>\n",
       "      <td>...</td>\n",
       "      <td>...</td>\n",
       "      <td>...</td>\n",
       "      <td>...</td>\n",
       "      <td>...</td>\n",
       "    </tr>\n",
       "    <tr>\n",
       "      <th>245965</th>\n",
       "      <td>29</td>\n",
       "      <td>코만체로스</td>\n",
       "      <td>NaT</td>\n",
       "      <td>NaN</td>\n",
       "      <td>액션,서부극(웨스턴)</td>\n",
       "      <td>미국</td>\n",
       "      <td>미국</td>\n",
       "      <td>NaN</td>\n",
       "      <td>NaN</td>\n",
       "      <td>마이클 커티즈</td>\n",
       "      <td>존 웨인,스튜어트 휘트먼</td>\n",
       "      <td>2022-12-31</td>\n",
       "      <td>420000</td>\n",
       "      <td>10290000</td>\n",
       "      <td>210</td>\n",
       "      <td>4948</td>\n",
       "      <td>1</td>\n",
       "      <td>4</td>\n",
       "    </tr>\n",
       "    <tr>\n",
       "      <th>245964</th>\n",
       "      <td>28</td>\n",
       "      <td>양자경의 더 모든 날 모든 순간</td>\n",
       "      <td>2022-11-23</td>\n",
       "      <td>15세이상관람가</td>\n",
       "      <td>액션,코미디</td>\n",
       "      <td>미국</td>\n",
       "      <td>미국</td>\n",
       "      <td>NaN</td>\n",
       "      <td>워터홀컴퍼니(주)</td>\n",
       "      <td>다니엘 콴,다니엘 쉐이너트</td>\n",
       "      <td>양자경,스테파니 수,키 호이 콴,제이미 리 커티스</td>\n",
       "      <td>2022-12-31</td>\n",
       "      <td>2703789</td>\n",
       "      <td>291016371</td>\n",
       "      <td>276</td>\n",
       "      <td>27325</td>\n",
       "      <td>7</td>\n",
       "      <td>8</td>\n",
       "    </tr>\n",
       "    <tr>\n",
       "      <th>245963</th>\n",
       "      <td>26</td>\n",
       "      <td>캐리와 슈퍼콜라</td>\n",
       "      <td>2023-01-18</td>\n",
       "      <td>전체관람가</td>\n",
       "      <td>애니메이션</td>\n",
       "      <td>한국</td>\n",
       "      <td>한국</td>\n",
       "      <td>(주)캐리소프트</td>\n",
       "      <td>롯데컬처웍스(주)롯데엔터테인먼트</td>\n",
       "      <td>오성윤,이춘백</td>\n",
       "      <td>최정윤,엄상현,이다은,원옥화,정주원,이창민,한상태,김지정,강나후,김신비,소경호</td>\n",
       "      <td>2022-12-31</td>\n",
       "      <td>3993000</td>\n",
       "      <td>3993000</td>\n",
       "      <td>295</td>\n",
       "      <td>295</td>\n",
       "      <td>1</td>\n",
       "      <td>1</td>\n",
       "    </tr>\n",
       "    <tr>\n",
       "      <th>245974</th>\n",
       "      <td>38</td>\n",
       "      <td>지난 해 마리앙바드에서</td>\n",
       "      <td>NaT</td>\n",
       "      <td>NaN</td>\n",
       "      <td>드라마,미스터리,멜로/로맨스</td>\n",
       "      <td>프랑스</td>\n",
       "      <td>프랑스,이탈리아</td>\n",
       "      <td>NaN</td>\n",
       "      <td>NaN</td>\n",
       "      <td>알랭 레네</td>\n",
       "      <td>델핀 세이릭,사샤 피퇴프,조르지오 알베르타찌</td>\n",
       "      <td>2022-12-31</td>\n",
       "      <td>577000</td>\n",
       "      <td>3395000</td>\n",
       "      <td>82</td>\n",
       "      <td>582</td>\n",
       "      <td>1</td>\n",
       "      <td>1</td>\n",
       "    </tr>\n",
       "    <tr>\n",
       "      <th>245966</th>\n",
       "      <td>30</td>\n",
       "      <td>수라</td>\n",
       "      <td>2023-06-21</td>\n",
       "      <td>전체관람가</td>\n",
       "      <td>다큐멘터리</td>\n",
       "      <td>한국</td>\n",
       "      <td>한국</td>\n",
       "      <td>스튜디오두마,미디어나무(주)</td>\n",
       "      <td>스튜디오 에이드</td>\n",
       "      <td>황윤</td>\n",
       "      <td>황윤</td>\n",
       "      <td>2022-12-31</td>\n",
       "      <td>770000</td>\n",
       "      <td>3722000</td>\n",
       "      <td>110</td>\n",
       "      <td>481</td>\n",
       "      <td>1</td>\n",
       "      <td>1</td>\n",
       "    </tr>\n",
       "  </tbody>\n",
       "</table>\n",
       "<p>563804 rows × 18 columns</p>\n",
       "</div>"
      ],
      "text/plain": [
       "        순위                영화명        개봉일        등급               장르 대표국적  \\\n",
       "21966    1          동갑내기 과외하기 2003-02-07    12세관람가              코미디   한국   \n",
       "239      1         매트릭스3 레볼루션 2003-11-05    15세관람가         SF,액션,범죄   미국   \n",
       "240      2             위대한 유산 2003-10-24    15세관람가              코미디   한국   \n",
       "241      3                황산벌 2003-10-17    15세관람가              코미디   한국   \n",
       "242      4              아이덴티티 2003-10-31    15세관람가           범죄,스릴러   미국   \n",
       "...     ..                ...        ...       ...              ...  ...   \n",
       "245965  29              코만체로스        NaT       NaN      액션,서부극(웨스턴)   미국   \n",
       "245964  28  양자경의 더 모든 날 모든 순간 2022-11-23  15세이상관람가           액션,코미디   미국   \n",
       "245963  26           캐리와 슈퍼콜라 2023-01-18     전체관람가            애니메이션   한국   \n",
       "245974  38       지난 해 마리앙바드에서        NaT       NaN  드라마,미스터리,멜로/로맨스  프랑스   \n",
       "245966  30                 수라 2023-06-21     전체관람가            다큐멘터리   한국   \n",
       "\n",
       "              국적              제작사                배급사               감독  \\\n",
       "21966         한국       코리아 엔터테인먼트             CJ ENM              김경형   \n",
       "239           미국              NaN      워너브러더스 코리아(주)  릴리 워쇼스키,라나 워쇼스키   \n",
       "240           한국           CJ ENM             CJ ENM              오상훈   \n",
       "241           한국          (주)씨네월드            (주)씨네월드              이준익   \n",
       "242           미국        콜럼비아트라이스타          콜럼비아트라이스타          제임스 맨골드   \n",
       "...          ...              ...                ...              ...   \n",
       "245965        미국              NaN                NaN          마이클 커티즈   \n",
       "245964        미국              NaN          워터홀컴퍼니(주)   다니엘 콴,다니엘 쉐이너트   \n",
       "245963        한국         (주)캐리소프트  롯데컬처웍스(주)롯데엔터테인먼트          오성윤,이춘백   \n",
       "245974  프랑스,이탈리아              NaN                NaN            알랭 레네   \n",
       "245966        한국  스튜디오두마,미디어나무(주)           스튜디오 에이드               황윤   \n",
       "\n",
       "                                                      배우         기준일      매출액  \\\n",
       "21966   김하늘,권상우,공유,김지우,백일섭,김혜옥,김자옥,오승근,이성진,손영민,송병철,신지현... 2003-01-12   633500   \n",
       "239                               키아누 리브스,로렌스 피쉬번,캐리 앤 모스 2003-11-11  7676000   \n",
       "240     김선아,임창정,최무인,송은정,홍금봉,신성아,김대중,오유진,유순철,신이,모지은,김기천... 2003-11-11  1658000   \n",
       "241     박중훈,정진영,오지명,김병철,김선아,김윤태,이문식,조대은,김만수,김현두,나수원,조철... 2003-11-11  1257000   \n",
       "242                                           존 쿠삭,레이 리오타 2003-11-11   821000   \n",
       "...                                                   ...        ...      ...   \n",
       "245965                                      존 웨인,스튜어트 휘트먼 2022-12-31   420000   \n",
       "245964                        양자경,스테파니 수,키 호이 콴,제이미 리 커티스 2022-12-31  2703789   \n",
       "245963        최정윤,엄상현,이다은,원옥화,정주원,이창민,한상태,김지정,강나후,김신비,소경호 2022-12-31  3993000   \n",
       "245974                           델핀 세이릭,사샤 피퇴프,조르지오 알베르타찌 2022-12-31   577000   \n",
       "245966                                                 황윤 2022-12-31   770000   \n",
       "\n",
       "            누적매출액  관객수  누적관객수  스크린수  상영횟수  \n",
       "21966      633500  102    102     1     1  \n",
       "239       7676000  870    870     6    16  \n",
       "240       1658000  177    177     1     3  \n",
       "241       1257000  116    116     1     3  \n",
       "242        821000  102    102     1     4  \n",
       "...           ...  ...    ...   ...   ...  \n",
       "245965   10290000  210   4948     1     4  \n",
       "245964  291016371  276  27325     7     8  \n",
       "245963    3993000  295    295     1     1  \n",
       "245974    3395000   82    582     1     1  \n",
       "245966    3722000  110    481     1     1  \n",
       "\n",
       "[563804 rows x 18 columns]"
      ]
     },
     "execution_count": 10,
     "metadata": {},
     "output_type": "execute_result"
    }
   ],
   "source": [
    "# 기준일 기준 오름차순 정렬\n",
    "df3 = df2.sort_values(by=[\"기준일\"]).copy()\n",
    "df3"
   ]
  },
  {
   "cell_type": "markdown",
   "id": "8fdf8e6f",
   "metadata": {},
   "source": [
    "# 개봉일 결측인 행 제거"
   ]
  },
  {
   "cell_type": "code",
   "execution_count": 11,
   "id": "48a92bef",
   "metadata": {},
   "outputs": [
    {
     "data": {
      "text/plain": [
       "순위            0\n",
       "영화명           0\n",
       "개봉일           0\n",
       "등급         7347\n",
       "장르          571\n",
       "대표국적        129\n",
       "국적          129\n",
       "제작사      278391\n",
       "배급사       18449\n",
       "감독        15626\n",
       "배우        42582\n",
       "기준일           0\n",
       "매출액           0\n",
       "누적매출액         0\n",
       "관객수           0\n",
       "누적관객수         0\n",
       "스크린수          0\n",
       "상영횟수          0\n",
       "dtype: int64"
      ]
     },
     "execution_count": 11,
     "metadata": {},
     "output_type": "execute_result"
    }
   ],
   "source": [
    "# 개봉일 결측인 행 제거\n",
    "# 데이터 원본자체의 결측\n",
    "# 대부분 일반적인 영화가 아님 (젝스키스, 통합 등)\n",
    "# 일반 영화 중 개봉일 결측인 경우 매출액이 상대적으로 많이 적어 제외\n",
    "\n",
    "df4 = df3[df3[\"개봉일\"].isnull()==False].copy()\n",
    "df4.isnull().sum()"
   ]
  },
  {
   "cell_type": "code",
   "execution_count": 156,
   "id": "5e8fe312",
   "metadata": {},
   "outputs": [],
   "source": [
    "df4.to_csv(\"(완)[KOBIS] 박스오피스_일별(2003~2022)_수정.csv\", index=False)"
   ]
  },
  {
   "cell_type": "markdown",
   "id": "a6e76d43",
   "metadata": {},
   "source": [
    "# 2차 전처리"
   ]
  },
  {
   "cell_type": "code",
   "execution_count": 36,
   "id": "dd865265",
   "metadata": {},
   "outputs": [
    {
     "data": {
      "text/html": [
       "<div>\n",
       "<style scoped>\n",
       "    .dataframe tbody tr th:only-of-type {\n",
       "        vertical-align: middle;\n",
       "    }\n",
       "\n",
       "    .dataframe tbody tr th {\n",
       "        vertical-align: top;\n",
       "    }\n",
       "\n",
       "    .dataframe thead th {\n",
       "        text-align: right;\n",
       "    }\n",
       "</style>\n",
       "<table border=\"1\" class=\"dataframe\">\n",
       "  <thead>\n",
       "    <tr style=\"text-align: right;\">\n",
       "      <th></th>\n",
       "      <th>순위</th>\n",
       "      <th>영화명</th>\n",
       "      <th>개봉일</th>\n",
       "      <th>등급</th>\n",
       "      <th>장르</th>\n",
       "      <th>대표국적</th>\n",
       "      <th>국적</th>\n",
       "      <th>제작사</th>\n",
       "      <th>배급사</th>\n",
       "      <th>감독</th>\n",
       "      <th>배우</th>\n",
       "      <th>기준일</th>\n",
       "      <th>매출액</th>\n",
       "      <th>누적매출액</th>\n",
       "      <th>관객수</th>\n",
       "      <th>누적관객수</th>\n",
       "      <th>스크린수</th>\n",
       "      <th>상영횟수</th>\n",
       "    </tr>\n",
       "  </thead>\n",
       "  <tbody>\n",
       "    <tr>\n",
       "      <th>0</th>\n",
       "      <td>1</td>\n",
       "      <td>동갑내기 과외하기</td>\n",
       "      <td>2003-02-07</td>\n",
       "      <td>12세관람가</td>\n",
       "      <td>코미디</td>\n",
       "      <td>한국</td>\n",
       "      <td>한국</td>\n",
       "      <td>코리아 엔터테인먼트</td>\n",
       "      <td>CJ ENM</td>\n",
       "      <td>김경형</td>\n",
       "      <td>김하늘,권상우,공유,김지우,백일섭,김혜옥,김자옥,오승근,이성진,손영민,송병철,신지현...</td>\n",
       "      <td>2003-01-12</td>\n",
       "      <td>633500</td>\n",
       "      <td>633500</td>\n",
       "      <td>102</td>\n",
       "      <td>102</td>\n",
       "      <td>1</td>\n",
       "      <td>1</td>\n",
       "    </tr>\n",
       "  </tbody>\n",
       "</table>\n",
       "</div>"
      ],
      "text/plain": [
       "   순위        영화명         개봉일      등급   장르 대표국적  국적         제작사     배급사   감독  \\\n",
       "0   1  동갑내기 과외하기  2003-02-07  12세관람가  코미디   한국  한국  코리아 엔터테인먼트  CJ ENM  김경형   \n",
       "\n",
       "                                                 배우          기준일     매출액  \\\n",
       "0  김하늘,권상우,공유,김지우,백일섭,김혜옥,김자옥,오승근,이성진,손영민,송병철,신지현...  2003-01-12  633500   \n",
       "\n",
       "    누적매출액  관객수  누적관객수  스크린수  상영횟수  \n",
       "0  633500  102    102     1     1  "
      ]
     },
     "execution_count": 36,
     "metadata": {},
     "output_type": "execute_result"
    }
   ],
   "source": [
    "movie_df = pd.read_csv(\"(완)[KOBIS] 박스오피스_일별(2003~2022)_수정.csv\")\n",
    "movie_df.head(1)"
   ]
  },
  {
   "cell_type": "code",
   "execution_count": 16,
   "id": "c6a73ce8",
   "metadata": {},
   "outputs": [
    {
     "name": "stdout",
     "output_type": "stream",
     "text": [
      "<class 'pandas.core.frame.DataFrame'>\n",
      "RangeIndex: 494385 entries, 0 to 494384\n",
      "Data columns (total 18 columns):\n",
      " #   Column  Non-Null Count   Dtype \n",
      "---  ------  --------------   ----- \n",
      " 0   순위      494385 non-null  int64 \n",
      " 1   영화명     494385 non-null  object\n",
      " 2   개봉일     494385 non-null  object\n",
      " 3   등급      487038 non-null  object\n",
      " 4   장르      493814 non-null  object\n",
      " 5   대표국적    494256 non-null  object\n",
      " 6   국적      494256 non-null  object\n",
      " 7   제작사     215994 non-null  object\n",
      " 8   배급사     475936 non-null  object\n",
      " 9   감독      478759 non-null  object\n",
      " 10  배우      451803 non-null  object\n",
      " 11  기준일     494385 non-null  object\n",
      " 12  매출액     494385 non-null  int64 \n",
      " 13  누적매출액   494385 non-null  int64 \n",
      " 14  관객수     494385 non-null  int64 \n",
      " 15  누적관객수   494385 non-null  int64 \n",
      " 16  스크린수    494385 non-null  int64 \n",
      " 17  상영횟수    494385 non-null  int64 \n",
      "dtypes: int64(7), object(11)\n",
      "memory usage: 67.9+ MB\n"
     ]
    }
   ],
   "source": [
    "movie_df.info()"
   ]
  },
  {
   "cell_type": "code",
   "execution_count": 17,
   "id": "5c24d71a",
   "metadata": {},
   "outputs": [],
   "source": [
    "# 날짜 형식으로 바꾸기\n",
    "movie_df[\"개봉일\"] = pd.to_datetime(movie_df[\"개봉일\"], format=\"%Y-%m-%d\")\n",
    "movie_df[\"기준일\"] = pd.to_datetime(movie_df[\"기준일\"], format=\"%Y-%m-%d\")"
   ]
  },
  {
   "cell_type": "code",
   "execution_count": 9,
   "id": "9ce6a9bf",
   "metadata": {},
   "outputs": [
    {
     "data": {
      "text/plain": [
       "(494385, 18)"
      ]
     },
     "execution_count": 9,
     "metadata": {},
     "output_type": "execute_result"
    }
   ],
   "source": [
    "movie_df.shape"
   ]
  },
  {
   "cell_type": "code",
   "execution_count": 64,
   "id": "90eb2763",
   "metadata": {},
   "outputs": [
    {
     "data": {
      "text/plain": [
       "영화명                      개봉일       \n",
       "2005년 미장센 단편영화제          2005-06-23    4949\n",
       "2005칸국제광고제 수상작 필름페스티벌    2005-10-29    4273\n",
       "2006CJ중국영화제              2006-09-01    1514\n",
       "2006대종상영화제(본선 심사용 통합코드)  2006-06-22       0\n",
       "2010 부산국제단편영화제           2010-05-12     331\n",
       "                                       ... \n",
       "형사 배삼룡                   1975-03-22     349\n",
       "형수의 성교육                  2020-03-26      79\n",
       "형수의 직업_무삭제판              2018-04-20       1\n",
       "호러 무비 나이트                2018-08-24       1\n",
       "히에로니무스 보쉬의 기이한 세계        2018-01-18    2078\n",
       "Name: 누적관객수, Length: 167, dtype: int64"
      ]
     },
     "execution_count": 64,
     "metadata": {},
     "output_type": "execute_result"
    }
   ],
   "source": [
    "movie_df[movie_df['장르'].isnull()].groupby(['영화명','개봉일'])['누적관객수'].max()"
   ]
  },
  {
   "cell_type": "code",
   "execution_count": 58,
   "id": "01bd885e",
   "metadata": {
    "scrolled": true
   },
   "outputs": [
    {
     "data": {
      "text/html": [
       "<div>\n",
       "<style scoped>\n",
       "    .dataframe tbody tr th:only-of-type {\n",
       "        vertical-align: middle;\n",
       "    }\n",
       "\n",
       "    .dataframe tbody tr th {\n",
       "        vertical-align: top;\n",
       "    }\n",
       "\n",
       "    .dataframe thead th {\n",
       "        text-align: right;\n",
       "    }\n",
       "</style>\n",
       "<table border=\"1\" class=\"dataframe\">\n",
       "  <thead>\n",
       "    <tr style=\"text-align: right;\">\n",
       "      <th></th>\n",
       "      <th></th>\n",
       "      <th>누적관객수</th>\n",
       "    </tr>\n",
       "    <tr>\n",
       "      <th>영화명</th>\n",
       "      <th>개봉일</th>\n",
       "      <th></th>\n",
       "    </tr>\n",
       "  </thead>\n",
       "  <tbody>\n",
       "    <tr>\n",
       "      <th>거짓말</th>\n",
       "      <th>2000-01-08</th>\n",
       "      <td>0</td>\n",
       "    </tr>\n",
       "    <tr>\n",
       "      <th>살롱키티</th>\n",
       "      <th>1997-03-29</th>\n",
       "      <td>0</td>\n",
       "    </tr>\n",
       "    <tr>\n",
       "      <th>11번가청순글래머오피스걸</th>\n",
       "      <th>2021-07-23</th>\n",
       "      <td>1</td>\n",
       "    </tr>\n",
       "    <tr>\n",
       "      <th>어바웃 섹스 무삭제판</th>\n",
       "      <th>2022-07-27</th>\n",
       "      <td>1</td>\n",
       "    </tr>\n",
       "    <tr>\n",
       "      <th>어서와 옆집 유부녀</th>\n",
       "      <th>2019-08-02</th>\n",
       "      <td>1</td>\n",
       "    </tr>\n",
       "    <tr>\n",
       "      <th>...</th>\n",
       "      <th>...</th>\n",
       "      <td>...</td>\n",
       "    </tr>\n",
       "    <tr>\n",
       "      <th>만화방</th>\n",
       "      <th>2012-02-29</th>\n",
       "      <td>83</td>\n",
       "    </tr>\n",
       "    <tr>\n",
       "      <th>산딸기 4</th>\n",
       "      <th>1991-03-23</th>\n",
       "      <td>84</td>\n",
       "    </tr>\n",
       "    <tr>\n",
       "      <th>룸싸롱 맛있는 서비스</th>\n",
       "      <th>2018-08-09</th>\n",
       "      <td>91</td>\n",
       "    </tr>\n",
       "    <tr>\n",
       "      <th>흑역사</th>\n",
       "      <th>2013-05-30</th>\n",
       "      <td>92</td>\n",
       "    </tr>\n",
       "    <tr>\n",
       "      <th>나츠</th>\n",
       "      <th>2013-06-06</th>\n",
       "      <td>92</td>\n",
       "    </tr>\n",
       "  </tbody>\n",
       "</table>\n",
       "<p>3152 rows × 1 columns</p>\n",
       "</div>"
      ],
      "text/plain": [
       "                          누적관객수\n",
       "영화명           개봉일              \n",
       "거짓말           2000-01-08      0\n",
       "살롱키티          1997-03-29      0\n",
       "11번가청순글래머오피스걸 2021-07-23      1\n",
       "어바웃 섹스 무삭제판   2022-07-27      1\n",
       "어서와 옆집 유부녀    2019-08-02      1\n",
       "...                         ...\n",
       "만화방           2012-02-29     83\n",
       "산딸기 4         1991-03-23     84\n",
       "룸싸롱 맛있는 서비스   2018-08-09     91\n",
       "흑역사           2013-05-30     92\n",
       "나츠            2013-06-06     92\n",
       "\n",
       "[3152 rows x 1 columns]"
      ]
     },
     "execution_count": 58,
     "metadata": {},
     "output_type": "execute_result"
    }
   ],
   "source": [
    "check5 = movie_df[(movie_df[\"장르\"].str.contains(\"성인물\",na=False)==True)].groupby(['영화명','개봉일'])['누적관객수'].max().to_frame().sort_values(['누적관객수'])\n",
    "check5[check5['누적관객수']<100]"
   ]
  },
  {
   "cell_type": "markdown",
   "id": "3cda8137",
   "metadata": {},
   "source": [
    "# 장르 : 성인물, 공연 제거"
   ]
  },
  {
   "cell_type": "code",
   "execution_count": 50,
   "id": "6352ecc0",
   "metadata": {},
   "outputs": [
    {
     "data": {
      "text/plain": [
       "(482752, 18)"
      ]
     },
     "execution_count": 50,
     "metadata": {},
     "output_type": "execute_result"
    }
   ],
   "source": [
    "movie_df2 = movie_df[(movie_df[\"장르\"].str.contains(\"성인물\",na=True)==False)&\n",
    "                     (movie_df[\"장르\"].str.contains(\"공연\",na=True)==False)]\n",
    "movie_df2.shape"
   ]
  },
  {
   "cell_type": "code",
   "execution_count": 11,
   "id": "c1c0233d",
   "metadata": {},
   "outputs": [],
   "source": [
    "movie_df2.to_csv(\"(완)[KOBIS] 박스오피스_일별(2003~2022)_장르_수정.csv\",index=False)"
   ]
  },
  {
   "cell_type": "markdown",
   "id": "2b2444ad",
   "metadata": {},
   "source": [
    "# 누적관객수 백만명 이상인 영화 정보만 추출"
   ]
  },
  {
   "cell_type": "code",
   "execution_count": 19,
   "id": "1303a514",
   "metadata": {},
   "outputs": [
    {
     "data": {
      "text/html": [
       "<div>\n",
       "<style scoped>\n",
       "    .dataframe tbody tr th:only-of-type {\n",
       "        vertical-align: middle;\n",
       "    }\n",
       "\n",
       "    .dataframe tbody tr th {\n",
       "        vertical-align: top;\n",
       "    }\n",
       "\n",
       "    .dataframe thead th {\n",
       "        text-align: right;\n",
       "    }\n",
       "</style>\n",
       "<table border=\"1\" class=\"dataframe\">\n",
       "  <thead>\n",
       "    <tr style=\"text-align: right;\">\n",
       "      <th></th>\n",
       "      <th>영화명</th>\n",
       "      <th>개봉일</th>\n",
       "      <th>누적관객수</th>\n",
       "      <th>누적매출액</th>\n",
       "    </tr>\n",
       "  </thead>\n",
       "  <tbody>\n",
       "    <tr>\n",
       "      <th>0</th>\n",
       "      <td>명량</td>\n",
       "      <td>2014-07-30</td>\n",
       "      <td>17615919</td>\n",
       "      <td>135758658810</td>\n",
       "    </tr>\n",
       "    <tr>\n",
       "      <th>1</th>\n",
       "      <td>극한직업</td>\n",
       "      <td>2019-01-23</td>\n",
       "      <td>16266338</td>\n",
       "      <td>139655543516</td>\n",
       "    </tr>\n",
       "    <tr>\n",
       "      <th>2</th>\n",
       "      <td>신과함께-죄와 벌</td>\n",
       "      <td>2017-12-20</td>\n",
       "      <td>14414658</td>\n",
       "      <td>115727528087</td>\n",
       "    </tr>\n",
       "    <tr>\n",
       "      <th>3</th>\n",
       "      <td>국제시장</td>\n",
       "      <td>2014-12-17</td>\n",
       "      <td>14264478</td>\n",
       "      <td>110947621230</td>\n",
       "    </tr>\n",
       "    <tr>\n",
       "      <th>4</th>\n",
       "      <td>어벤져스: 엔드게임</td>\n",
       "      <td>2019-04-24</td>\n",
       "      <td>13977602</td>\n",
       "      <td>122492181020</td>\n",
       "    </tr>\n",
       "    <tr>\n",
       "      <th>...</th>\n",
       "      <td>...</td>\n",
       "      <td>...</td>\n",
       "      <td>...</td>\n",
       "      <td>...</td>\n",
       "    </tr>\n",
       "    <tr>\n",
       "      <th>771</th>\n",
       "      <td>밴티지 포인트</td>\n",
       "      <td>2008-02-28</td>\n",
       "      <td>1007729</td>\n",
       "      <td>6679552000</td>\n",
       "    </tr>\n",
       "    <tr>\n",
       "      <th>772</th>\n",
       "      <td>존 윅 3: 파라벨룸</td>\n",
       "      <td>2019-06-26</td>\n",
       "      <td>1007383</td>\n",
       "      <td>8234819358</td>\n",
       "    </tr>\n",
       "    <tr>\n",
       "      <th>773</th>\n",
       "      <td>맨 인 더 다크</td>\n",
       "      <td>2016-10-05</td>\n",
       "      <td>1003406</td>\n",
       "      <td>8480368672</td>\n",
       "    </tr>\n",
       "    <tr>\n",
       "      <th>774</th>\n",
       "      <td>파송송 계란탁</td>\n",
       "      <td>2005-02-18</td>\n",
       "      <td>1003026</td>\n",
       "      <td>6292855500</td>\n",
       "    </tr>\n",
       "    <tr>\n",
       "      <th>775</th>\n",
       "      <td>스카이스크래퍼</td>\n",
       "      <td>2018-07-11</td>\n",
       "      <td>1002858</td>\n",
       "      <td>8612111718</td>\n",
       "    </tr>\n",
       "  </tbody>\n",
       "</table>\n",
       "<p>776 rows × 4 columns</p>\n",
       "</div>"
      ],
      "text/plain": [
       "             영화명        개봉일     누적관객수         누적매출액\n",
       "0             명량 2014-07-30  17615919  135758658810\n",
       "1           극한직업 2019-01-23  16266338  139655543516\n",
       "2      신과함께-죄와 벌 2017-12-20  14414658  115727528087\n",
       "3           국제시장 2014-12-17  14264478  110947621230\n",
       "4     어벤져스: 엔드게임 2019-04-24  13977602  122492181020\n",
       "..           ...        ...       ...           ...\n",
       "771      밴티지 포인트 2008-02-28   1007729    6679552000\n",
       "772  존 윅 3: 파라벨룸 2019-06-26   1007383    8234819358\n",
       "773     맨 인 더 다크 2016-10-05   1003406    8480368672\n",
       "774      파송송 계란탁 2005-02-18   1003026    6292855500\n",
       "775      스카이스크래퍼 2018-07-11   1002858    8612111718\n",
       "\n",
       "[776 rows x 4 columns]"
      ]
     },
     "execution_count": 19,
     "metadata": {},
     "output_type": "execute_result"
    }
   ],
   "source": [
    "top_movie = movie_df2.groupby([\"영화명\",\"개봉일\"])[\"누적관객수\",\"누적매출액\"].max().sort_values([\"누적관객수\"],ascending=False).reset_index()\n",
    "top_movie = top_movie[top_movie[\"누적관객수\"]>=1000000]\n",
    "top_movie"
   ]
  },
  {
   "cell_type": "code",
   "execution_count": 20,
   "id": "0bcb7c10",
   "metadata": {},
   "outputs": [],
   "source": [
    "df5 = pd.DataFrame(columns=['순위', '영화명', '개봉일', '등급', '장르', \n",
    "                            '대표국적', '국적', '제작사', '배급사','감독', \n",
    "                            '배우 ','기준일', '매출액','누적매출액','관객수',\n",
    "                            '누적관객수','스크린수', '상영횟수'])"
   ]
  },
  {
   "cell_type": "code",
   "execution_count": 21,
   "id": "fc8f3c2d",
   "metadata": {},
   "outputs": [],
   "source": [
    "name = top_movie[\"영화명\"].to_list()\n",
    "open_day = top_movie[\"개봉일\"].to_list()"
   ]
  },
  {
   "cell_type": "code",
   "execution_count": 22,
   "id": "cf29b28a",
   "metadata": {},
   "outputs": [],
   "source": [
    "for i in range(len(name)):\n",
    "    df6 = movie_df2[(movie_df2[\"영화명\"]==name[i])&(movie_df2[\"개봉일\"]==open_day[i])].copy()\n",
    "    df5 = pd.concat([df5,df6],axis=0)"
   ]
  },
  {
   "cell_type": "code",
   "execution_count": 15,
   "id": "76368ae5",
   "metadata": {},
   "outputs": [
    {
     "data": {
      "text/plain": [
       "(65794, 18)"
      ]
     },
     "execution_count": 15,
     "metadata": {},
     "output_type": "execute_result"
    }
   ],
   "source": [
    "df5.shape"
   ]
  },
  {
   "cell_type": "code",
   "execution_count": 24,
   "id": "60df13dd",
   "metadata": {},
   "outputs": [
    {
     "data": {
      "text/plain": [
       "영화명            개봉일       \n",
       "#살아있다          2020-06-24    68\n",
       "007 노 타임 투 다이  2021-09-29    60\n",
       "007 스카이폴       2012-10-26    58\n",
       "007 스펙터        2015-11-11    43\n",
       "007 카지노 로얄     2006-12-21    57\n",
       "                             ..\n",
       "후궁 : 제왕의 첩     2012-06-06    83\n",
       "흡혈형사 나도열       2006-02-09    53\n",
       "히말라야           2015-12-16    87\n",
       "히트맨            2020-01-22    77\n",
       "힘을 내요, 미스터 리   2019-09-11    75\n",
       "Name: 누적관객수, Length: 776, dtype: int64"
      ]
     },
     "execution_count": 24,
     "metadata": {},
     "output_type": "execute_result"
    }
   ],
   "source": [
    "df5.groupby(['영화명','개봉일'])['누적관객수'].count()"
   ]
  },
  {
   "cell_type": "code",
   "execution_count": 16,
   "id": "9b461a26",
   "metadata": {},
   "outputs": [
    {
     "data": {
      "text/html": [
       "<div>\n",
       "<style scoped>\n",
       "    .dataframe tbody tr th:only-of-type {\n",
       "        vertical-align: middle;\n",
       "    }\n",
       "\n",
       "    .dataframe tbody tr th {\n",
       "        vertical-align: top;\n",
       "    }\n",
       "\n",
       "    .dataframe thead th {\n",
       "        text-align: right;\n",
       "    }\n",
       "</style>\n",
       "<table border=\"1\" class=\"dataframe\">\n",
       "  <thead>\n",
       "    <tr style=\"text-align: right;\">\n",
       "      <th></th>\n",
       "      <th>영화명</th>\n",
       "      <th>개봉일</th>\n",
       "      <th>영화수</th>\n",
       "      <th>누적관객수</th>\n",
       "      <th>누적매출액</th>\n",
       "    </tr>\n",
       "  </thead>\n",
       "  <tbody>\n",
       "    <tr>\n",
       "      <th>0</th>\n",
       "      <td>명량</td>\n",
       "      <td>2014-07-30</td>\n",
       "      <td>171</td>\n",
       "      <td>17615919</td>\n",
       "      <td>135758658810</td>\n",
       "    </tr>\n",
       "    <tr>\n",
       "      <th>1</th>\n",
       "      <td>극한직업</td>\n",
       "      <td>2019-01-23</td>\n",
       "      <td>148</td>\n",
       "      <td>16266338</td>\n",
       "      <td>139655543516</td>\n",
       "    </tr>\n",
       "    <tr>\n",
       "      <th>2</th>\n",
       "      <td>신과함께-죄와 벌</td>\n",
       "      <td>2017-12-20</td>\n",
       "      <td>150</td>\n",
       "      <td>14414658</td>\n",
       "      <td>115727528087</td>\n",
       "    </tr>\n",
       "    <tr>\n",
       "      <th>3</th>\n",
       "      <td>국제시장</td>\n",
       "      <td>2014-12-17</td>\n",
       "      <td>236</td>\n",
       "      <td>14264478</td>\n",
       "      <td>110947621230</td>\n",
       "    </tr>\n",
       "    <tr>\n",
       "      <th>4</th>\n",
       "      <td>어벤져스: 엔드게임</td>\n",
       "      <td>2019-04-24</td>\n",
       "      <td>134</td>\n",
       "      <td>13977602</td>\n",
       "      <td>122492181020</td>\n",
       "    </tr>\n",
       "    <tr>\n",
       "      <th>...</th>\n",
       "      <td>...</td>\n",
       "      <td>...</td>\n",
       "      <td>...</td>\n",
       "      <td>...</td>\n",
       "      <td>...</td>\n",
       "    </tr>\n",
       "    <tr>\n",
       "      <th>771</th>\n",
       "      <td>밴티지 포인트</td>\n",
       "      <td>2008-02-28</td>\n",
       "      <td>59</td>\n",
       "      <td>1007729</td>\n",
       "      <td>6679552000</td>\n",
       "    </tr>\n",
       "    <tr>\n",
       "      <th>772</th>\n",
       "      <td>존 윅 3: 파라벨룸</td>\n",
       "      <td>2019-06-26</td>\n",
       "      <td>132</td>\n",
       "      <td>1007383</td>\n",
       "      <td>8234819358</td>\n",
       "    </tr>\n",
       "    <tr>\n",
       "      <th>773</th>\n",
       "      <td>맨 인 더 다크</td>\n",
       "      <td>2016-10-05</td>\n",
       "      <td>47</td>\n",
       "      <td>1003406</td>\n",
       "      <td>8480368672</td>\n",
       "    </tr>\n",
       "    <tr>\n",
       "      <th>774</th>\n",
       "      <td>파송송 계란탁</td>\n",
       "      <td>2005-02-18</td>\n",
       "      <td>63</td>\n",
       "      <td>1003026</td>\n",
       "      <td>6292855500</td>\n",
       "    </tr>\n",
       "    <tr>\n",
       "      <th>775</th>\n",
       "      <td>스카이스크래퍼</td>\n",
       "      <td>2018-07-11</td>\n",
       "      <td>49</td>\n",
       "      <td>1002858</td>\n",
       "      <td>8612111718</td>\n",
       "    </tr>\n",
       "  </tbody>\n",
       "</table>\n",
       "<p>776 rows × 5 columns</p>\n",
       "</div>"
      ],
      "text/plain": [
       "             영화명        개봉일  영화수     누적관객수         누적매출액\n",
       "0             명량 2014-07-30  171  17615919  135758658810\n",
       "1           극한직업 2019-01-23  148  16266338  139655543516\n",
       "2      신과함께-죄와 벌 2017-12-20  150  14414658  115727528087\n",
       "3           국제시장 2014-12-17  236  14264478  110947621230\n",
       "4     어벤져스: 엔드게임 2019-04-24  134  13977602  122492181020\n",
       "..           ...        ...  ...       ...           ...\n",
       "771      밴티지 포인트 2008-02-28   59   1007729    6679552000\n",
       "772  존 윅 3: 파라벨룸 2019-06-26  132   1007383    8234819358\n",
       "773     맨 인 더 다크 2016-10-05   47   1003406    8480368672\n",
       "774      파송송 계란탁 2005-02-18   63   1003026    6292855500\n",
       "775      스카이스크래퍼 2018-07-11   49   1002858    8612111718\n",
       "\n",
       "[776 rows x 5 columns]"
      ]
     },
     "execution_count": 16,
     "metadata": {},
     "output_type": "execute_result"
    }
   ],
   "source": [
    "imsi = movie_df2.groupby([\"영화명\",\"개봉일\"]).agg({'누적관객수': ['size', 'max'], '누적매출액': ['max']})\n",
    "imsi.columns = [\"영화수\",\"누적관객수\",\"누적매출액\"]\n",
    "imsi = imsi.sort_values([\"누적관객수\"],ascending=False).reset_index()\n",
    "imsi = imsi[imsi[\"누적관객수\"]>=1000000]\n",
    "imsi"
   ]
  },
  {
   "cell_type": "code",
   "execution_count": 18,
   "id": "fc86353e",
   "metadata": {},
   "outputs": [],
   "source": [
    "df5.to_csv(\"누적관객수_백만명_이상_776개.csv\",index=False)"
   ]
  },
  {
   "cell_type": "code",
   "execution_count": null,
   "id": "aab4d72e",
   "metadata": {},
   "outputs": [],
   "source": []
  },
  {
   "cell_type": "code",
   "execution_count": 72,
   "id": "48c0431e",
   "metadata": {
    "scrolled": false
   },
   "outputs": [
    {
     "data": {
      "text/plain": [
       "순위            0\n",
       "영화명           0\n",
       "개봉일           0\n",
       "등급         6734\n",
       "장르            0\n",
       "대표국적         38\n",
       "국적           38\n",
       "제작사      269504\n",
       "배급사       17714\n",
       "감독        13145\n",
       "배우        35727\n",
       "기준일           0\n",
       "매출액           0\n",
       "누적매출액         0\n",
       "관객수           0\n",
       "누적관객수         0\n",
       "스크린수          0\n",
       "상영횟수          0\n",
       "dtype: int64"
      ]
     },
     "execution_count": 72,
     "metadata": {},
     "output_type": "execute_result"
    }
   ],
   "source": [
    "movie_df2.isnull().sum()"
   ]
  },
  {
   "cell_type": "code",
   "execution_count": 74,
   "id": "eb550688",
   "metadata": {},
   "outputs": [
    {
     "data": {
      "text/plain": [
       "순위            0\n",
       "영화명           0\n",
       "개봉일           0\n",
       "등급         7347\n",
       "장르          571\n",
       "대표국적        129\n",
       "국적          129\n",
       "제작사      278391\n",
       "배급사       18449\n",
       "감독        15626\n",
       "배우        42582\n",
       "기준일           0\n",
       "매출액           0\n",
       "누적매출액         0\n",
       "관객수           0\n",
       "누적관객수         0\n",
       "스크린수          0\n",
       "상영횟수          0\n",
       "dtype: int64"
      ]
     },
     "execution_count": 74,
     "metadata": {},
     "output_type": "execute_result"
    }
   ],
   "source": [
    "movie_df.isnull().sum()"
   ]
  },
  {
   "cell_type": "code",
   "execution_count": null,
   "id": "878a2c18",
   "metadata": {},
   "outputs": [],
   "source": []
  }
 ],
 "metadata": {
  "kernelspec": {
   "display_name": "Python 3 (ipykernel)",
   "language": "python",
   "name": "python3"
  },
  "language_info": {
   "codemirror_mode": {
    "name": "ipython",
    "version": 3
   },
   "file_extension": ".py",
   "mimetype": "text/x-python",
   "name": "python",
   "nbconvert_exporter": "python",
   "pygments_lexer": "ipython3",
   "version": "3.8.7"
  }
 },
 "nbformat": 4,
 "nbformat_minor": 5
}
