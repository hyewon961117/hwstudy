{
  "nbformat": 4,
  "nbformat_minor": 0,
  "metadata": {
    "colab": {
      "provenance": []
    },
    "kernelspec": {
      "name": "python3",
      "display_name": "Python 3"
    },
    "language_info": {
      "name": "python"
    }
  },
  "cells": [
    {
      "cell_type": "markdown",
      "source": [
        "# 반복문(while)\n"
      ],
      "metadata": {
        "id": "i9yEXgZ0_0T4"
      }
    },
    {
      "cell_type": "code",
      "execution_count": null,
      "metadata": {
        "id": "AR0Xun74_zHE"
      },
      "outputs": [],
      "source": [
        "save_money = 0\n",
        "while save_money < 12:\n",
        "  save_money += 1\n",
        "  print('적금을 %d번 넣었습니다.'%save_money)\n",
        "  # print(f'적금을 {save_money}번 넣었습니다.')\n",
        "  if save_money == 12:\n",
        "    print('적금을 받았습니다.')"
      ]
    },
    {
      "cell_type": "code",
      "source": [
        "food = 100\n",
        "money = 12000\n",
        "while money:\n",
        "  print('돈을 내고 음식을 먹습니다.')\n",
        "  food -= 10\n",
        "  print(f'남은 음식은{food}그램 입니다.')\n",
        "  if not food:\n",
        "    print('음식이 없어서 먹을수 없습니다.')\n",
        "    break"
      ],
      "metadata": {
        "id": "Y5FBJqqXAhAr"
      },
      "execution_count": null,
      "outputs": []
    },
    {
      "cell_type": "code",
      "source": [
        "food = 100\n",
        "money = 12000\n",
        "while money:\n",
        "  print('돈을 내고 음식을 먹습니다.')\n",
        "  food -= 10\n",
        "  money -= 3000\n",
        "  print(f'남은 음식은{food}그램 입니다.')\n",
        "  if not food:\n",
        "    print('음식이 없어서 먹을수 없습니다.')"
      ],
      "metadata": {
        "id": "XZOl28e5ETrn"
      },
      "execution_count": null,
      "outputs": []
    },
    {
      "cell_type": "code",
      "source": [
        "a = 0 \n",
        "while a < 10:\n",
        "  a += 1\n",
        "  if a % 2 == 0:\n",
        "    continue\n",
        "  print(a)"
      ],
      "metadata": {
        "colab": {
          "base_uri": "https://localhost:8080/"
        },
        "id": "W_h-PPY6E5Iv",
        "outputId": "6dfc48c9-51db-4379-c6d8-adf30c7cedb3"
      },
      "execution_count": 9,
      "outputs": [
        {
          "output_type": "stream",
          "name": "stdout",
          "text": [
            "1\n",
            "3\n",
            "5\n",
            "7\n",
            "9\n"
          ]
        }
      ]
    },
    {
      "cell_type": "code",
      "source": [
        "# 숫자를 입력받아서 10의 배수면 프로그램 종료가 되도록 while문으로 코딩\n",
        "# 11 \n",
        "# 다시입력하세요\n",
        "# 5676\n",
        "# 다시입력하세요\n",
        "# 110\n",
        "# 종료 \n",
        "numData = []\n",
        "while True:\n",
        "  num = int(input('숫자를입력 : '))\n",
        "  if num % 10 == 0:\n",
        "    print('프로그램종료')\n",
        "    break\n",
        "  else:\n",
        "    print(num)\n",
        "    numData.append(num)\n",
        "# [44, 55, 21, 11]"
      ],
      "metadata": {
        "id": "EPS8gU13FjSX"
      },
      "execution_count": null,
      "outputs": []
    },
    {
      "cell_type": "code",
      "source": [
        "print(numData)"
      ],
      "metadata": {
        "colab": {
          "base_uri": "https://localhost:8080/"
        },
        "id": "zDKhzGAeIi2I",
        "outputId": "1417deb8-355b-4a9c-9898-49b52c2af04d"
      },
      "execution_count": 13,
      "outputs": [
        {
          "output_type": "stream",
          "name": "stdout",
          "text": [
            "[23, 55, 77]\n"
          ]
        }
      ]
    },
    {
      "cell_type": "code",
      "source": [
        "treeHit = True\n",
        "while treeHit:\n",
        "  treeHit += 1\n",
        "  print(f'나무를 {treeHit}번 찍었습니다.')\n",
        "  if treeHit == 10:\n",
        "    print('나무가 넘어갑니다.')\n",
        "    break"
      ],
      "metadata": {
        "id": "dm03pwVBI2_Y"
      },
      "execution_count": null,
      "outputs": []
    },
    {
      "cell_type": "code",
      "source": [
        "treeHit = 0\n",
        "hit_limt = int(input())\n",
        "if hit_limt == 'q':\n",
        "  break\n",
        "  while treeHit < hit_limt:\n",
        "    treeHit += 1\n",
        "    print(f'나무를 {treeHit}번 찍었습니다.')\n",
        "    if treeHit == 10:\n",
        "      print('나무가 넘어갑니다.')\n",
        "      break\n",
        "   "
      ],
      "metadata": {
        "colab": {
          "base_uri": "https://localhost:8080/"
        },
        "id": "YCP7mNw3eO4t",
        "outputId": "8f40bffb-aba8-47a7-dd36-7ad4e035a620"
      },
      "execution_count": 10,
      "outputs": [
        {
          "output_type": "stream",
          "name": "stdout",
          "text": [
            "나무를 1번 찍었습니다.\n",
            "나무를 2번 찍었습니다.\n",
            "나무를 3번 찍었습니다.\n",
            "나무를 4번 찍었습니다.\n",
            "나무를 5번 찍었습니다.\n"
          ]
        }
      ]
    },
    {
      "cell_type": "code",
      "source": [
        "# 'q'를 입력할때까지 이름을 입력받기\n",
        "# name = input('이름을 입력하세요')\n",
        "while True:\n",
        "  name = input('이름을 입력하세요')\n",
        "  if name == 'q':\n",
        "    break"
      ],
      "metadata": {
        "colab": {
          "base_uri": "https://localhost:8080/"
        },
        "id": "oZOqrsgrJxKb",
        "outputId": "09440df5-496b-4390-f6cb-e07bdac9cd7a"
      },
      "execution_count": 16,
      "outputs": [
        {
          "name": "stdout",
          "output_type": "stream",
          "text": [
            "이름을 입력하세요홍길동\n",
            "이름을 입력하세요김철수\n",
            "이름을 입력하세요q\n"
          ]
        }
      ]
    },
    {
      "cell_type": "code",
      "source": [
        "secret_word = 'hong'\n",
        "guess = ''\n",
        "while guess != secret_word:\n",
        "  guess = input('Enter guess : ')\n",
        "print('You Win!')"
      ],
      "metadata": {
        "colab": {
          "base_uri": "https://localhost:8080/"
        },
        "id": "ukNwf_naLQ5C",
        "outputId": "d0325714-4059-4f81-9787-c199f8b84042"
      },
      "execution_count": 17,
      "outputs": [
        {
          "output_type": "stream",
          "name": "stdout",
          "text": [
            "Enter guess : kim\n",
            "Enter guess : park\n",
            "Enter guess : hong\n",
            "You Win!\n"
          ]
        }
      ]
    },
    {
      "cell_type": "code",
      "source": [
        "# 1. 겜임을 한계를주도록 3 번이내에 맞추지 못하면 You lose\n",
        "# 2. 3번 내에 맞추면 You Win!\n",
        "secret_word = 'hong'\n",
        "guess = ''\n",
        "guess_count = 0\n",
        "guess_limit = 5\n",
        "out_of_guess = False\n",
        "while guess != secret_word and not(out_of_guess):\n",
        "  if guess_count < guess_limit:\n",
        "    guess = input('Enter guess : ')\n",
        "    guess_count += 1\n",
        "  else:\n",
        "    out_of_guess = True\n",
        "\n",
        "if out_of_guess:\n",
        "  print('기회를 넘겼습니다. You lose')\n",
        "else: \n",
        "  print('You Win!')"
      ],
      "metadata": {
        "colab": {
          "base_uri": "https://localhost:8080/"
        },
        "id": "Or-DQWlxRcHy",
        "outputId": "82d70665-67ed-4b73-bbb1-15e385136c27"
      },
      "execution_count": 19,
      "outputs": [
        {
          "output_type": "stream",
          "name": "stdout",
          "text": [
            "Enter guess : kim\n",
            "Enter guess : hong\n",
            "You Win!\n"
          ]
        }
      ]
    },
    {
      "cell_type": "code",
      "source": [
        "#id = 'id123' , pwd = 'pwd123'\n",
        "# while문으로 아이디와 패스워드를 입력받아서 id가 틀리면 id를 확인하세요\n",
        "# pwd 입력받아서 틀리면 pwd를 확인하세요"
      ],
      "metadata": {
        "id": "xnib81UNMZ7j"
      },
      "execution_count": null,
      "outputs": []
    },
    {
      "cell_type": "code",
      "source": [
        "id = 'id123'\n",
        "pwd = 'pwd123'\n",
        "while True:\n",
        "  input_id = input('id')\n",
        "  input_pwd = input('pwd')\n",
        "  if id != input_id:\n",
        "    print('id를 확인하세요')\n",
        "  if pwd != input_pwd:\n",
        "    print('pwd를 확인하세요')\n",
        "  if id == input_id and pwd == input_pwd:\n",
        "    print('성공')\n",
        "    break"
      ],
      "metadata": {
        "id": "bIvi-BcjMZy5"
      },
      "execution_count": null,
      "outputs": []
    },
    {
      "cell_type": "markdown",
      "source": [
        "# for문 \n",
        "조건을 알고 있을때 조건만큼 수행"
      ],
      "metadata": {
        "id": "o--MPgNJYIJr"
      }
    },
    {
      "cell_type": "code",
      "source": [
        "test_list = [1,2,3,4,5]\n",
        "for i in test_list:\n",
        "  print(i)"
      ],
      "metadata": {
        "id": "cFlKXwryTtL6"
      },
      "execution_count": null,
      "outputs": []
    },
    {
      "cell_type": "code",
      "source": [
        "test_list2 = ['one', 'two', 'tree']\n",
        "for i in test_list2:\n",
        "  print(i)"
      ],
      "metadata": {
        "colab": {
          "base_uri": "https://localhost:8080/"
        },
        "id": "JDYLNJNCYpbK",
        "outputId": "f49cc447-2038-43ee-dfe2-8bb52d2c0278"
      },
      "execution_count": 22,
      "outputs": [
        {
          "output_type": "stream",
          "name": "stdout",
          "text": [
            "one\n",
            "two\n",
            "tree\n"
          ]
        }
      ]
    },
    {
      "cell_type": "code",
      "source": [
        "marks = [90, 25, 67, 45, 80]\n",
        "number = 0\n",
        "for i in marks:\n",
        "  number += 1\n",
        "  if i >= 60:\n",
        "    print(f'{number}번 학생은 합격')\n",
        "  else:\n",
        "    print(f'{number}번 학생은 불합격')"
      ],
      "metadata": {
        "colab": {
          "base_uri": "https://localhost:8080/"
        },
        "id": "TSy07LE7ZEhJ",
        "outputId": "dc8f2b57-b519-4a0e-adb7-b7a6ec7ed58f"
      },
      "execution_count": 23,
      "outputs": [
        {
          "output_type": "stream",
          "name": "stdout",
          "text": [
            "1번 학생은 합격\n",
            "2번 학생은 불합격\n",
            "3번 학생은 합격\n",
            "4번 학생은 불합격\n",
            "5번 학생은 합격\n"
          ]
        }
      ]
    },
    {
      "cell_type": "code",
      "source": [
        "for i in 'python':\n",
        "  print(i)"
      ],
      "metadata": {
        "id": "jZc0X-fRZsVC"
      },
      "execution_count": null,
      "outputs": []
    },
    {
      "cell_type": "code",
      "source": [
        "# range(stop) 0~ stop까지 정수\n",
        "# range(start, stop)\n",
        "# range(start, stop, step) [처음:끝:간격]\n",
        "num1 = range(10)\n",
        "print(list(num1))"
      ],
      "metadata": {
        "colab": {
          "base_uri": "https://localhost:8080/"
        },
        "id": "kjcM54y4Zv_T",
        "outputId": "d772fb55-83eb-4656-f627-b784d5512969"
      },
      "execution_count": 26,
      "outputs": [
        {
          "output_type": "stream",
          "name": "stdout",
          "text": [
            "[0, 1, 2, 3, 4, 5, 6, 7, 8, 9]\n"
          ]
        }
      ]
    },
    {
      "cell_type": "code",
      "source": [
        "num2 = range(3, 10)\n",
        "print(list(num2))"
      ],
      "metadata": {
        "colab": {
          "base_uri": "https://localhost:8080/"
        },
        "id": "jUy2inkNaTV2",
        "outputId": "c7865c48-1c3e-4522-d80f-c638e62acdb2"
      },
      "execution_count": 27,
      "outputs": [
        {
          "output_type": "stream",
          "name": "stdout",
          "text": [
            "[3, 4, 5, 6, 7, 8, 9]\n"
          ]
        }
      ]
    },
    {
      "cell_type": "code",
      "source": [
        "num3 = range(3, 10, 2)\n",
        "print(list(num3))"
      ],
      "metadata": {
        "colab": {
          "base_uri": "https://localhost:8080/"
        },
        "id": "OwV2NBolatD1",
        "outputId": "cfa482fd-c627-4be5-ab4c-dd80f175f04a"
      },
      "execution_count": 28,
      "outputs": [
        {
          "output_type": "stream",
          "name": "stdout",
          "text": [
            "[3, 5, 7, 9]\n"
          ]
        }
      ]
    },
    {
      "cell_type": "code",
      "source": [
        "for n in num1:\n",
        "  # print(n)\n",
        "  print(n, end=',')"
      ],
      "metadata": {
        "colab": {
          "base_uri": "https://localhost:8080/"
        },
        "id": "29q4iuDTas9z",
        "outputId": "124f13ef-5e95-4c5e-e4f7-59e314699aa6"
      },
      "execution_count": 32,
      "outputs": [
        {
          "output_type": "stream",
          "name": "stdout",
          "text": [
            "0,1,2,3,4,5,6,7,8,9,"
          ]
        }
      ]
    },
    {
      "cell_type": "code",
      "source": [
        "for n in num2:\n",
        "  # print(n)\n",
        "  print(n, end=',')"
      ],
      "metadata": {
        "colab": {
          "base_uri": "https://localhost:8080/"
        },
        "id": "_ZjD_-e1bLub",
        "outputId": "b02463c4-16cc-4cf6-869f-f0139273db1e"
      },
      "execution_count": 33,
      "outputs": [
        {
          "output_type": "stream",
          "name": "stdout",
          "text": [
            "3,4,5,6,7,8,9,"
          ]
        }
      ]
    },
    {
      "cell_type": "code",
      "source": [
        "for n in num3:\n",
        "  # print(n)\n",
        "  print(n, end=',')"
      ],
      "metadata": {
        "colab": {
          "base_uri": "https://localhost:8080/"
        },
        "id": "hokZQ7mlbN7b",
        "outputId": "bd76d6de-5251-462f-b37d-dd77b9fe97bc"
      },
      "execution_count": 34,
      "outputs": [
        {
          "output_type": "stream",
          "name": "stdout",
          "text": [
            "3,5,7,9,"
          ]
        }
      ]
    },
    {
      "cell_type": "code",
      "source": [
        " \n",
        "for n in range(11):\n",
        "  print(n, end=',')"
      ],
      "metadata": {
        "colab": {
          "base_uri": "https://localhost:8080/"
        },
        "id": "CGLLgtv1bS-j",
        "outputId": "bac0d03c-f4fc-4edf-80d7-819243fa3466"
      },
      "execution_count": 36,
      "outputs": [
        {
          "output_type": "stream",
          "name": "stdout",
          "text": [
            "0,1,2,3,4,5,6,7,8,9,10,"
          ]
        }
      ]
    },
    {
      "cell_type": "code",
      "source": [
        "sum = 0\n",
        "for n in range(110000000):\n",
        "  sum += n\n",
        "print(sum)"
      ],
      "metadata": {
        "colab": {
          "base_uri": "https://localhost:8080/"
        },
        "id": "5u8zMfnhbdTv",
        "outputId": "52d8f217-d538-41d6-bba4-b3d963a2222c"
      },
      "execution_count": 40,
      "outputs": [
        {
          "output_type": "stream",
          "name": "stdout",
          "text": [
            "6049999945000000\n"
          ]
        }
      ]
    },
    {
      "cell_type": "code",
      "source": [
        "sum = 0\n",
        "for n in range(1100):\n",
        "  sum += n\n",
        "  print(sum)\n",
        "print(sum)"
      ],
      "metadata": {
        "id": "W2r9ofW_b_l7"
      },
      "execution_count": null,
      "outputs": []
    },
    {
      "cell_type": "code",
      "source": [
        "for i in range(2, 10):\n",
        "  for j in range(1, 10):\n",
        "    print(i*j, end=' ')\n",
        "  print('')"
      ],
      "metadata": {
        "colab": {
          "base_uri": "https://localhost:8080/"
        },
        "id": "BLZSYrNpcyKP",
        "outputId": "2d6f485a-c44a-483b-cd07-52dec3c9116e"
      },
      "execution_count": 14,
      "outputs": [
        {
          "output_type": "stream",
          "name": "stdout",
          "text": [
            "2 4 6 8 10 12 14 16 18 \n",
            "3 6 9 12 15 18 21 24 27 \n",
            "4 8 12 16 20 24 28 32 36 \n",
            "5 10 15 20 25 30 35 40 45 \n",
            "6 12 18 24 30 36 42 48 54 \n",
            "7 14 21 28 35 42 49 56 63 \n",
            "8 16 24 32 40 48 56 64 72 \n",
            "9 18 27 36 45 54 63 72 81 \n"
          ]
        }
      ]
    },
    {
      "cell_type": "code",
      "source": [
        "for i in range(2, 10):\n",
        "  for j in range(1, 10):\n",
        "    print(f'{i}*{j} = {i*j}', end=' ')\n",
        "  print('')"
      ],
      "metadata": {
        "colab": {
          "base_uri": "https://localhost:8080/"
        },
        "id": "l7KWFCtGoLiM",
        "outputId": "83dbe8c9-e8b0-41b1-c2ce-19a85240b954"
      },
      "execution_count": 17,
      "outputs": [
        {
          "output_type": "stream",
          "name": "stdout",
          "text": [
            "2*1 = 2 2*2 = 4 2*3 = 6 2*4 = 8 2*5 = 10 2*6 = 12 2*7 = 14 2*8 = 16 2*9 = 18 \n",
            "3*1 = 3 3*2 = 6 3*3 = 9 3*4 = 12 3*5 = 15 3*6 = 18 3*7 = 21 3*8 = 24 3*9 = 27 \n",
            "4*1 = 4 4*2 = 8 4*3 = 12 4*4 = 16 4*5 = 20 4*6 = 24 4*7 = 28 4*8 = 32 4*9 = 36 \n",
            "5*1 = 5 5*2 = 10 5*3 = 15 5*4 = 20 5*5 = 25 5*6 = 30 5*7 = 35 5*8 = 40 5*9 = 45 \n",
            "6*1 = 6 6*2 = 12 6*3 = 18 6*4 = 24 6*5 = 30 6*6 = 36 6*7 = 42 6*8 = 48 6*9 = 54 \n",
            "7*1 = 7 7*2 = 14 7*3 = 21 7*4 = 28 7*5 = 35 7*6 = 42 7*7 = 49 7*8 = 56 7*9 = 63 \n",
            "8*1 = 8 8*2 = 16 8*3 = 24 8*4 = 32 8*5 = 40 8*6 = 48 8*7 = 56 8*8 = 64 8*9 = 72 \n",
            "9*1 = 9 9*2 = 18 9*3 = 27 9*4 = 36 9*5 = 45 9*6 = 54 9*7 = 63 9*8 = 72 9*9 = 81 \n"
          ]
        }
      ]
    },
    {
      "cell_type": "code",
      "source": [
        "print('--구구단을 시작합니다.--')\n",
        "for i in range(2, 10):\n",
        "  print(f'--------{str(i)}단-----')\n",
        "  for j in range(1, 10):\n",
        "    print(f'{i}*{j} = {i*j}' )\n",
        "  print('-----------')"
      ],
      "metadata": {
        "colab": {
          "base_uri": "https://localhost:8080/"
        },
        "id": "5RMEwbLEwszh",
        "outputId": "fbdffd4d-71b9-43a3-d6c5-2b5a81c63a86"
      },
      "execution_count": 19,
      "outputs": [
        {
          "output_type": "stream",
          "name": "stdout",
          "text": [
            "--구구단을 시작합니다.--\n",
            "--------2단-----\n",
            "2*1 = 2\n",
            "2*2 = 4\n",
            "2*3 = 6\n",
            "2*4 = 8\n",
            "2*5 = 10\n",
            "2*6 = 12\n",
            "2*7 = 14\n",
            "2*8 = 16\n",
            "2*9 = 18\n",
            "-----------\n",
            "--------3단-----\n",
            "3*1 = 3\n",
            "3*2 = 6\n",
            "3*3 = 9\n",
            "3*4 = 12\n",
            "3*5 = 15\n",
            "3*6 = 18\n",
            "3*7 = 21\n",
            "3*8 = 24\n",
            "3*9 = 27\n",
            "-----------\n",
            "--------4단-----\n",
            "4*1 = 4\n",
            "4*2 = 8\n",
            "4*3 = 12\n",
            "4*4 = 16\n",
            "4*5 = 20\n",
            "4*6 = 24\n",
            "4*7 = 28\n",
            "4*8 = 32\n",
            "4*9 = 36\n",
            "-----------\n",
            "--------5단-----\n",
            "5*1 = 5\n",
            "5*2 = 10\n",
            "5*3 = 15\n",
            "5*4 = 20\n",
            "5*5 = 25\n",
            "5*6 = 30\n",
            "5*7 = 35\n",
            "5*8 = 40\n",
            "5*9 = 45\n",
            "-----------\n",
            "--------6단-----\n",
            "6*1 = 6\n",
            "6*2 = 12\n",
            "6*3 = 18\n",
            "6*4 = 24\n",
            "6*5 = 30\n",
            "6*6 = 36\n",
            "6*7 = 42\n",
            "6*8 = 48\n",
            "6*9 = 54\n",
            "-----------\n",
            "--------7단-----\n",
            "7*1 = 7\n",
            "7*2 = 14\n",
            "7*3 = 21\n",
            "7*4 = 28\n",
            "7*5 = 35\n",
            "7*6 = 42\n",
            "7*7 = 49\n",
            "7*8 = 56\n",
            "7*9 = 63\n",
            "-----------\n",
            "--------8단-----\n",
            "8*1 = 8\n",
            "8*2 = 16\n",
            "8*3 = 24\n",
            "8*4 = 32\n",
            "8*5 = 40\n",
            "8*6 = 48\n",
            "8*7 = 56\n",
            "8*8 = 64\n",
            "8*9 = 72\n",
            "-----------\n",
            "--------9단-----\n",
            "9*1 = 9\n",
            "9*2 = 18\n",
            "9*3 = 27\n",
            "9*4 = 36\n",
            "9*5 = 45\n",
            "9*6 = 54\n",
            "9*7 = 63\n",
            "9*8 = 72\n",
            "9*9 = 81\n",
            "-----------\n"
          ]
        }
      ]
    },
    {
      "cell_type": "code",
      "source": [
        "# while문으로 1~10의 합 구하기\n",
        "n = 1\n",
        "total = 0\n",
        "while n <=10:\n",
        "  total += n\n",
        "  n += 1\n",
        "print(total)"
      ],
      "metadata": {
        "colab": {
          "base_uri": "https://localhost:8080/"
        },
        "id": "QKPArGm1vg7i",
        "outputId": "9ef370c9-f944-4209-bfff-4c6cb4e5dd36"
      },
      "execution_count": 20,
      "outputs": [
        {
          "output_type": "stream",
          "name": "stdout",
          "text": [
            "55\n"
          ]
        }
      ]
    },
    {
      "cell_type": "code",
      "source": [
        "# for문 1~10 의 합구하기후 코드 비교\n",
        "total1 = 0\n",
        "for i in range(1, 11):\n",
        "  total1 += i\n",
        "print(total1) "
      ],
      "metadata": {
        "colab": {
          "base_uri": "https://localhost:8080/"
        },
        "id": "g67N-PxzoLX-",
        "outputId": "9a1dcb92-1330-42e9-98dd-6743d40913ec"
      },
      "execution_count": 21,
      "outputs": [
        {
          "output_type": "stream",
          "name": "stdout",
          "text": [
            "55\n"
          ]
        }
      ]
    },
    {
      "cell_type": "code",
      "source": [
        "# 1. ['a', 'b', 'c']를 for 문을 사용해서 전부 대문자로 ['A', 'B','C']\n",
        "# 2. ['dog', 'cat', 'parrot']  첫글자만 출력 d, c, p\n"
      ],
      "metadata": {
        "id": "WGu7k4uFyfm4"
      },
      "execution_count": null,
      "outputs": []
    },
    {
      "cell_type": "code",
      "source": [
        "test_list = []\n",
        "for i in ['a', 'b', 'c']:\n",
        "  n = i.upper()\n",
        "  test_list.append(n)\n",
        "print(test_list)"
      ],
      "metadata": {
        "colab": {
          "base_uri": "https://localhost:8080/"
        },
        "id": "Eym0mCYsy2Ef",
        "outputId": "ac0add0f-b7f8-48ca-846f-64ae93e8216e"
      },
      "execution_count": 22,
      "outputs": [
        {
          "output_type": "stream",
          "name": "stdout",
          "text": [
            "['A', 'B', 'C']\n"
          ]
        }
      ]
    },
    {
      "cell_type": "code",
      "source": [
        "test_list3 = ['dog', 'cat', 'parrot'] \n",
        "for i in test_list3:\n",
        "  print(i[0])"
      ],
      "metadata": {
        "id": "XLGB_LHs1xSP"
      },
      "execution_count": null,
      "outputs": []
    },
    {
      "cell_type": "code",
      "source": [
        "# 3. ['I', 'study', 'python', 'language', '!' ] 중에서 3글자이상인 원소 출력\n",
        "# 4. 1~100까지 숫자중 모든 홀수의 합을 출력하는 for문을 작성 1+3+5+....9 = 합"
      ],
      "metadata": {
        "colab": {
          "base_uri": "https://localhost:8080/",
          "height": 35
        },
        "id": "q1ty5qtm2C4p",
        "outputId": "c464dac3-daf3-425c-cfa0-f2eea7c95e55"
      },
      "execution_count": 23,
      "outputs": [
        {
          "output_type": "execute_result",
          "data": {
            "text/plain": [
              "'d'"
            ],
            "application/vnd.google.colaboratory.intrinsic+json": {
              "type": "string"
            }
          },
          "metadata": {},
          "execution_count": 23
        }
      ]
    },
    {
      "cell_type": "code",
      "source": [
        "test_list4 = ['I', 'study', 'python', 'language', '!' ]\n",
        "for i in test_list4:\n",
        "  if len(i) >= 3:\n",
        "    print(i)"
      ],
      "metadata": {
        "id": "vSUk2Z1o2WhD"
      },
      "execution_count": null,
      "outputs": []
    },
    {
      "cell_type": "code",
      "source": [
        "hab = 0\n",
        "for i in range(1, 11, 2):\n",
        "  hab += i\n",
        "print(hab)"
      ],
      "metadata": {
        "colab": {
          "base_uri": "https://localhost:8080/"
        },
        "id": "beuIbs4j28jR",
        "outputId": "eb4e4122-26e9-4408-a053-24d521a33313"
      },
      "execution_count": 26,
      "outputs": [
        {
          "output_type": "stream",
          "name": "stdout",
          "text": [
            "25\n"
          ]
        }
      ]
    },
    {
      "cell_type": "code",
      "source": [
        "my_list = ['가', '나', '다', '라', '마']\n",
        "for i in range(1, len(my_list)):\n",
        "  print(my_list[i-1], my_list[i]) #mylist[0] = '가'\n",
        "\n",
        "# 가 나\n",
        "# 나 다\n",
        "# 다 라\n",
        "# 라 마"
      ],
      "metadata": {
        "colab": {
          "base_uri": "https://localhost:8080/"
        },
        "id": "Zf2QDvnp3ZH5",
        "outputId": "8106663a-ff8f-4915-b446-8fcc85d8a726"
      },
      "execution_count": 29,
      "outputs": [
        {
          "output_type": "stream",
          "name": "stdout",
          "text": [
            "가 나\n",
            "나 다\n",
            "다 라\n",
            "라 마\n"
          ]
        }
      ]
    },
    {
      "cell_type": "code",
      "source": [
        "# if 문을 활용해서 가위바위보 게임만들기\n",
        "# 변수 : 가위, 바위, 보, 이겼다, 졌다, 비겼다, 나의변수, 컴퓨터변수\n",
        "# if else만 사용해서 "
      ],
      "metadata": {
        "id": "gZlQAcnu7VmY"
      },
      "execution_count": null,
      "outputs": []
    },
    {
      "cell_type": "code",
      "source": [
        "scissor = '가위'\n",
        "rock = '바위'\n",
        "paper = '보'\n",
        "win = '이겼다'\n",
        "lose = '졌다'\n",
        "draw = '비겼다'\n",
        "\n",
        "mine = '보'\n",
        "yours = '가위'"
      ],
      "metadata": {
        "id": "dBPwuy9d9JKj"
      },
      "execution_count": 39,
      "outputs": []
    },
    {
      "cell_type": "code",
      "source": [
        "if mine == yours:\n",
        "  result = draw\n",
        "else:\n",
        "  if mine == scissor:\n",
        "    if yours == rock:\n",
        "      result = lose\n",
        "    else: \n",
        "      result = win\n",
        "  else:\n",
        "    if mine == rock:\n",
        "      if yours == paper: \n",
        "        result = lose\n",
        "      else:\n",
        "        result = win\n",
        "    else:\n",
        "      if mine == paper:\n",
        "        if yours == scissor:\n",
        "          result = lose\n",
        "        else:\n",
        "          result = win\n",
        "\n",
        "print(result)"
      ],
      "metadata": {
        "colab": {
          "base_uri": "https://localhost:8080/"
        },
        "id": "Z2K5pW2D9s8c",
        "outputId": "88712243-7a02-4941-9c73-04819ac97621"
      },
      "execution_count": 40,
      "outputs": [
        {
          "output_type": "stream",
          "name": "stdout",
          "text": [
            "졌다\n"
          ]
        }
      ]
    },
    {
      "cell_type": "code",
      "source": [
        "# 1. elif 로 다중조건문을 변환하시오\n",
        "# 2. mine을 표준입력장치로 변경해주세요\n",
        "# 3. yours 도 가위, 바위 보를 랜덤하게 나오도록 업그레이드\n",
        "# 4. mine에 q를 누르면 게임 종료\n",
        "# 5. py파일로 해서 cmd창에서 실행되도록 \n",
        "# 6. 잘못입력한경우 잘못입력했다고 나오도록 "
      ],
      "metadata": {
        "id": "7enOipVVASli"
      },
      "execution_count": null,
      "outputs": []
    },
    {
      "cell_type": "code",
      "source": [
        "#  1 ~ 100  30\n",
        "# 내가 50 ! 다운!\n",
        "# 20 업\n",
        "#업앤다운 게임을 만들어보세요"
      ],
      "metadata": {
        "id": "L9Zl94otD1Tj"
      },
      "execution_count": null,
      "outputs": []
    },
    {
      "cell_type": "code",
      "source": [
        "# 1. elif 로 다중조건문을 변환하시오\n",
        "if mine == yours:\n",
        "  result = draw\n",
        "else:\n",
        "  if mine == scissor:\n",
        "    if yours == rock:\n",
        "      result = lose\n",
        "    else: \n",
        "      result = win\n",
        "  elif mine == rock:\n",
        "    if yours == paper:\n",
        "      result = lose\n",
        "    else: \n",
        "      result = win\n",
        "  elif mine == paper:\n",
        "    if yours == scissor:\n",
        "      result = lose\n",
        "    else: \n",
        "      result = win\n",
        "  else:\n",
        "    print('잘못 입력했습니다.')\n",
        "print(result)"
      ],
      "metadata": {
        "colab": {
          "base_uri": "https://localhost:8080/"
        },
        "id": "fzpMufZnIfQo",
        "outputId": "df67c3ec-d411-4e10-d982-773b779b2995"
      },
      "execution_count": 42,
      "outputs": [
        {
          "output_type": "stream",
          "name": "stdout",
          "text": [
            "졌다\n"
          ]
        }
      ]
    },
    {
      "cell_type": "code",
      "source": [
        "# 2. mine을 표준입력장치로 변경해주세요\n",
        "mine = input(' 가위바위보중 하나를 입력하세요 (종료:q) : ')"
      ],
      "metadata": {
        "id": "OjYjl201JwE1"
      },
      "execution_count": null,
      "outputs": []
    },
    {
      "cell_type": "code",
      "source": [
        "#3.\n",
        "import random\n",
        "a = [scissor, paper, rock]\n",
        "yours = random.choice(a)"
      ],
      "metadata": {
        "id": "14_FCGBCJ68U"
      },
      "execution_count": null,
      "outputs": []
    },
    {
      "cell_type": "code",
      "source": [
        "scissor = '가위'\n",
        "rock = '바위'\n",
        "paper = '보'\n",
        "win = '이겼다'\n",
        "lose = '졌다'\n",
        "draw = '비겼다'\n",
        "\n",
        "mine = input(' 가위바위보중 하나를 입력하세요 (종료:q) : ')\n",
        "import random\n",
        "a = [scissor, paper, rock]\n",
        "yours = random.choice(a)\n",
        " \n",
        "if mine == yours:\n",
        "  result = draw\n",
        "else:\n",
        "  if mine == scissor:\n",
        "    if yours == rock:\n",
        "      result = lose\n",
        "    else: \n",
        "      result = win\n",
        "  elif mine == rock:\n",
        "    if yours == paper:\n",
        "      result = lose\n",
        "    else: \n",
        "      result = win\n",
        "  elif mine == paper:\n",
        "    if yours == scissor:\n",
        "      result = lose\n",
        "    else: \n",
        "      result = win\n",
        "  else:\n",
        "    print('잘못 입력했습니다.')\n",
        "print(result)"
      ],
      "metadata": {
        "colab": {
          "base_uri": "https://localhost:8080/"
        },
        "id": "UxcC-smXKT0E",
        "outputId": "c264cf8c-cb9c-4d24-f540-c25b6c7a1fda"
      },
      "execution_count": 43,
      "outputs": [
        {
          "output_type": "stream",
          "name": "stdout",
          "text": [
            " 가위바위보중 하나를 입력하세요 (종료:q) : 가위\n",
            "졌다\n"
          ]
        }
      ]
    },
    {
      "cell_type": "markdown",
      "source": [
        "while문 가위바위보게임\n"
      ],
      "metadata": {
        "id": "E3MjvBc2Ks-B"
      }
    },
    {
      "cell_type": "code",
      "source": [
        "import random\n",
        "scissor = '가위'\n",
        "rock = '바위'\n",
        "paper = '보'\n",
        "win = '이겼다'\n",
        "lose = '졌다'\n",
        "draw = '비겼다'\n",
        "\n",
        "while True:\n",
        "  mine = input(' 가위바위보중 하나를 입력하세요 (종료:q) : ')\n",
        "  a = [scissor, paper, rock]\n",
        "  yours = random.choice(a)\n",
        "  if mine == 'q':\n",
        "    print('종료')\n",
        "    break\n",
        "  else:\n",
        "    if mine == yours:\n",
        "      result = draw\n",
        "    else:\n",
        "      if mine == scissor:\n",
        "        if yours == rock:\n",
        "          result = lose\n",
        "        else: \n",
        "          result = win\n",
        "      elif mine == rock:\n",
        "        if yours == paper:\n",
        "          result = lose\n",
        "        else: \n",
        "          result = win\n",
        "      elif mine == paper:\n",
        "        if yours == scissor:\n",
        "          result = lose\n",
        "        else: \n",
        "          result = win\n",
        "      else:\n",
        "        print('잘못 입력했습니다.')\n",
        "        result = '다시입력하세요'\n",
        "    print(f'컴퓨터가{yours}냈습니다.')\n",
        "    print(f'당신은 {mine}을 내어 결과는 {result}입니다.')"
      ],
      "metadata": {
        "id": "aYcVBWqvKsqn"
      },
      "execution_count": null,
      "outputs": []
    },
    {
      "cell_type": "code",
      "source": [
        "import random\n",
        "num = random.randrange(1, 101)\n",
        "print(num)\n",
        "\n",
        "while True:\n",
        "  answer = int(input('예상숫자'))\n",
        "  if answer == num:\n",
        "    print('정답!')\n",
        "    break\n",
        "  if answer < num:\n",
        "    print('UP')\n",
        "  else:\n",
        "    print('DOWN')"
      ],
      "metadata": {
        "colab": {
          "base_uri": "https://localhost:8080/",
          "height": 409
        },
        "id": "9V1iNGj3MpT1",
        "outputId": "f55baa2f-e3bb-47d8-d711-f4a1affc50fb"
      },
      "execution_count": 47,
      "outputs": [
        {
          "output_type": "stream",
          "name": "stdout",
          "text": [
            "97\n"
          ]
        },
        {
          "output_type": "error",
          "ename": "KeyboardInterrupt",
          "evalue": "ignored",
          "traceback": [
            "\u001b[0;31m---------------------------------------------------------------------------\u001b[0m",
            "\u001b[0;31mKeyboardInterrupt\u001b[0m                         Traceback (most recent call last)",
            "\u001b[0;32m<ipython-input-47-e3cc2754c319>\u001b[0m in \u001b[0;36m<module>\u001b[0;34m\u001b[0m\n\u001b[1;32m      4\u001b[0m \u001b[0;34m\u001b[0m\u001b[0m\n\u001b[1;32m      5\u001b[0m \u001b[0;32mwhile\u001b[0m \u001b[0;32mTrue\u001b[0m\u001b[0;34m:\u001b[0m\u001b[0;34m\u001b[0m\u001b[0;34m\u001b[0m\u001b[0m\n\u001b[0;32m----> 6\u001b[0;31m   \u001b[0manswer\u001b[0m \u001b[0;34m=\u001b[0m \u001b[0mint\u001b[0m\u001b[0;34m(\u001b[0m\u001b[0minput\u001b[0m\u001b[0;34m(\u001b[0m\u001b[0;34m'예상숫자'\u001b[0m\u001b[0;34m)\u001b[0m\u001b[0;34m)\u001b[0m\u001b[0;34m\u001b[0m\u001b[0;34m\u001b[0m\u001b[0m\n\u001b[0m\u001b[1;32m      7\u001b[0m   \u001b[0;32mif\u001b[0m \u001b[0manswer\u001b[0m \u001b[0;34m==\u001b[0m \u001b[0mnum\u001b[0m\u001b[0;34m:\u001b[0m\u001b[0;34m\u001b[0m\u001b[0;34m\u001b[0m\u001b[0m\n\u001b[1;32m      8\u001b[0m     \u001b[0mprint\u001b[0m\u001b[0;34m(\u001b[0m\u001b[0;34m'정답!'\u001b[0m\u001b[0;34m)\u001b[0m\u001b[0;34m\u001b[0m\u001b[0;34m\u001b[0m\u001b[0m\n",
            "\u001b[0;32m/usr/local/lib/python3.8/dist-packages/ipykernel/kernelbase.py\u001b[0m in \u001b[0;36mraw_input\u001b[0;34m(self, prompt)\u001b[0m\n\u001b[1;32m    858\u001b[0m                 \u001b[0;34m\"raw_input was called, but this frontend does not support input requests.\"\u001b[0m\u001b[0;34m\u001b[0m\u001b[0;34m\u001b[0m\u001b[0m\n\u001b[1;32m    859\u001b[0m             )\n\u001b[0;32m--> 860\u001b[0;31m         return self._input_request(str(prompt),\n\u001b[0m\u001b[1;32m    861\u001b[0m             \u001b[0mself\u001b[0m\u001b[0;34m.\u001b[0m\u001b[0m_parent_ident\u001b[0m\u001b[0;34m,\u001b[0m\u001b[0;34m\u001b[0m\u001b[0;34m\u001b[0m\u001b[0m\n\u001b[1;32m    862\u001b[0m             \u001b[0mself\u001b[0m\u001b[0;34m.\u001b[0m\u001b[0m_parent_header\u001b[0m\u001b[0;34m,\u001b[0m\u001b[0;34m\u001b[0m\u001b[0;34m\u001b[0m\u001b[0m\n",
            "\u001b[0;32m/usr/local/lib/python3.8/dist-packages/ipykernel/kernelbase.py\u001b[0m in \u001b[0;36m_input_request\u001b[0;34m(self, prompt, ident, parent, password)\u001b[0m\n\u001b[1;32m    902\u001b[0m             \u001b[0;32mexcept\u001b[0m \u001b[0mKeyboardInterrupt\u001b[0m\u001b[0;34m:\u001b[0m\u001b[0;34m\u001b[0m\u001b[0;34m\u001b[0m\u001b[0m\n\u001b[1;32m    903\u001b[0m                 \u001b[0;31m# re-raise KeyboardInterrupt, to truncate traceback\u001b[0m\u001b[0;34m\u001b[0m\u001b[0;34m\u001b[0m\u001b[0;34m\u001b[0m\u001b[0m\n\u001b[0;32m--> 904\u001b[0;31m                 \u001b[0;32mraise\u001b[0m \u001b[0mKeyboardInterrupt\u001b[0m\u001b[0;34m(\u001b[0m\u001b[0;34m\"Interrupted by user\"\u001b[0m\u001b[0;34m)\u001b[0m \u001b[0;32mfrom\u001b[0m \u001b[0;32mNone\u001b[0m\u001b[0;34m\u001b[0m\u001b[0;34m\u001b[0m\u001b[0m\n\u001b[0m\u001b[1;32m    905\u001b[0m             \u001b[0;32mexcept\u001b[0m \u001b[0mException\u001b[0m \u001b[0;32mas\u001b[0m \u001b[0me\u001b[0m\u001b[0;34m:\u001b[0m\u001b[0;34m\u001b[0m\u001b[0;34m\u001b[0m\u001b[0m\n\u001b[1;32m    906\u001b[0m                 \u001b[0mself\u001b[0m\u001b[0;34m.\u001b[0m\u001b[0mlog\u001b[0m\u001b[0;34m.\u001b[0m\u001b[0mwarning\u001b[0m\u001b[0;34m(\u001b[0m\u001b[0;34m\"Invalid Message:\"\u001b[0m\u001b[0;34m,\u001b[0m \u001b[0mexc_info\u001b[0m\u001b[0;34m=\u001b[0m\u001b[0;32mTrue\u001b[0m\u001b[0;34m)\u001b[0m\u001b[0;34m\u001b[0m\u001b[0;34m\u001b[0m\u001b[0m\n",
            "\u001b[0;31mKeyboardInterrupt\u001b[0m: Interrupted by user"
          ]
        }
      ]
    },
    {
      "cell_type": "code",
      "source": [
        "import random\n",
        "cnt = 0 \n",
        "num = random.randrange(1, 101)\n",
        "print(num)\n",
        "\n",
        "while True:\n",
        "  cnt += 1\n",
        "  if cnt > 5:\n",
        "    print('정답은 ', num)\n",
        "    break\n",
        "  answer = int(input('예상숫자'))\n",
        "  if answer == num:\n",
        "    print('정답!')\n",
        "    print(f'{cnt}번 만에 맞췄습니다.')\n",
        "    break\n",
        "  if answer < num:\n",
        "    print('UP')\n",
        "  else:\n",
        "    print('DOWN')"
      ],
      "metadata": {
        "colab": {
          "base_uri": "https://localhost:8080/"
        },
        "id": "xcuZE8Q3N-YP",
        "outputId": "b119bc0e-5cc4-494f-ce9d-32911b1fc792"
      },
      "execution_count": 48,
      "outputs": [
        {
          "output_type": "stream",
          "name": "stdout",
          "text": [
            "53\n",
            "예상숫자20\n",
            "UP\n",
            "예상숫자30\n",
            "UP\n",
            "예상숫자40\n",
            "UP\n",
            "예상숫자50\n",
            "UP\n",
            "예상숫자60\n",
            "DOWN\n",
            "정답은  53\n"
          ]
        }
      ]
    },
    {
      "cell_type": "code",
      "source": [
        "# 1~100 사이에서\n",
        "# 5의 배수이면서(and) 3의 배수가 아닌 합 계산하기\n",
        "i = tot = 0\n",
        "dataset = []\n",
        "while i < 100:\n",
        "  i += 1 \n",
        "  if i % 5 == 0 and i % 3 != 0:\n",
        "    dataset.append(i)\n",
        "    print(i, end=',')\n",
        "    tot += i\n",
        "\n",
        "print(f'데이터셋:{dataset}')\n",
        "print(f'합은 :{tot}')"
      ],
      "metadata": {
        "colab": {
          "base_uri": "https://localhost:8080/"
        },
        "id": "hTN2LdrLRHzV",
        "outputId": "3b2b2575-4346-48e1-a8e7-557f2cf6f46f"
      },
      "execution_count": 50,
      "outputs": [
        {
          "output_type": "stream",
          "name": "stdout",
          "text": [
            "5,10,20,25,35,40,50,55,65,70,80,85,95,100,데이터셋:[5, 10, 20, 25, 35, 40, 50, 55, 65, 70, 80, 85, 95, 100]\n",
            "합은 :735\n"
          ]
        }
      ]
    },
    {
      "cell_type": "code",
      "source": [],
      "metadata": {
        "id": "TbrMoJJlRqNU"
      },
      "execution_count": null,
      "outputs": []
    }
  ]
}