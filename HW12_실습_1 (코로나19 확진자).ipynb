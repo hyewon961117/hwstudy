{
 "cells": [
  {
   "cell_type": "code",
   "execution_count": 1,
   "id": "e59e27ef",
   "metadata": {},
   "outputs": [],
   "source": [
    "import pandas as pd\n",
    "import numpy as np"
   ]
  },
  {
   "cell_type": "code",
   "execution_count": 73,
   "id": "b370d2d2",
   "metadata": {},
   "outputs": [],
   "source": [
    "import pandas as pd\n",
    "import numpy as np\n",
    "from matplotlib import font_manager, rc \n",
    "import matplotlib.pyplot as plt\n",
    "import matplotlib as mpl\n",
    "\n",
    "#마이너스 표시\n",
    "mpl.rcParams['axes.unicode_minus'] = False\n",
    "plt.rc('font', family='Malgun Gothic')"
   ]
  },
  {
   "cell_type": "code",
   "execution_count": 33,
   "id": "851e5a00",
   "metadata": {},
   "outputs": [],
   "source": [
    "# print 없이 모든값 출력\n",
    "from IPython.core.interactiveshell import InteractiveShell \n",
    "InteractiveShell.ast_node_interactivity = \"all\""
   ]
  },
  {
   "cell_type": "markdown",
   "id": "d65b4c20",
   "metadata": {},
   "source": [
    "# 서울시 코로나19 확진자 발생동향 데이터\n",
    "* 서울시 열린데이터 광장"
   ]
  },
  {
   "cell_type": "code",
   "execution_count": 6,
   "id": "34e2364d",
   "metadata": {
    "scrolled": true
   },
   "outputs": [
    {
     "data": {
      "text/html": [
       "<div>\n",
       "<style scoped>\n",
       "    .dataframe tbody tr th:only-of-type {\n",
       "        vertical-align: middle;\n",
       "    }\n",
       "\n",
       "    .dataframe tbody tr th {\n",
       "        vertical-align: top;\n",
       "    }\n",
       "\n",
       "    .dataframe thead th {\n",
       "        text-align: right;\n",
       "    }\n",
       "</style>\n",
       "<table border=\"1\" class=\"dataframe\">\n",
       "  <thead>\n",
       "    <tr style=\"text-align: right;\">\n",
       "      <th></th>\n",
       "      <th>연번</th>\n",
       "      <th>확진일</th>\n",
       "      <th>환자번호</th>\n",
       "      <th>국적</th>\n",
       "      <th>환자정보</th>\n",
       "      <th>지역</th>\n",
       "      <th>여행력</th>\n",
       "      <th>접촉력</th>\n",
       "      <th>조치사항</th>\n",
       "      <th>상태</th>\n",
       "      <th>이동경로</th>\n",
       "      <th>등록일</th>\n",
       "      <th>수정일</th>\n",
       "      <th>노출여부</th>\n",
       "    </tr>\n",
       "  </thead>\n",
       "  <tbody>\n",
       "    <tr>\n",
       "      <th>0</th>\n",
       "      <td>99550</td>\n",
       "      <td>2021-09-28</td>\n",
       "      <td>NaN</td>\n",
       "      <td>NaN</td>\n",
       "      <td>NaN</td>\n",
       "      <td>기타</td>\n",
       "      <td>NaN</td>\n",
       "      <td>감염경로 조사중</td>\n",
       "      <td>NaN</td>\n",
       "      <td>-</td>\n",
       "      <td>NaN</td>\n",
       "      <td>2021-09-29 10:54</td>\n",
       "      <td>2021-09-29 10:54</td>\n",
       "      <td>Y</td>\n",
       "    </tr>\n",
       "    <tr>\n",
       "      <th>1</th>\n",
       "      <td>99549</td>\n",
       "      <td>2021-09-28</td>\n",
       "      <td>NaN</td>\n",
       "      <td>NaN</td>\n",
       "      <td>NaN</td>\n",
       "      <td>기타</td>\n",
       "      <td>NaN</td>\n",
       "      <td>감염경로 조사중</td>\n",
       "      <td>NaN</td>\n",
       "      <td>-</td>\n",
       "      <td>NaN</td>\n",
       "      <td>2021-09-29 10:54</td>\n",
       "      <td>2021-09-29 10:54</td>\n",
       "      <td>Y</td>\n",
       "    </tr>\n",
       "    <tr>\n",
       "      <th>2</th>\n",
       "      <td>99548</td>\n",
       "      <td>2021-09-28</td>\n",
       "      <td>NaN</td>\n",
       "      <td>NaN</td>\n",
       "      <td>NaN</td>\n",
       "      <td>기타</td>\n",
       "      <td>NaN</td>\n",
       "      <td>감염경로 조사중</td>\n",
       "      <td>NaN</td>\n",
       "      <td>-</td>\n",
       "      <td>NaN</td>\n",
       "      <td>2021-09-29 10:54</td>\n",
       "      <td>2021-09-29 10:54</td>\n",
       "      <td>Y</td>\n",
       "    </tr>\n",
       "    <tr>\n",
       "      <th>3</th>\n",
       "      <td>99547</td>\n",
       "      <td>2021-09-28</td>\n",
       "      <td>NaN</td>\n",
       "      <td>NaN</td>\n",
       "      <td>NaN</td>\n",
       "      <td>기타</td>\n",
       "      <td>NaN</td>\n",
       "      <td>감염경로 조사중</td>\n",
       "      <td>NaN</td>\n",
       "      <td>-</td>\n",
       "      <td>NaN</td>\n",
       "      <td>2021-09-29 10:54</td>\n",
       "      <td>2021-09-29 10:54</td>\n",
       "      <td>Y</td>\n",
       "    </tr>\n",
       "    <tr>\n",
       "      <th>4</th>\n",
       "      <td>99546</td>\n",
       "      <td>2021-09-28</td>\n",
       "      <td>NaN</td>\n",
       "      <td>NaN</td>\n",
       "      <td>NaN</td>\n",
       "      <td>기타</td>\n",
       "      <td>NaN</td>\n",
       "      <td>감염경로 조사중</td>\n",
       "      <td>NaN</td>\n",
       "      <td>-</td>\n",
       "      <td>NaN</td>\n",
       "      <td>2021-09-29 10:54</td>\n",
       "      <td>2021-09-29 10:54</td>\n",
       "      <td>Y</td>\n",
       "    </tr>\n",
       "  </tbody>\n",
       "</table>\n",
       "</div>"
      ],
      "text/plain": [
       "      연번         확진일  환자번호  국적  환자정보  지역  여행력       접촉력  조치사항 상태 이동경로  \\\n",
       "0  99550  2021-09-28   NaN NaN   NaN  기타  NaN  감염경로 조사중   NaN  -  NaN   \n",
       "1  99549  2021-09-28   NaN NaN   NaN  기타  NaN  감염경로 조사중   NaN  -  NaN   \n",
       "2  99548  2021-09-28   NaN NaN   NaN  기타  NaN  감염경로 조사중   NaN  -  NaN   \n",
       "3  99547  2021-09-28   NaN NaN   NaN  기타  NaN  감염경로 조사중   NaN  -  NaN   \n",
       "4  99546  2021-09-28   NaN NaN   NaN  기타  NaN  감염경로 조사중   NaN  -  NaN   \n",
       "\n",
       "                등록일               수정일 노출여부  \n",
       "0  2021-09-29 10:54  2021-09-29 10:54    Y  \n",
       "1  2021-09-29 10:54  2021-09-29 10:54    Y  \n",
       "2  2021-09-29 10:54  2021-09-29 10:54    Y  \n",
       "3  2021-09-29 10:54  2021-09-29 10:54    Y  \n",
       "4  2021-09-29 10:54  2021-09-29 10:54    Y  "
      ]
     },
     "execution_count": 6,
     "metadata": {},
     "output_type": "execute_result"
    }
   ],
   "source": [
    "df = pd.read_csv('./data1/서울시 코로나19 확진자 현황.csv', low_memory=False)\n",
    "df.head()"
   ]
  },
  {
   "cell_type": "code",
   "execution_count": 5,
   "id": "185f0495",
   "metadata": {},
   "outputs": [
    {
     "data": {
      "text/plain": [
       "(99550, 14)"
      ]
     },
     "execution_count": 5,
     "metadata": {},
     "output_type": "execute_result"
    }
   ],
   "source": [
    "df.shape"
   ]
  },
  {
   "cell_type": "code",
   "execution_count": 7,
   "id": "d5269f45",
   "metadata": {},
   "outputs": [
    {
     "name": "stdout",
     "output_type": "stream",
     "text": [
      "<class 'pandas.core.frame.DataFrame'>\n",
      "RangeIndex: 99550 entries, 0 to 99549\n",
      "Data columns (total 14 columns):\n",
      " #   Column  Non-Null Count  Dtype  \n",
      "---  ------  --------------  -----  \n",
      " 0   연번      99550 non-null  int64  \n",
      " 1   확진일     99550 non-null  object \n",
      " 2   환자번호    0 non-null      float64\n",
      " 3   국적      0 non-null      float64\n",
      " 4   환자정보    0 non-null      float64\n",
      " 5   지역      99550 non-null  object \n",
      " 6   여행력     1717 non-null   object \n",
      " 7   접촉력     99550 non-null  object \n",
      " 8   조치사항    0 non-null      float64\n",
      " 9   상태      99550 non-null  object \n",
      " 10  이동경로    10000 non-null  object \n",
      " 11  등록일     99550 non-null  object \n",
      " 12  수정일     99550 non-null  object \n",
      " 13  노출여부    99550 non-null  object \n",
      "dtypes: float64(4), int64(1), object(9)\n",
      "memory usage: 10.6+ MB\n"
     ]
    }
   ],
   "source": [
    "df.info()"
   ]
  },
  {
   "cell_type": "markdown",
   "id": "e216bf47",
   "metadata": {},
   "source": [
    "## 데이터 확인 및 전처리"
   ]
  },
  {
   "cell_type": "code",
   "execution_count": 10,
   "id": "d6426ff1",
   "metadata": {},
   "outputs": [],
   "source": [
    "# 불필요한 컬럼 삭제\n",
    "df.drop(columns=['환자번호','국적','환자정보','조치사항',\n",
    "                 '이동경로','등록일','수정일','노출여부'], axis=1, inplace=True)"
   ]
  },
  {
   "cell_type": "code",
   "execution_count": 11,
   "id": "28630ef9",
   "metadata": {},
   "outputs": [
    {
     "name": "stdout",
     "output_type": "stream",
     "text": [
      "<class 'pandas.core.frame.DataFrame'>\n",
      "RangeIndex: 99550 entries, 0 to 99549\n",
      "Data columns (total 6 columns):\n",
      " #   Column  Non-Null Count  Dtype \n",
      "---  ------  --------------  ----- \n",
      " 0   연번      99550 non-null  int64 \n",
      " 1   확진일     99550 non-null  object\n",
      " 2   지역      99550 non-null  object\n",
      " 3   여행력     1717 non-null   object\n",
      " 4   접촉력     99550 non-null  object\n",
      " 5   상태      99550 non-null  object\n",
      "dtypes: int64(1), object(5)\n",
      "memory usage: 4.6+ MB\n"
     ]
    }
   ],
   "source": [
    "df.info()"
   ]
  },
  {
   "cell_type": "code",
   "execution_count": 12,
   "id": "fd0c54bd",
   "metadata": {},
   "outputs": [
    {
     "name": "stdout",
     "output_type": "stream",
     "text": [
      "<class 'pandas.core.frame.DataFrame'>\n",
      "RangeIndex: 99550 entries, 0 to 99549\n",
      "Data columns (total 6 columns):\n",
      " #   Column  Non-Null Count  Dtype         \n",
      "---  ------  --------------  -----         \n",
      " 0   연번      99550 non-null  int64         \n",
      " 1   확진일     99550 non-null  datetime64[ns]\n",
      " 2   지역      99550 non-null  object        \n",
      " 3   여행력     1717 non-null   object        \n",
      " 4   접촉력     99550 non-null  object        \n",
      " 5   상태      99550 non-null  object        \n",
      "dtypes: datetime64[ns](1), int64(1), object(4)\n",
      "memory usage: 4.6+ MB\n"
     ]
    }
   ],
   "source": [
    "# 확진일 -> datetime으로 타입 변경\n",
    "df['확진일'] = pd.to_datetime(df['확진일'])\n",
    "df.info()"
   ]
  },
  {
   "cell_type": "code",
   "execution_count": 36,
   "id": "2e22204f",
   "metadata": {},
   "outputs": [
    {
     "data": {
      "text/plain": [
       "27"
      ]
     },
     "execution_count": 36,
     "metadata": {},
     "output_type": "execute_result"
    },
    {
     "data": {
      "text/plain": [
       "27"
      ]
     },
     "execution_count": 36,
     "metadata": {},
     "output_type": "execute_result"
    },
    {
     "data": {
      "text/plain": [
       "array(['기타', '영등포구', '관악구', '서대문구', '송파구', '동대문구', '성동구', '중랑구', '타시도',\n",
       "       '종로구', '도봉구', '용산구', '마포구', '구로구', '동작구', '강동구', '중구', '노원구',\n",
       "       '양천구', '강서구', '은평구', '성북구', '광진구', '금천구', '강북구', '강남구', '서초구'],\n",
       "      dtype=object)"
      ]
     },
     "execution_count": 36,
     "metadata": {},
     "output_type": "execute_result"
    }
   ],
   "source": [
    "# 지역 25개 구\n",
    "\n",
    "len(df['지역'].unique())\n",
    "df['지역'].nunique()\n",
    "\n",
    "df['지역'].unique()"
   ]
  },
  {
   "cell_type": "code",
   "execution_count": 35,
   "id": "a87f4176",
   "metadata": {},
   "outputs": [
    {
     "data": {
      "text/plain": [
       "27"
      ]
     },
     "execution_count": 35,
     "metadata": {},
     "output_type": "execute_result"
    },
    {
     "data": {
      "text/plain": [
       "array(['기타', '영등포구', '관악구', '서대문구', '송파구', '동대문구', '성동구', '중랑구', '타시도',\n",
       "       '종로구', '도봉구', '용산구', '마포구', '구로구', '동작구', '강동구', '중구', '노원구',\n",
       "       '양천구', '강서구', '은평구', '성북구', '광진구', '금천구', '강북구', '강남구', '서초구'],\n",
       "      dtype=object)"
      ]
     },
     "execution_count": 35,
     "metadata": {},
     "output_type": "execute_result"
    }
   ],
   "source": [
    "df['지역'] = df['지역'].str.strip() # 공백 제거\n",
    "df['지역'].nunique()\n",
    "df['지역'].unique()"
   ]
  },
  {
   "cell_type": "code",
   "execution_count": 39,
   "id": "7be3bc9d",
   "metadata": {},
   "outputs": [
    {
     "name": "stdout",
     "output_type": "stream",
     "text": [
      "<class 'pandas.core.frame.DataFrame'>\n",
      "RangeIndex: 99550 entries, 0 to 99549\n",
      "Data columns (total 6 columns):\n",
      " #   Column  Non-Null Count  Dtype         \n",
      "---  ------  --------------  -----         \n",
      " 0   연번      99550 non-null  int64         \n",
      " 1   확진일     99550 non-null  datetime64[ns]\n",
      " 2   지역      99550 non-null  category      \n",
      " 3   여행력     1717 non-null   object        \n",
      " 4   접촉력     99550 non-null  object        \n",
      " 5   상태      99550 non-null  object        \n",
      "dtypes: category(1), datetime64[ns](1), int64(1), object(3)\n",
      "memory usage: 3.9+ MB\n"
     ]
    }
   ],
   "source": [
    "df['지역'] = df['지역'].astype('category')\n",
    "df.info()"
   ]
  },
  {
   "cell_type": "code",
   "execution_count": 41,
   "id": "380419b9",
   "metadata": {},
   "outputs": [
    {
     "data": {
      "text/plain": [
       "연번         0\n",
       "확진일        0\n",
       "지역         0\n",
       "여행력    97833\n",
       "접촉력        0\n",
       "상태         0\n",
       "dtype: int64"
      ]
     },
     "execution_count": 41,
     "metadata": {},
     "output_type": "execute_result"
    }
   ],
   "source": [
    "df.isnull().sum()"
   ]
  },
  {
   "cell_type": "markdown",
   "id": "6ed5fd30",
   "metadata": {},
   "source": [
    "## 구별 확진자 동향\n",
    "* 확진일 - 구별로 pivot_table 집계"
   ]
  },
  {
   "cell_type": "code",
   "execution_count": 42,
   "id": "0d6c7043",
   "metadata": {},
   "outputs": [
    {
     "data": {
      "text/html": [
       "<div>\n",
       "<style scoped>\n",
       "    .dataframe tbody tr th:only-of-type {\n",
       "        vertical-align: middle;\n",
       "    }\n",
       "\n",
       "    .dataframe tbody tr th {\n",
       "        vertical-align: top;\n",
       "    }\n",
       "\n",
       "    .dataframe thead th {\n",
       "        text-align: right;\n",
       "    }\n",
       "</style>\n",
       "<table border=\"1\" class=\"dataframe\">\n",
       "  <thead>\n",
       "    <tr style=\"text-align: right;\">\n",
       "      <th></th>\n",
       "      <th>연번</th>\n",
       "      <th>확진일</th>\n",
       "      <th>지역</th>\n",
       "      <th>여행력</th>\n",
       "      <th>접촉력</th>\n",
       "      <th>상태</th>\n",
       "    </tr>\n",
       "  </thead>\n",
       "  <tbody>\n",
       "    <tr>\n",
       "      <th>0</th>\n",
       "      <td>99550</td>\n",
       "      <td>2021-09-28</td>\n",
       "      <td>기타</td>\n",
       "      <td>NaN</td>\n",
       "      <td>감염경로 조사중</td>\n",
       "      <td>-</td>\n",
       "    </tr>\n",
       "    <tr>\n",
       "      <th>1</th>\n",
       "      <td>99549</td>\n",
       "      <td>2021-09-28</td>\n",
       "      <td>기타</td>\n",
       "      <td>NaN</td>\n",
       "      <td>감염경로 조사중</td>\n",
       "      <td>-</td>\n",
       "    </tr>\n",
       "    <tr>\n",
       "      <th>2</th>\n",
       "      <td>99548</td>\n",
       "      <td>2021-09-28</td>\n",
       "      <td>기타</td>\n",
       "      <td>NaN</td>\n",
       "      <td>감염경로 조사중</td>\n",
       "      <td>-</td>\n",
       "    </tr>\n",
       "    <tr>\n",
       "      <th>3</th>\n",
       "      <td>99547</td>\n",
       "      <td>2021-09-28</td>\n",
       "      <td>기타</td>\n",
       "      <td>NaN</td>\n",
       "      <td>감염경로 조사중</td>\n",
       "      <td>-</td>\n",
       "    </tr>\n",
       "    <tr>\n",
       "      <th>4</th>\n",
       "      <td>99546</td>\n",
       "      <td>2021-09-28</td>\n",
       "      <td>기타</td>\n",
       "      <td>NaN</td>\n",
       "      <td>감염경로 조사중</td>\n",
       "      <td>-</td>\n",
       "    </tr>\n",
       "  </tbody>\n",
       "</table>\n",
       "</div>"
      ],
      "text/plain": [
       "      연번        확진일  지역  여행력       접촉력 상태\n",
       "0  99550 2021-09-28  기타  NaN  감염경로 조사중  -\n",
       "1  99549 2021-09-28  기타  NaN  감염경로 조사중  -\n",
       "2  99548 2021-09-28  기타  NaN  감염경로 조사중  -\n",
       "3  99547 2021-09-28  기타  NaN  감염경로 조사중  -\n",
       "4  99546 2021-09-28  기타  NaN  감염경로 조사중  -"
      ]
     },
     "execution_count": 42,
     "metadata": {},
     "output_type": "execute_result"
    }
   ],
   "source": [
    "df.head()"
   ]
  },
  {
   "cell_type": "code",
   "execution_count": 53,
   "id": "6a9be0ba",
   "metadata": {},
   "outputs": [
    {
     "data": {
      "text/html": [
       "<div>\n",
       "<style scoped>\n",
       "    .dataframe tbody tr th:only-of-type {\n",
       "        vertical-align: middle;\n",
       "    }\n",
       "\n",
       "    .dataframe tbody tr th {\n",
       "        vertical-align: top;\n",
       "    }\n",
       "\n",
       "    .dataframe thead th {\n",
       "        text-align: right;\n",
       "    }\n",
       "</style>\n",
       "<table border=\"1\" class=\"dataframe\">\n",
       "  <thead>\n",
       "    <tr style=\"text-align: right;\">\n",
       "      <th>지역</th>\n",
       "      <th>강남구</th>\n",
       "      <th>강동구</th>\n",
       "      <th>강북구</th>\n",
       "      <th>강서구</th>\n",
       "      <th>관악구</th>\n",
       "      <th>광진구</th>\n",
       "      <th>구로구</th>\n",
       "      <th>금천구</th>\n",
       "      <th>기타</th>\n",
       "      <th>노원구</th>\n",
       "      <th>...</th>\n",
       "      <th>송파구</th>\n",
       "      <th>양천구</th>\n",
       "      <th>영등포구</th>\n",
       "      <th>용산구</th>\n",
       "      <th>은평구</th>\n",
       "      <th>종로구</th>\n",
       "      <th>중구</th>\n",
       "      <th>중랑구</th>\n",
       "      <th>타시도</th>\n",
       "      <th>All</th>\n",
       "    </tr>\n",
       "    <tr>\n",
       "      <th>확진일</th>\n",
       "      <th></th>\n",
       "      <th></th>\n",
       "      <th></th>\n",
       "      <th></th>\n",
       "      <th></th>\n",
       "      <th></th>\n",
       "      <th></th>\n",
       "      <th></th>\n",
       "      <th></th>\n",
       "      <th></th>\n",
       "      <th></th>\n",
       "      <th></th>\n",
       "      <th></th>\n",
       "      <th></th>\n",
       "      <th></th>\n",
       "      <th></th>\n",
       "      <th></th>\n",
       "      <th></th>\n",
       "      <th></th>\n",
       "      <th></th>\n",
       "      <th></th>\n",
       "    </tr>\n",
       "  </thead>\n",
       "  <tbody>\n",
       "    <tr>\n",
       "      <th>2020-01-24 00:00:00</th>\n",
       "      <td>0</td>\n",
       "      <td>0</td>\n",
       "      <td>0</td>\n",
       "      <td>1</td>\n",
       "      <td>0</td>\n",
       "      <td>0</td>\n",
       "      <td>0</td>\n",
       "      <td>0</td>\n",
       "      <td>0</td>\n",
       "      <td>0</td>\n",
       "      <td>...</td>\n",
       "      <td>0</td>\n",
       "      <td>0</td>\n",
       "      <td>0</td>\n",
       "      <td>0</td>\n",
       "      <td>0</td>\n",
       "      <td>0</td>\n",
       "      <td>0</td>\n",
       "      <td>0</td>\n",
       "      <td>0</td>\n",
       "      <td>1</td>\n",
       "    </tr>\n",
       "    <tr>\n",
       "      <th>2020-01-30 00:00:00</th>\n",
       "      <td>0</td>\n",
       "      <td>0</td>\n",
       "      <td>0</td>\n",
       "      <td>0</td>\n",
       "      <td>0</td>\n",
       "      <td>0</td>\n",
       "      <td>0</td>\n",
       "      <td>0</td>\n",
       "      <td>0</td>\n",
       "      <td>0</td>\n",
       "      <td>...</td>\n",
       "      <td>0</td>\n",
       "      <td>0</td>\n",
       "      <td>0</td>\n",
       "      <td>0</td>\n",
       "      <td>0</td>\n",
       "      <td>1</td>\n",
       "      <td>0</td>\n",
       "      <td>1</td>\n",
       "      <td>0</td>\n",
       "      <td>3</td>\n",
       "    </tr>\n",
       "    <tr>\n",
       "      <th>2020-01-31 00:00:00</th>\n",
       "      <td>0</td>\n",
       "      <td>0</td>\n",
       "      <td>0</td>\n",
       "      <td>0</td>\n",
       "      <td>0</td>\n",
       "      <td>0</td>\n",
       "      <td>0</td>\n",
       "      <td>0</td>\n",
       "      <td>0</td>\n",
       "      <td>0</td>\n",
       "      <td>...</td>\n",
       "      <td>0</td>\n",
       "      <td>0</td>\n",
       "      <td>0</td>\n",
       "      <td>0</td>\n",
       "      <td>0</td>\n",
       "      <td>2</td>\n",
       "      <td>0</td>\n",
       "      <td>0</td>\n",
       "      <td>0</td>\n",
       "      <td>3</td>\n",
       "    </tr>\n",
       "    <tr>\n",
       "      <th>2020-02-02 00:00:00</th>\n",
       "      <td>0</td>\n",
       "      <td>0</td>\n",
       "      <td>0</td>\n",
       "      <td>0</td>\n",
       "      <td>0</td>\n",
       "      <td>0</td>\n",
       "      <td>0</td>\n",
       "      <td>0</td>\n",
       "      <td>0</td>\n",
       "      <td>0</td>\n",
       "      <td>...</td>\n",
       "      <td>0</td>\n",
       "      <td>0</td>\n",
       "      <td>0</td>\n",
       "      <td>0</td>\n",
       "      <td>0</td>\n",
       "      <td>0</td>\n",
       "      <td>0</td>\n",
       "      <td>0</td>\n",
       "      <td>1</td>\n",
       "      <td>1</td>\n",
       "    </tr>\n",
       "    <tr>\n",
       "      <th>2020-02-05 00:00:00</th>\n",
       "      <td>0</td>\n",
       "      <td>0</td>\n",
       "      <td>0</td>\n",
       "      <td>0</td>\n",
       "      <td>0</td>\n",
       "      <td>0</td>\n",
       "      <td>0</td>\n",
       "      <td>0</td>\n",
       "      <td>0</td>\n",
       "      <td>0</td>\n",
       "      <td>...</td>\n",
       "      <td>1</td>\n",
       "      <td>0</td>\n",
       "      <td>0</td>\n",
       "      <td>0</td>\n",
       "      <td>0</td>\n",
       "      <td>0</td>\n",
       "      <td>0</td>\n",
       "      <td>0</td>\n",
       "      <td>0</td>\n",
       "      <td>2</td>\n",
       "    </tr>\n",
       "    <tr>\n",
       "      <th>...</th>\n",
       "      <td>...</td>\n",
       "      <td>...</td>\n",
       "      <td>...</td>\n",
       "      <td>...</td>\n",
       "      <td>...</td>\n",
       "      <td>...</td>\n",
       "      <td>...</td>\n",
       "      <td>...</td>\n",
       "      <td>...</td>\n",
       "      <td>...</td>\n",
       "      <td>...</td>\n",
       "      <td>...</td>\n",
       "      <td>...</td>\n",
       "      <td>...</td>\n",
       "      <td>...</td>\n",
       "      <td>...</td>\n",
       "      <td>...</td>\n",
       "      <td>...</td>\n",
       "      <td>...</td>\n",
       "      <td>...</td>\n",
       "      <td>...</td>\n",
       "    </tr>\n",
       "    <tr>\n",
       "      <th>2021-09-25 00:00:00</th>\n",
       "      <td>37</td>\n",
       "      <td>41</td>\n",
       "      <td>42</td>\n",
       "      <td>48</td>\n",
       "      <td>37</td>\n",
       "      <td>34</td>\n",
       "      <td>31</td>\n",
       "      <td>39</td>\n",
       "      <td>0</td>\n",
       "      <td>27</td>\n",
       "      <td>...</td>\n",
       "      <td>88</td>\n",
       "      <td>20</td>\n",
       "      <td>35</td>\n",
       "      <td>32</td>\n",
       "      <td>31</td>\n",
       "      <td>31</td>\n",
       "      <td>24</td>\n",
       "      <td>35</td>\n",
       "      <td>31</td>\n",
       "      <td>928</td>\n",
       "    </tr>\n",
       "    <tr>\n",
       "      <th>2021-09-26 00:00:00</th>\n",
       "      <td>43</td>\n",
       "      <td>17</td>\n",
       "      <td>27</td>\n",
       "      <td>29</td>\n",
       "      <td>37</td>\n",
       "      <td>37</td>\n",
       "      <td>72</td>\n",
       "      <td>19</td>\n",
       "      <td>0</td>\n",
       "      <td>25</td>\n",
       "      <td>...</td>\n",
       "      <td>55</td>\n",
       "      <td>12</td>\n",
       "      <td>40</td>\n",
       "      <td>13</td>\n",
       "      <td>38</td>\n",
       "      <td>33</td>\n",
       "      <td>27</td>\n",
       "      <td>26</td>\n",
       "      <td>32</td>\n",
       "      <td>778</td>\n",
       "    </tr>\n",
       "    <tr>\n",
       "      <th>2021-09-27 00:00:00</th>\n",
       "      <td>50</td>\n",
       "      <td>29</td>\n",
       "      <td>20</td>\n",
       "      <td>50</td>\n",
       "      <td>23</td>\n",
       "      <td>34</td>\n",
       "      <td>58</td>\n",
       "      <td>16</td>\n",
       "      <td>0</td>\n",
       "      <td>37</td>\n",
       "      <td>...</td>\n",
       "      <td>58</td>\n",
       "      <td>27</td>\n",
       "      <td>41</td>\n",
       "      <td>28</td>\n",
       "      <td>17</td>\n",
       "      <td>20</td>\n",
       "      <td>22</td>\n",
       "      <td>18</td>\n",
       "      <td>63</td>\n",
       "      <td>842</td>\n",
       "    </tr>\n",
       "    <tr>\n",
       "      <th>2021-09-28 00:00:00</th>\n",
       "      <td>45</td>\n",
       "      <td>51</td>\n",
       "      <td>25</td>\n",
       "      <td>41</td>\n",
       "      <td>48</td>\n",
       "      <td>36</td>\n",
       "      <td>55</td>\n",
       "      <td>31</td>\n",
       "      <td>65</td>\n",
       "      <td>29</td>\n",
       "      <td>...</td>\n",
       "      <td>68</td>\n",
       "      <td>27</td>\n",
       "      <td>43</td>\n",
       "      <td>24</td>\n",
       "      <td>47</td>\n",
       "      <td>23</td>\n",
       "      <td>37</td>\n",
       "      <td>26</td>\n",
       "      <td>43</td>\n",
       "      <td>1054</td>\n",
       "    </tr>\n",
       "    <tr>\n",
       "      <th>All</th>\n",
       "      <td>6926</td>\n",
       "      <td>3782</td>\n",
       "      <td>2606</td>\n",
       "      <td>4447</td>\n",
       "      <td>5418</td>\n",
       "      <td>3486</td>\n",
       "      <td>4168</td>\n",
       "      <td>2064</td>\n",
       "      <td>2321</td>\n",
       "      <td>3932</td>\n",
       "      <td>...</td>\n",
       "      <td>6356</td>\n",
       "      <td>3291</td>\n",
       "      <td>4463</td>\n",
       "      <td>2705</td>\n",
       "      <td>4284</td>\n",
       "      <td>1617</td>\n",
       "      <td>1708</td>\n",
       "      <td>3729</td>\n",
       "      <td>4715</td>\n",
       "      <td>99550</td>\n",
       "    </tr>\n",
       "  </tbody>\n",
       "</table>\n",
       "<p>583 rows × 28 columns</p>\n",
       "</div>"
      ],
      "text/plain": [
       "지역                    강남구   강동구   강북구   강서구   관악구   광진구   구로구   금천구    기타  \\\n",
       "확진일                                                                         \n",
       "2020-01-24 00:00:00     0     0     0     1     0     0     0     0     0   \n",
       "2020-01-30 00:00:00     0     0     0     0     0     0     0     0     0   \n",
       "2020-01-31 00:00:00     0     0     0     0     0     0     0     0     0   \n",
       "2020-02-02 00:00:00     0     0     0     0     0     0     0     0     0   \n",
       "2020-02-05 00:00:00     0     0     0     0     0     0     0     0     0   \n",
       "...                   ...   ...   ...   ...   ...   ...   ...   ...   ...   \n",
       "2021-09-25 00:00:00    37    41    42    48    37    34    31    39     0   \n",
       "2021-09-26 00:00:00    43    17    27    29    37    37    72    19     0   \n",
       "2021-09-27 00:00:00    50    29    20    50    23    34    58    16     0   \n",
       "2021-09-28 00:00:00    45    51    25    41    48    36    55    31    65   \n",
       "All                  6926  3782  2606  4447  5418  3486  4168  2064  2321   \n",
       "\n",
       "지역                    노원구  ...   송파구   양천구  영등포구   용산구   은평구   종로구    중구  \\\n",
       "확진일                        ...                                             \n",
       "2020-01-24 00:00:00     0  ...     0     0     0     0     0     0     0   \n",
       "2020-01-30 00:00:00     0  ...     0     0     0     0     0     1     0   \n",
       "2020-01-31 00:00:00     0  ...     0     0     0     0     0     2     0   \n",
       "2020-02-02 00:00:00     0  ...     0     0     0     0     0     0     0   \n",
       "2020-02-05 00:00:00     0  ...     1     0     0     0     0     0     0   \n",
       "...                   ...  ...   ...   ...   ...   ...   ...   ...   ...   \n",
       "2021-09-25 00:00:00    27  ...    88    20    35    32    31    31    24   \n",
       "2021-09-26 00:00:00    25  ...    55    12    40    13    38    33    27   \n",
       "2021-09-27 00:00:00    37  ...    58    27    41    28    17    20    22   \n",
       "2021-09-28 00:00:00    29  ...    68    27    43    24    47    23    37   \n",
       "All                  3932  ...  6356  3291  4463  2705  4284  1617  1708   \n",
       "\n",
       "지역                    중랑구   타시도    All  \n",
       "확진일                                     \n",
       "2020-01-24 00:00:00     0     0      1  \n",
       "2020-01-30 00:00:00     1     0      3  \n",
       "2020-01-31 00:00:00     0     0      3  \n",
       "2020-02-02 00:00:00     0     1      1  \n",
       "2020-02-05 00:00:00     0     0      2  \n",
       "...                   ...   ...    ...  \n",
       "2021-09-25 00:00:00    35    31    928  \n",
       "2021-09-26 00:00:00    26    32    778  \n",
       "2021-09-27 00:00:00    18    63    842  \n",
       "2021-09-28 00:00:00    26    43   1054  \n",
       "All                  3729  4715  99550  \n",
       "\n",
       "[583 rows x 28 columns]"
      ]
     },
     "execution_count": 53,
     "metadata": {},
     "output_type": "execute_result"
    }
   ],
   "source": [
    "df_gu = pd.pivot_table(df, index='확진일', columns ='지역', values='연번',\n",
    "                      aggfunc='count', margins=True)\n",
    "# df_gu = pd.pivot_table(df, '연번', '확진일', '지역','count')\n",
    "df_gu"
   ]
  },
  {
   "cell_type": "code",
   "execution_count": 70,
   "id": "63459d43",
   "metadata": {},
   "outputs": [
    {
     "data": {
      "text/plain": [
       "확진일\n",
       "2020-01-24       1\n",
       "2020-01-30       3\n",
       "2020-01-31       3\n",
       "2020-02-02       1\n",
       "2020-02-05       2\n",
       "              ... \n",
       "2021-09-24    1222\n",
       "2021-09-25     928\n",
       "2021-09-26     778\n",
       "2021-09-27     842\n",
       "2021-09-28    1054\n",
       "Name: All, Length: 582, dtype: int64"
      ]
     },
     "execution_count": 70,
     "metadata": {},
     "output_type": "execute_result"
    }
   ],
   "source": [
    "# 서울시 일별 추가 확진자 동향\n",
    "s_date = df_gu['All'][:-1]\n",
    "s_date"
   ]
  },
  {
   "cell_type": "code",
   "execution_count": 71,
   "id": "fa72c610",
   "metadata": {},
   "outputs": [
    {
     "data": {
      "text/plain": [
       "확진일\n",
       "2021-09-24    1222\n",
       "2021-09-28    1054\n",
       "2021-09-25     928\n",
       "2021-09-23     905\n",
       "2021-09-27     842\n",
       "              ... \n",
       "2020-04-24       1\n",
       "2020-04-30       1\n",
       "2020-05-01       1\n",
       "2020-05-17       1\n",
       "2020-01-24       1\n",
       "Name: All, Length: 582, dtype: int64"
      ]
     },
     "execution_count": 71,
     "metadata": {},
     "output_type": "execute_result"
    }
   ],
   "source": [
    "# 서울시 일별 추가확진자 많은 순으로 \n",
    "s_date.sort_values(ascending=False)"
   ]
  },
  {
   "cell_type": "code",
   "execution_count": 156,
   "id": "8b96bf76",
   "metadata": {},
   "outputs": [
    {
     "data": {
      "text/html": [
       "<div>\n",
       "<style scoped>\n",
       "    .dataframe tbody tr th:only-of-type {\n",
       "        vertical-align: middle;\n",
       "    }\n",
       "\n",
       "    .dataframe tbody tr th {\n",
       "        vertical-align: top;\n",
       "    }\n",
       "\n",
       "    .dataframe thead th {\n",
       "        text-align: right;\n",
       "    }\n",
       "</style>\n",
       "<table border=\"1\" class=\"dataframe\">\n",
       "  <thead>\n",
       "    <tr style=\"text-align: right;\">\n",
       "      <th>지역</th>\n",
       "      <th>All</th>\n",
       "    </tr>\n",
       "    <tr>\n",
       "      <th>확진일</th>\n",
       "      <th></th>\n",
       "    </tr>\n",
       "  </thead>\n",
       "  <tbody>\n",
       "    <tr>\n",
       "      <th>2020-01-24</th>\n",
       "      <td>1</td>\n",
       "    </tr>\n",
       "    <tr>\n",
       "      <th>2020-01-30</th>\n",
       "      <td>3</td>\n",
       "    </tr>\n",
       "    <tr>\n",
       "      <th>2020-01-31</th>\n",
       "      <td>3</td>\n",
       "    </tr>\n",
       "    <tr>\n",
       "      <th>2020-02-02</th>\n",
       "      <td>1</td>\n",
       "    </tr>\n",
       "    <tr>\n",
       "      <th>2020-02-05</th>\n",
       "      <td>2</td>\n",
       "    </tr>\n",
       "    <tr>\n",
       "      <th>...</th>\n",
       "      <td>...</td>\n",
       "    </tr>\n",
       "    <tr>\n",
       "      <th>2021-09-24</th>\n",
       "      <td>1222</td>\n",
       "    </tr>\n",
       "    <tr>\n",
       "      <th>2021-09-25</th>\n",
       "      <td>928</td>\n",
       "    </tr>\n",
       "    <tr>\n",
       "      <th>2021-09-26</th>\n",
       "      <td>778</td>\n",
       "    </tr>\n",
       "    <tr>\n",
       "      <th>2021-09-27</th>\n",
       "      <td>842</td>\n",
       "    </tr>\n",
       "    <tr>\n",
       "      <th>2021-09-28</th>\n",
       "      <td>1054</td>\n",
       "    </tr>\n",
       "  </tbody>\n",
       "</table>\n",
       "<p>582 rows × 1 columns</p>\n",
       "</div>"
      ],
      "text/plain": [
       "지역           All\n",
       "확진일             \n",
       "2020-01-24     1\n",
       "2020-01-30     3\n",
       "2020-01-31     3\n",
       "2020-02-02     1\n",
       "2020-02-05     2\n",
       "...          ...\n",
       "2021-09-24  1222\n",
       "2021-09-25   928\n",
       "2021-09-26   778\n",
       "2021-09-27   842\n",
       "2021-09-28  1054\n",
       "\n",
       "[582 rows x 1 columns]"
      ]
     },
     "execution_count": 156,
     "metadata": {},
     "output_type": "execute_result"
    }
   ],
   "source": [
    "s_date3 = df_gu[['All']][:-1]\n",
    "s_date3"
   ]
  },
  {
   "cell_type": "code",
   "execution_count": 157,
   "id": "8368e219",
   "metadata": {},
   "outputs": [
    {
     "data": {
      "text/html": [
       "<div>\n",
       "<style scoped>\n",
       "    .dataframe tbody tr th:only-of-type {\n",
       "        vertical-align: middle;\n",
       "    }\n",
       "\n",
       "    .dataframe tbody tr th {\n",
       "        vertical-align: top;\n",
       "    }\n",
       "\n",
       "    .dataframe thead th {\n",
       "        text-align: right;\n",
       "    }\n",
       "</style>\n",
       "<table border=\"1\" class=\"dataframe\">\n",
       "  <thead>\n",
       "    <tr style=\"text-align: right;\">\n",
       "      <th>지역</th>\n",
       "      <th>All</th>\n",
       "    </tr>\n",
       "    <tr>\n",
       "      <th>확진일</th>\n",
       "      <th></th>\n",
       "    </tr>\n",
       "  </thead>\n",
       "  <tbody>\n",
       "    <tr>\n",
       "      <th>2021-09-24</th>\n",
       "      <td>1222</td>\n",
       "    </tr>\n",
       "    <tr>\n",
       "      <th>2021-09-28</th>\n",
       "      <td>1054</td>\n",
       "    </tr>\n",
       "    <tr>\n",
       "      <th>2021-09-25</th>\n",
       "      <td>928</td>\n",
       "    </tr>\n",
       "    <tr>\n",
       "      <th>2021-09-23</th>\n",
       "      <td>905</td>\n",
       "    </tr>\n",
       "    <tr>\n",
       "      <th>2021-09-27</th>\n",
       "      <td>842</td>\n",
       "    </tr>\n",
       "    <tr>\n",
       "      <th>...</th>\n",
       "      <td>...</td>\n",
       "    </tr>\n",
       "    <tr>\n",
       "      <th>2020-04-24</th>\n",
       "      <td>1</td>\n",
       "    </tr>\n",
       "    <tr>\n",
       "      <th>2020-04-30</th>\n",
       "      <td>1</td>\n",
       "    </tr>\n",
       "    <tr>\n",
       "      <th>2020-05-01</th>\n",
       "      <td>1</td>\n",
       "    </tr>\n",
       "    <tr>\n",
       "      <th>2020-05-17</th>\n",
       "      <td>1</td>\n",
       "    </tr>\n",
       "    <tr>\n",
       "      <th>2020-01-24</th>\n",
       "      <td>1</td>\n",
       "    </tr>\n",
       "  </tbody>\n",
       "</table>\n",
       "<p>582 rows × 1 columns</p>\n",
       "</div>"
      ],
      "text/plain": [
       "지역           All\n",
       "확진일             \n",
       "2021-09-24  1222\n",
       "2021-09-28  1054\n",
       "2021-09-25   928\n",
       "2021-09-23   905\n",
       "2021-09-27   842\n",
       "...          ...\n",
       "2020-04-24     1\n",
       "2020-04-30     1\n",
       "2020-05-01     1\n",
       "2020-05-17     1\n",
       "2020-01-24     1\n",
       "\n",
       "[582 rows x 1 columns]"
      ]
     },
     "execution_count": 157,
     "metadata": {},
     "output_type": "execute_result"
    }
   ],
   "source": [
    "s_date3.sort_values(by='All', ascending=False)"
   ]
  },
  {
   "cell_type": "markdown",
   "id": "c790dde8",
   "metadata": {},
   "source": [
    "## 서울시 일별 추가 확진자 시각화\n"
   ]
  },
  {
   "cell_type": "code",
   "execution_count": 78,
   "id": "c516f4d1",
   "metadata": {},
   "outputs": [
    {
     "data": {
      "text/plain": [
       "[<matplotlib.lines.Line2D at 0x18841e4b7c0>]"
      ]
     },
     "execution_count": 78,
     "metadata": {},
     "output_type": "execute_result"
    },
    {
     "data": {
      "text/plain": [
       "Text(0.5, 1.0, '서울시 일별 확진자 시각화')"
      ]
     },
     "execution_count": 78,
     "metadata": {},
     "output_type": "execute_result"
    },
    {
     "data": {
      "text/plain": [
       "Text(0.5, 0, '확진일')"
      ]
     },
     "execution_count": 78,
     "metadata": {},
     "output_type": "execute_result"
    },
    {
     "data": {
      "text/plain": [
       "Text(0, 0.5, '확진자수')"
      ]
     },
     "execution_count": 78,
     "metadata": {},
     "output_type": "execute_result"
    },
    {
     "data": {
      "text/plain": [
       "(array([18262., 18322., 18383., 18444., 18506., 18567., 18628., 18687.,\n",
       "        18748., 18809., 18871.]),\n",
       " [Text(18262.0, 0, '2020-01'),\n",
       "  Text(18322.0, 0, '2020-03'),\n",
       "  Text(18383.0, 0, '2020-05'),\n",
       "  Text(18444.0, 0, '2020-07'),\n",
       "  Text(18506.0, 0, '2020-09'),\n",
       "  Text(18567.0, 0, '2020-11'),\n",
       "  Text(18628.0, 0, '2021-01'),\n",
       "  Text(18687.0, 0, '2021-03'),\n",
       "  Text(18748.0, 0, '2021-05'),\n",
       "  Text(18809.0, 0, '2021-07'),\n",
       "  Text(18871.0, 0, '2021-09')])"
      ]
     },
     "execution_count": 78,
     "metadata": {},
     "output_type": "execute_result"
    },
    {
     "data": {
      "image/png": "[encoded data removed]",
      "text/plain": [
       "<Figure size 640x480 with 1 Axes>"
      ]
     },
     "metadata": {},
     "output_type": "display_data"
    }
   ],
   "source": [
    "x = s_date.index\n",
    "y = s_date.values\n",
    "plt.plot(x,y)\n",
    "plt.title(\"서울시 일별 확진자 시각화\")\n",
    "plt.xlabel('확진일')\n",
    "plt.ylabel('확진자수')\n",
    "plt.xticks(rotation=45)\n",
    "plt.show()"
   ]
  },
  {
   "cell_type": "code",
   "execution_count": 80,
   "id": "702599b1",
   "metadata": {},
   "outputs": [
    {
     "data": {
      "text/plain": [
       "지역\n",
       "강남구     6926\n",
       "송파구     6356\n",
       "관악구     5418\n",
       "타시도     4715\n",
       "영등포구    4463\n",
       "강서구     4447\n",
       "은평구     4284\n",
       "서초구     4284\n",
       "구로구     4168\n",
       "동작구     4120\n",
       "노원구     3932\n",
       "강동구     3782\n",
       "성북구     3779\n",
       "중랑구     3729\n",
       "마포구     3726\n",
       "동대문구    3487\n",
       "광진구     3486\n",
       "양천구     3291\n",
       "성동구     2839\n",
       "용산구     2705\n",
       "서대문구    2692\n",
       "강북구     2606\n",
       "도봉구     2605\n",
       "기타      2321\n",
       "금천구     2064\n",
       "중구      1708\n",
       "종로구     1617\n",
       "Name: All, dtype: int64"
      ]
     },
     "execution_count": 80,
     "metadata": {},
     "output_type": "execute_result"
    }
   ],
   "source": [
    "# 서울시 구별 누적 확진자 비교\n",
    "s_gu = df_gu.loc['All'][:-1]\n",
    "s_gu = s_gu.sort_values(ascending=False)\n",
    "s_gu"
   ]
  },
  {
   "cell_type": "code",
   "execution_count": 167,
   "id": "447c3d8f",
   "metadata": {},
   "outputs": [
    {
     "data": {
      "text/html": [
       "<div>\n",
       "<style scoped>\n",
       "    .dataframe tbody tr th:only-of-type {\n",
       "        vertical-align: middle;\n",
       "    }\n",
       "\n",
       "    .dataframe tbody tr th {\n",
       "        vertical-align: top;\n",
       "    }\n",
       "\n",
       "    .dataframe thead th {\n",
       "        text-align: right;\n",
       "    }\n",
       "</style>\n",
       "<table border=\"1\" class=\"dataframe\">\n",
       "  <thead>\n",
       "    <tr style=\"text-align: right;\">\n",
       "      <th>지역</th>\n",
       "      <th>강남구</th>\n",
       "      <th>송파구</th>\n",
       "      <th>관악구</th>\n",
       "      <th>타시도</th>\n",
       "      <th>영등포구</th>\n",
       "      <th>강서구</th>\n",
       "      <th>은평구</th>\n",
       "      <th>서초구</th>\n",
       "      <th>구로구</th>\n",
       "      <th>동작구</th>\n",
       "      <th>...</th>\n",
       "      <th>양천구</th>\n",
       "      <th>성동구</th>\n",
       "      <th>용산구</th>\n",
       "      <th>서대문구</th>\n",
       "      <th>강북구</th>\n",
       "      <th>도봉구</th>\n",
       "      <th>기타</th>\n",
       "      <th>금천구</th>\n",
       "      <th>중구</th>\n",
       "      <th>종로구</th>\n",
       "    </tr>\n",
       "    <tr>\n",
       "      <th>확진일</th>\n",
       "      <th></th>\n",
       "      <th></th>\n",
       "      <th></th>\n",
       "      <th></th>\n",
       "      <th></th>\n",
       "      <th></th>\n",
       "      <th></th>\n",
       "      <th></th>\n",
       "      <th></th>\n",
       "      <th></th>\n",
       "      <th></th>\n",
       "      <th></th>\n",
       "      <th></th>\n",
       "      <th></th>\n",
       "      <th></th>\n",
       "      <th></th>\n",
       "      <th></th>\n",
       "      <th></th>\n",
       "      <th></th>\n",
       "      <th></th>\n",
       "      <th></th>\n",
       "    </tr>\n",
       "  </thead>\n",
       "  <tbody>\n",
       "    <tr>\n",
       "      <th>All</th>\n",
       "      <td>6926</td>\n",
       "      <td>6356</td>\n",
       "      <td>5418</td>\n",
       "      <td>4715</td>\n",
       "      <td>4463</td>\n",
       "      <td>4447</td>\n",
       "      <td>4284</td>\n",
       "      <td>4284</td>\n",
       "      <td>4168</td>\n",
       "      <td>4120</td>\n",
       "      <td>...</td>\n",
       "      <td>3291</td>\n",
       "      <td>2839</td>\n",
       "      <td>2705</td>\n",
       "      <td>2692</td>\n",
       "      <td>2606</td>\n",
       "      <td>2605</td>\n",
       "      <td>2321</td>\n",
       "      <td>2064</td>\n",
       "      <td>1708</td>\n",
       "      <td>1617</td>\n",
       "    </tr>\n",
       "  </tbody>\n",
       "</table>\n",
       "<p>1 rows × 27 columns</p>\n",
       "</div>"
      ],
      "text/plain": [
       "지역    강남구   송파구   관악구   타시도  영등포구   강서구   은평구   서초구   구로구   동작구  ...   양천구  \\\n",
       "확진일                                                              ...         \n",
       "All  6926  6356  5418  4715  4463  4447  4284  4284  4168  4120  ...  3291   \n",
       "\n",
       "지역    성동구   용산구  서대문구   강북구   도봉구    기타   금천구    중구   종로구  \n",
       "확진일                                                        \n",
       "All  2839  2705  2692  2606  2605  2321  2064  1708  1617  \n",
       "\n",
       "[1 rows x 27 columns]"
      ]
     },
     "execution_count": 167,
     "metadata": {},
     "output_type": "execute_result"
    }
   ],
   "source": [
    "s_gu3 = df_gu.loc[['All']]\n",
    "s_gu3.drop(columns='All', axis=1, inplace=True)\n",
    "s_gu3 = s_gu3.sort_values(by='All',axis=1,ascending=False)\n",
    "s_gu3"
   ]
  },
  {
   "cell_type": "code",
   "execution_count": 105,
   "id": "ff72a95f",
   "metadata": {},
   "outputs": [
    {
     "data": {
      "text/plain": [
       "<Figure size 500x400 with 0 Axes>"
      ]
     },
     "execution_count": 105,
     "metadata": {},
     "output_type": "execute_result"
    },
    {
     "data": {
      "text/plain": [
       "<BarContainer object of 27 artists>"
      ]
     },
     "execution_count": 105,
     "metadata": {},
     "output_type": "execute_result"
    },
    {
     "data": {
      "text/plain": [
       "Text(0.5, 1.0, '2021-09-28 구별 누적확진자수')"
      ]
     },
     "execution_count": 105,
     "metadata": {},
     "output_type": "execute_result"
    },
    {
     "data": {
      "image/png": "[encoded data removed]",
      "text/plain": [
       "<Figure size 500x400 with 1 Axes>"
      ]
     },
     "metadata": {},
     "output_type": "display_data"
    }
   ],
   "source": [
    "# 서울시 구별 누적확진자 많은 순 시각화\n",
    "x = s_gu.index\n",
    "y = s_gu.values\n",
    "plt.figure(figsize=(5,4))s\n",
    "plt.barh(x,y)\n",
    "plt.title('서울시 구별 누적확진자수', size=10)\n",
    "plt.show()"
   ]
  },
  {
   "cell_type": "code",
   "execution_count": 98,
   "id": "af8227c4",
   "metadata": {},
   "outputs": [
    {
     "data": {
      "text/plain": [
       "지역\n",
       "송파구     68\n",
       "동대문구    66\n",
       "기타      65\n",
       "구로구     55\n",
       "강동구     51\n",
       "관악구     48\n",
       "마포구     47\n",
       "은평구     47\n",
       "강남구     45\n",
       "타시도     43\n",
       "영등포구    43\n",
       "성북구     41\n",
       "강서구     41\n",
       "중구      37\n",
       "광진구     36\n",
       "도봉구     35\n",
       "금천구     31\n",
       "서대문구    30\n",
       "노원구     29\n",
       "동작구     28\n",
       "양천구     27\n",
       "중랑구     26\n",
       "강북구     25\n",
       "성동구     24\n",
       "용산구     24\n",
       "종로구     23\n",
       "서초구     19\n",
       "Name: 2021-09-28 00:00:00, dtype: int64"
      ]
     },
     "execution_count": 98,
     "metadata": {},
     "output_type": "execute_result"
    }
   ],
   "source": [
    "s_gu1 = df_gu.iloc[-2][:-1]\n",
    "s_gu1 = s_gu1.sort_values(ascending=False)\n",
    "s_gu1"
   ]
  },
  {
   "cell_type": "code",
   "execution_count": 106,
   "id": "76f517e8",
   "metadata": {},
   "outputs": [
    {
     "data": {
      "text/plain": [
       "<Figure size 500x400 with 0 Axes>"
      ]
     },
     "execution_count": 106,
     "metadata": {},
     "output_type": "execute_result"
    },
    {
     "data": {
      "text/plain": [
       "<BarContainer object of 27 artists>"
      ]
     },
     "execution_count": 106,
     "metadata": {},
     "output_type": "execute_result"
    },
    {
     "data": {
      "text/plain": [
       "Text(0.5, 1.0, '2021-09-28 구별 누적확진자수')"
      ]
     },
     "execution_count": 106,
     "metadata": {},
     "output_type": "execute_result"
    },
    {
     "data": {
      "image/png": "[encoded data removed]",
      "text/plain": [
       "<Figure size 500x400 with 1 Axes>"
      ]
     },
     "metadata": {},
     "output_type": "display_data"
    }
   ],
   "source": [
    "x = s_gu1.index\n",
    "y = s_gu1.values\n",
    "plt.figure(figsize=(5,4))\n",
    "plt.barh(x,y) # s_gu1.plot(kind='barh')\n",
    "plt.title('2021-09-28 구별 누적확진자수', size=10)\n",
    "plt.show()"
   ]
  },
  {
   "cell_type": "code",
   "execution_count": 107,
   "id": "bd9b3df5",
   "metadata": {},
   "outputs": [
    {
     "data": {
      "text/plain": [
       "1096"
      ]
     },
     "execution_count": 107,
     "metadata": {},
     "output_type": "execute_result"
    },
    {
     "data": {
      "text/plain": [
       "array(['감염경로 조사중', '기타 확진자 접촉', '송파구 소재 시장 관련(?21.9.)', ..., '은평성모병원',\n",
       "       '명성교회', '종로구 집단발병'], dtype=object)"
      ]
     },
     "execution_count": 107,
     "metadata": {},
     "output_type": "execute_result"
    }
   ],
   "source": [
    "# 접촉력에 따른 확진 분석\n",
    "# 접촉력에 따른 확진 건수 best10\n",
    "df['접촉력'].nunique()\n",
    "df['접촉력'].unique()"
   ]
  },
  {
   "cell_type": "code",
   "execution_count": 110,
   "id": "ea836283",
   "metadata": {},
   "outputs": [
    {
     "data": {
      "text/html": [
       "<div>\n",
       "<style scoped>\n",
       "    .dataframe tbody tr th:only-of-type {\n",
       "        vertical-align: middle;\n",
       "    }\n",
       "\n",
       "    .dataframe tbody tr th {\n",
       "        vertical-align: top;\n",
       "    }\n",
       "\n",
       "    .dataframe thead th {\n",
       "        text-align: right;\n",
       "    }\n",
       "</style>\n",
       "<table border=\"1\" class=\"dataframe\">\n",
       "  <thead>\n",
       "    <tr style=\"text-align: right;\">\n",
       "      <th></th>\n",
       "      <th>접촉력</th>\n",
       "    </tr>\n",
       "  </thead>\n",
       "  <tbody>\n",
       "    <tr>\n",
       "      <th>기타 확진자 접촉</th>\n",
       "      <td>37943</td>\n",
       "    </tr>\n",
       "    <tr>\n",
       "      <th>감염경로 조사중</th>\n",
       "      <td>31964</td>\n",
       "    </tr>\n",
       "    <tr>\n",
       "      <th>타시도 확진자 접촉</th>\n",
       "      <td>4244</td>\n",
       "    </tr>\n",
       "    <tr>\n",
       "      <th>해외유입</th>\n",
       "      <td>1729</td>\n",
       "    </tr>\n",
       "    <tr>\n",
       "      <th>동부구치소 관련</th>\n",
       "      <td>1175</td>\n",
       "    </tr>\n",
       "    <tr>\n",
       "      <th>병원 및 요양시설</th>\n",
       "      <td>988</td>\n",
       "    </tr>\n",
       "    <tr>\n",
       "      <th>송파구 소재 시장 관련(?21.9.)</th>\n",
       "      <td>659</td>\n",
       "    </tr>\n",
       "    <tr>\n",
       "      <th>성북구 사랑제일교회 관련</th>\n",
       "      <td>641</td>\n",
       "    </tr>\n",
       "    <tr>\n",
       "      <th>중구 소재 시장 관련(?21.9.)</th>\n",
       "      <td>277</td>\n",
       "    </tr>\n",
       "    <tr>\n",
       "      <th>강서구 교회 관련</th>\n",
       "      <td>246</td>\n",
       "    </tr>\n",
       "  </tbody>\n",
       "</table>\n",
       "</div>"
      ],
      "text/plain": [
       "                        접촉력\n",
       "기타 확진자 접촉             37943\n",
       "감염경로 조사중              31964\n",
       "타시도 확진자 접촉             4244\n",
       "해외유입                   1729\n",
       "동부구치소 관련               1175\n",
       "병원 및 요양시설               988\n",
       "송파구 소재 시장 관련(?21.9.)    659\n",
       "성북구 사랑제일교회 관련           641\n",
       "중구 소재 시장 관련(?21.9.)     277\n",
       "강서구 교회 관련               246"
      ]
     },
     "execution_count": 110,
     "metadata": {},
     "output_type": "execute_result"
    }
   ],
   "source": [
    "# df.info()\n",
    "df['접촉력'].value_counts()[:10].to_frame()"
   ]
  },
  {
   "cell_type": "code",
   "execution_count": 112,
   "id": "cdf1d0b0",
   "metadata": {},
   "outputs": [],
   "source": [
    "# 최근 월(2021 - 9월달만) 접촉력에 따른 확진건수 best10\n",
    "# 확진일을 연도 2021 & 9월 ['접촉력'].value_counts()[:10]\n",
    "df[조건]['접촉력'].value_counts()[:10].to_frame()"
   ]
  },
  {
   "cell_type": "code",
   "execution_count": 154,
   "id": "18e33455",
   "metadata": {},
   "outputs": [
    {
     "data": {
      "text/plain": [
       "0         True\n",
       "1         True\n",
       "2         True\n",
       "3         True\n",
       "4         True\n",
       "         ...  \n",
       "99545    False\n",
       "99546    False\n",
       "99547    False\n",
       "99548    False\n",
       "99549    False\n",
       "Name: 확진일, Length: 99550, dtype: bool"
      ]
     },
     "execution_count": 154,
     "metadata": {},
     "output_type": "execute_result"
    }
   ],
   "source": [
    "# 조건\n",
    "(df['확진일'].dt.year==2021)&(df['확진일'].dt.month==9)"
   ]
  },
  {
   "cell_type": "code",
   "execution_count": 155,
   "id": "9b7fbdc7",
   "metadata": {},
   "outputs": [
    {
     "data": {
      "text/html": [
       "<div>\n",
       "<style scoped>\n",
       "    .dataframe tbody tr th:only-of-type {\n",
       "        vertical-align: middle;\n",
       "    }\n",
       "\n",
       "    .dataframe tbody tr th {\n",
       "        vertical-align: top;\n",
       "    }\n",
       "\n",
       "    .dataframe thead th {\n",
       "        text-align: right;\n",
       "    }\n",
       "</style>\n",
       "<table border=\"1\" class=\"dataframe\">\n",
       "  <thead>\n",
       "    <tr style=\"text-align: right;\">\n",
       "      <th></th>\n",
       "      <th>접촉력</th>\n",
       "    </tr>\n",
       "  </thead>\n",
       "  <tbody>\n",
       "    <tr>\n",
       "      <th>감염경로 조사중</th>\n",
       "      <td>8117</td>\n",
       "    </tr>\n",
       "    <tr>\n",
       "      <th>기타 확진자 접촉</th>\n",
       "      <td>8088</td>\n",
       "    </tr>\n",
       "    <tr>\n",
       "      <th>송파구 소재 시장 관련(?21.9.)</th>\n",
       "      <td>658</td>\n",
       "    </tr>\n",
       "    <tr>\n",
       "      <th>타시도 확진자 접촉</th>\n",
       "      <td>587</td>\n",
       "    </tr>\n",
       "    <tr>\n",
       "      <th>중구 소재 시장 관련(?21.9.)</th>\n",
       "      <td>277</td>\n",
       "    </tr>\n",
       "    <tr>\n",
       "      <th>병원 및 요양시설</th>\n",
       "      <td>186</td>\n",
       "    </tr>\n",
       "    <tr>\n",
       "      <th>해외유입</th>\n",
       "      <td>122</td>\n",
       "    </tr>\n",
       "    <tr>\n",
       "      <th>용산구 소재 병원 관련(?21.9.)</th>\n",
       "      <td>77</td>\n",
       "    </tr>\n",
       "    <tr>\n",
       "      <th>동대문구 소재 시장 관련</th>\n",
       "      <td>44</td>\n",
       "    </tr>\n",
       "    <tr>\n",
       "      <th>강서구 소재 시장 관련</th>\n",
       "      <td>44</td>\n",
       "    </tr>\n",
       "  </tbody>\n",
       "</table>\n",
       "</div>"
      ],
      "text/plain": [
       "                       접촉력\n",
       "감염경로 조사중              8117\n",
       "기타 확진자 접촉             8088\n",
       "송파구 소재 시장 관련(?21.9.)   658\n",
       "타시도 확진자 접촉             587\n",
       "중구 소재 시장 관련(?21.9.)    277\n",
       "병원 및 요양시설              186\n",
       "해외유입                   122\n",
       "용산구 소재 병원 관련(?21.9.)    77\n",
       "동대문구 소재 시장 관련           44\n",
       "강서구 소재 시장 관련            44"
      ]
     },
     "execution_count": 155,
     "metadata": {},
     "output_type": "execute_result"
    }
   ],
   "source": [
    "df[(df['확진일'].dt.year==2021)&(df['확진일'].dt.month==9)]['접촉력'].value_counts()[:10].to_frame()"
   ]
  },
  {
   "cell_type": "code",
   "execution_count": 158,
   "id": "6565ae09",
   "metadata": {},
   "outputs": [
    {
     "data": {
      "text/plain": [
       "[<matplotlib.lines.Line2D at 0x188462dc880>]"
      ]
     },
     "execution_count": 158,
     "metadata": {},
     "output_type": "execute_result"
    },
    {
     "data": {
      "image/png": "[encoded data removed]",
      "text/plain": [
       "<Figure size 640x480 with 1 Axes>"
      ]
     },
     "metadata": {},
     "output_type": "display_data"
    }
   ],
   "source": [
    "plt.plot(s_date3)"
   ]
  },
  {
   "cell_type": "code",
   "execution_count": 173,
   "id": "be7aba2b",
   "metadata": {},
   "outputs": [
    {
     "data": {
      "text/plain": [
       "<Axes: ylabel='확진일'>"
      ]
     },
     "execution_count": 173,
     "metadata": {},
     "output_type": "execute_result"
    },
    {
     "data": {
      "image/png": "[encoded data removed]",
      "text/plain": [
       "<Figure size 640x480 with 1 Axes>"
      ]
     },
     "metadata": {},
     "output_type": "display_data"
    }
   ],
   "source": [
    "s_gu3.plot(kind='barh')"
   ]
  },
  {
   "cell_type": "code",
   "execution_count": null,
   "id": "08bef432",
   "metadata": {},
   "outputs": [],
   "source": []
  }
 ],
 "metadata": {
  "kernelspec": {
   "display_name": "Python 3 (ipykernel)",
   "language": "python",
   "name": "python3"
  },
  "language_info": {
   "codemirror_mode": {
    "name": "ipython",
    "version": 3
   },
   "file_extension": ".py",
   "mimetype": "text/x-python",
   "name": "python",
   "nbconvert_exporter": "python",
   "pygments_lexer": "ipython3",
   "version": "3.8.7"
  }
 },
 "nbformat": 4,
 "nbformat_minor": 5
}
