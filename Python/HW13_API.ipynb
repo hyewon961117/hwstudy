{
 "cells": [
  {
   "cell_type": "markdown",
   "id": "8d81e24f",
   "metadata": {},
   "source": [
    "# chatGPT \n",
    "* https://openai.com/\n",
    "* 코드 질문하면 코드 짜주는 웹사이트\n",
    "* learn about GPT-4\n",
    "* try on ChatGPT Plus"
   ]
  },
  {
   "cell_type": "markdown",
   "id": "8b3c6fc5",
   "metadata": {},
   "source": [
    "# 행안부 \n",
    "## 주소기반산업지원서비스\n",
    "* https://business.juso.go.kr/addrlink/openApi/apiReqst.do\n",
    "* API 신청하기\n",
    "* 도로명주소 공개\n",
    "* 검색API\n",
    "* 민간기관\n",
    "* 업체 - 더조은아카데미신촌\n",
    "* 시스템명 - 더조은주소개발\n",
    "* URL - https://ic.tjoeun.co.kr\n",
    "* 인터넷망, 개발(본인인증없이 발급) 90일\n",
    "* 신청하기\n",
    "* 승인키\n",
    "* 개발 ( 사용기간 : 2023-03-22 ~ 2023-06-20 )\n",
    "\n",
    "* 메뉴 API신청의 검색API\n",
    "* 가이드 및 소스 다운로드해서 확인 후 진행하기"
   ]
  },
  {
   "cell_type": "code",
   "execution_count": 18,
   "id": "85cb0e60",
   "metadata": {},
   "outputs": [],
   "source": [
    "# 기본 코드\n",
    "import pandas as pd\n",
    "import numpy as np\n",
    "import requests\n",
    "from urllib.parse import quote\n",
    "import json\n",
    "import folium\n",
    "import re"
   ]
  },
  {
   "cell_type": "code",
   "execution_count": 19,
   "id": "269ea886",
   "metadata": {},
   "outputs": [],
   "source": [
    "# # 코랩 코드 (먼저 실행 후 아래 코드 실행)\n",
    "# from google.colab import files\n",
    "# uploaded = files.upload()\n",
    "# filename = list(uploaded.keys())[0]\n",
    "# filename # 파일 선택하라고 뜨고 파일을 올려줌"
   ]
  },
  {
   "cell_type": "code",
   "execution_count": 20,
   "id": "2dde7d53",
   "metadata": {},
   "outputs": [],
   "source": [
    "filename = './APIkey/행안부API.txt'\n",
    "with open(filename) as f:\n",
    "    api_key =f.read()"
   ]
  },
  {
   "cell_type": "code",
   "execution_count": 21,
   "id": "52214671",
   "metadata": {},
   "outputs": [
    {
     "data": {
      "text/plain": [
       "43"
      ]
     },
     "execution_count": 21,
     "metadata": {},
     "output_type": "execute_result"
    }
   ],
   "source": [
    "len(api_key)"
   ]
  },
  {
   "cell_type": "code",
   "execution_count": 22,
   "id": "75889384",
   "metadata": {},
   "outputs": [],
   "source": [
    "# 인터넷으로 무언가를 보내거나 가져올때 쓰는 패키지\n",
    "import requests\n",
    "from urllib.parse import quote"
   ]
  },
  {
   "cell_type": "code",
   "execution_count": 23,
   "id": "1a9717a0",
   "metadata": {},
   "outputs": [
    {
     "data": {
      "text/plain": [
       "'%EC%84%9C%EC%9A%B8%ED%8A%B9%EB%B3%84%EC%8B%9C%EC%B2%AD'"
      ]
     },
     "execution_count": 23,
     "metadata": {},
     "output_type": "execute_result"
    }
   ],
   "source": [
    "# 네이버에서 서울특별시청을 검색해서 나온 주소 복붙\n",
    "# 쿼리다음에 서울특별시청이 뜨지만 복붙해서 가져오니 quoto 형태로 변환됨\n",
    "# https://search.naver.com/search.naver?where=nexearch&sm=top_hty&fbm=1&ie=utf8&query=%EC%84%9C%EC%9A%B8%ED%8A%B9%EB%B3%84%EC%8B%9C%EC%B2%AD\n",
    "bldg = '서울특별시청'\n",
    "quote(bldg)"
   ]
  },
  {
   "cell_type": "code",
   "execution_count": 24,
   "id": "92379a35",
   "metadata": {},
   "outputs": [],
   "source": [
    "# 예시 (10p - 샘플 데이터 보기 (json))\n",
    "# https://business.juso.go.kr/addrlink/addrLinkApi.do?currentPage=1&countPerPage=10&keyword=강남대로12길&confmKey=TESTJUSOGOKR&resultType=json\n",
    "# confmKey=TESTJUSOGOKR&resultType=json\n",
    "\n",
    "base_url = 'https://business.juso.go.kr/addrlink/addrLinkApi.do'\n",
    "params1 = f'currentPage=1&countPerPage=10&keyword={quote(\"서울특별시청\")}'\n",
    "params2 = f'confmKey={api_key}&resultType=json'\n",
    "url = f'{base_url}?{params1}&{params2}'"
   ]
  },
  {
   "cell_type": "code",
   "execution_count": 25,
   "id": "a37b430b",
   "metadata": {},
   "outputs": [],
   "source": [
    "# # 두번째 코드\n",
    "# base_url = 'https://business.juso.go.kr/addrlink/addrLinkApi.do'\n",
    "# params1 = f'currentPage=1&countPerPage=10&confmKey={api_key}'\n",
    "# params2 = f'keyword={quote(\"서울특별시청\")}&resultType=json'\n",
    "# url = f'{base_url}?{params1}&{params2}'"
   ]
  },
  {
   "cell_type": "code",
   "execution_count": 26,
   "id": "b424a8b4",
   "metadata": {
    "scrolled": true
   },
   "outputs": [
    {
     "data": {
      "text/plain": [
       "200"
      ]
     },
     "execution_count": 26,
     "metadata": {},
     "output_type": "execute_result"
    }
   ],
   "source": [
    "result = requests.get(url)\n",
    "result.status_code"
   ]
  },
  {
   "cell_type": "code",
   "execution_count": 27,
   "id": "2212b04a",
   "metadata": {},
   "outputs": [
    {
     "data": {
      "text/plain": [
       "'{\"results\":{\"common\":{\"errorMessage\":\"정상\",\"countPerPage\":\"10\",\"totalCount\":\"1\",\"errorCode\":\"0\",\"currentPage\":\"1\"},\"juso\":[{\"detBdNmList\":\"본관동,신관\",\"engAddr\":\"110 Sejong-daero, Jung-gu, Seoul\",\"rn\":\"세종대로\",\"emdNm\":\"태평로1가\",\"zipNo\":\"04524\",\"roadAddrPart2\":\"(태평로1가)\",\"emdNo\":\"02\",\"sggNm\":\"중구\",\"jibunAddr\":\"서울특별시 중구 태평로1가 31 서울특별시청\",\"siNm\":\"서울특별시\",\"roadAddrPart1\":\"서울특별시 중구 세종대로 110\",\"bdNm\":\"서울특별시청\",\"admCd\":\"1114010300\",\"udrtYn\":\"0\",\"lnbrMnnm\":\"31\",\"roadAddr\":\"서울특별시 중구 세종대로 110(태평로1가)\",\"lnbrSlno\":\"0\",\"buldMnnm\":\"110\",\"bdKdcd\":\"0\",\"liNm\":\"\",\"rnMgtSn\":\"111402005001\",\"mtYn\":\"0\",\"bdMgtSn\":\"1114010300100310000019224\",\"buldSlno\":\"0\"}]}}'"
      ]
     },
     "execution_count": 27,
     "metadata": {},
     "output_type": "execute_result"
    }
   ],
   "source": [
    "result.text"
   ]
  },
  {
   "cell_type": "code",
   "execution_count": 28,
   "id": "35fde77c",
   "metadata": {},
   "outputs": [
    {
     "data": {
      "text/plain": [
       "{'results': {'common': {'errorMessage': '정상',\n",
       "   'countPerPage': '10',\n",
       "   'totalCount': '1',\n",
       "   'errorCode': '0',\n",
       "   'currentPage': '1'},\n",
       "  'juso': [{'detBdNmList': '본관동,신관',\n",
       "    'engAddr': '110 Sejong-daero, Jung-gu, Seoul',\n",
       "    'rn': '세종대로',\n",
       "    'emdNm': '태평로1가',\n",
       "    'zipNo': '04524',\n",
       "    'roadAddrPart2': '(태평로1가)',\n",
       "    'emdNo': '02',\n",
       "    'sggNm': '중구',\n",
       "    'jibunAddr': '서울특별시 중구 태평로1가 31 서울특별시청',\n",
       "    'siNm': '서울특별시',\n",
       "    'roadAddrPart1': '서울특별시 중구 세종대로 110',\n",
       "    'bdNm': '서울특별시청',\n",
       "    'admCd': '1114010300',\n",
       "    'udrtYn': '0',\n",
       "    'lnbrMnnm': '31',\n",
       "    'roadAddr': '서울특별시 중구 세종대로 110(태평로1가)',\n",
       "    'lnbrSlno': '0',\n",
       "    'buldMnnm': '110',\n",
       "    'bdKdcd': '0',\n",
       "    'liNm': '',\n",
       "    'rnMgtSn': '111402005001',\n",
       "    'mtYn': '0',\n",
       "    'bdMgtSn': '1114010300100310000019224',\n",
       "    'buldSlno': '0'}]}}"
      ]
     },
     "execution_count": 28,
     "metadata": {},
     "output_type": "execute_result"
    }
   ],
   "source": [
    "import json\n",
    "res = json.loads(result.text)\n",
    "res"
   ]
  },
  {
   "cell_type": "code",
   "execution_count": 29,
   "id": "e76ec040",
   "metadata": {},
   "outputs": [
    {
     "data": {
      "text/plain": [
       "'서울특별시 중구 세종대로 110(태평로1가)'"
      ]
     },
     "execution_count": 29,
     "metadata": {},
     "output_type": "execute_result"
    }
   ],
   "source": [
    "road_add = res['results']['juso'][0]['roadAddr']\n",
    "road_add"
   ]
  },
  {
   "cell_type": "code",
   "execution_count": 30,
   "id": "d02807d2",
   "metadata": {},
   "outputs": [
    {
     "data": {
      "text/plain": [
       "['종로구청', '노원구청', '송파구청', '마포구청', '양천구청']"
      ]
     },
     "execution_count": 30,
     "metadata": {},
     "output_type": "execute_result"
    }
   ],
   "source": [
    "places = \"종로구청 노원구청 송파구청 마포구청 양천구청\"\n",
    "places = places.split(' ')\n",
    "places"
   ]
  },
  {
   "cell_type": "code",
   "execution_count": 31,
   "id": "73245631",
   "metadata": {},
   "outputs": [],
   "source": [
    "# 첫번째 코드\n",
    "base_url = 'https://business.juso.go.kr/addrlink/addrLinkApi.do'\n",
    "params2 = f'confmKey={api_key}&resultType=json'\n",
    "addr_list = []\n",
    "\n",
    "for i in places:\n",
    "    params1 = f'currentPage=1&countPerPage=10&keyword={quote(i)}'\n",
    "    url = f'{base_url}?{params1}&{params2}'\n",
    "    result = requests.get(url)\n",
    "    res = json.loads(result.text)\n",
    "    road_add = res['results']['juso'][0]['roadAddr']\n",
    "    addr_list.append(road_add)"
   ]
  },
  {
   "cell_type": "code",
   "execution_count": 32,
   "id": "844de689",
   "metadata": {},
   "outputs": [],
   "source": [
    "# # 두번째 코드\n",
    "# base_url = 'https://business.juso.go.kr/addrlink/addrLinkApi.do'\n",
    "# params1 = f'currentPage=1&countPerPage=10&confmKey={api_key}'\n",
    "# addr_list = []\n",
    "\n",
    "# for i in places:\n",
    "#     params2 = f'keyword={quote(i)}&resultType=json'\n",
    "#     url = f'{base_url}?{params1}&{params2}'\n",
    "#     result = requests.get(url)\n",
    "#     res = json.loads(result.text)\n",
    "#     road_add = res['results']['juso'][0]['roadAddr']\n",
    "#     addr_list.append(road_add)"
   ]
  },
  {
   "cell_type": "code",
   "execution_count": 33,
   "id": "9067d708",
   "metadata": {},
   "outputs": [
    {
     "data": {
      "text/plain": [
       "['서울특별시 종로구 종로1길 36(수송동)',\n",
       " '서울특별시 노원구 노해로 437(상계동)',\n",
       " '서울특별시 송파구 올림픽로 326(신천동)',\n",
       " '서울특별시 마포구 월드컵로 지하190(성산동)',\n",
       " '서울특별시 양천구 목동동로 105(신정동)']"
      ]
     },
     "execution_count": 33,
     "metadata": {},
     "output_type": "execute_result"
    }
   ],
   "source": [
    "addr_list"
   ]
  },
  {
   "cell_type": "code",
   "execution_count": 34,
   "id": "62fb3eb5",
   "metadata": {},
   "outputs": [],
   "source": [
    "import pandas as pd\n",
    "#데이터 프레임으로 저장\n",
    "df = pd.DataFrame({'공공기관':places, '도로명주소':addr_list})\n",
    "df.to_csv('공공기관_행안부.csv')"
   ]
  },
  {
   "cell_type": "markdown",
   "id": "11fc5740",
   "metadata": {},
   "source": [
    "### 강의 외 ###"
   ]
  },
  {
   "cell_type": "code",
   "execution_count": 35,
   "id": "779de870",
   "metadata": {},
   "outputs": [
    {
     "name": "stdout",
     "output_type": "stream",
     "text": [
      "{\"results\":{\"common\":{\"errorMessage\":\"정상\",\"countPerPage\":\"10\",\"totalCount\":\"1\",\"errorCode\":\"0\",\"currentPage\":\"1\"},\"juso\":[{\"detBdNmList\":\"본관동,신관\",\"engAddr\":\"110 Sejong-daero, Jung-gu, Seoul\",\"rn\":\"세종대로\",\"emdNm\":\"태평로1가\",\"zipNo\":\"04524\",\"roadAddrPart2\":\"(태평로1가)\",\"emdNo\":\"02\",\"sggNm\":\"중구\",\"jibunAddr\":\"서울특별시 중구 태평로1가 31 서울특별시청\",\"siNm\":\"서울특별시\",\"roadAddrPart1\":\"서울특별시 중구 세종대로 110\",\"bdNm\":\"서울특별시청\",\"admCd\":\"1114010300\",\"udrtYn\":\"0\",\"lnbrMnnm\":\"31\",\"roadAddr\":\"서울특별시 중구 세종대로 110(태평로1가)\",\"lnbrSlno\":\"0\",\"buldMnnm\":\"110\",\"bdKdcd\":\"0\",\"liNm\":\"\",\"rnMgtSn\":\"111402005001\",\"mtYn\":\"0\",\"bdMgtSn\":\"1114010300100310000019224\",\"buldSlno\":\"0\"}]}}\n",
      "{\"results\":{\"common\":{\"errorMessage\":\"정상\",\"countPerPage\":\"10\",\"totalCount\":\"1\",\"errorCode\":\"0\",\"currentPage\":\"1\"},\"juso\":[{\"detBdNmList\":\"본관동,신관\",\"engAddr\":\"110 Sejong-daero, Jung-gu, Seoul\",\"rn\":\"세종대로\",\"emdNm\":\"태평로1가\",\"zipNo\":\"04524\",\"roadAddrPart2\":\"(태평로1가)\",\"emdNo\":\"02\",\"sggNm\":\"중구\",\"jibunAddr\":\"서울특별시 중구 태평로1가 31 서울특별시청\",\"siNm\":\"서울특별시\",\"roadAddrPart1\":\"서울특별시 중구 세종대로 110\",\"bdNm\":\"서울특별시청\",\"admCd\":\"1114010300\",\"udrtYn\":\"0\",\"lnbrMnnm\":\"31\",\"roadAddr\":\"서울특별시 중구 세종대로 110(태평로1가)\",\"lnbrSlno\":\"0\",\"buldMnnm\":\"110\",\"bdKdcd\":\"0\",\"liNm\":\"\",\"rnMgtSn\":\"111402005001\",\"mtYn\":\"0\",\"bdMgtSn\":\"1114010300100310000019224\",\"buldSlno\":\"0\"}]}}\n"
     ]
    }
   ],
   "source": [
    "base_url = 'https://business.juso.go.kr/addrlink/addrLinkApi.do'\n",
    "params1 = f'currentPage=1&countPerPage=10&keyword={quote(\"서울특별시청\")}'\n",
    "params2 = f'&confmKey={api_key}&resultType=json'\n",
    "\n",
    "url1 = f'{base_url}?{params1}?{params2}'\n",
    "url2 = f'{base_url}?{params1}&{params2}'\n",
    "\n",
    "result1 = requests.get(url1)\n",
    "result1.status_code\n",
    "\n",
    "result2 = requests.get(url2)\n",
    "result2.status_code\n",
    "\n",
    "print(result1.text)\n",
    "\n",
    "print(result2.text)"
   ]
  },
  {
   "cell_type": "code",
   "execution_count": 36,
   "id": "3f000e58",
   "metadata": {},
   "outputs": [],
   "source": [
    "base_url = 'https://business.juso.go.kr/addrlink/addrLinkApi.do'\n",
    "params2 = f'confmKey={api_key}&resultType=json'\n",
    "addr_list1 = []\n",
    "\n",
    "for i in places:\n",
    "    params1 = f'currentPage=1&countPerPage=10&keyword={quote(i)}'\n",
    "    url = f'{base_url}?{params1}&{params2}' #f'{base_url}?{params1}&{params2}'\n",
    "    result = requests.get(url)\n",
    "    res = json.loads(result.text)\n",
    "    road_add = res['results']['juso'][0]['roadAddr']\n",
    "    addr_list1.append(road_add)"
   ]
  },
  {
   "cell_type": "code",
   "execution_count": 37,
   "id": "bf1ed48c",
   "metadata": {
    "scrolled": true
   },
   "outputs": [
    {
     "data": {
      "text/plain": [
       "['서울특별시 종로구 종로1길 36(수송동)',\n",
       " '서울특별시 노원구 노해로 437(상계동)',\n",
       " '서울특별시 송파구 올림픽로 326(신천동)',\n",
       " '서울특별시 마포구 월드컵로 지하190(성산동)',\n",
       " '서울특별시 양천구 목동동로 105(신정동)']"
      ]
     },
     "execution_count": 37,
     "metadata": {},
     "output_type": "execute_result"
    }
   ],
   "source": [
    "addr_list1"
   ]
  },
  {
   "cell_type": "markdown",
   "id": "5a44bbde",
   "metadata": {},
   "source": [
    "# 카카오API\n",
    "## kakao developers\n",
    "* 앱이름 / 사용자명\n",
    "* https://developers.kakao.com/console/app\n",
    "* 앱 키\n",
    "* REST API 키\n",
    "* 메인화면에서 지도/로컬 문서보기\n",
    "* 유용한 참고 정보\n",
    "* REST API 레퍼런스\n",
    "* 로컬 (ctrl+f로 찾기) - 기능 주소 검색하기\n",
    "* sample"
   ]
  },
  {
   "cell_type": "code",
   "execution_count": 48,
   "id": "82314054",
   "metadata": {},
   "outputs": [],
   "source": [
    "filename = './APIkey/카카오API.txt'\n",
    "with open(filename) as f:\n",
    "    api_key = f.read()"
   ]
  },
  {
   "cell_type": "code",
   "execution_count": 49,
   "id": "31302d3b",
   "metadata": {},
   "outputs": [
    {
     "data": {
      "text/plain": [
       "32"
      ]
     },
     "execution_count": 49,
     "metadata": {},
     "output_type": "execute_result"
    }
   ],
   "source": [
    "len(api_key)"
   ]
  },
  {
   "cell_type": "code",
   "execution_count": 50,
   "id": "cb9f59dd",
   "metadata": {},
   "outputs": [],
   "source": [
    "import requests\n",
    "from urllib.parse import quote"
   ]
  },
  {
   "cell_type": "code",
   "execution_count": 51,
   "id": "075b5533",
   "metadata": {},
   "outputs": [
    {
     "data": {
      "text/plain": [
       "'%EC%84%9C%EC%9A%B8%ED%8A%B9%EB%B3%84%EC%8B%9C%20%EC%A2%85%EB%A1%9C%EA%B5%AC%20%EC%A2%85%EB%A1%9C1%EA%B8%B8%2036%28%EC%88%98%EC%86%A1%EB%8F%99%29'"
      ]
     },
     "execution_count": 51,
     "metadata": {},
     "output_type": "execute_result"
    }
   ],
   "source": [
    "addr = '서울특별시 종로구 종로1길 36(수송동)'\n",
    "quote(addr)"
   ]
  },
  {
   "cell_type": "code",
   "execution_count": 52,
   "id": "d12cf8a6",
   "metadata": {},
   "outputs": [],
   "source": [
    "# sampel의 코드\n",
    "search_url = \"https://dapi.kakao.com/v2/local/search/address.json\"\n",
    "url = f'{search_url}?query={quote(addr)}'\n",
    "\n",
    "# \"https://dapi.kakao.com/v2/local/search/address.json\" \\\n",
    "#   -H \"Authorization: KakaoAK ${REST_API_KEY}\" \\\n",
    "#   --data-urlencode \"query=전북 삼성동 100\" "
   ]
  },
  {
   "cell_type": "code",
   "execution_count": 53,
   "id": "020bea16",
   "metadata": {},
   "outputs": [
    {
     "data": {
      "text/plain": [
       "{'documents': [{'address': {'address_name': '서울 종로구 수송동 146-12',\n",
       "    'b_code': '1111012400',\n",
       "    'h_code': '1111061500',\n",
       "    'main_address_no': '146',\n",
       "    'mountain_yn': 'N',\n",
       "    'region_1depth_name': '서울',\n",
       "    'region_2depth_name': '종로구',\n",
       "    'region_3depth_h_name': '종로1.2.3.4가동',\n",
       "    'region_3depth_name': '수송동',\n",
       "    'sub_address_no': '12',\n",
       "    'x': '126.978988255925',\n",
       "    'y': '37.5735051436739'},\n",
       "   'address_name': '서울 종로구 종로1길 36',\n",
       "   'address_type': 'ROAD_ADDR',\n",
       "   'road_address': {'address_name': '서울 종로구 종로1길 36',\n",
       "    'building_name': '종로구청',\n",
       "    'main_building_no': '36',\n",
       "    'region_1depth_name': '서울',\n",
       "    'region_2depth_name': '종로구',\n",
       "    'region_3depth_name': '수송동',\n",
       "    'road_name': '종로1길',\n",
       "    'sub_building_no': '',\n",
       "    'underground_yn': 'N',\n",
       "    'x': '126.978988255925',\n",
       "    'y': '37.5735051436739',\n",
       "    'zone_no': '03152'},\n",
       "   'x': '126.978988255925',\n",
       "   'y': '37.5735051436739'}],\n",
       " 'meta': {'is_end': True, 'pageable_count': 1, 'total_count': 1}}"
      ]
     },
     "execution_count": 53,
     "metadata": {},
     "output_type": "execute_result"
    }
   ],
   "source": [
    "# json()으로 받는 경우\n",
    "result_j = requests.get(url, headers={\"Authorization\": f'KakaoAK {api_key}'}).json()\n",
    "result_j"
   ]
  },
  {
   "cell_type": "code",
   "execution_count": 54,
   "id": "a6d3cbde",
   "metadata": {},
   "outputs": [
    {
     "data": {
      "text/plain": [
       "<Response [200]>"
      ]
     },
     "execution_count": 54,
     "metadata": {},
     "output_type": "execute_result"
    }
   ],
   "source": [
    "# json()으로 받지 않는 경우\n",
    "result_t = requests.get(url, headers={\"Authorization\": f'KakaoAK {api_key}'})\n",
    "result_t"
   ]
  },
  {
   "cell_type": "code",
   "execution_count": 55,
   "id": "b404f3e3",
   "metadata": {},
   "outputs": [
    {
     "data": {
      "text/plain": [
       "200"
      ]
     },
     "execution_count": 55,
     "metadata": {},
     "output_type": "execute_result"
    }
   ],
   "source": [
    "result_t.status_code"
   ]
  },
  {
   "cell_type": "code",
   "execution_count": 56,
   "id": "e947e5f5",
   "metadata": {},
   "outputs": [
    {
     "data": {
      "text/plain": [
       "'{\"documents\":[{\"address\":{\"address_name\":\"서울 종로구 수송동 146-12\",\"b_code\":\"1111012400\",\"h_code\":\"1111061500\",\"main_address_no\":\"146\",\"mountain_yn\":\"N\",\"region_1depth_name\":\"서울\",\"region_2depth_name\":\"종로구\",\"region_3depth_h_name\":\"종로1.2.3.4가동\",\"region_3depth_name\":\"수송동\",\"sub_address_no\":\"12\",\"x\":\"126.978988255925\",\"y\":\"37.5735051436739\"},\"address_name\":\"서울 종로구 종로1길 36\",\"address_type\":\"ROAD_ADDR\",\"road_address\":{\"address_name\":\"서울 종로구 종로1길 36\",\"building_name\":\"종로구청\",\"main_building_no\":\"36\",\"region_1depth_name\":\"서울\",\"region_2depth_name\":\"종로구\",\"region_3depth_name\":\"수송동\",\"road_name\":\"종로1길\",\"sub_building_no\":\"\",\"underground_yn\":\"N\",\"x\":\"126.978988255925\",\"y\":\"37.5735051436739\",\"zone_no\":\"03152\"},\"x\":\"126.978988255925\",\"y\":\"37.5735051436739\"}],\"meta\":{\"is_end\":true,\"pageable_count\":1,\"total_count\":1}}'"
      ]
     },
     "execution_count": 56,
     "metadata": {},
     "output_type": "execute_result"
    }
   ],
   "source": [
    "result_t.text"
   ]
  },
  {
   "cell_type": "code",
   "execution_count": 57,
   "id": "d00dc038",
   "metadata": {},
   "outputs": [
    {
     "data": {
      "text/plain": [
       "{'documents': [{'address': {'address_name': '서울 종로구 수송동 146-12',\n",
       "    'b_code': '1111012400',\n",
       "    'h_code': '1111061500',\n",
       "    'main_address_no': '146',\n",
       "    'mountain_yn': 'N',\n",
       "    'region_1depth_name': '서울',\n",
       "    'region_2depth_name': '종로구',\n",
       "    'region_3depth_h_name': '종로1.2.3.4가동',\n",
       "    'region_3depth_name': '수송동',\n",
       "    'sub_address_no': '12',\n",
       "    'x': '126.978988255925',\n",
       "    'y': '37.5735051436739'},\n",
       "   'address_name': '서울 종로구 종로1길 36',\n",
       "   'address_type': 'ROAD_ADDR',\n",
       "   'road_address': {'address_name': '서울 종로구 종로1길 36',\n",
       "    'building_name': '종로구청',\n",
       "    'main_building_no': '36',\n",
       "    'region_1depth_name': '서울',\n",
       "    'region_2depth_name': '종로구',\n",
       "    'region_3depth_name': '수송동',\n",
       "    'road_name': '종로1길',\n",
       "    'sub_building_no': '',\n",
       "    'underground_yn': 'N',\n",
       "    'x': '126.978988255925',\n",
       "    'y': '37.5735051436739',\n",
       "    'zone_no': '03152'},\n",
       "   'x': '126.978988255925',\n",
       "   'y': '37.5735051436739'}],\n",
       " 'meta': {'is_end': True, 'pageable_count': 1, 'total_count': 1}}"
      ]
     },
     "execution_count": 57,
     "metadata": {},
     "output_type": "execute_result"
    }
   ],
   "source": [
    "# 텍스트에서 json으로 변환\n",
    "import json\n",
    "res = json.loads(result_t.text)\n",
    "res"
   ]
  },
  {
   "cell_type": "code",
   "execution_count": 58,
   "id": "ad341d70",
   "metadata": {},
   "outputs": [
    {
     "data": {
      "text/plain": [
       "dict_keys(['documents', 'meta'])"
      ]
     },
     "execution_count": 58,
     "metadata": {},
     "output_type": "execute_result"
    }
   ],
   "source": [
    "res.keys()"
   ]
  },
  {
   "cell_type": "code",
   "execution_count": 59,
   "id": "de6bf176",
   "metadata": {},
   "outputs": [
    {
     "name": "stdout",
     "output_type": "stream",
     "text": [
      "126.978988255925\n",
      "37.5735051436739\n"
     ]
    }
   ],
   "source": [
    "print(res['documents'][0]['x'])\n",
    "print(res['documents'][0]['y'])"
   ]
  },
  {
   "cell_type": "code",
   "execution_count": 60,
   "id": "d36870c1",
   "metadata": {},
   "outputs": [
    {
     "data": {
      "text/plain": [
       "(126.978988255925, 37.5735051436739)"
      ]
     },
     "execution_count": 60,
     "metadata": {},
     "output_type": "execute_result"
    }
   ],
   "source": [
    "lng = float(res['documents'][0]['x'])\n",
    "lat = float(res['documents'][0]['y'])\n",
    "lng, lat"
   ]
  },
  {
   "cell_type": "code",
   "execution_count": 61,
   "id": "5cd8f568",
   "metadata": {},
   "outputs": [
    {
     "data": {
      "text/html": [
       "<div>\n",
       "<style scoped>\n",
       "    .dataframe tbody tr th:only-of-type {\n",
       "        vertical-align: middle;\n",
       "    }\n",
       "\n",
       "    .dataframe tbody tr th {\n",
       "        vertical-align: top;\n",
       "    }\n",
       "\n",
       "    .dataframe thead th {\n",
       "        text-align: right;\n",
       "    }\n",
       "</style>\n",
       "<table border=\"1\" class=\"dataframe\">\n",
       "  <thead>\n",
       "    <tr style=\"text-align: right;\">\n",
       "      <th></th>\n",
       "      <th>공공기관</th>\n",
       "      <th>도로명주소</th>\n",
       "    </tr>\n",
       "  </thead>\n",
       "  <tbody>\n",
       "    <tr>\n",
       "      <th>0</th>\n",
       "      <td>종로구청</td>\n",
       "      <td>서울특별시 종로구 종로1길 36(수송동)</td>\n",
       "    </tr>\n",
       "    <tr>\n",
       "      <th>1</th>\n",
       "      <td>노원구청</td>\n",
       "      <td>서울특별시 노원구 노해로 437(상계동)</td>\n",
       "    </tr>\n",
       "    <tr>\n",
       "      <th>2</th>\n",
       "      <td>송파구청</td>\n",
       "      <td>서울특별시 송파구 올림픽로 326(신천동)</td>\n",
       "    </tr>\n",
       "    <tr>\n",
       "      <th>3</th>\n",
       "      <td>마포구청</td>\n",
       "      <td>서울특별시 마포구 월드컵로 지하190(성산동)</td>\n",
       "    </tr>\n",
       "    <tr>\n",
       "      <th>4</th>\n",
       "      <td>양천구청</td>\n",
       "      <td>서울특별시 양천구 목동동로 105(신정동)</td>\n",
       "    </tr>\n",
       "  </tbody>\n",
       "</table>\n",
       "</div>"
      ],
      "text/plain": [
       "   공공기관                      도로명주소\n",
       "0  종로구청     서울특별시 종로구 종로1길 36(수송동)\n",
       "1  노원구청     서울특별시 노원구 노해로 437(상계동)\n",
       "2  송파구청    서울특별시 송파구 올림픽로 326(신천동)\n",
       "3  마포구청  서울특별시 마포구 월드컵로 지하190(성산동)\n",
       "4  양천구청    서울특별시 양천구 목동동로 105(신정동)"
      ]
     },
     "execution_count": 61,
     "metadata": {},
     "output_type": "execute_result"
    }
   ],
   "source": [
    "df = pd.read_csv(\"./data1/공공기관.csv\")\n",
    "df"
   ]
  },
  {
   "cell_type": "code",
   "execution_count": 62,
   "id": "ce7c0453",
   "metadata": {},
   "outputs": [],
   "source": [
    "lat_list = []\n",
    "lng_list = []\n",
    "\n",
    "for i in df.index :\n",
    "    search_url = \"https://dapi.kakao.com/v2/local/search/address.json\"\n",
    "    url = f'{search_url}?query={quote(df.도로명주소[i])}'\n",
    "    result = requests.get(url, \n",
    "                          headers={\"Authorization\": f'KakaoAK {api_key}'}).json()\n",
    "    lng = float(result['documents'][0]['x'])\n",
    "    lat = float(result['documents'][0]['y'])\n",
    "    lat_list.append(lat)\n",
    "    lng_list.append(lng)"
   ]
  },
  {
   "cell_type": "code",
   "execution_count": 63,
   "id": "8052b844",
   "metadata": {},
   "outputs": [],
   "source": [
    "df['위도'] = lat_list\n",
    "df['경도'] = lng_list\n",
    "df.to_csv('공공기관2.csv', index=False) # 인덱스를 생성하지 않음"
   ]
  },
  {
   "cell_type": "code",
   "execution_count": 64,
   "id": "01e25796",
   "metadata": {},
   "outputs": [
    {
     "data": {
      "text/html": [
       "<div>\n",
       "<style scoped>\n",
       "    .dataframe tbody tr th:only-of-type {\n",
       "        vertical-align: middle;\n",
       "    }\n",
       "\n",
       "    .dataframe tbody tr th {\n",
       "        vertical-align: top;\n",
       "    }\n",
       "\n",
       "    .dataframe thead th {\n",
       "        text-align: right;\n",
       "    }\n",
       "</style>\n",
       "<table border=\"1\" class=\"dataframe\">\n",
       "  <thead>\n",
       "    <tr style=\"text-align: right;\">\n",
       "      <th></th>\n",
       "      <th>공공기관</th>\n",
       "      <th>도로명주소</th>\n",
       "      <th>위도</th>\n",
       "      <th>경도</th>\n",
       "    </tr>\n",
       "  </thead>\n",
       "  <tbody>\n",
       "    <tr>\n",
       "      <th>0</th>\n",
       "      <td>종로구청</td>\n",
       "      <td>서울특별시 종로구 종로1길 36(수송동)</td>\n",
       "      <td>37.573505</td>\n",
       "      <td>126.978988</td>\n",
       "    </tr>\n",
       "    <tr>\n",
       "      <th>1</th>\n",
       "      <td>노원구청</td>\n",
       "      <td>서울특별시 노원구 노해로 437(상계동)</td>\n",
       "      <td>37.654523</td>\n",
       "      <td>127.056268</td>\n",
       "    </tr>\n",
       "    <tr>\n",
       "      <th>2</th>\n",
       "      <td>송파구청</td>\n",
       "      <td>서울특별시 송파구 올림픽로 326(신천동)</td>\n",
       "      <td>37.514477</td>\n",
       "      <td>127.105860</td>\n",
       "    </tr>\n",
       "    <tr>\n",
       "      <th>3</th>\n",
       "      <td>마포구청</td>\n",
       "      <td>서울특별시 마포구 월드컵로 지하190(성산동)</td>\n",
       "      <td>37.563426</td>\n",
       "      <td>126.903357</td>\n",
       "    </tr>\n",
       "    <tr>\n",
       "      <th>4</th>\n",
       "      <td>양천구청</td>\n",
       "      <td>서울특별시 양천구 목동동로 105(신정동)</td>\n",
       "      <td>37.517075</td>\n",
       "      <td>126.866543</td>\n",
       "    </tr>\n",
       "  </tbody>\n",
       "</table>\n",
       "</div>"
      ],
      "text/plain": [
       "   공공기관                      도로명주소         위도          경도\n",
       "0  종로구청     서울특별시 종로구 종로1길 36(수송동)  37.573505  126.978988\n",
       "1  노원구청     서울특별시 노원구 노해로 437(상계동)  37.654523  127.056268\n",
       "2  송파구청    서울특별시 송파구 올림픽로 326(신천동)  37.514477  127.105860\n",
       "3  마포구청  서울특별시 마포구 월드컵로 지하190(성산동)  37.563426  126.903357\n",
       "4  양천구청    서울특별시 양천구 목동동로 105(신정동)  37.517075  126.866543"
      ]
     },
     "execution_count": 64,
     "metadata": {},
     "output_type": "execute_result"
    }
   ],
   "source": [
    "df"
   ]
  },
  {
   "cell_type": "code",
   "execution_count": 65,
   "id": "3fadf65e",
   "metadata": {},
   "outputs": [],
   "source": [
    "import folium"
   ]
  },
  {
   "cell_type": "code",
   "execution_count": 66,
   "id": "46efed3f",
   "metadata": {},
   "outputs": [
    {
     "data": {
      "text/html": [
       "<div style=\"width:100%;\"><div style=\"position:relative;width:100%;height:0;padding-bottom:60%;\"><span style=\"color:#565656\">Make this Notebook Trusted to load map: File -> Trust Notebook</span><iframe srcdoc=\"&lt;!DOCTYPE html&gt;\n",
       "&lt;html&gt;\n",
       "&lt;head&gt;\n",
       "    \n",
       "    &lt;meta http-equiv=&quot;content-type&quot; content=&quot;text/html; charset=UTF-8&quot; /&gt;\n",
       "    \n",
       "        &lt;script&gt;\n",
       "            L_NO_TOUCH = false;\n",
       "            L_DISABLE_3D = false;\n",
       "        &lt;/script&gt;\n",
       "    \n",
       "    &lt;style&gt;html, body {width: 100%;height: 100%;margin: 0;padding: 0;}&lt;/style&gt;\n",
       "    &lt;style&gt;#map {position:absolute;top:0;bottom:0;right:0;left:0;}&lt;/style&gt;\n",
       "    &lt;script src=&quot;https://cdn.jsdelivr.net/npm/leaflet@1.9.3/dist/leaflet.js&quot;&gt;&lt;/script&gt;\n",
       "    &lt;script src=&quot;https://code.jquery.com/jquery-1.12.4.min.js&quot;&gt;&lt;/script&gt;\n",
       "    &lt;script src=&quot;https://cdn.jsdelivr.net/npm/bootstrap@5.2.2/dist/js/bootstrap.bundle.min.js&quot;&gt;&lt;/script&gt;\n",
       "    &lt;script src=&quot;https://cdnjs.cloudflare.com/ajax/libs/Leaflet.awesome-markers/2.0.2/leaflet.awesome-markers.js&quot;&gt;&lt;/script&gt;\n",
       "    &lt;link rel=&quot;stylesheet&quot; href=&quot;https://cdn.jsdelivr.net/npm/leaflet@1.9.3/dist/leaflet.css&quot;/&gt;\n",
       "    &lt;link rel=&quot;stylesheet&quot; href=&quot;https://cdn.jsdelivr.net/npm/bootstrap@5.2.2/dist/css/bootstrap.min.css&quot;/&gt;\n",
       "    &lt;link rel=&quot;stylesheet&quot; href=&quot;https://netdna.bootstrapcdn.com/bootstrap/3.0.0/css/bootstrap.min.css&quot;/&gt;\n",
       "    &lt;link rel=&quot;stylesheet&quot; href=&quot;https://cdn.jsdelivr.net/npm/@fortawesome/fontawesome-free@6.2.0/css/all.min.css&quot;/&gt;\n",
       "    &lt;link rel=&quot;stylesheet&quot; href=&quot;https://cdnjs.cloudflare.com/ajax/libs/Leaflet.awesome-markers/2.0.2/leaflet.awesome-markers.css&quot;/&gt;\n",
       "    &lt;link rel=&quot;stylesheet&quot; href=&quot;https://cdn.jsdelivr.net/gh/python-visualization/folium/folium/templates/leaflet.awesome.rotate.min.css&quot;/&gt;\n",
       "    \n",
       "            &lt;meta name=&quot;viewport&quot; content=&quot;width=device-width,\n",
       "                initial-scale=1.0, maximum-scale=1.0, user-scalable=no&quot; /&gt;\n",
       "            &lt;style&gt;\n",
       "                #map_ff90a0e386ed1f436f63b49b9f37aa59 {\n",
       "                    position: relative;\n",
       "                    width: 100.0%;\n",
       "                    height: 100.0%;\n",
       "                    left: 0.0%;\n",
       "                    top: 0.0%;\n",
       "                }\n",
       "                .leaflet-container { font-size: 1rem; }\n",
       "            &lt;/style&gt;\n",
       "        \n",
       "&lt;/head&gt;\n",
       "&lt;body&gt;\n",
       "    \n",
       "    &lt;h3 align=&quot;center&quot; style=&quot;font-size:20&quot;&gt; 서울시 구청 &lt;/h3&gt;\n",
       "    \n",
       "            &lt;div class=&quot;folium-map&quot; id=&quot;map_ff90a0e386ed1f436f63b49b9f37aa59&quot; &gt;&lt;/div&gt;\n",
       "        \n",
       "&lt;/body&gt;\n",
       "&lt;script&gt;\n",
       "    \n",
       "    \n",
       "            var map_ff90a0e386ed1f436f63b49b9f37aa59 = L.map(\n",
       "                &quot;map_ff90a0e386ed1f436f63b49b9f37aa59&quot;,\n",
       "                {\n",
       "                    center: [37.56460137149641, 126.98220321478],\n",
       "                    crs: L.CRS.EPSG3857,\n",
       "                    zoom: 12,\n",
       "                    zoomControl: true,\n",
       "                    preferCanvas: false,\n",
       "                }\n",
       "            );\n",
       "\n",
       "            \n",
       "\n",
       "        \n",
       "    \n",
       "            var tile_layer_878534957805443c088ef0eecb0d1183 = L.tileLayer(\n",
       "                &quot;https://{s}.tile.openstreetmap.org/{z}/{x}/{y}.png&quot;,\n",
       "                {&quot;attribution&quot;: &quot;Data by \\u0026copy; \\u003ca target=\\&quot;_blank\\&quot; href=\\&quot;http://openstreetmap.org\\&quot;\\u003eOpenStreetMap\\u003c/a\\u003e, under \\u003ca target=\\&quot;_blank\\&quot; href=\\&quot;http://www.openstreetmap.org/copyright\\&quot;\\u003eODbL\\u003c/a\\u003e.&quot;, &quot;detectRetina&quot;: false, &quot;maxNativeZoom&quot;: 18, &quot;maxZoom&quot;: 18, &quot;minZoom&quot;: 0, &quot;noWrap&quot;: false, &quot;opacity&quot;: 1, &quot;subdomains&quot;: &quot;abc&quot;, &quot;tms&quot;: false}\n",
       "            ).addTo(map_ff90a0e386ed1f436f63b49b9f37aa59);\n",
       "        \n",
       "    \n",
       "            var circle_fbb60d4e773211fb5ae2b6758765a899 = L.circle(\n",
       "                [37.5735051436739, 126.978988255925],\n",
       "                {&quot;bubblingMouseEvents&quot;: true, &quot;color&quot;: &quot;red&quot;, &quot;dashArray&quot;: null, &quot;dashOffset&quot;: null, &quot;fill&quot;: true, &quot;fillColor&quot;: &quot;#3186cc&quot;, &quot;fillOpacity&quot;: 0.2, &quot;fillRule&quot;: &quot;evenodd&quot;, &quot;lineCap&quot;: &quot;round&quot;, &quot;lineJoin&quot;: &quot;round&quot;, &quot;opacity&quot;: 1.0, &quot;radius&quot;: 300, &quot;stroke&quot;: true, &quot;weight&quot;: 3}\n",
       "            ).addTo(map_ff90a0e386ed1f436f63b49b9f37aa59);\n",
       "        \n",
       "    \n",
       "        var popup_6a4b94da3fa5285192c95fa33268388d = L.popup({&quot;maxWidth&quot;: 200});\n",
       "\n",
       "        \n",
       "            \n",
       "                var html_57751bc081f4021cf2a96bf329f348e4 = $(`&lt;div id=&quot;html_57751bc081f4021cf2a96bf329f348e4&quot; style=&quot;width: 100.0%; height: 100.0%;&quot;&gt;서울특별시 종로구 종로1길 36(수송동)&lt;/div&gt;`)[0];\n",
       "                popup_6a4b94da3fa5285192c95fa33268388d.setContent(html_57751bc081f4021cf2a96bf329f348e4);\n",
       "            \n",
       "        \n",
       "\n",
       "        circle_fbb60d4e773211fb5ae2b6758765a899.bindPopup(popup_6a4b94da3fa5285192c95fa33268388d)\n",
       "        ;\n",
       "\n",
       "        \n",
       "    \n",
       "    \n",
       "            circle_fbb60d4e773211fb5ae2b6758765a899.bindTooltip(\n",
       "                `&lt;div&gt;\n",
       "                     종로구청\n",
       "                 &lt;/div&gt;`,\n",
       "                {&quot;sticky&quot;: true}\n",
       "            );\n",
       "        \n",
       "    \n",
       "            var circle_762b0e1942c8af28c4f029849e857aae = L.circle(\n",
       "                [37.6545228397157, 127.056268317802],\n",
       "                {&quot;bubblingMouseEvents&quot;: true, &quot;color&quot;: &quot;red&quot;, &quot;dashArray&quot;: null, &quot;dashOffset&quot;: null, &quot;fill&quot;: true, &quot;fillColor&quot;: &quot;#3186cc&quot;, &quot;fillOpacity&quot;: 0.2, &quot;fillRule&quot;: &quot;evenodd&quot;, &quot;lineCap&quot;: &quot;round&quot;, &quot;lineJoin&quot;: &quot;round&quot;, &quot;opacity&quot;: 1.0, &quot;radius&quot;: 300, &quot;stroke&quot;: true, &quot;weight&quot;: 3}\n",
       "            ).addTo(map_ff90a0e386ed1f436f63b49b9f37aa59);\n",
       "        \n",
       "    \n",
       "        var popup_e1557f11b43ded27d5427526acc9714b = L.popup({&quot;maxWidth&quot;: 200});\n",
       "\n",
       "        \n",
       "            \n",
       "                var html_928fb945cb6cd2cc7f1b90e11f723f3b = $(`&lt;div id=&quot;html_928fb945cb6cd2cc7f1b90e11f723f3b&quot; style=&quot;width: 100.0%; height: 100.0%;&quot;&gt;서울특별시 노원구 노해로 437(상계동)&lt;/div&gt;`)[0];\n",
       "                popup_e1557f11b43ded27d5427526acc9714b.setContent(html_928fb945cb6cd2cc7f1b90e11f723f3b);\n",
       "            \n",
       "        \n",
       "\n",
       "        circle_762b0e1942c8af28c4f029849e857aae.bindPopup(popup_e1557f11b43ded27d5427526acc9714b)\n",
       "        ;\n",
       "\n",
       "        \n",
       "    \n",
       "    \n",
       "            circle_762b0e1942c8af28c4f029849e857aae.bindTooltip(\n",
       "                `&lt;div&gt;\n",
       "                     노원구청\n",
       "                 &lt;/div&gt;`,\n",
       "                {&quot;sticky&quot;: true}\n",
       "            );\n",
       "        \n",
       "    \n",
       "            var circle_472645106ba609a5ea08a4d2d2fbdf39 = L.circle(\n",
       "                [37.514477182474, 127.105859984389],\n",
       "                {&quot;bubblingMouseEvents&quot;: true, &quot;color&quot;: &quot;red&quot;, &quot;dashArray&quot;: null, &quot;dashOffset&quot;: null, &quot;fill&quot;: true, &quot;fillColor&quot;: &quot;#3186cc&quot;, &quot;fillOpacity&quot;: 0.2, &quot;fillRule&quot;: &quot;evenodd&quot;, &quot;lineCap&quot;: &quot;round&quot;, &quot;lineJoin&quot;: &quot;round&quot;, &quot;opacity&quot;: 1.0, &quot;radius&quot;: 300, &quot;stroke&quot;: true, &quot;weight&quot;: 3}\n",
       "            ).addTo(map_ff90a0e386ed1f436f63b49b9f37aa59);\n",
       "        \n",
       "    \n",
       "        var popup_f9ff3e2d0f5c2b47395813e04c473364 = L.popup({&quot;maxWidth&quot;: 200});\n",
       "\n",
       "        \n",
       "            \n",
       "                var html_8ca4be031afda7661d56b6a623a1a87b = $(`&lt;div id=&quot;html_8ca4be031afda7661d56b6a623a1a87b&quot; style=&quot;width: 100.0%; height: 100.0%;&quot;&gt;서울특별시 송파구 올림픽로 326(신천동)&lt;/div&gt;`)[0];\n",
       "                popup_f9ff3e2d0f5c2b47395813e04c473364.setContent(html_8ca4be031afda7661d56b6a623a1a87b);\n",
       "            \n",
       "        \n",
       "\n",
       "        circle_472645106ba609a5ea08a4d2d2fbdf39.bindPopup(popup_f9ff3e2d0f5c2b47395813e04c473364)\n",
       "        ;\n",
       "\n",
       "        \n",
       "    \n",
       "    \n",
       "            circle_472645106ba609a5ea08a4d2d2fbdf39.bindTooltip(\n",
       "                `&lt;div&gt;\n",
       "                     송파구청\n",
       "                 &lt;/div&gt;`,\n",
       "                {&quot;sticky&quot;: true}\n",
       "            );\n",
       "        \n",
       "    \n",
       "            var circle_1a5f7f0025ca1b8594d30f05d10b7a7f = L.circle(\n",
       "                [37.5634263131969, 126.903356973848],\n",
       "                {&quot;bubblingMouseEvents&quot;: true, &quot;color&quot;: &quot;red&quot;, &quot;dashArray&quot;: null, &quot;dashOffset&quot;: null, &quot;fill&quot;: true, &quot;fillColor&quot;: &quot;#3186cc&quot;, &quot;fillOpacity&quot;: 0.2, &quot;fillRule&quot;: &quot;evenodd&quot;, &quot;lineCap&quot;: &quot;round&quot;, &quot;lineJoin&quot;: &quot;round&quot;, &quot;opacity&quot;: 1.0, &quot;radius&quot;: 300, &quot;stroke&quot;: true, &quot;weight&quot;: 3}\n",
       "            ).addTo(map_ff90a0e386ed1f436f63b49b9f37aa59);\n",
       "        \n",
       "    \n",
       "        var popup_a3d1d772b08d2c0c5793d65162300028 = L.popup({&quot;maxWidth&quot;: 200});\n",
       "\n",
       "        \n",
       "            \n",
       "                var html_8ae676adc67eb0038b0abaf4debcefe0 = $(`&lt;div id=&quot;html_8ae676adc67eb0038b0abaf4debcefe0&quot; style=&quot;width: 100.0%; height: 100.0%;&quot;&gt;서울특별시 마포구 월드컵로 지하190(성산동)&lt;/div&gt;`)[0];\n",
       "                popup_a3d1d772b08d2c0c5793d65162300028.setContent(html_8ae676adc67eb0038b0abaf4debcefe0);\n",
       "            \n",
       "        \n",
       "\n",
       "        circle_1a5f7f0025ca1b8594d30f05d10b7a7f.bindPopup(popup_a3d1d772b08d2c0c5793d65162300028)\n",
       "        ;\n",
       "\n",
       "        \n",
       "    \n",
       "    \n",
       "            circle_1a5f7f0025ca1b8594d30f05d10b7a7f.bindTooltip(\n",
       "                `&lt;div&gt;\n",
       "                     마포구청\n",
       "                 &lt;/div&gt;`,\n",
       "                {&quot;sticky&quot;: true}\n",
       "            );\n",
       "        \n",
       "    \n",
       "            var circle_f48d91e82940f2ca5935ac50a742c521 = L.circle(\n",
       "                [37.5170753784215, 126.866542541936],\n",
       "                {&quot;bubblingMouseEvents&quot;: true, &quot;color&quot;: &quot;red&quot;, &quot;dashArray&quot;: null, &quot;dashOffset&quot;: null, &quot;fill&quot;: true, &quot;fillColor&quot;: &quot;#3186cc&quot;, &quot;fillOpacity&quot;: 0.2, &quot;fillRule&quot;: &quot;evenodd&quot;, &quot;lineCap&quot;: &quot;round&quot;, &quot;lineJoin&quot;: &quot;round&quot;, &quot;opacity&quot;: 1.0, &quot;radius&quot;: 300, &quot;stroke&quot;: true, &quot;weight&quot;: 3}\n",
       "            ).addTo(map_ff90a0e386ed1f436f63b49b9f37aa59);\n",
       "        \n",
       "    \n",
       "        var popup_041be4e345c822bcdd5ee3d32cb227aa = L.popup({&quot;maxWidth&quot;: 200});\n",
       "\n",
       "        \n",
       "            \n",
       "                var html_3eb4911f3a77aa044a88002476847c46 = $(`&lt;div id=&quot;html_3eb4911f3a77aa044a88002476847c46&quot; style=&quot;width: 100.0%; height: 100.0%;&quot;&gt;서울특별시 양천구 목동동로 105(신정동)&lt;/div&gt;`)[0];\n",
       "                popup_041be4e345c822bcdd5ee3d32cb227aa.setContent(html_3eb4911f3a77aa044a88002476847c46);\n",
       "            \n",
       "        \n",
       "\n",
       "        circle_f48d91e82940f2ca5935ac50a742c521.bindPopup(popup_041be4e345c822bcdd5ee3d32cb227aa)\n",
       "        ;\n",
       "\n",
       "        \n",
       "    \n",
       "    \n",
       "            circle_f48d91e82940f2ca5935ac50a742c521.bindTooltip(\n",
       "                `&lt;div&gt;\n",
       "                     양천구청\n",
       "                 &lt;/div&gt;`,\n",
       "                {&quot;sticky&quot;: true}\n",
       "            );\n",
       "        \n",
       "&lt;/script&gt;\n",
       "&lt;/html&gt;\" style=\"position:absolute;width:100%;height:100%;left:0;top:0;border:none !important;\" allowfullscreen webkitallowfullscreen mozallowfullscreen></iframe></div></div>"
      ],
      "text/plain": [
       "<folium.folium.Map at 0x26d3f459670>"
      ]
     },
     "execution_count": 66,
     "metadata": {},
     "output_type": "execute_result"
    }
   ],
   "source": [
    "map = folium.Map(location = [df['위도'].mean(), df['경도'].mean()], zoom_start=12)\n",
    "\n",
    "for i in df.index :\n",
    "    folium.Circle(radius=300,\n",
    "                  location = [df['위도'][i], df['경도'][i]],\n",
    "                  popup = folium.Popup(df['도로명주소'][i], max_width=200),\n",
    "                  tooltip = df['공공기관'][i],\n",
    "                  color = 'red',\n",
    "                  fill = True,\n",
    "                  fill_color = '#3186cc').add_to(map)\n",
    "title = '<h3 align=\"center\" style=\"font-size:20\"> 서울시 구청 </h3>'\n",
    "map.get_root().html.add_child(folium.Element(title))\n",
    "map"
   ]
  }
 ],
 "metadata": {
  "kernelspec": {
   "display_name": "Python 3 (ipykernel)",
   "language": "python",
   "name": "python3"
  },
  "language_info": {
   "codemirror_mode": {
    "name": "ipython",
    "version": 3
   },
   "file_extension": ".py",
   "mimetype": "text/x-python",
   "name": "python",
   "nbconvert_exporter": "python",
   "pygments_lexer": "ipython3",
   "version": "3.8.7"
  }
 },
 "nbformat": 4,
 "nbformat_minor": 5
}
