{
 "cells": [
  {
   "cell_type": "code",
   "execution_count": 1,
   "id": "7c9608e4",
   "metadata": {},
   "outputs": [],
   "source": [
    "# 위키독스 교재\n",
    "# https://wikidocs.net/book/4223\n",
    "# 깃허브\n",
    "# https://github.com/pahkey?tab=repositories"
   ]
  },
  {
   "cell_type": "code",
   "execution_count": 2,
   "id": "974e013b",
   "metadata": {},
   "outputs": [],
   "source": [
    "# FLASK와 비슷함"
   ]
  },
  {
   "cell_type": "markdown",
   "id": "62f893e8",
   "metadata": {},
   "source": [
    "### 가상환경 사용"
   ]
  },
  {
   "cell_type": "code",
   "execution_count": 5,
   "id": "dc057c57",
   "metadata": {},
   "outputs": [],
   "source": [
    "# 가상환경 만들기 cmd창 진행\n",
    "# cd\\ 으로 c드라이브로 가기\n",
    "# 디렉토리 만들기 mkdir venvs\n",
    "# cd venvs\n",
    "\n",
    "# 가상환경 만들기\n",
    "# 명령에서 python -m venv는 파이썬 모듈 중 venv라는 모듈을 사용한다는 의미다. \n",
    "# 그 뒤의 mysite는 여러분이 생성할 가상 환경의 이름\n",
    "# python -m venv mysite\n",
    "\n",
    "# cmd창에서 그냥 python 쳐서 파이썬 실행하면 가상환경이 아님\n",
    "# cd mysite\n",
    "# cd Scripts\n",
    "# dir\n",
    "# activate # 입력하면 가상환경으로 진입"
   ]
  },
  {
   "cell_type": "markdown",
   "id": "8870ff90",
   "metadata": {},
   "source": [
    "### 장고 설치"
   ]
  },
  {
   "cell_type": "code",
   "execution_count": 6,
   "id": "94a69952",
   "metadata": {},
   "outputs": [],
   "source": [
    "# 가상화면에 진입한 후 실행해야함\n",
    "# 장고라는 패키지를 설치\n",
    "# pip install django==3.1.3\n",
    "# python.exe -m pip install --upgrade pip\n",
    "# cld\n",
    "\n",
    "# 파이참에서 가상환경 확인\n",
    "# settings - python Interpreter - add - existing - scipts python.exe\n",
    "# settings - python Interpreter 여기서 다시 가상화면 선택\n",
    "# cmd창말고 파이참에서 Django 깔아도됨"
   ]
  },
  {
   "cell_type": "markdown",
   "id": "275e72f9",
   "metadata": {},
   "source": [
    "### 장고 프로젝트 생성"
   ]
  },
  {
   "cell_type": "code",
   "execution_count": 9,
   "id": "2a26342e",
   "metadata": {},
   "outputs": [],
   "source": [
    "# cmd창 진행\n",
    "# cd\\ 으로 c드라이브로 가기\n",
    "# 디렉토리 만들기 mkdir projects\n",
    "# 한번에 가상환경 가기 \n",
    "# c:\\venvs\\mysite\\Scripts\\activate\n",
    "# mkdir mysite # 프로젝트 폴더안에 mysite폴더 생성\n",
    "# cd mysite\n",
    "# 다음 명령어로 장고 프로젝트를 생성\n",
    "# django-admin startproject config . # manage.py 파일이 만들어짐"
   ]
  },
  {
   "cell_type": "markdown",
   "id": "2ec777fb",
   "metadata": {},
   "source": [
    "### 개발 서버 구동하고 웹사이트 접속"
   ]
  },
  {
   "cell_type": "code",
   "execution_count": null,
   "id": "83ae5b5f",
   "metadata": {},
   "outputs": [],
   "source": [
    "# python manage.py runserver\n",
    "# 장고 서버가 http://127.0.0.1:8000/ 로 시작되었다는 것과 \n",
    "# 서버를 중지하기 위해서는 CONTROL-C를 입력하라는 내용이다.\n",
    "# 크롬창에 주소 입력 http://127.0.0.1:8000/\n",
    "# 이렇게 실행되는 장고 서버 : 로컬 서버 또는 개발 서버\n",
    "\n",
    "# 웹사이트는 끄더라도 장고는 종료하지않아 계속 다시 들어갈 수 있음\n",
    "# 종료는 ctrl+c 여러번 누르면 됨\n",
    "# 가상환경 종료는 c:\\venvs\\mysite\\Scripts\\deactivate"
   ]
  },
  {
   "cell_type": "markdown",
   "id": "4dd31e2f",
   "metadata": {},
   "source": [
    "### mysite 가상 환경에 간단히 진입하기"
   ]
  },
  {
   "cell_type": "code",
   "execution_count": null,
   "id": "643c2da3",
   "metadata": {},
   "outputs": [],
   "source": [
    "# 메모장에\n",
    "# @echo off\n",
    "# cd c:/projects/mysite\n",
    "# c:/venvs/mysite/scripts/activate\n",
    "# 입력 후 mysite.cmd 이름 설정 및 폴더는 C:/venvs로 이동\n",
    "\n",
    "# 1. 내컴퓨터 마오 속성 (정보) - 고급 시스템 설정 - 환경변수\n",
    "# 2. 찾기 - 환경변수찾기\n",
    "# path - 편집 - 새로만들기 - c:\\venvs 입력 - 확인 - 확인"
   ]
  },
  {
   "cell_type": "markdown",
   "id": "9456bb9c",
   "metadata": {},
   "source": [
    "### 파이참 설정 변경"
   ]
  },
  {
   "cell_type": "code",
   "execution_count": null,
   "id": "51d2add1",
   "metadata": {},
   "outputs": [],
   "source": [
    "# 파이참 오픈 - projects mysite 클릭후 확인 두번\n",
    "# alt + F12\n",
    "# python manage.py runserver\n",
    "\n",
    "# 설정 변경\n",
    "# [파일이름: projects/mysite/config/settings.py]\n",
    "# LANGUAGE_CODE = 'ko-kr'\n",
    "# TIME_ZONE = 'Asia/Seoul'"
   ]
  },
  {
   "cell_type": "markdown",
   "id": "2779c060",
   "metadata": {},
   "source": [
    "### pybo 앱"
   ]
  },
  {
   "cell_type": "code",
   "execution_count": null,
   "id": "6ca9d677",
   "metadata": {},
   "outputs": [],
   "source": [
    "# cmd 창 껐다 켜서 mysite 환경에서\n",
    "# django-admin startapp pybo 실행"
   ]
  },
  {
   "cell_type": "code",
   "execution_count": null,
   "id": "630abbc7",
   "metadata": {},
   "outputs": [],
   "source": [
    "# 타임존\n",
    "from django.utils import timezone"
   ]
  },
  {
   "cell_type": "code",
   "execution_count": null,
   "id": "3e8e9b44",
   "metadata": {},
   "outputs": [],
   "source": [
    "2-6\n",
    "github.com/pahkey/djangobook/tree/2-06"
   ]
  },
  {
   "cell_type": "code",
   "execution_count": null,
   "id": "d1551881",
   "metadata": {},
   "outputs": [],
   "source": [
    "부트스트랩\n",
    "https://getbootstrap.com/docs/4.5/getting-started/download/"
   ]
  },
  {
   "cell_type": "code",
   "execution_count": null,
   "id": "27f530eb",
   "metadata": {},
   "outputs": [],
   "source": [
    "https://jquery.com/download/\n",
    "3.4.1 버전\n",
    "https://code.jquery.com/jquery-3.4.1.min.js"
   ]
  },
  {
   "cell_type": "code",
   "execution_count": null,
   "id": "8220ccb0",
   "metadata": {},
   "outputs": [],
   "source": [
    "<nav class=\"navbar navbar-expand-lg navbar-light bg-light border-bottom\">\n",
    "    <a class=\"navbar-brand\" href=\"{% url 'pybo:index' %}\">Pybo</a>\n",
    "        <button class=\"navbar-toggler ml-auto\" type=\"button\"\n",
    "                data-toggle=\"collapse\"\n",
    "                data-target=\"#navbarNav\"\n",
    "                aria-controls=\"navbarNav\"\n",
    "                aria-expanded=\"false\"\n",
    "                aria-label=\"Toggle navigation\">\n",
    "            <span class=\"navbar-toggler-icon\"></span>\n",
    "        </button>\n",
    "        <div class=\"collapse navbar-collapse flex-grow-0\" id=\"navbarNav\">\n",
    "            <ul class=\"navbar-nav\">\n",
    "                <li class=\"nav-item\">\n",
    "                    <a class=\"nav-link\" href=\"#\">로그인</a>\n",
    "                </li>\n",
    "            </ul>\n",
    "        </div>\n",
    "</nav>"
   ]
  },
  {
   "cell_type": "code",
   "execution_count": null,
   "id": "6acdc18d",
   "metadata": {},
   "outputs": [],
   "source": [
    "회원가입시 로그인 html\n",
    "<div class=\"container my-3\">\n",
    "# 여기서부터 추가\n",
    "    <div class=\"row\">\n",
    "        <div class=\"col-4\">\n",
    "            <h4>로그인</h4>\n",
    "        </div>\n",
    "        <div class=\"col-9 text-right\">\n",
    "            <span>\n",
    "                또는 <a href=\"{% url 'common:signup' %}\">계정을 만드세요.</a>\n",
    "            </span>\n",
    "        </div>\n",
    "    </div>"
   ]
  },
  {
   "cell_type": "code",
   "execution_count": null,
   "id": "7053099a",
   "metadata": {},
   "outputs": [],
   "source": []
  },
  {
   "cell_type": "code",
   "execution_count": null,
   "id": "3d8de044",
   "metadata": {},
   "outputs": [],
   "source": []
  },
  {
   "cell_type": "code",
   "execution_count": null,
   "id": "5dba7888",
   "metadata": {},
   "outputs": [],
   "source": []
  },
  {
   "cell_type": "code",
   "execution_count": null,
   "id": "6c3d40dc",
   "metadata": {},
   "outputs": [],
   "source": []
  }
 ],
 "metadata": {
  "kernelspec": {
   "display_name": "Python 3 (ipykernel)",
   "language": "python",
   "name": "python3"
  },
  "language_info": {
   "codemirror_mode": {
    "name": "ipython",
    "version": 3
   },
   "file_extension": ".py",
   "mimetype": "text/x-python",
   "name": "python",
   "nbconvert_exporter": "python",
   "pygments_lexer": "ipython3",
   "version": "3.8.7"
  }
 },
 "nbformat": 4,
 "nbformat_minor": 5
}
