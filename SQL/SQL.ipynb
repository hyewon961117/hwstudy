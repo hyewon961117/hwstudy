{
 "cells": [
  {
   "cell_type": "markdown",
   "id": "daecd731",
   "metadata": {},
   "source": [
    "# SQL"
   ]
  },
  {
   "cell_type": "markdown",
   "id": "1e2ac1dc",
   "metadata": {},
   "source": [
    "Product Version = 8.0.21\n",
    "Operating System = M W\n",
    "\n",
    "https://downloads.mysql.com/archives/installer/\n",
    "Windows (x86, 32-bit), MSI Installer \n",
    "두번째꺼(용량 큰거) 427.6M 다운로드\n",
    "\n",
    "1. custom\n",
    "\n",
    "2. 3개 선택\n",
    "    2-1. 서버 - 최 하위 8.0.21\n",
    "    2-2. 어플리케이션 워크벤치 최하위\n",
    "    2-3. documentation - sample - 최하위\n",
    "    \n",
    "3. excute\n",
    "\n",
    "4. next - excute\n",
    "\n",
    "high availabilty\n",
    "5. next\n",
    "6. port 3306 암묵적으로 정해져있음\n",
    "7. 두번째꺼 Use Legacy Authentication method (파이썬 연동하기 위함)\n",
    "8. 기본적으로 관리자 권한 이름 root\n",
    "    패스워드 zzzz 보안성 취약 비밀번호는 길게 만들도록\n",
    "9. windows serive name MySQL80 확인 후 next\n",
    "10. excute 후 finish\n",
    "\n",
    "product configuration\n",
    "11. next\n",
    "12. 비번 입력 후 check # sample을 데이터베이스에 업로드 할 수 있는 상황\n",
    "13. excute 후 finish\n",
    "14. next\n",
    "15. install complete - start workbench 선택 해제\n",
    "\n",
    "설치된 mysql worchbench ce 작업표시줄 고정 및 실행\n",
    "mysql connections 클릭\n",
    "오른쪽 위에 아이콘 누르기\n"
   ]
  },
  {
   "cell_type": "markdown",
   "id": "4f617bef",
   "metadata": {},
   "source": [
    "file - new model - add diagram 테이블 만들기\n",
    "스키마 오른쪽버튼 new-schema\n"
   ]
  },
  {
   "cell_type": "code",
   "execution_count": null,
   "id": "df024366",
   "metadata": {},
   "outputs": [],
   "source": []
  }
 ],
 "metadata": {
  "kernelspec": {
   "display_name": "Python 3 (ipykernel)",
   "language": "python",
   "name": "python3"
  },
  "language_info": {
   "codemirror_mode": {
    "name": "ipython",
    "version": 3
   },
   "file_extension": ".py",
   "mimetype": "text/x-python",
   "name": "python",
   "nbconvert_exporter": "python",
   "pygments_lexer": "ipython3",
   "version": "3.8.7"
  }
 },
 "nbformat": 4,
 "nbformat_minor": 5
}
