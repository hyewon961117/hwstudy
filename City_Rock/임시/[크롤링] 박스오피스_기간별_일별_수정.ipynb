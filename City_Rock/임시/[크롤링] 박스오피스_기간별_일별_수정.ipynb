{
 "cells": [
  {
   "cell_type": "code",
   "execution_count": 1,
   "id": "db2728ce",
   "metadata": {},
   "outputs": [],
   "source": [
    "import requests\n",
    "from bs4 import BeautifulSoup\n",
    "import time\n",
    "from tqdm.notebook import tqdm\n",
    "from urllib.parse import quote\n",
    "\n",
    "import pandas as pd\n",
    "import selenium\n",
    "from selenium import webdriver\n",
    "from selenium.webdriver.common.keys import Keys\n",
    "from selenium.webdriver.common.by import By\n",
    "from selenium.webdriver.common.alert import Alert\n",
    "from datetime import datetime, timedelta"
   ]
  },
  {
   "cell_type": "code",
   "execution_count": null,
   "id": "f23d10b8",
   "metadata": {},
   "outputs": [],
   "source": [
    "# 셀레니움으로 url 주소 크롬 열기\n",
    "driver = webdriver.Chrome()\n",
    "url = 'https://www.kobis.or.kr/kobis/business/stat/boxs/findPeriodBoxOfficeList.do'\n",
    "driver.get(url)\n",
    "time.sleep(1)\n",
    "\n",
    "# 초기 날짜 지정\n",
    "start_day = datetime.strptime(\"2008-12-28\", '%Y-%m-%d')\n",
    "\n",
    "while True:\n",
    "    \n",
    "    try: \n",
    "        end_day = start_day + timedelta(days=6)\n",
    "\n",
    "        start_day_str = start_day.strftime('%Y-%m-%d')\n",
    "\n",
    "        end_day_str = end_day.strftime('%Y-%m-%d')\n",
    "\n",
    "        # 조회기간 시작일 비우기\n",
    "        driver.find_element(By.NAME,'sSearchFrom').clear()\n",
    "        time.sleep(0.5)\n",
    "        Alert(driver).accept()\n",
    "        time.sleep(0.5)\n",
    "\n",
    "        # 조회기간 마지막일 비우기\n",
    "        driver.find_element(By.NAME,'sSearchTo').clear()\n",
    "        time.sleep(0.5)\n",
    "        Alert(driver).accept()\n",
    "        time.sleep(0.5)\n",
    "\n",
    "        # 조회기간 시작일 값 입력\n",
    "        driver.find_element(By.NAME,'sSearchFrom').send_keys(start_day_str)\n",
    "        time.sleep(0.5)\n",
    "        driver.find_element(By.XPATH,'/html/body').click()\n",
    "        time.sleep(0.5)\n",
    "\n",
    "        # 자동으로 채워진 마지막일 값 비우기\n",
    "        driver.find_element(By.NAME,'sSearchTo').clear()\n",
    "        time.sleep(0.5)\n",
    "        Alert(driver).accept()\n",
    "        time.sleep(0.5)\n",
    "\n",
    "        # 조회기간 마지막일 값 입력\n",
    "        driver.find_element(By.NAME,'sSearchTo').send_keys(end_day_str)\n",
    "        time.sleep(0.5)\n",
    "        driver.find_element(By.XPATH,'/html/body').click()\n",
    "        time.sleep(0.5)\n",
    "\n",
    "        # 조회 버튼 클릭\n",
    "        driver.find_element(By.CSS_SELECTOR,'div.wrap_btn .btn_blue').click()\n",
    "        time.sleep(2)\n",
    "\n",
    "        # 엑셀 파일 다운로드\n",
    "        driver.find_element(By.CSS_SELECTOR,'div.tar a:nth-child(2)').click()\n",
    "        time.sleep(2)\n",
    "\n",
    "        # 자바스크립트 확인\n",
    "        Alert(driver).accept()\n",
    "        time.sleep(3)\n",
    "\n",
    "        # 시작일 변경\n",
    "        start_day = end_day + timedelta(days=1)\n",
    "\n",
    "        # 최종일 지정\n",
    "        if start_day == datetime.strptime(\"2014-12-28\", '%Y-%m-%d'):\n",
    "            break\n",
    "    except:\n",
    "        print(start_day)\n",
    "        pass\n",
    "\n",
    "driver.quit()"
   ]
  },
  {
   "cell_type": "markdown",
   "id": "dcf705fe",
   "metadata": {},
   "source": [
    "# 파일 합치기"
   ]
  },
  {
   "cell_type": "code",
   "execution_count": null,
   "id": "a8c0a04f",
   "metadata": {},
   "outputs": [],
   "source": [
    "import pandas as pd\n",
    "from glob import glob\n",
    "import warnings\n",
    "warnings.filterwarnings('ignore')"
   ]
  },
  {
   "cell_type": "code",
   "execution_count": null,
   "id": "3e71e72a",
   "metadata": {},
   "outputs": [],
   "source": [
    "file = glob(r'C:\\workspace\\City_Rock\\기간별_일별_2017년부터_xlsx\\*.xlsx')[0]\n",
    "base = pd.read_excel(file, engine='openpyxl')"
   ]
  },
  {
   "cell_type": "code",
   "execution_count": null,
   "id": "de0d6293",
   "metadata": {},
   "outputs": [],
   "source": [
    "columns_list = []\n",
    "columns_list.extend(base.iloc[3][:11])\n",
    "columns_list.extend(base.iloc[4][11:])\n",
    "columns_list\n",
    "\n",
    "col_list = []\n",
    "col_list.extend(columns_list[0:11])\n",
    "col_list.extend(['기준일'])\n",
    "col_list.extend(columns_list[11:17])\n",
    "col_list"
   ]
  },
  {
   "cell_type": "code",
   "execution_count": null,
   "id": "6620212c",
   "metadata": {},
   "outputs": [],
   "source": [
    "df = pd.DataFrame(columns = col_list)\n",
    "df"
   ]
  },
  {
   "cell_type": "code",
   "execution_count": null,
   "id": "3483bd83",
   "metadata": {},
   "outputs": [],
   "source": [
    "df = pd.DataFrame(columns = col_list)\n",
    "\n",
    "for file in glob(r'C:\\workspace\\City_Rock\\바꾼후\\*.xlsx'):\n",
    "    base = pd.read_excel(file, engine='openpyxl')\n",
    "\n",
    "    for i in range(11,53,6):\n",
    "        try:\n",
    "            info = base.iloc[5:,0:11]\n",
    "            sales = base.iloc[5:, i:i+6]\n",
    "            date = base.iloc[:, i:i+6].iloc[3][0]\n",
    "\n",
    "            info['date'] = date\n",
    "\n",
    "            data = pd.concat([info, sales],axis=1)\n",
    "            data.columns = col_list\n",
    "            df = pd.concat([df, data])\n",
    "        \n",
    "        except:\n",
    "            pass"
   ]
  },
  {
   "cell_type": "code",
   "execution_count": null,
   "id": "170fc5a3",
   "metadata": {},
   "outputs": [],
   "source": [
    "df1 = df[df['순위']!='합계']"
   ]
  },
  {
   "cell_type": "code",
   "execution_count": null,
   "id": "f4581f5a",
   "metadata": {},
   "outputs": [],
   "source": [
    "df1.to_excel('바꾼후.xlsx', index=False)"
   ]
  },
  {
   "cell_type": "code",
   "execution_count": null,
   "id": "9f3380b4",
   "metadata": {},
   "outputs": [],
   "source": [
    "df1.to_csv('기간별_일별(2017.01~2023.05)_수정.csv', index=False)"
   ]
  }
 ],
 "metadata": {
  "kernelspec": {
   "display_name": "Python 3 (ipykernel)",
   "language": "python",
   "name": "python3"
  },
  "language_info": {
   "codemirror_mode": {
    "name": "ipython",
    "version": 3
   },
   "file_extension": ".py",
   "mimetype": "text/x-python",
   "name": "python",
   "nbconvert_exporter": "python",
   "pygments_lexer": "ipython3",
   "version": "3.8.7"
  }
 },
 "nbformat": 4,
 "nbformat_minor": 5
}
