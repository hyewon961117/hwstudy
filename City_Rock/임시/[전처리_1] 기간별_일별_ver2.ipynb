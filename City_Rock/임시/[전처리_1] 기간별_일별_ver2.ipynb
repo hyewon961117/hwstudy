{
 "cells": [
  {
   "cell_type": "code",
   "execution_count": 1,
   "id": "bf89fa93",
   "metadata": {},
   "outputs": [],
   "source": [
    "import requests\n",
    "from bs4 import BeautifulSoup\n",
    "import time\n",
    "from tqdm.notebook import tqdm\n",
    "from urllib.parse import quote\n",
    "\n",
    "import pandas as pd\n",
    "import selenium\n",
    "from selenium import webdriver\n",
    "from selenium.webdriver.common.keys import Keys\n",
    "from selenium.webdriver.common.by import By\n",
    "from selenium.webdriver.common.alert import Alert\n",
    "\n",
    "from datetime import datetime, timedelta\n",
    "\n",
    "import numpy as np\n",
    "import statistics\n",
    "from matplotlib import font_manager, rc \n",
    "import matplotlib.pyplot as plt\n",
    "import matplotlib as mpl\n",
    "import matplotlib.cm as cm\n",
    "import seaborn as sns\n",
    "\n",
    "#마이너스 표시\n",
    "mpl.rcParams['axes.unicode_minus'] = False\n",
    "plt.rc('font', family='Malgun Gothic')"
   ]
  },
  {
   "cell_type": "markdown",
   "id": "e6e368f1",
   "metadata": {},
   "source": [
    "# 파일 전처리"
   ]
  },
  {
   "cell_type": "markdown",
   "id": "16b54671",
   "metadata": {},
   "source": [
    "1. 개봉일과 기준일 날짜형식으로 바꾸기\n",
    "2. 개봉일, 기준일 기준 - 연도, 월 컬럼 각각 추가\n",
    "3. 매출액과 관객수, 스크린수, 상영횟수가 모두 0인 행 삭제\n",
    "4. 등급 이상값 확인 후 변경\n",
    "5. excel로 저장 (데이터형식을 유지하기위함)\n",
    " - 파일명 : ./data/완_기간별_일별_170101_to_230509_ver2.xlsx"
   ]
  },
  {
   "cell_type": "code",
   "execution_count": 18,
   "id": "c5c8d646",
   "metadata": {},
   "outputs": [
    {
     "data": {
      "text/html": [
       "<div>\n",
       "<style scoped>\n",
       "    .dataframe tbody tr th:only-of-type {\n",
       "        vertical-align: middle;\n",
       "    }\n",
       "\n",
       "    .dataframe tbody tr th {\n",
       "        vertical-align: top;\n",
       "    }\n",
       "\n",
       "    .dataframe thead th {\n",
       "        text-align: right;\n",
       "    }\n",
       "</style>\n",
       "<table border=\"1\" class=\"dataframe\">\n",
       "  <thead>\n",
       "    <tr style=\"text-align: right;\">\n",
       "      <th></th>\n",
       "      <th>순위</th>\n",
       "      <th>영화명</th>\n",
       "      <th>개봉일</th>\n",
       "      <th>대표국적</th>\n",
       "      <th>국적</th>\n",
       "      <th>제작사</th>\n",
       "      <th>배급사</th>\n",
       "      <th>등급</th>\n",
       "      <th>장르</th>\n",
       "      <th>감독</th>\n",
       "      <th>...</th>\n",
       "      <th>매출액</th>\n",
       "      <th>누적매출액</th>\n",
       "      <th>관객수</th>\n",
       "      <th>누적관객수</th>\n",
       "      <th>스크린수</th>\n",
       "      <th>상영횟수</th>\n",
       "      <th>기준연도</th>\n",
       "      <th>기준월</th>\n",
       "      <th>개봉연도</th>\n",
       "      <th>개봉월</th>\n",
       "    </tr>\n",
       "  </thead>\n",
       "  <tbody>\n",
       "    <tr>\n",
       "      <th>0</th>\n",
       "      <td>1</td>\n",
       "      <td>너의 이름은.</td>\n",
       "      <td>2017-01-04</td>\n",
       "      <td>일본</td>\n",
       "      <td>일본</td>\n",
       "      <td>NaN</td>\n",
       "      <td>플러스엠 엔터테인먼트</td>\n",
       "      <td>12세이상관람가</td>\n",
       "      <td>애니메이션,드라마,멜로/로맨스</td>\n",
       "      <td>신카이 마코토</td>\n",
       "      <td>...</td>\n",
       "      <td>2809088900</td>\n",
       "      <td>9745292442</td>\n",
       "      <td>333008</td>\n",
       "      <td>1182465</td>\n",
       "      <td>947</td>\n",
       "      <td>4101</td>\n",
       "      <td>2017</td>\n",
       "      <td>1</td>\n",
       "      <td>2017</td>\n",
       "      <td>1</td>\n",
       "    </tr>\n",
       "    <tr>\n",
       "      <th>1</th>\n",
       "      <td>3</td>\n",
       "      <td>모아나</td>\n",
       "      <td>2017-01-12</td>\n",
       "      <td>미국</td>\n",
       "      <td>미국</td>\n",
       "      <td>NaN</td>\n",
       "      <td>월트디즈니컴퍼니코리아 유한책임회사</td>\n",
       "      <td>전체관람가</td>\n",
       "      <td>애니메이션</td>\n",
       "      <td>론 클레멘츠,존 머스커</td>\n",
       "      <td>...</td>\n",
       "      <td>7738000</td>\n",
       "      <td>9712000</td>\n",
       "      <td>910</td>\n",
       "      <td>1192</td>\n",
       "      <td>6</td>\n",
       "      <td>6</td>\n",
       "      <td>2017</td>\n",
       "      <td>1</td>\n",
       "      <td>2017</td>\n",
       "      <td>1</td>\n",
       "    </tr>\n",
       "    <tr>\n",
       "      <th>2</th>\n",
       "      <td>4</td>\n",
       "      <td>패신저스</td>\n",
       "      <td>2017-01-04</td>\n",
       "      <td>미국</td>\n",
       "      <td>미국</td>\n",
       "      <td>NaN</td>\n",
       "      <td>유니버설픽쳐스인터내셔널 코리아(유)</td>\n",
       "      <td>12세이상관람가</td>\n",
       "      <td>어드벤처,SF</td>\n",
       "      <td>모튼 틸덤</td>\n",
       "      <td>...</td>\n",
       "      <td>1107502600</td>\n",
       "      <td>4176443418</td>\n",
       "      <td>129810</td>\n",
       "      <td>504393</td>\n",
       "      <td>608</td>\n",
       "      <td>2272</td>\n",
       "      <td>2017</td>\n",
       "      <td>1</td>\n",
       "      <td>2017</td>\n",
       "      <td>1</td>\n",
       "    </tr>\n",
       "    <tr>\n",
       "      <th>3</th>\n",
       "      <td>9</td>\n",
       "      <td>눈의 여왕 3: 눈과 불의 마법대결</td>\n",
       "      <td>2017-01-04</td>\n",
       "      <td>러시아</td>\n",
       "      <td>러시아</td>\n",
       "      <td>NaN</td>\n",
       "      <td>(주)이수C&amp;E</td>\n",
       "      <td>전체관람가</td>\n",
       "      <td>애니메이션,어드벤처,가족,판타지</td>\n",
       "      <td>알렉세이 트시칠린</td>\n",
       "      <td>...</td>\n",
       "      <td>535436000</td>\n",
       "      <td>1828596400</td>\n",
       "      <td>67605</td>\n",
       "      <td>242171</td>\n",
       "      <td>524</td>\n",
       "      <td>1163</td>\n",
       "      <td>2017</td>\n",
       "      <td>1</td>\n",
       "      <td>2017</td>\n",
       "      <td>1</td>\n",
       "    </tr>\n",
       "    <tr>\n",
       "      <th>4</th>\n",
       "      <td>10</td>\n",
       "      <td>사랑하기 때문에</td>\n",
       "      <td>2017-01-04</td>\n",
       "      <td>한국</td>\n",
       "      <td>한국</td>\n",
       "      <td>(주)에이디사공육</td>\n",
       "      <td>(주)넥스트엔터테인먼트월드(NEW)</td>\n",
       "      <td>12세이상관람가</td>\n",
       "      <td>코미디,멜로/로맨스</td>\n",
       "      <td>주지홍</td>\n",
       "      <td>...</td>\n",
       "      <td>450612400</td>\n",
       "      <td>1968850940</td>\n",
       "      <td>53856</td>\n",
       "      <td>246167</td>\n",
       "      <td>542</td>\n",
       "      <td>1533</td>\n",
       "      <td>2017</td>\n",
       "      <td>1</td>\n",
       "      <td>2017</td>\n",
       "      <td>1</td>\n",
       "    </tr>\n",
       "  </tbody>\n",
       "</table>\n",
       "<p>5 rows × 22 columns</p>\n",
       "</div>"
      ],
      "text/plain": [
       "   순위                  영화명         개봉일 대표국적   국적        제작사  \\\n",
       "0   1              너의 이름은.  2017-01-04   일본   일본        NaN   \n",
       "1   3                  모아나  2017-01-12   미국   미국        NaN   \n",
       "2   4                 패신저스  2017-01-04   미국   미국        NaN   \n",
       "3   9  눈의 여왕 3: 눈과 불의 마법대결  2017-01-04  러시아  러시아        NaN   \n",
       "4  10             사랑하기 때문에  2017-01-04   한국   한국  (주)에이디사공육   \n",
       "\n",
       "                   배급사        등급                 장르            감독  ...  \\\n",
       "0          플러스엠 엔터테인먼트  12세이상관람가   애니메이션,드라마,멜로/로맨스       신카이 마코토  ...   \n",
       "1   월트디즈니컴퍼니코리아 유한책임회사     전체관람가              애니메이션  론 클레멘츠,존 머스커  ...   \n",
       "2  유니버설픽쳐스인터내셔널 코리아(유)  12세이상관람가            어드벤처,SF         모튼 틸덤  ...   \n",
       "3             (주)이수C&E     전체관람가  애니메이션,어드벤처,가족,판타지     알렉세이 트시칠린  ...   \n",
       "4  (주)넥스트엔터테인먼트월드(NEW)  12세이상관람가         코미디,멜로/로맨스           주지홍  ...   \n",
       "\n",
       "          매출액       누적매출액     관객수    누적관객수  스크린수  상영횟수  기준연도  기준월  개봉연도  개봉월  \n",
       "0  2809088900  9745292442  333008  1182465   947  4101  2017    1  2017    1  \n",
       "1     7738000     9712000     910     1192     6     6  2017    1  2017    1  \n",
       "2  1107502600  4176443418  129810   504393   608  2272  2017    1  2017    1  \n",
       "3   535436000  1828596400   67605   242171   524  1163  2017    1  2017    1  \n",
       "4   450612400  1968850940   53856   246167   542  1533  2017    1  2017    1  \n",
       "\n",
       "[5 rows x 22 columns]"
      ]
     },
     "execution_count": 18,
     "metadata": {},
     "output_type": "execute_result"
    }
   ],
   "source": [
    "movie_df = pd.read_csv(\"./data/완_기간별_일별_170101_to_230509_ver1.csv\")\n",
    "movie_df.head()"
   ]
  },
  {
   "cell_type": "code",
   "execution_count": 3,
   "id": "15b54d4a",
   "metadata": {},
   "outputs": [
    {
     "name": "stdout",
     "output_type": "stream",
     "text": [
      "<class 'pandas.core.frame.DataFrame'>\n",
      "RangeIndex: 363272 entries, 0 to 363271\n",
      "Data columns (total 18 columns):\n",
      " #   Column  Non-Null Count   Dtype         \n",
      "---  ------  --------------   -----         \n",
      " 0   순위      363272 non-null  int64         \n",
      " 1   영화명     363272 non-null  object        \n",
      " 2   개봉일     363272 non-null  datetime64[ns]\n",
      " 3   대표국적    363272 non-null  object        \n",
      " 4   국적      363272 non-null  object        \n",
      " 5   제작사     137977 non-null  object        \n",
      " 6   배급사     363048 non-null  object        \n",
      " 7   등급      363258 non-null  object        \n",
      " 8   장르      362698 non-null  object        \n",
      " 9   감독      338709 non-null  object        \n",
      " 10  배우      285173 non-null  object        \n",
      " 11  기준일     363272 non-null  datetime64[ns]\n",
      " 12  매출액     363272 non-null  int64         \n",
      " 13  누적매출액   363272 non-null  int64         \n",
      " 14  관객수     363272 non-null  int64         \n",
      " 15  누적관객수   363272 non-null  int64         \n",
      " 16  스크린수    363272 non-null  int64         \n",
      " 17  상영횟수    363272 non-null  int64         \n",
      "dtypes: datetime64[ns](2), int64(7), object(9)\n",
      "memory usage: 49.9+ MB\n"
     ]
    }
   ],
   "source": [
    "# 개봉일과 기준일 날짜형식으로 바꾸기\n",
    "movie_df['개봉일'] = pd.to_datetime(movie_df['개봉일'])\n",
    "movie_df['기준일'] = pd.to_datetime(movie_df['기준일'])\n",
    "movie_df.info()"
   ]
  },
  {
   "cell_type": "code",
   "execution_count": 4,
   "id": "f18d6127",
   "metadata": {},
   "outputs": [
    {
     "data": {
      "text/html": [
       "<div>\n",
       "<style scoped>\n",
       "    .dataframe tbody tr th:only-of-type {\n",
       "        vertical-align: middle;\n",
       "    }\n",
       "\n",
       "    .dataframe tbody tr th {\n",
       "        vertical-align: top;\n",
       "    }\n",
       "\n",
       "    .dataframe thead th {\n",
       "        text-align: right;\n",
       "    }\n",
       "</style>\n",
       "<table border=\"1\" class=\"dataframe\">\n",
       "  <thead>\n",
       "    <tr style=\"text-align: right;\">\n",
       "      <th></th>\n",
       "      <th>순위</th>\n",
       "      <th>영화명</th>\n",
       "      <th>개봉일</th>\n",
       "      <th>대표국적</th>\n",
       "      <th>국적</th>\n",
       "      <th>제작사</th>\n",
       "      <th>배급사</th>\n",
       "      <th>등급</th>\n",
       "      <th>장르</th>\n",
       "      <th>감독</th>\n",
       "      <th>...</th>\n",
       "      <th>매출액</th>\n",
       "      <th>누적매출액</th>\n",
       "      <th>관객수</th>\n",
       "      <th>누적관객수</th>\n",
       "      <th>스크린수</th>\n",
       "      <th>상영횟수</th>\n",
       "      <th>기준연도</th>\n",
       "      <th>기준월</th>\n",
       "      <th>개봉연도</th>\n",
       "      <th>개봉월</th>\n",
       "    </tr>\n",
       "  </thead>\n",
       "  <tbody>\n",
       "    <tr>\n",
       "      <th>0</th>\n",
       "      <td>1</td>\n",
       "      <td>너의 이름은.</td>\n",
       "      <td>2017-01-04</td>\n",
       "      <td>일본</td>\n",
       "      <td>일본</td>\n",
       "      <td>NaN</td>\n",
       "      <td>플러스엠 엔터테인먼트</td>\n",
       "      <td>12세이상관람가</td>\n",
       "      <td>애니메이션,드라마,멜로/로맨스</td>\n",
       "      <td>신카이 마코토</td>\n",
       "      <td>...</td>\n",
       "      <td>2809088900</td>\n",
       "      <td>9745292442</td>\n",
       "      <td>333008</td>\n",
       "      <td>1182465</td>\n",
       "      <td>947</td>\n",
       "      <td>4101</td>\n",
       "      <td>2017</td>\n",
       "      <td>1</td>\n",
       "      <td>2017</td>\n",
       "      <td>1</td>\n",
       "    </tr>\n",
       "  </tbody>\n",
       "</table>\n",
       "<p>1 rows × 22 columns</p>\n",
       "</div>"
      ],
      "text/plain": [
       "   순위      영화명        개봉일 대표국적  국적  제작사          배급사        등급  \\\n",
       "0   1  너의 이름은. 2017-01-04   일본  일본  NaN  플러스엠 엔터테인먼트  12세이상관람가   \n",
       "\n",
       "                 장르       감독  ...         매출액       누적매출액     관객수    누적관객수  \\\n",
       "0  애니메이션,드라마,멜로/로맨스  신카이 마코토  ...  2809088900  9745292442  333008  1182465   \n",
       "\n",
       "   스크린수  상영횟수  기준연도  기준월  개봉연도  개봉월  \n",
       "0   947  4101  2017    1  2017    1  \n",
       "\n",
       "[1 rows x 22 columns]"
      ]
     },
     "execution_count": 4,
     "metadata": {},
     "output_type": "execute_result"
    }
   ],
   "source": [
    "# 개봉일, 기준일 기준 - 연도, 월 컬럼 각각 추가\n",
    "movie_df['기준연도'] = movie_df['기준일'].apply(lambda x : x.year)\n",
    "movie_df['기준월'] = movie_df['기준일'].apply(lambda x : x.month)\n",
    "movie_df['개봉연도'] = movie_df['개봉일'].apply(lambda x : x.year)\n",
    "movie_df['개봉월'] = movie_df['개봉일'].apply(lambda x : x.month)\n",
    "movie_df.head(1)"
   ]
  },
  {
   "cell_type": "code",
   "execution_count": 5,
   "id": "164d3289",
   "metadata": {},
   "outputs": [],
   "source": [
    "# 매출액, 관객수, 스크린수, 상영횟수 모두가 0인 행 제외\n",
    "movie_df = movie_df[(movie_df['매출액']!=0)&(movie_df['관객수']!=0)&\n",
    "                   (movie_df['스크린수']!=0)&(movie_df['상영횟수']!=0)]"
   ]
  },
  {
   "cell_type": "code",
   "execution_count": 6,
   "id": "12b1a46a",
   "metadata": {},
   "outputs": [
    {
     "data": {
      "text/plain": [
       "183006"
      ]
     },
     "execution_count": 6,
     "metadata": {},
     "output_type": "execute_result"
    }
   ],
   "source": [
    "len(movie_df)"
   ]
  },
  {
   "cell_type": "code",
   "execution_count": 7,
   "id": "091bdf25",
   "metadata": {},
   "outputs": [
    {
     "data": {
      "text/plain": [
       "array(['12세이상관람가', '전체관람가', '청소년관람불가', '15세이상관람가', '15세관람가', nan,\n",
       "       '12세이상관람가,15세이상관람가', '연소자관람불가,청소년관람불가', '12세관람가'], dtype=object)"
      ]
     },
     "execution_count": 7,
     "metadata": {},
     "output_type": "execute_result"
    }
   ],
   "source": [
    "# 등급 이상 값 확인\n",
    "movie_df['등급'].unique()"
   ]
  },
  {
   "cell_type": "code",
   "execution_count": 8,
   "id": "0e667368",
   "metadata": {},
   "outputs": [
    {
     "data": {
      "text/plain": [
       "array(['라이크 크레이지'], dtype=object)"
      ]
     },
     "execution_count": 8,
     "metadata": {},
     "output_type": "execute_result"
    }
   ],
   "source": [
    "len(movie_df[movie_df['등급']=='12세이상관람가,15세이상관람가'])\n",
    "movie_df[movie_df['등급']=='12세이상관람가,15세이상관람가'][\"영화명\"].unique()"
   ]
  },
  {
   "cell_type": "code",
   "execution_count": 9,
   "id": "7fcb76a2",
   "metadata": {},
   "outputs": [
    {
     "data": {
      "text/plain": [
       "array(['죽어도 좋은 경험: 천사여 악녀가 되라'], dtype=object)"
      ]
     },
     "execution_count": 9,
     "metadata": {},
     "output_type": "execute_result"
    }
   ],
   "source": [
    "len(movie_df[movie_df['등급']=='연소자관람불가,청소년관람불가'])\n",
    "movie_df[movie_df['등급']=='연소자관람불가,청소년관람불가'][\"영화명\"].unique()"
   ]
  },
  {
   "cell_type": "code",
   "execution_count": 10,
   "id": "bb7c811a",
   "metadata": {},
   "outputs": [
    {
     "data": {
      "text/plain": [
       "array(['던전 앤 드래곤: 도적들의 명예'], dtype=object)"
      ]
     },
     "execution_count": 10,
     "metadata": {},
     "output_type": "execute_result"
    }
   ],
   "source": [
    "len(movie_df[movie_df['등급']=='12세관람가'])\n",
    "movie_df[movie_df['등급']=='12세관람가'][\"영화명\"].unique()"
   ]
  },
  {
   "cell_type": "code",
   "execution_count": 11,
   "id": "11796fd4",
   "metadata": {},
   "outputs": [
    {
     "data": {
      "text/plain": [
       "array(['12세이상관람가', '전체관람가', '청소년관람불가', '15세이상관람가', nan], dtype=object)"
      ]
     },
     "execution_count": 11,
     "metadata": {},
     "output_type": "execute_result"
    }
   ],
   "source": [
    "# 등급 이상 값 확인 후 변경\n",
    "movie_df['등급'].replace(['15세관람가', '12세이상관람가,15세이상관람가', '연소자관람불가,청소년관람불가', '12세관람가'],['15세이상관람가', '12세이상관람가', '청소년관람불가', '12세이상관람가'], inplace=True)\n",
    "movie_df['등급'].unique()"
   ]
  },
  {
   "cell_type": "code",
   "execution_count": 18,
   "id": "6dc03941",
   "metadata": {},
   "outputs": [],
   "source": [
    "movie_df.to_excel('./data/완_기간별_일별_170101_to_230509_ver2.xlsx', index=False)"
   ]
  },
  {
   "cell_type": "code",
   "execution_count": 19,
   "id": "5ef85fd1",
   "metadata": {},
   "outputs": [],
   "source": [
    "movie_df.to_csv('./data/완_기간별_일별_170101_to_230509_ver2.csv', index=False)"
   ]
  }
 ],
 "metadata": {
  "kernelspec": {
   "display_name": "Python 3 (ipykernel)",
   "language": "python",
   "name": "python3"
  },
  "language_info": {
   "codemirror_mode": {
    "name": "ipython",
    "version": 3
   },
   "file_extension": ".py",
   "mimetype": "text/x-python",
   "name": "python",
   "nbconvert_exporter": "python",
   "pygments_lexer": "ipython3",
   "version": "3.8.7"
  }
 },
 "nbformat": 4,
 "nbformat_minor": 5
}
