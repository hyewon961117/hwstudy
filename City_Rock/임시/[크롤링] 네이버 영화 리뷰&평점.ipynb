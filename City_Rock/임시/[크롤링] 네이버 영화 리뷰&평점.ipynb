{
 "cells": [
  {
   "cell_type": "markdown",
   "id": "8aed0bf6",
   "metadata": {},
   "source": [
    "https://www.kobis.or.kr/kobis/business/main/main.do"
   ]
  },
  {
   "cell_type": "code",
   "execution_count": 1,
   "id": "0b88e7ec",
   "metadata": {},
   "outputs": [],
   "source": [
    "import requests\n",
    "from bs4 import BeautifulSoup\n",
    "import time\n",
    "from tqdm.notebook import tqdm\n",
    "from urllib.parse import quote\n",
    "\n",
    "import pandas as pd\n",
    "import selenium\n",
    "from selenium import webdriver\n",
    "from selenium.webdriver.common.keys import Keys\n",
    "from selenium.webdriver.common.by import By\n",
    "\n",
    "from datetime import datetime, timedelta"
   ]
  },
  {
   "cell_type": "code",
   "execution_count": 2,
   "id": "d34f5014",
   "metadata": {},
   "outputs": [
    {
     "data": {
      "text/plain": [
       "0               명량\n",
       "1             극한직업\n",
       "2        신과함께-죄와 벌\n",
       "3             국제시장\n",
       "4       어벤져스: 엔드게임\n",
       "          ...     \n",
       "195    해리 포터와 불의 잔\n",
       "196         비긴 어게인\n",
       "197             태풍\n",
       "198             킹콩\n",
       "199         부러진 화살\n",
       "Name: 영화명, Length: 200, dtype: object"
      ]
     },
     "execution_count": 2,
     "metadata": {},
     "output_type": "execute_result"
    }
   ],
   "source": [
    "best_movie = pd.read_excel(\"[KOBIS] 역대_박스오피스(2023.05.11).xlsx\", header=4, engine=\"openpyxl\")\n",
    "best_movie['영화명']"
   ]
  },
  {
   "cell_type": "code",
   "execution_count": 241,
   "id": "f995a437",
   "metadata": {},
   "outputs": [
    {
     "data": {
      "text/plain": [
       "'영화 명량 평점'"
      ]
     },
     "execution_count": 241,
     "metadata": {},
     "output_type": "execute_result"
    }
   ],
   "source": [
    "movie_name = best_movie['영화명'][0]\n",
    "# movie_name = '스즈메의 문단속'\n",
    "keyword = \"영화 \"+ str(movie_name) +\" 평점\"\n",
    "keyword"
   ]
  },
  {
   "cell_type": "code",
   "execution_count": 90,
   "id": "fdb6dd28",
   "metadata": {},
   "outputs": [],
   "source": [
    "# 셀레니움으로 네이버 창 열기\n",
    "driver = webdriver.Chrome()\n",
    "time.sleep(2)\n",
    "url = \"https://search.naver.com/search.naver?sm=tab_hty.top&where=nexearch&query=%EC%98%81%ED%99%94+%EB%AA%85%EB%9F%89+%ED%8F%89%EC%A0%90&oquery=%EC%98%81%ED%99%94+%EB%AA%85%EB%9F%89+%EC%A0%95%EB%B3%B4&tqi=iaz3Ysp0YiRssLJ4UA4ssssss8Z-510880\"\n",
    "driver.get(url)\n",
    "time.sleep(3)"
   ]
  },
  {
   "cell_type": "code",
   "execution_count": 15,
   "id": "b69d7b34",
   "metadata": {},
   "outputs": [
    {
     "data": {
      "text/plain": [
       "'영화 극한직업 평점'"
      ]
     },
     "execution_count": 15,
     "metadata": {},
     "output_type": "execute_result"
    }
   ],
   "source": [
    "# movie_name = '부러진 화살'\n",
    "movie_name = '극한직업'\n",
    "keyword = \"영화 \"+ str(movie_name) +\" 평점\"\n",
    "keyword"
   ]
  },
  {
   "cell_type": "code",
   "execution_count": 91,
   "id": "e65211cf",
   "metadata": {},
   "outputs": [],
   "source": [
    "# 검색어 입력 및 검색\n",
    "driver.find_element(By.CSS_SELECTOR,'div.greenbox input#nx_query').clear()\n",
    "driver.find_element(By.CSS_SELECTOR,'div.greenbox input#nx_query').send_keys(keyword)\n",
    "driver.find_element(By.CSS_SELECTOR,'button.bt_search').click()\n",
    "time.sleep(2)"
   ]
  },
  {
   "cell_type": "code",
   "execution_count": 21,
   "id": "7e2521c9",
   "metadata": {},
   "outputs": [],
   "source": [
    "# 공감순 선택\n",
    "driver.find_element(By.CSS_SELECTOR, 'li.tab._sorting_select_order._trigger span.ico_check_wrap').click()\n",
    "time.sleep(1)\n",
    "driver.find_element(By.CSS_SELECTOR, 'div.cm_filter_area._root._sorting_select_order ul li:nth-child(1) a').click()\n",
    "time.sleep(1)"
   ]
  },
  {
   "cell_type": "code",
   "execution_count": 201,
   "id": "76d26831",
   "metadata": {},
   "outputs": [],
   "source": [
    "# 리뷰 스크롤 내리기\n",
    "driver.find_element(By.CSS_SELECTOR,'div.lego_review_list._scroller').click()\n",
    "\n",
    "# 10번\n",
    "for i in range(0,3):\n",
    "    driver.find_element(By.XPATH,'/html/body').send_keys(Keys.END)\n",
    "    time.sleep(0.5)"
   ]
  },
  {
   "cell_type": "code",
   "execution_count": 22,
   "id": "1f0b5d88",
   "metadata": {},
   "outputs": [],
   "source": [
    "soup = BeautifulSoup(driver.page_source, \"html.parser\")"
   ]
  },
  {
   "cell_type": "code",
   "execution_count": 180,
   "id": "88db5535",
   "metadata": {},
   "outputs": [
    {
     "data": {
      "text/plain": [
       "'부러진 화살'"
      ]
     },
     "execution_count": 180,
     "metadata": {},
     "output_type": "execute_result"
    }
   ],
   "source": [
    "제목 = soup.select_one('div._au_movie_content_wrap span strong._text').text\n",
    "제목"
   ]
  },
  {
   "cell_type": "code",
   "execution_count": 181,
   "id": "62c9a057",
   "metadata": {},
   "outputs": [
    {
     "name": "stdout",
     "output_type": "stream",
     "text": [
      "8.91 7,378 8.68 9.30\n"
     ]
    }
   ],
   "source": [
    "전체 = soup.select_one('span.area_star_number').text\n",
    "참여자수 = soup.select_one('span.area_people').text.split('명 참여')[0]\n",
    "남자 = soup.select_one('div.area_card_male span.area_star_number').text\n",
    "여자 = soup.select_one('div.area_card_female span.area_star_number').text\n",
    "print(전체, 참여자수, 남자, 여자)"
   ]
  },
  {
   "cell_type": "code",
   "execution_count": 182,
   "id": "c0ae57f4",
   "metadata": {},
   "outputs": [
    {
     "name": "stdout",
     "output_type": "stream",
     "text": [
      "9.18 8.77 8.88 9.01 8.55\n"
     ]
    }
   ],
   "source": [
    "_10대 = soup.select_one('div.lego_rating_box_age ul.area_graph_age li:nth-child(1) span.this_text_num').text\n",
    "_20대 = soup.select_one('div.lego_rating_box_age ul.area_graph_age li:nth-child(2) span.this_text_num').text\n",
    "_30대 = soup.select_one('div.lego_rating_box_age ul.area_graph_age li:nth-child(3) span.this_text_num').text\n",
    "_40대 = soup.select_one('div.lego_rating_box_age ul.area_graph_age li:nth-child(4) span.this_text_num').text\n",
    "_50대 = soup.select_one('div.lego_rating_box_age ul.area_graph_age li:nth-child(5) span.this_text_num').text\n",
    "print(_10대, _20대, _30대, _40대, _50대)"
   ]
  },
  {
   "cell_type": "code",
   "execution_count": 280,
   "id": "a7fc49cd",
   "metadata": {},
   "outputs": [
    {
     "name": "stdout",
     "output_type": "stream",
     "text": [
      "10 가볍게 생각 없이 즐길수 있는 영화 잘봤습니다\n"
     ]
    }
   ],
   "source": [
    "lis = soup.select('div.lego_review_list._scroller ul._item_wrapper li')\n",
    "li= lis[0]\n",
    "관람객별점 = li.select_one('div.area_text_box').text.split('별점(10점 만점 중)')[1]\n",
    "관람객리뷰 = li.select_one('div.area_text_expand span.desc._text').text.strip()\n",
    "print(관람객별점, 관람객리뷰)"
   ]
  },
  {
   "cell_type": "code",
   "execution_count": 196,
   "id": "7374ed81",
   "metadata": {},
   "outputs": [],
   "source": [
    "# 평론가 클릭 및 스크롤 내리기\n",
    "driver.find_element(By.CSS_SELECTOR,'div.cm_tap_area._tab_wrap ul li:nth-child(2) a span').click()\n",
    "driver.find_element(By.CSS_SELECTOR,'div.lego_critic_outer._scroller').click()\n",
    "\n",
    "for i in range(0,3):\n",
    "    driver.find_element(By.XPATH,'/html/body').send_keys(Keys.END)\n",
    "    time.sleep(0.5)"
   ]
  },
  {
   "cell_type": "code",
   "execution_count": 85,
   "id": "5d4f6bbb",
   "metadata": {
    "scrolled": false
   },
   "outputs": [
    {
     "name": "stdout",
     "output_type": "stream",
     "text": [
      "7.0 해체 위기에 놓인 마약 수사반이 잠복근무를 위해 치킨집을 인수한다. 공무원이 자영업자가 되면... 펼쳐보기\n"
     ]
    }
   ],
   "source": [
    "lis = soup.select('div.lego_critic_outer._scroller ul.area_ulist li')\n",
    "li= lis[0]\n",
    "평론가별점 = li.select_one('div.area_text_box').text.split('별점(10점 만점 중)')[1]\n",
    "평론가리뷰 = li.select_one('div.area_text_expand').text.strip()\n",
    "print(평론가별점, 평론가리뷰)"
   ]
  },
  {
   "cell_type": "code",
   "execution_count": null,
   "id": "385b057b",
   "metadata": {},
   "outputs": [],
   "source": [
    "#main_pack > div.sc_new.cs_common_module.case_empasis.color_5._au_movie_content_wrap > div.cm_content_wrap > div.cm_content_area._cm_content_area_rating > div > div:nth-child(3) > div > ul > li:nth-child(6) > div.area_text_expand > span"
   ]
  },
  {
   "cell_type": "code",
   "execution_count": 116,
   "id": "8b242573",
   "metadata": {},
   "outputs": [],
   "source": [
    "for num in range(1,len(driver.find_elements(By.CSS_SELECTOR,'div.lego_critic_outer._scroller ul.area_ulist li'))+1):\n",
    "    try: \n",
    "        driver.find_element(By.CSS_SELECTOR,f'div.lego_critic_outer._scroller ul.area_ulist li:nth-child({num}) div.area_text_expand button').click()\n",
    "        time.sleep(1)\n",
    "    except:\n",
    "        pass"
   ]
  },
  {
   "cell_type": "code",
   "execution_count": 74,
   "id": "ff8d5513",
   "metadata": {},
   "outputs": [
    {
     "name": "stdout",
     "output_type": "stream",
     "text": [
      "128분 2014-07-30 00:00:00\n"
     ]
    }
   ],
   "source": [
    "# 기본정보 클릭 러닝타임 추출\n",
    "driver.find_element(By.CSS_SELECTOR,'div.sub_tap_area._scrolling_wrapper_common_tab._scroll_mover ul li:nth-child(2)').click()\n",
    "time.sleep(2)\n",
    "\n",
    "divs = driver.find_elements(By.CSS_SELECTOR,'div.cm_content_area._cm_content_area_info div.detail_info dl div')\n",
    "\n",
    "for div in divs:\n",
    "    if '러닝타임' in div.text:\n",
    "        러닝타임 = div.text.split()[1]\n",
    "    elif '개봉' in div.text:\n",
    "        개봉 = datetime.strptime(div.text.split()[1], '%Y.%m.%d.')\n",
    "print(러닝타임, 개봉)"
   ]
  },
  {
   "cell_type": "markdown",
   "id": "4a2949bd",
   "metadata": {},
   "source": [
    "# 영화정보, 평점, 리뷰 크롤링"
   ]
  },
  {
   "cell_type": "code",
   "execution_count": 117,
   "id": "d21ab023",
   "metadata": {},
   "outputs": [
    {
     "data": {
      "application/vnd.jupyter.widget-view+json": {
       "model_id": "1fde22c78fc941918409f8c24d79b0ae",
       "version_major": 2,
       "version_minor": 0
      },
      "text/plain": [
       "  0%|          | 0/2 [00:00<?, ?it/s]"
      ]
     },
     "metadata": {},
     "output_type": "display_data"
    }
   ],
   "source": [
    "# 역대 영화 200개 데이터 불러오기\n",
    "best_movie = pd.read_excel(\"[KOBIS] 역대_박스오피스(2023.05.11).xlsx\", header=4, engine=\"openpyxl\")\n",
    "\n",
    "# 빈 데이터프레임 만들기\n",
    "df1 = pd.DataFrame(columns = ['순위', '영화명', '개봉일', '매출액', '관객수', '스크린수', '상영횟수', '대표국적', '국적', '배급사', \n",
    "                              '제목', '러닝타임', '개봉', '전체', '참여자수', '남자', '여자', '_10대', '_20대', '_30대', '_40대', '_50대'])\n",
    "df7 = pd.DataFrame(columns = ['구분','별점','리뷰','제목','개봉','영화명','개봉일'])\n",
    "\n",
    "# 실패시 담을 리스트 만들기\n",
    "fail_list=[]\n",
    "\n",
    "# 셀레니움으로 네이버 영화 검색 창 열기\n",
    "driver = webdriver.Chrome()\n",
    "time.sleep(2)\n",
    "url = \"https://search.naver.com/search.naver?sm=tab_hty.top&where=nexearch&query=%EC%98%81%ED%99%94+%EB%AA%85%EB%9F%89+%ED%8F%89%EC%A0%90&oquery=%EC%98%81%ED%99%94+%EB%AA%85%EB%9F%89+%ED%8F%89%EC%A0%90&tqi=iaXngsp0Jywssd6FGoKssssstH0-119566\"\n",
    "driver.get(url)\n",
    "time.sleep(3)\n",
    "\n",
    "### 크롤링 ###\n",
    "\n",
    "for i in tqdm(range(0,len(best_movie['영화명']))):\n",
    "# for i in tqdm(range(0,2)):\n",
    "\n",
    "    # 역대 파일 i번째 인덱스의 기본 정보 추출 (시리즈형태와 데이터프레임 형태)\n",
    "    info = best_movie.iloc[i]\n",
    "    info_df = best_movie.iloc[i:i+1]\n",
    "    \n",
    "    try: \n",
    "        # 검색어 설정\n",
    "        keyword = \"영화 \"+ str(info['영화명']) +\" 평점\"\n",
    "\n",
    "        # 검색어 입력 및 검색\n",
    "        driver.find_element(By.CSS_SELECTOR,'div.greenbox input#nx_query').clear()\n",
    "        driver.find_element(By.CSS_SELECTOR,'div.greenbox input#nx_query').send_keys(keyword)\n",
    "        driver.find_element(By.CSS_SELECTOR,'button.bt_search').click()\n",
    "        time.sleep(3)\n",
    "\n",
    "        # 리뷰 공감순 선택\n",
    "        driver.find_element(By.CSS_SELECTOR, 'li.tab._sorting_select_order._trigger span.ico_check_wrap').click()\n",
    "        time.sleep(2)\n",
    "        driver.find_element(By.CSS_SELECTOR, 'div.cm_filter_area._root._sorting_select_order ul li:nth-child(1) a').click()\n",
    "        time.sleep(2)\n",
    "\n",
    "        # 관람객 리뷰 스크롤 내리기\n",
    "        driver.find_element(By.CSS_SELECTOR,'div.lego_review_list._scroller').click()\n",
    "        time.sleep(1)\n",
    "\n",
    "        for j in range(0,2):\n",
    "            driver.find_element(By.XPATH,'/html/body').send_keys(Keys.END)\n",
    "            time.sleep(1)\n",
    "\n",
    "        # 평론가 클릭 및 스크롤 내리기\n",
    "        driver.find_element(By.CSS_SELECTOR,'div.cm_tap_area._tab_wrap ul li:nth-child(2) a span').click()\n",
    "        driver.find_element(By.CSS_SELECTOR,'div.lego_critic_outer._scroller').click()\n",
    "        time.sleep(1)\n",
    "\n",
    "        for k in range(0,2):\n",
    "            driver.find_element(By.XPATH,'/html/body').send_keys(Keys.END)\n",
    "            time.sleep(1)\n",
    "        \n",
    "        # 평론가 리뷰 중 가려진 텍스트 펼치기\n",
    "        for num in range(1,len(driver.find_elements(By.CSS_SELECTOR,'div.lego_critic_outer._scroller ul.area_ulist li'))+1):\n",
    "            try: \n",
    "                driver.find_element(By.CSS_SELECTOR,f'div.lego_critic_outer._scroller ul.area_ulist li:nth-child({num}) div.area_text_expand button').click()\n",
    "                time.sleep(1)\n",
    "            except:\n",
    "                pass \n",
    "        \n",
    "        # soup에 html 담기\n",
    "        soup = BeautifulSoup(driver.page_source, \"html.parser\")\n",
    "        \n",
    "        # 변수 초기화\n",
    "        제목 = \"-\"\n",
    "        전체 = \"-\"\n",
    "        참여자수 = \"-\"\n",
    "        남자 = \"-\"\n",
    "        여자 = \"-\"\n",
    "\n",
    "        _10대 = \"-\"\n",
    "        _20대 = \"-\"\n",
    "        _30대 = \"-\"\n",
    "        _40대 = \"-\"\n",
    "        _50대 = \"-\"\n",
    "\n",
    "        \n",
    "        # 변수에 해당되는 값 추출해서 담기\n",
    "        제목 = soup.select_one('div._au_movie_content_wrap span strong._text').text\n",
    "        전체 = soup.select_one('span.area_star_number').text\n",
    "        참여자수 = soup.select_one('span.area_people').text.split('명 참여')[0]\n",
    "        남자 = soup.select_one('div.area_card_male span.area_star_number').text\n",
    "        여자 = soup.select_one('div.area_card_female span.area_star_number').text\n",
    "\n",
    "        _10대 = soup.select_one('div.lego_rating_box_age ul.area_graph_age li:nth-child(1) span.this_text_num').text\n",
    "        _20대 = soup.select_one('div.lego_rating_box_age ul.area_graph_age li:nth-child(2) span.this_text_num').text\n",
    "        _30대 = soup.select_one('div.lego_rating_box_age ul.area_graph_age li:nth-child(3) span.this_text_num').text\n",
    "        _40대 = soup.select_one('div.lego_rating_box_age ul.area_graph_age li:nth-child(4) span.this_text_num').text\n",
    "        _50대 = soup.select_one('div.lego_rating_box_age ul.area_graph_age li:nth-child(5) span.this_text_num').text\n",
    "\n",
    "        # 빈 리스트 만들기\n",
    "        df4 = []\n",
    "        df5 = []\n",
    "\n",
    "        # 관람객 리뷰\n",
    "        lis1 = soup.select('div.lego_review_list._scroller ul._item_wrapper li')\n",
    "        \n",
    "        관람객별점 = '-'\n",
    "        관람객리뷰 = '-'\n",
    "        \n",
    "        for li1 in lis1:\n",
    "            관람객별점 = li1.select_one('div.area_text_box').text.split('별점(10점 만점 중)')[1]\n",
    "            관람객리뷰 = li1.select_one('div.area_text_expand span.desc._text').text.strip()\n",
    "            df4.append(['관람객', 관람객별점, 관람객리뷰])\n",
    "\n",
    "        # 평론가 리뷰\n",
    "        lis2 = soup.select('div.lego_critic_outer._scroller ul.area_ulist li')\n",
    "        \n",
    "        평론가별점 = '-'\n",
    "        평론가리뷰 = '-'\n",
    "        \n",
    "        for li2 in lis2:\n",
    "            평론가별점 = li2.select_one('div.area_text_box').text.split('별점(10점 만점 중)')[1]\n",
    "            평론가리뷰 = li2.select_one('div.area_text_expand').text.strip()\n",
    "            df5.append(['평론가', 평론가별점, 평론가리뷰])\n",
    "\n",
    "        # 기본정보 클릭 개봉일, 러닝타임 추출\n",
    "        driver.find_element(By.CSS_SELECTOR,'div.sub_tap_area._scrolling_wrapper_common_tab._scroll_mover ul li:nth-child(2)').click()\n",
    "        time.sleep(3)\n",
    "\n",
    "        sub_soup = BeautifulSoup(driver.page_source, \"html.parser\")\n",
    "    \n",
    "        divs = sub_soup.select('div.cm_content_area._cm_content_area_info div.detail_info dl div')\n",
    "        \n",
    "        러닝타임 = '-'\n",
    "        개봉 = '-'\n",
    "\n",
    "        for div in divs:\n",
    "            if '러닝타임' in div.text:\n",
    "                러닝타임 = div.text.split()[1]\n",
    "            elif '개봉' in div.text:\n",
    "                개봉 = datetime.strptime(div.text.split()[1], '%Y.%m.%d.')\n",
    "\n",
    "         \n",
    "        # [평점]\n",
    "        # 역대 기본 정보와 크롤링한 정보 합치기\n",
    "        df2_list = [[제목, 러닝타임, 개봉, 전체, 참여자수, 남자, 여자, _10대, _20대, _30대, _40대, _50대]]\n",
    "        df2 = pd.DataFrame(df2_list, columns = ['제목', '러닝타임', '개봉', '전체', '참여자수', '남자', '여자', '_10대', '_20대', '_30대', '_40대', '_50대'], index=[i])\n",
    "        df3 = pd.concat([info_df, df2], axis=1)\n",
    "        \n",
    "        # 최종 데이터프레임에 추가하기\n",
    "        df1 = pd.concat([df1, df3])\n",
    "        \n",
    "        # [리뷰]\n",
    "        # 역대 기본 정보 영화명, 개봉일과 크롤링한 정보 합치기\n",
    "        df4 = pd.DataFrame(df4, columns = ['구분','별점','리뷰'])\n",
    "        df4['제목'] = 제목\n",
    "        df4['개봉'] = 개봉\n",
    "        df4['영화명'] = info['영화명']\n",
    "        df4['개봉일'] = info['개봉일']\n",
    "\n",
    "        df5 = pd.DataFrame(df5, columns = ['구분','별점','리뷰'])\n",
    "        df5['제목'] = 제목\n",
    "        df5['개봉'] = 개봉\n",
    "        df5['영화명'] = info['영화명']\n",
    "        df5['개봉일'] = info['개봉일']\n",
    "         \n",
    "        df6 = pd.concat([df4,df5])\n",
    "        df7 = pd.concat([df7,df6])\n",
    "        \n",
    "    # 실패시 fail_list에 영화명 개봉일 담기 \n",
    "    except:\n",
    "        print(info['영화명'])\n",
    "        fail_list.append([info['영화명'],info['개봉일']])\n",
    "        \n",
    "# 최종 데이터 프레임 컬럼명 설정\n",
    "best_movie_star = pd.DataFrame(df1, columns=['순위', '영화명', '개봉일', '매출액', '관객수', '스크린수', '상영횟수', '대표국적', '국적', '배급사', \n",
    "                                             '제목', '러닝타임', '개봉', '전체', '참여자수', '남자', '여자', '_10대', '_20대', '_30대', '_40대', '_50대'])\n",
    "best_movie_review = pd.DataFrame(df7, columns=['구분','별점','리뷰','제목','개봉','영화명','개봉일'])\n",
    "best_movie_review = best_movie_review[['영화명','개봉일', '제목','개봉', '구분','별점','리뷰']]\n",
    "fail_list_df = pd.DataFrame(fail_list, columns=['영화명','개봉일'])\n",
    "\n",
    "# 엑셀 및 csv 파일로 저장\n",
    "best_movie_star.to_excel('[크롤링] 역대_네이버_영화_평점_수정.xlsx', index=False)\n",
    "best_movie_review.to_excel('[크롤링] 역대_네이버_영화_리뷰_수정.xlsx', index=False)\n",
    "fail_list_df.to_csv('[크롤링] 역대_네이버_영화_실패_수정.csv', index=False)"
   ]
  },
  {
   "cell_type": "code",
   "execution_count": 163,
   "id": "bfe4baa7",
   "metadata": {},
   "outputs": [],
   "source": [
    "best_movie_star.to_csv('[크롤링] 역대_네이버_영화_평점_수정.csv', index=False)\n",
    "best_movie_review.to_csv('[크롤링] 역대_네이버_영화_리뷰_수정.csv', index=False)"
   ]
  },
  {
   "cell_type": "code",
   "execution_count": 28,
   "id": "ac33bd27",
   "metadata": {
    "scrolled": true
   },
   "outputs": [],
   "source": [
    "fail_list = pd.read_csv('[크롤링] 역대_네이버_영화_실패_수정.csv')\n",
    "fail_list = fail_list.drop(index=0)\n",
    "fail_list.to_excel('[크롤링] 역대_네이버_영화_실패_수정.xlsx', index=False)"
   ]
  },
  {
   "cell_type": "markdown",
   "id": "87bd19a5",
   "metadata": {},
   "source": [
    "# fail_list - URL 기준 크롤링"
   ]
  },
  {
   "cell_type": "code",
   "execution_count": 60,
   "id": "f1f77fd8",
   "metadata": {
    "scrolled": true
   },
   "outputs": [
    {
     "data": {
      "application/vnd.jupyter.widget-view+json": {
       "model_id": "750674d1a42241a68b574a4b5f5048dc",
       "version_major": 2,
       "version_minor": 0
      },
      "text/plain": [
       "  0%|          | 0/36 [00:00<?, ?it/s]"
      ]
     },
     "metadata": {},
     "output_type": "display_data"
    }
   ],
   "source": [
    "best_movie = pd.read_excel(\"[KOBIS] 역대_박스오피스(2023.05.11).xlsx\", header=4, engine=\"openpyxl\")\n",
    "\n",
    "df1 = pd.DataFrame(columns = ['순위', '영화명', '개봉일', '매출액', '관객수', '스크린수', '상영횟수', '대표국적', '국적', '배급사', \n",
    "                              '제목', '러닝타임', '개봉', '전체', '참여자수', '남자', '여자', '_10대', '_20대', '_30대', '_40대', '_50대'])\n",
    "df7 = pd.DataFrame(columns = ['구분','별점','리뷰','제목','개봉','영화명','개봉일'])\n",
    "\n",
    "fail_list=[]\n",
    "\n",
    "# 셀레니움으로 네이버 창 열기\n",
    "driver = webdriver.Chrome()\n",
    "time.sleep(2)\n",
    "url = \"https://search.naver.com/search.naver?sm=tab_hty.top&where=nexearch&query=%EC%98%81%ED%99%94+%EB%AA%85%EB%9F%89+%ED%8F%89%EC%A0%90&oquery=%EC%98%81%ED%99%94+%EB%AA%85%EB%9F%89+%ED%8F%89%EC%A0%90&tqi=iaXngsp0Jywssd6FGoKssssstH0-119566\"\n",
    "driver.get(url)\n",
    "time.sleep(3)\n",
    "\n",
    "# 실패 리스트에서 URL 추가한 파일 불러오기\n",
    "fail_list_link = pd.read_excel('[크롤링] 역대_네이버_영화_실패_수정.xlsx')\n",
    "fail_list_link\n",
    "\n",
    "for fail_index in tqdm(range(0,len(fail_list_link['영화명']))):\n",
    "    \n",
    "    movie_keyword = fail_list_link['영화명'][fail_index]\n",
    "\n",
    "    i = int(best_movie[best_movie['영화명']==movie_keyword]['순위'])- 1\n",
    "    info = best_movie.iloc[i]\n",
    "    info_df = best_movie.iloc[i:i+1]\n",
    "\n",
    "    try: \n",
    "        # 검색어 설정\n",
    "        keyword = \"영화 \"+ str(movie_keyword) +\" 평점\"\n",
    "\n",
    "        # 해당 영화 정보 링크 들어가기\n",
    "        sub_url = fail_list_link['링크'][fail_index]\n",
    "        driver.get(sub_url)\n",
    "        time.sleep(3)\n",
    "\n",
    "        # 리뷰 공감순 선택\n",
    "        driver.find_element(By.CSS_SELECTOR, 'li.tab._sorting_select_order._trigger span.ico_check_wrap').click()\n",
    "        time.sleep(2)\n",
    "        driver.find_element(By.CSS_SELECTOR, 'div.cm_filter_area._root._sorting_select_order ul li:nth-child(1) a').click()\n",
    "        time.sleep(2)\n",
    "\n",
    "        # 관람객 리뷰 스크롤 내리기\n",
    "        driver.find_element(By.CSS_SELECTOR,'div.lego_review_list._scroller').click()\n",
    "        time.sleep(1)\n",
    "\n",
    "        for j in range(0,2):\n",
    "            driver.find_element(By.XPATH,'/html/body').send_keys(Keys.END)\n",
    "            time.sleep(1)\n",
    "\n",
    "        # 평론가 클릭 및 스크롤 내리기\n",
    "        driver.find_element(By.CSS_SELECTOR,'div.cm_tap_area._tab_wrap ul li:nth-child(2) a span').click()\n",
    "        driver.find_element(By.CSS_SELECTOR,'div.lego_critic_outer._scroller').click()\n",
    "        time.sleep(1)\n",
    "\n",
    "        for k in range(0,2):\n",
    "            driver.find_element(By.XPATH,'/html/body').send_keys(Keys.END)\n",
    "            time.sleep(1)\n",
    "        \n",
    "        # 평론가 리뷰 중 가려진 텍스트 펼치기\n",
    "        for num in range(1,len(driver.find_elements(By.CSS_SELECTOR,'div.lego_critic_outer._scroller ul.area_ulist li'))+1):\n",
    "            try: \n",
    "                driver.find_element(By.CSS_SELECTOR,f'div.lego_critic_outer._scroller ul.area_ulist li:nth-child({num}) div.area_text_expand button').click()\n",
    "                time.sleep(1)\n",
    "            except:\n",
    "                pass \n",
    "        \n",
    "        # soup에 html 담기\n",
    "        soup = BeautifulSoup(driver.page_source, \"html.parser\")\n",
    "        \n",
    "        # 변수 초기화\n",
    "        제목 = \"-\"\n",
    "        전체 = \"-\"\n",
    "        참여자수 = \"-\"\n",
    "        남자 = \"-\"\n",
    "        여자 = \"-\"\n",
    "\n",
    "        _10대 = \"-\"\n",
    "        _20대 = \"-\"\n",
    "        _30대 = \"-\"\n",
    "        _40대 = \"-\"\n",
    "        _50대 = \"-\"\n",
    "\n",
    "        \n",
    "        # 변수에 해당되는 값 추출해서 담기\n",
    "        제목 = soup.select_one('div._au_movie_content_wrap span strong._text').text\n",
    "        전체 = soup.select_one('span.area_star_number').text\n",
    "        참여자수 = soup.select_one('span.area_people').text.split('명 참여')[0]\n",
    "        남자 = soup.select_one('div.area_card_male span.area_star_number').text\n",
    "        여자 = soup.select_one('div.area_card_female span.area_star_number').text\n",
    "\n",
    "        _10대 = soup.select_one('div.lego_rating_box_age ul.area_graph_age li:nth-child(1) span.this_text_num').text\n",
    "        _20대 = soup.select_one('div.lego_rating_box_age ul.area_graph_age li:nth-child(2) span.this_text_num').text\n",
    "        _30대 = soup.select_one('div.lego_rating_box_age ul.area_graph_age li:nth-child(3) span.this_text_num').text\n",
    "        _40대 = soup.select_one('div.lego_rating_box_age ul.area_graph_age li:nth-child(4) span.this_text_num').text\n",
    "        _50대 = soup.select_one('div.lego_rating_box_age ul.area_graph_age li:nth-child(5) span.this_text_num').text\n",
    "\n",
    "        # 빈 리스트 만들기\n",
    "        df4 = []\n",
    "        df5 = []\n",
    "\n",
    "        # 관람객 리뷰\n",
    "        lis1 = soup.select('div.lego_review_list._scroller ul._item_wrapper li')\n",
    "        \n",
    "        관람객별점 = '-'\n",
    "        관람객리뷰 = '-'\n",
    "        \n",
    "        for li1 in lis1:\n",
    "            관람객별점 = li1.select_one('div.area_text_box').text.split('별점(10점 만점 중)')[1]\n",
    "            관람객리뷰 = li1.select_one('div.area_text_expand span.desc._text').text.strip()\n",
    "            df4.append(['관람객', 관람객별점, 관람객리뷰])\n",
    "\n",
    "        # 평론가 리뷰\n",
    "        lis2 = soup.select('div.lego_critic_outer._scroller ul.area_ulist li')\n",
    "        \n",
    "        평론가별점 = '-'\n",
    "        평론가리뷰 = '-'\n",
    "        \n",
    "        for li2 in lis2:\n",
    "            평론가별점 = li2.select_one('div.area_text_box').text.split('별점(10점 만점 중)')[1]\n",
    "            평론가리뷰 = li2.select_one('div.area_text_expand').text.strip()\n",
    "            df5.append(['평론가', 평론가별점, 평론가리뷰])\n",
    "\n",
    "        # 기본정보 클릭 개봉일, 러닝타임 추출\n",
    "        driver.find_element(By.CSS_SELECTOR,'div.sub_tap_area._scrolling_wrapper_common_tab._scroll_mover ul li:nth-child(2)').click()\n",
    "        time.sleep(3)\n",
    "\n",
    "        sub_soup = BeautifulSoup(driver.page_source, \"html.parser\")\n",
    "    \n",
    "        divs = sub_soup.select('div.cm_content_area._cm_content_area_info div.detail_info dl div')\n",
    "        \n",
    "        러닝타임 = '-'\n",
    "        개봉 = '-'\n",
    "\n",
    "        for div in divs:\n",
    "            if '러닝타임' in div.text:\n",
    "                러닝타임 = div.text.split()[1]\n",
    "            elif '개봉' in div.text:\n",
    "                개봉 = datetime.strptime(div.text.split()[1], '%Y.%m.%d.')\n",
    "\n",
    "         \n",
    "        # [평점]\n",
    "        # 역대 기본 정보와 크롤링한 정보 합치기\n",
    "        df2_list = [[제목, 러닝타임, 개봉, 전체, 참여자수, 남자, 여자, _10대, _20대, _30대, _40대, _50대]]\n",
    "        df2 = pd.DataFrame(df2_list, columns = ['제목', '러닝타임', '개봉', '전체', '참여자수', '남자', '여자', '_10대', '_20대', '_30대', '_40대', '_50대'], index=[i])\n",
    "        df3 = pd.concat([info_df, df2], axis=1)\n",
    "        \n",
    "        # 최종 데이터프레임에 추가하기\n",
    "        df1 = pd.concat([df1, df3])\n",
    "        \n",
    "        # [리뷰]\n",
    "        # 역대 기본 정보 영화명, 개봉일과 크롤링한 정보 합치기\n",
    "        df4 = pd.DataFrame(df4, columns = ['구분','별점','리뷰'])\n",
    "        df4['제목'] = 제목\n",
    "        df4['개봉'] = 개봉\n",
    "        df4['영화명'] = info['영화명']\n",
    "        df4['개봉일'] = info['개봉일']\n",
    "\n",
    "        df5 = pd.DataFrame(df5, columns = ['구분','별점','리뷰'])\n",
    "        df5['제목'] = 제목\n",
    "        df5['개봉'] = 개봉\n",
    "        df5['영화명'] = info['영화명']\n",
    "        df5['개봉일'] = info['개봉일']\n",
    "         \n",
    "        df6 = pd.concat([df4,df5])\n",
    "        df7 = pd.concat([df7,df6])\n",
    "        \n",
    "    # 실패시 fail_list에 영화명 개봉일 담기 \n",
    "    except:\n",
    "        print(info['영화명'])\n",
    "        fail_list.append([info['영화명'],info['개봉일']])\n",
    "        \n",
    "# 최종 데이터 프레임 컬럼명 설정\n",
    "best_movie_star = pd.DataFrame(df1, columns=['순위', '영화명', '개봉일', '매출액', '관객수', '스크린수', '상영횟수', '대표국적', '국적', '배급사', \n",
    "                                             '제목', '러닝타임', '개봉', '전체', '참여자수', '남자', '여자', '_10대', '_20대', '_30대', '_40대', '_50대'])\n",
    "best_movie_review = pd.DataFrame(df7, columns=['구분','별점','리뷰','제목','개봉','영화명','개봉일'])\n",
    "best_movie_review = best_movie_review[['영화명','개봉일', '제목','개봉', '구분','별점','리뷰']]\n",
    "fail_list_df = pd.DataFrame(fail_list, columns=['영화명','개봉일'])"
   ]
  },
  {
   "cell_type": "code",
   "execution_count": 61,
   "id": "53b6d79e",
   "metadata": {},
   "outputs": [],
   "source": [
    "best_movie_star_df = pd.read_excel('[크롤링] 역대_네이버_영화_평점_수정.xlsx')\n",
    "best_movie_review_df = pd.read_excel('[크롤링] 역대_네이버_영화_리뷰_수정.xlsx')"
   ]
  },
  {
   "cell_type": "code",
   "execution_count": 69,
   "id": "2bab78df",
   "metadata": {},
   "outputs": [],
   "source": [
    "best_movie_star_df = pd.concat([best_movie_star_df, best_movie_star])\n",
    "best_movie_review_df = pd.concat([best_movie_review_df, best_movie_review])"
   ]
  },
  {
   "cell_type": "code",
   "execution_count": 70,
   "id": "3aaffe72",
   "metadata": {
    "scrolled": true
   },
   "outputs": [],
   "source": [
    "best_movie_star_df.to_excel('[크롤링] 역대_네이버_영화_평점_수정1.xlsx', index=False)\n",
    "best_movie_review_df.to_excel('[크롤링] 역대_네이버_영화_리뷰_수정1.xlsx', index=False)"
   ]
  },
  {
   "cell_type": "code",
   "execution_count": 67,
   "id": "b1ae78d5",
   "metadata": {},
   "outputs": [
    {
     "data": {
      "text/html": [
       "<div>\n",
       "<style scoped>\n",
       "    .dataframe tbody tr th:only-of-type {\n",
       "        vertical-align: middle;\n",
       "    }\n",
       "\n",
       "    .dataframe tbody tr th {\n",
       "        vertical-align: top;\n",
       "    }\n",
       "\n",
       "    .dataframe thead th {\n",
       "        text-align: right;\n",
       "    }\n",
       "</style>\n",
       "<table border=\"1\" class=\"dataframe\">\n",
       "  <thead>\n",
       "    <tr style=\"text-align: right;\">\n",
       "      <th></th>\n",
       "      <th>영화명</th>\n",
       "      <th>개봉일</th>\n",
       "      <th>제목</th>\n",
       "      <th>개봉</th>\n",
       "      <th>구분</th>\n",
       "      <th>별점</th>\n",
       "      <th>리뷰</th>\n",
       "    </tr>\n",
       "  </thead>\n",
       "  <tbody>\n",
       "  </tbody>\n",
       "</table>\n",
       "</div>"
      ],
      "text/plain": [
       "Empty DataFrame\n",
       "Columns: [영화명, 개봉일, 제목, 개봉, 구분, 별점, 리뷰]\n",
       "Index: []"
      ]
     },
     "execution_count": 67,
     "metadata": {},
     "output_type": "execute_result"
    }
   ],
   "source": [
    "best_movie_review[best_movie_review[\"개봉일\"]!=best_movie_review['개봉']]"
   ]
  },
  {
   "cell_type": "code",
   "execution_count": 95,
   "id": "e0896c03",
   "metadata": {},
   "outputs": [],
   "source": [
    "df = best_movie_review_df[best_movie_review_df['구분']==\"관람객\"]['영화명'].value_counts().to_frame()"
   ]
  },
  {
   "cell_type": "code",
   "execution_count": 100,
   "id": "ee07c682",
   "metadata": {
    "scrolled": true
   },
   "outputs": [
    {
     "data": {
      "text/html": [
       "<div>\n",
       "<style scoped>\n",
       "    .dataframe tbody tr th:only-of-type {\n",
       "        vertical-align: middle;\n",
       "    }\n",
       "\n",
       "    .dataframe tbody tr th {\n",
       "        vertical-align: top;\n",
       "    }\n",
       "\n",
       "    .dataframe thead th {\n",
       "        text-align: right;\n",
       "    }\n",
       "</style>\n",
       "<table border=\"1\" class=\"dataframe\">\n",
       "  <thead>\n",
       "    <tr style=\"text-align: right;\">\n",
       "      <th></th>\n",
       "      <th>영화명</th>\n",
       "    </tr>\n",
       "  </thead>\n",
       "  <tbody>\n",
       "    <tr>\n",
       "      <th>다크 나이트 라이즈</th>\n",
       "      <td>16</td>\n",
       "    </tr>\n",
       "    <tr>\n",
       "      <th>어벤져스</th>\n",
       "      <td>10</td>\n",
       "    </tr>\n",
       "    <tr>\n",
       "      <th>아바타</th>\n",
       "      <td>10</td>\n",
       "    </tr>\n",
       "  </tbody>\n",
       "</table>\n",
       "</div>"
      ],
      "text/plain": [
       "            영화명\n",
       "다크 나이트 라이즈   16\n",
       "어벤져스         10\n",
       "아바타          10"
      ]
     },
     "execution_count": 100,
     "metadata": {},
     "output_type": "execute_result"
    }
   ],
   "source": [
    "df[df['영화명']<30]"
   ]
  },
  {
   "cell_type": "markdown",
   "id": "1a2bbcc0",
   "metadata": {},
   "source": [
    "# 영화명 하나씩 가져오기"
   ]
  },
  {
   "cell_type": "code",
   "execution_count": 40,
   "id": "6b5348de",
   "metadata": {},
   "outputs": [],
   "source": [
    "best_movie = pd.read_excel(\"[KOBIS] 역대_박스오피스(2023.05.11).xlsx\", header=4, engine=\"openpyxl\")\n",
    "\n",
    "df1 = pd.DataFrame(columns = ['순위', '영화명', '개봉일', '매출액', '관객수', '스크린수', '상영횟수', '대표국적', '국적', '배급사', \n",
    "                              '제목', '러닝타임', '개봉', '전체', '참여자수', '남자', '여자', '_10대', '_20대', '_30대', '_40대', '_50대'])\n",
    "df7 = pd.DataFrame(columns = ['구분','별점','리뷰','제목','개봉','영화명','개봉일'])\n",
    "\n",
    "fail_list=[]\n",
    "\n",
    "# 셀레니움으로 네이버 창 열기\n",
    "driver = webdriver.Chrome()\n",
    "time.sleep(2)\n",
    "url = \"https://search.naver.com/search.naver?sm=tab_hty.top&where=nexearch&query=%EC%98%81%ED%99%94+%EB%AA%85%EB%9F%89+%ED%8F%89%EC%A0%90&oquery=%EC%98%81%ED%99%94+%EB%AA%85%EB%9F%89+%ED%8F%89%EC%A0%90&tqi=iaXngsp0Jywssd6FGoKssssstH0-119566\"\n",
    "driver.get(url)\n",
    "time.sleep(3)\n",
    "\n",
    "fail_list_link = pd.read_excel('[크롤링] 역대_네이버_영화_실패_수정.xlsx')\n",
    "\n",
    "movie_keyword = '아바타'\n",
    "\n",
    "i = int(best_movie[best_movie['영화명']==movie_keyword]['순위'])- 1\n",
    "info = best_movie.iloc[i]\n",
    "info_df = best_movie.iloc[i:i+1]\n",
    "\n",
    "try: \n",
    "    # 검색어 설정\n",
    "    keyword = \"영화 \"+ str(movie_keyword) +\" 평점\"\n",
    "\n",
    "    # 검색어 입력 및 검색\n",
    "    sub_url = fail_list_link[fail_list_link['영화명']==movie_keyword].iloc[0][\"링크\"]\n",
    "    driver.get(sub_url)\n",
    "    time.sleep(3)\n",
    "\n",
    "    # 리뷰 공감순 선택\n",
    "    driver.find_element(By.CSS_SELECTOR, 'li.tab._sorting_select_order._trigger span.ico_check_wrap').click()\n",
    "    time.sleep(2)\n",
    "    driver.find_element(By.CSS_SELECTOR, 'div.cm_filter_area._root._sorting_select_order ul li:nth-child(1) a').click()\n",
    "    time.sleep(2)\n",
    "\n",
    "    # 관람객 리뷰 스크롤 내리기\n",
    "    driver.find_element(By.CSS_SELECTOR,'div.lego_review_list._scroller').click()\n",
    "    time.sleep(1)\n",
    "\n",
    "    for j in range(0,2):\n",
    "        driver.find_element(By.XPATH,'/html/body').send_keys(Keys.END)\n",
    "        time.sleep(1)\n",
    "\n",
    "    # 평론가 클릭 및 스크롤 내리기\n",
    "    driver.find_element(By.CSS_SELECTOR,'div.cm_tap_area._tab_wrap ul li:nth-child(2) a span').click()\n",
    "    driver.find_element(By.CSS_SELECTOR,'div.lego_critic_outer._scroller').click()\n",
    "    time.sleep(1)\n",
    "\n",
    "    for k in range(0,2):\n",
    "        driver.find_element(By.XPATH,'/html/body').send_keys(Keys.END)\n",
    "        time.sleep(1)\n",
    "\n",
    "    # 평론가 리뷰 중 가려진 텍스트 펼치기\n",
    "    for num in range(1,len(driver.find_elements(By.CSS_SELECTOR,'div.lego_critic_outer._scroller ul.area_ulist li'))+1):\n",
    "        try: \n",
    "            driver.find_element(By.CSS_SELECTOR,f'div.lego_critic_outer._scroller ul.area_ulist li:nth-child({num}) div.area_text_expand button').click()\n",
    "            time.sleep(1)\n",
    "        except:\n",
    "            pass \n",
    "\n",
    "    # soup에 html 담기\n",
    "    soup = BeautifulSoup(driver.page_source, \"html.parser\")\n",
    "\n",
    "    # 변수 초기화\n",
    "    제목 = \"-\"\n",
    "    전체 = \"-\"\n",
    "    참여자수 = \"-\"\n",
    "    남자 = \"-\"\n",
    "    여자 = \"-\"\n",
    "\n",
    "    _10대 = \"-\"\n",
    "    _20대 = \"-\"\n",
    "    _30대 = \"-\"\n",
    "    _40대 = \"-\"\n",
    "    _50대 = \"-\"\n",
    "\n",
    "\n",
    "    # 변수에 해당되는 값 추출해서 담기\n",
    "    제목 = soup.select_one('div._au_movie_content_wrap span strong._text').text\n",
    "    전체 = soup.select_one('span.area_star_number').text\n",
    "    참여자수 = soup.select_one('span.area_people').text.split('명 참여')[0]\n",
    "    남자 = soup.select_one('div.area_card_male span.area_star_number').text\n",
    "    여자 = soup.select_one('div.area_card_female span.area_star_number').text\n",
    "\n",
    "    _10대 = soup.select_one('div.lego_rating_box_age ul.area_graph_age li:nth-child(1) span.this_text_num').text\n",
    "    _20대 = soup.select_one('div.lego_rating_box_age ul.area_graph_age li:nth-child(2) span.this_text_num').text\n",
    "    _30대 = soup.select_one('div.lego_rating_box_age ul.area_graph_age li:nth-child(3) span.this_text_num').text\n",
    "    _40대 = soup.select_one('div.lego_rating_box_age ul.area_graph_age li:nth-child(4) span.this_text_num').text\n",
    "    _50대 = soup.select_one('div.lego_rating_box_age ul.area_graph_age li:nth-child(5) span.this_text_num').text\n",
    "\n",
    "    # 빈 리스트 만들기\n",
    "    df4 = []\n",
    "    df5 = []\n",
    "\n",
    "    # 관람객 리뷰\n",
    "    lis1 = soup.select('div.lego_review_list._scroller ul._item_wrapper li')\n",
    "\n",
    "    관람객별점 = '-'\n",
    "    관람객리뷰 = '-'\n",
    "\n",
    "    for li1 in lis1:\n",
    "        관람객별점 = li1.select_one('div.area_text_box').text.split('별점(10점 만점 중)')[1]\n",
    "        관람객리뷰 = li1.select_one('div.area_text_expand span.desc._text').text.strip()\n",
    "        df4.append(['관람객', 관람객별점, 관람객리뷰])\n",
    "\n",
    "    # 평론가 리뷰\n",
    "    lis2 = soup.select('div.lego_critic_outer._scroller ul.area_ulist li')\n",
    "\n",
    "    평론가별점 = '-'\n",
    "    평론가리뷰 = '-'\n",
    "\n",
    "    for li2 in lis2:\n",
    "        평론가별점 = li2.select_one('div.area_text_box').text.split('별점(10점 만점 중)')[1]\n",
    "        평론가리뷰 = li2.select_one('div.area_text_expand').text.strip()\n",
    "        df5.append(['평론가', 평론가별점, 평론가리뷰])\n",
    "\n",
    "    # 기본정보 클릭 개봉일, 러닝타임 추출\n",
    "    driver.find_element(By.CSS_SELECTOR,'div.sub_tap_area._scrolling_wrapper_common_tab._scroll_mover ul li:nth-child(2)').click()\n",
    "    time.sleep(3)\n",
    "\n",
    "    sub_soup = BeautifulSoup(driver.page_source, \"html.parser\")\n",
    "\n",
    "    divs = sub_soup.select('div.cm_content_area._cm_content_area_info div.detail_info dl div')\n",
    "\n",
    "    러닝타임 = '-'\n",
    "    개봉 = '-'\n",
    "\n",
    "    for div in divs:\n",
    "        if '러닝타임' in div.text:\n",
    "            러닝타임 = div.text.split()[1]\n",
    "        elif '개봉' in div.text:\n",
    "            개봉 = datetime.strptime(div.text.split()[1], '%Y.%m.%d.')\n",
    "\n",
    "\n",
    "    # [평점]\n",
    "    # 역대 기본 정보와 크롤링한 정보 합치기\n",
    "    df2_list = [[제목, 러닝타임, 개봉, 전체, 참여자수, 남자, 여자, _10대, _20대, _30대, _40대, _50대]]\n",
    "    df2 = pd.DataFrame(df2_list, columns = ['제목', '러닝타임', '개봉', '전체', '참여자수', '남자', '여자', '_10대', '_20대', '_30대', '_40대', '_50대'], index=[i])\n",
    "    df3 = pd.concat([info_df, df2], axis=1)\n",
    "\n",
    "    # 최종 데이터프레임에 추가하기\n",
    "    df1 = pd.concat([df1, df3])\n",
    "\n",
    "    # [리뷰]\n",
    "    # 역대 기본 정보 영화명, 개봉일과 크롤링한 정보 합치기\n",
    "    df4 = pd.DataFrame(df4, columns = ['구분','별점','리뷰'])\n",
    "    df4['제목'] = 제목\n",
    "    df4['개봉'] = 개봉\n",
    "    df4['영화명'] = info['영화명']\n",
    "    df4['개봉일'] = info['개봉일']\n",
    "\n",
    "    df5 = pd.DataFrame(df5, columns = ['구분','별점','리뷰'])\n",
    "    df5['제목'] = 제목\n",
    "    df5['개봉'] = 개봉\n",
    "    df5['영화명'] = info['영화명']\n",
    "    df5['개봉일'] = info['개봉일']\n",
    "\n",
    "    df6 = pd.concat([df4,df5])\n",
    "    df7 = pd.concat([df7,df6])\n",
    "\n",
    "# 실패시 fail_list에 영화명 개봉일 담기 \n",
    "except:\n",
    "    print(info['영화명'])\n",
    "    fail_list.append([info['영화명'],info['개봉일']])\n",
    "\n",
    "# 최종 데이터 프레임 컬럼명 설정\n",
    "best_movie_star = pd.DataFrame(df1, columns=['순위', '영화명', '개봉일', '매출액', '관객수', '스크린수', '상영횟수', '대표국적', '국적', '배급사', \n",
    "                                         '제목', '러닝타임', '개봉', '전체', '참여자수', '남자', '여자', '_10대', '_20대', '_30대', '_40대', '_50대'])\n",
    "best_movie_review = pd.DataFrame(df7, columns=['구분','별점','리뷰','제목','개봉','영화명','개봉일'])\n",
    "best_movie_review = best_movie_review[['영화명','개봉일', '제목','개봉', '구분','별점','리뷰']]\n",
    "fail_list_df = pd.DataFrame(fail_list, columns=['영화명','개봉일'])"
   ]
  },
  {
   "cell_type": "code",
   "execution_count": 146,
   "id": "037794af",
   "metadata": {},
   "outputs": [],
   "source": [
    "best_movie_star_df = pd.read_excel('[크롤링] 역대_네이버_영화_평점_수정2.xlsx')\n",
    "best_movie_review_df = pd.read_excel('[크롤링] 역대_네이버_영화_리뷰_수정2.xlsx')"
   ]
  },
  {
   "cell_type": "code",
   "execution_count": 147,
   "id": "1be082f3",
   "metadata": {},
   "outputs": [],
   "source": [
    "best_movie_star_df = pd.concat([best_movie_star_df, best_movie_star])\n",
    "best_movie_review_df = pd.concat([best_movie_review_df, best_movie_review])"
   ]
  },
  {
   "cell_type": "code",
   "execution_count": 148,
   "id": "3612161f",
   "metadata": {},
   "outputs": [],
   "source": [
    "best_movie_star_df.to_excel('[크롤링] 역대_네이버_영화_평점_수정3.xlsx', index=False)\n",
    "best_movie_review_df.to_excel('[크롤링] 역대_네이버_영화_리뷰_수정3.xlsx', index=False)"
   ]
  },
  {
   "cell_type": "markdown",
   "id": "55efb982",
   "metadata": {},
   "source": [
    "# 이상요인 판단"
   ]
  },
  {
   "cell_type": "code",
   "execution_count": 151,
   "id": "b3a1b4a7",
   "metadata": {},
   "outputs": [],
   "source": [
    "best_movie_star_df = pd.read_excel('[크롤링] 역대_네이버_영화_평점_최종_수정.xlsx')\n",
    "best_movie_review_df = pd.read_excel('[크롤링] 역대_네이버_영화_리뷰_최종_수정.xlsx')"
   ]
  },
  {
   "cell_type": "code",
   "execution_count": 152,
   "id": "94d03858",
   "metadata": {
    "scrolled": true
   },
   "outputs": [
    {
     "data": {
      "text/html": [
       "<div>\n",
       "<style scoped>\n",
       "    .dataframe tbody tr th:only-of-type {\n",
       "        vertical-align: middle;\n",
       "    }\n",
       "\n",
       "    .dataframe tbody tr th {\n",
       "        vertical-align: top;\n",
       "    }\n",
       "\n",
       "    .dataframe thead th {\n",
       "        text-align: right;\n",
       "    }\n",
       "</style>\n",
       "<table border=\"1\" class=\"dataframe\">\n",
       "  <thead>\n",
       "    <tr style=\"text-align: right;\">\n",
       "      <th></th>\n",
       "      <th></th>\n",
       "      <th>구분</th>\n",
       "    </tr>\n",
       "    <tr>\n",
       "      <th>영화명</th>\n",
       "      <th>구분</th>\n",
       "      <th></th>\n",
       "    </tr>\n",
       "  </thead>\n",
       "  <tbody>\n",
       "    <tr>\n",
       "      <th rowspan=\"2\" valign=\"top\">1987</th>\n",
       "      <th>관람객</th>\n",
       "      <td>30</td>\n",
       "    </tr>\n",
       "    <tr>\n",
       "      <th>평론가</th>\n",
       "      <td>10</td>\n",
       "    </tr>\n",
       "    <tr>\n",
       "      <th rowspan=\"2\" valign=\"top\">2012</th>\n",
       "      <th>관람객</th>\n",
       "      <td>30</td>\n",
       "    </tr>\n",
       "    <tr>\n",
       "      <th>평론가</th>\n",
       "      <td>10</td>\n",
       "    </tr>\n",
       "    <tr>\n",
       "      <th>7급 공무원</th>\n",
       "      <th>관람객</th>\n",
       "      <td>30</td>\n",
       "    </tr>\n",
       "    <tr>\n",
       "      <th>...</th>\n",
       "      <th>...</th>\n",
       "      <td>...</td>\n",
       "    </tr>\n",
       "    <tr>\n",
       "      <th>혹성탈출: 반격의 서막</th>\n",
       "      <th>평론가</th>\n",
       "      <td>10</td>\n",
       "    </tr>\n",
       "    <tr>\n",
       "      <th rowspan=\"2\" valign=\"top\">화려한 휴가</th>\n",
       "      <th>관람객</th>\n",
       "      <td>30</td>\n",
       "    </tr>\n",
       "    <tr>\n",
       "      <th>평론가</th>\n",
       "      <td>8</td>\n",
       "    </tr>\n",
       "    <tr>\n",
       "      <th rowspan=\"2\" valign=\"top\">히말라야</th>\n",
       "      <th>관람객</th>\n",
       "      <td>30</td>\n",
       "    </tr>\n",
       "    <tr>\n",
       "      <th>평론가</th>\n",
       "      <td>10</td>\n",
       "    </tr>\n",
       "  </tbody>\n",
       "</table>\n",
       "<p>398 rows × 1 columns</p>\n",
       "</div>"
      ],
      "text/plain": [
       "                  구분\n",
       "영화명          구분     \n",
       "1987         관람객  30\n",
       "             평론가  10\n",
       "2012         관람객  30\n",
       "             평론가  10\n",
       "7급 공무원       관람객  30\n",
       "...               ..\n",
       "혹성탈출: 반격의 서막 평론가  10\n",
       "화려한 휴가       관람객  30\n",
       "             평론가   8\n",
       "히말라야         관람객  30\n",
       "             평론가  10\n",
       "\n",
       "[398 rows x 1 columns]"
      ]
     },
     "execution_count": 152,
     "metadata": {},
     "output_type": "execute_result"
    }
   ],
   "source": [
    "best_movie_review_df.groupby(['영화명', '구분'])['구분'].count().to_frame()"
   ]
  },
  {
   "cell_type": "code",
   "execution_count": 155,
   "id": "17959f26",
   "metadata": {},
   "outputs": [
    {
     "data": {
      "text/html": [
       "<div>\n",
       "<style scoped>\n",
       "    .dataframe tbody tr th:only-of-type {\n",
       "        vertical-align: middle;\n",
       "    }\n",
       "\n",
       "    .dataframe tbody tr th {\n",
       "        vertical-align: top;\n",
       "    }\n",
       "\n",
       "    .dataframe thead th {\n",
       "        text-align: right;\n",
       "    }\n",
       "</style>\n",
       "<table border=\"1\" class=\"dataframe\">\n",
       "  <thead>\n",
       "    <tr style=\"text-align: right;\">\n",
       "      <th></th>\n",
       "      <th>영화명</th>\n",
       "    </tr>\n",
       "  </thead>\n",
       "  <tbody>\n",
       "    <tr>\n",
       "      <th>어벤져스</th>\n",
       "      <td>20</td>\n",
       "    </tr>\n",
       "    <tr>\n",
       "      <th>아바타</th>\n",
       "      <td>19</td>\n",
       "    </tr>\n",
       "    <tr>\n",
       "      <th>다크 나이트 라이즈</th>\n",
       "      <td>16</td>\n",
       "    </tr>\n",
       "  </tbody>\n",
       "</table>\n",
       "</div>"
      ],
      "text/plain": [
       "            영화명\n",
       "어벤져스         20\n",
       "아바타          19\n",
       "다크 나이트 라이즈   16"
      ]
     },
     "execution_count": 155,
     "metadata": {},
     "output_type": "execute_result"
    }
   ],
   "source": [
    "df = best_movie_review_df[best_movie_review_df['구분']==\"관람객\"]['영화명'].value_counts().to_frame()\n",
    "df[df['영화명']<30]"
   ]
  },
  {
   "cell_type": "code",
   "execution_count": 162,
   "id": "fd8e3df4",
   "metadata": {},
   "outputs": [
    {
     "data": {
      "text/html": [
       "<div>\n",
       "<style scoped>\n",
       "    .dataframe tbody tr th:only-of-type {\n",
       "        vertical-align: middle;\n",
       "    }\n",
       "\n",
       "    .dataframe tbody tr th {\n",
       "        vertical-align: top;\n",
       "    }\n",
       "\n",
       "    .dataframe thead th {\n",
       "        text-align: right;\n",
       "    }\n",
       "</style>\n",
       "<table border=\"1\" class=\"dataframe\">\n",
       "  <thead>\n",
       "    <tr style=\"text-align: right;\">\n",
       "      <th></th>\n",
       "      <th>별점</th>\n",
       "    </tr>\n",
       "  </thead>\n",
       "  <tbody>\n",
       "    <tr>\n",
       "      <th>10.0</th>\n",
       "      <td>3548</td>\n",
       "    </tr>\n",
       "    <tr>\n",
       "      <th>9.0</th>\n",
       "      <td>695</td>\n",
       "    </tr>\n",
       "    <tr>\n",
       "      <th>8.0</th>\n",
       "      <td>555</td>\n",
       "    </tr>\n",
       "    <tr>\n",
       "      <th>1.0</th>\n",
       "      <td>374</td>\n",
       "    </tr>\n",
       "    <tr>\n",
       "      <th>7.0</th>\n",
       "      <td>237</td>\n",
       "    </tr>\n",
       "    <tr>\n",
       "      <th>6.0</th>\n",
       "      <td>198</td>\n",
       "    </tr>\n",
       "    <tr>\n",
       "      <th>5.0</th>\n",
       "      <td>116</td>\n",
       "    </tr>\n",
       "    <tr>\n",
       "      <th>4.0</th>\n",
       "      <td>97</td>\n",
       "    </tr>\n",
       "    <tr>\n",
       "      <th>2.0</th>\n",
       "      <td>78</td>\n",
       "    </tr>\n",
       "    <tr>\n",
       "      <th>3.0</th>\n",
       "      <td>67</td>\n",
       "    </tr>\n",
       "  </tbody>\n",
       "</table>\n",
       "</div>"
      ],
      "text/plain": [
       "        별점\n",
       "10.0  3548\n",
       "9.0    695\n",
       "8.0    555\n",
       "1.0    374\n",
       "7.0    237\n",
       "6.0    198\n",
       "5.0    116\n",
       "4.0     97\n",
       "2.0     78\n",
       "3.0     67"
      ]
     },
     "execution_count": 162,
     "metadata": {},
     "output_type": "execute_result"
    }
   ],
   "source": [
    "# 관람객 리뷰 별점\n",
    "best_movie_review_df[best_movie_review_df['구분']==\"관람객\"]['별점'].value_counts().to_frame()"
   ]
  }
 ],
 "metadata": {
  "kernelspec": {
   "display_name": "Python 3 (ipykernel)",
   "language": "python",
   "name": "python3"
  },
  "language_info": {
   "codemirror_mode": {
    "name": "ipython",
    "version": 3
   },
   "file_extension": ".py",
   "mimetype": "text/x-python",
   "name": "python",
   "nbconvert_exporter": "python",
   "pygments_lexer": "ipython3",
   "version": "3.8.7"
  }
 },
 "nbformat": 4,
 "nbformat_minor": 5
}
