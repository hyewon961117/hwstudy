{
 "cells": [
  {
   "cell_type": "code",
   "execution_count": 1,
   "id": "15c9849e",
   "metadata": {},
   "outputs": [],
   "source": [
    "# https://youtube-rank.com/board/bbs/board.php?bo_table=youtube"
   ]
  },
  {
   "cell_type": "code",
   "execution_count": null,
   "id": "a086dd11",
   "metadata": {},
   "outputs": [],
   "source": [
    "# 순위, 카테고리, 채널, 구독"
   ]
  }
 ],
 "metadata": {
  "kernelspec": {
   "display_name": "Python 3 (ipykernel)",
   "language": "python",
   "name": "python3"
  },
  "language_info": {
   "codemirror_mode": {
    "name": "ipython",
    "version": 3
   },
   "file_extension": ".py",
   "mimetype": "text/x-python",
   "name": "python",
   "nbconvert_exporter": "python",
   "pygments_lexer": "ipython3",
   "version": "3.8.7"
  }
 },
 "nbformat": 4,
 "nbformat_minor": 5
}
