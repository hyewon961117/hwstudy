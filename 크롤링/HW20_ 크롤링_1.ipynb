{
 "cells": [
  {
   "cell_type": "markdown",
   "id": "368e2561",
   "metadata": {},
   "source": [
    "# 크롤링 안될때 참고 링크\n",
    "https://m.blog.naver.com/PostView.naver?isHttpsRedirect=true&blogId=kiddwannabe&logNo=221185808375"
   ]
  },
  {
   "cell_type": "markdown",
   "id": "9a069426",
   "metadata": {},
   "source": [
    "# 코랩"
   ]
  },
  {
   "cell_type": "markdown",
   "id": "a4e734cc",
   "metadata": {},
   "source": [
    "from bs4 import BeautifulSoup\n",
    "with open('00.Example.html') as f :\n",
    "  soup = BeautifulSoup(f, 'html.parser')\n",
    "soup"
   ]
  },
  {
   "cell_type": "markdown",
   "id": "37d7ae66",
   "metadata": {},
   "source": [
    "# 주피터 노트북"
   ]
  },
  {
   "cell_type": "code",
   "execution_count": 78,
   "id": "7caf7d3a",
   "metadata": {},
   "outputs": [],
   "source": [
    "from bs4 import BeautifulSoup"
   ]
  },
  {
   "cell_type": "code",
   "execution_count": 79,
   "id": "443ad60f",
   "metadata": {},
   "outputs": [],
   "source": [
    "with open('00.Example.html', encoding='utf8') as f :\n",
    "    soup = BeautifulSoup(f, 'html.parser')"
   ]
  },
  {
   "cell_type": "code",
   "execution_count": 80,
   "id": "e32ab6a3",
   "metadata": {},
   "outputs": [
    {
     "data": {
      "text/plain": [
       "<!DOCTYPE html>\n",
       "\n",
       "<html lang=\"en\">\n",
       "<head>\n",
       "<meta charset=\"utf-8\"/>\n",
       "<meta content=\"IE=edge\" http-equiv=\"X-UA-Compatible\"/>\n",
       "<meta content=\"width=device-width, initial-scale=1.0\" name=\"viewport\"/>\n",
       "<title>Web Crawling Example</title>\n",
       "</head>\n",
       "<body>\n",
       "<div>\n",
       "<p>a</p><p>b</p><p>c</p>\n",
       "</div>\n",
       "<div class=\"ex_class sample\">\n",
       "<p>X</p><p>Y</p><p>Z</p>\n",
       "</div>\n",
       "<div id=\"ex_id\">\n",
       "<p>1</p><p>2</p><p>3</p>\n",
       "</div>\n",
       "<h1>This is a heading.</h1>\n",
       "<p>This is a paragraph.</p>\n",
       "<p>This is another paragraph.</p>\n",
       "<a class=\"a sample\" href=\"www.naver.com\">네이버</a>\n",
       "<table border=\"1\">\n",
       "<tr>\n",
       "<td>A</td>\n",
       "<td>B</td>\n",
       "<td>C</td>\n",
       "</tr>\n",
       "<tr>\n",
       "<td>x</td>\n",
       "<td>y</td>\n",
       "<td>z</td>\n",
       "</tr>\n",
       "</table>\n",
       "<ul>\n",
       "<li>삼겹살</li>\n",
       "<li>치킨</li>\n",
       "<li>비빕밥</li>\n",
       "</ul>\n",
       "</body>\n",
       "</html>"
      ]
     },
     "execution_count": 80,
     "metadata": {},
     "output_type": "execute_result"
    }
   ],
   "source": [
    "soup"
   ]
  },
  {
   "cell_type": "markdown",
   "id": "76169c29",
   "metadata": {},
   "source": [
    "# 1. find(), find_all()"
   ]
  },
  {
   "cell_type": "code",
   "execution_count": 81,
   "id": "bdc1821d",
   "metadata": {},
   "outputs": [],
   "source": [
    "#첫번째 d iv 태그의 내용을 가져오기\n",
    "first_div = soup.find('div')"
   ]
  },
  {
   "cell_type": "code",
   "execution_count": 82,
   "id": "33b54831",
   "metadata": {},
   "outputs": [
    {
     "name": "stdout",
     "output_type": "stream",
     "text": [
      "<div>\n",
      "<p>a</p><p>b</p><p>c</p>\n",
      "</div>\n"
     ]
    }
   ],
   "source": [
    "print(first_div)"
   ]
  },
  {
   "cell_type": "code",
   "execution_count": 83,
   "id": "e8b5ecb0",
   "metadata": {},
   "outputs": [
    {
     "name": "stdout",
     "output_type": "stream",
     "text": [
      "[<p>a</p>, <p>b</p>, <p>c</p>]\n"
     ]
    }
   ],
   "source": [
    "# p태그 모두 배열형태로 가져오기\n",
    "ps = first_div.find_all('p')\n",
    "print(ps)"
   ]
  },
  {
   "cell_type": "code",
   "execution_count": 84,
   "id": "a5d9f3e0",
   "metadata": {},
   "outputs": [
    {
     "name": "stdout",
     "output_type": "stream",
     "text": [
      "<p>a</p>\n",
      "<p>b</p>\n",
      "<p>c</p>\n"
     ]
    }
   ],
   "source": [
    "for ptag in ps:\n",
    "    print(ptag)"
   ]
  },
  {
   "cell_type": "code",
   "execution_count": 85,
   "id": "35989ca6",
   "metadata": {},
   "outputs": [
    {
     "data": {
      "text/plain": [
       "<p>b</p>"
      ]
     },
     "execution_count": 85,
     "metadata": {},
     "output_type": "execute_result"
    }
   ],
   "source": [
    "ps[1] # 인덱싱 가능"
   ]
  },
  {
   "cell_type": "markdown",
   "id": "45b0376b",
   "metadata": {},
   "source": [
    "# 2. CSS selector : select_one, select()"
   ]
  },
  {
   "cell_type": "code",
   "execution_count": 86,
   "id": "b55542a3",
   "metadata": {},
   "outputs": [
    {
     "name": "stdout",
     "output_type": "stream",
     "text": [
      "<div class=\"ex_class sample\">\n",
      "<p>X</p><p>Y</p><p>Z</p>\n",
      "</div>\n"
     ]
    }
   ],
   "source": [
    "# class 명이 ex_class인 태그 정보 가져오기\n",
    "second_div = soup.select_one('.ex_class')\n",
    "print(second_div)"
   ]
  },
  {
   "cell_type": "code",
   "execution_count": 87,
   "id": "4fc5a346",
   "metadata": {},
   "outputs": [
    {
     "name": "stdout",
     "output_type": "stream",
     "text": [
      "<div class=\"ex_class sample\">\n",
      "<p>X</p><p>Y</p><p>Z</p>\n",
      "</div>\n"
     ]
    }
   ],
   "source": [
    "# 중복이 있다면, soup.select_one('.ex_class.sample2')\n",
    "# class앞에 공백으로 되어 있을 때는 .을 추가시켜서 더 자세한 경로를 설정할 수 있음\n",
    "# 여러개의 클래스 이름을 가져올때\n",
    "second_div = soup.select_one('.ex_class.sample')\n",
    "print(second_div)"
   ]
  },
  {
   "cell_type": "code",
   "execution_count": 88,
   "id": "2c9f1ae4",
   "metadata": {},
   "outputs": [
    {
     "name": "stdout",
     "output_type": "stream",
     "text": [
      "[<div class=\"ex_class sample\">\n",
      "<p>X</p><p>Y</p><p>Z</p>\n",
      "</div>, <a class=\"a sample\" href=\"www.naver.com\">네이버</a>]\n"
     ]
    }
   ],
   "source": [
    "# 리스트 형태로 콤마로 구분되어있음\n",
    "third_div = soup.select(\".sample\")\n",
    "print(third_div)"
   ]
  },
  {
   "cell_type": "code",
   "execution_count": 89,
   "id": "d6a50d9f",
   "metadata": {},
   "outputs": [
    {
     "name": "stdout",
     "output_type": "stream",
     "text": [
      "<div id=\"ex_id\">\n",
      "<p>1</p><p>2</p><p>3</p>\n",
      "</div>\n"
     ]
    }
   ],
   "source": [
    "third_div_id = soup.select_one(\"#ex_id\")\n",
    "print(third_div_id)"
   ]
  },
  {
   "cell_type": "code",
   "execution_count": 90,
   "id": "09ec961e",
   "metadata": {},
   "outputs": [
    {
     "name": "stdout",
     "output_type": "stream",
     "text": [
      "[<div>\n",
      "<p>a</p><p>b</p><p>c</p>\n",
      "</div>, <div class=\"ex_class sample\">\n",
      "<p>X</p><p>Y</p><p>Z</p>\n",
      "</div>, <div id=\"ex_id\">\n",
      "<p>1</p><p>2</p><p>3</p>\n",
      "</div>]\n",
      "3\n"
     ]
    }
   ],
   "source": [
    "# div 태그 전부 가져오기와 개수\n",
    "all_div = soup.select(\"div\")\n",
    "print(all_div)\n",
    "print(len(all_div))"
   ]
  },
  {
   "cell_type": "code",
   "execution_count": 91,
   "id": "0bba26ce",
   "metadata": {},
   "outputs": [
    {
     "name": "stdout",
     "output_type": "stream",
     "text": [
      "[<p>a</p>, <p>b</p>, <p>c</p>, <p>X</p>, <p>Y</p>, <p>Z</p>, <p>1</p>, <p>2</p>, <p>3</p>, <p>This is a paragraph.</p>, <p>This is another paragraph.</p>]\n",
      "11\n"
     ]
    }
   ],
   "source": [
    "# p 태그 전부 가져오기와 개수\n",
    "all_p = soup.select(\"p\")\n",
    "print(all_p)\n",
    "print(len(all_p))"
   ]
  },
  {
   "cell_type": "code",
   "execution_count": 98,
   "id": "bdfe07da",
   "metadata": {},
   "outputs": [
    {
     "data": {
      "text/plain": [
       "<a class=\"a sample\" href=\"www.naver.com\">네이버</a>"
      ]
     },
     "execution_count": 98,
     "metadata": {},
     "output_type": "execute_result"
    }
   ],
   "source": [
    "# 태그가 a이고 class 이름도 a인 정보 가져오기\n",
    "# soup.select_one('a.a')\n",
    "soup.select_one('.a')"
   ]
  },
  {
   "cell_type": "code",
   "execution_count": 99,
   "id": "5b2c2fdf",
   "metadata": {},
   "outputs": [
    {
     "data": {
      "text/plain": [
       "<div id=\"ex_id\">\n",
       "<p>1</p><p>2</p><p>3</p>\n",
       "</div>"
      ]
     },
     "execution_count": 99,
     "metadata": {},
     "output_type": "execute_result"
    }
   ],
   "source": [
    "# 태그가 div이고 id가 ex_id인 정보 가져오기\n",
    "soup.select_one(\"div#ex_id\")"
   ]
  },
  {
   "cell_type": "markdown",
   "id": "a3c4a3ac",
   "metadata": {},
   "source": [
    "# 결과"
   ]
  },
  {
   "cell_type": "code",
   "execution_count": 103,
   "id": "b01fef1f",
   "metadata": {},
   "outputs": [
    {
     "data": {
      "text/plain": [
       "'This is a heading.'"
      ]
     },
     "execution_count": 103,
     "metadata": {},
     "output_type": "execute_result"
    }
   ],
   "source": [
    "# 태그 안의 내용\n",
    "soup.find('h1').get_text()"
   ]
  },
  {
   "cell_type": "code",
   "execution_count": 104,
   "id": "4813c73c",
   "metadata": {},
   "outputs": [
    {
     "data": {
      "text/plain": [
       "'This is a heading.'"
      ]
     },
     "execution_count": 104,
     "metadata": {},
     "output_type": "execute_result"
    }
   ],
   "source": [
    "soup.find('h1').string"
   ]
  },
  {
   "cell_type": "code",
   "execution_count": null,
   "id": "d98dd5b7",
   "metadata": {},
   "outputs": [],
   "source": [
    "# 네이버 가져오기\n",
    "# 주소값 가져오기"
   ]
  },
  {
   "cell_type": "code",
   "execution_count": 112,
   "id": "57605ead",
   "metadata": {},
   "outputs": [
    {
     "data": {
      "text/plain": [
       "'네이버'"
      ]
     },
     "execution_count": 112,
     "metadata": {},
     "output_type": "execute_result"
    }
   ],
   "source": [
    "# 네이버 가져오기\n",
    "# soup.find('a').get_text()\n",
    "soup.find('a').string"
   ]
  },
  {
   "cell_type": "code",
   "execution_count": 117,
   "id": "709ef6c6",
   "metadata": {},
   "outputs": [
    {
     "data": {
      "text/plain": [
       "'www.naver.com'"
      ]
     },
     "execution_count": 117,
     "metadata": {},
     "output_type": "execute_result"
    }
   ],
   "source": [
    "# 네이버 주소값 가져오기\n",
    "soup.find('a').attrs['href']\n",
    "# soup.find('a')['href']"
   ]
  },
  {
   "cell_type": "code",
   "execution_count": 140,
   "id": "f5e2cf6f",
   "metadata": {},
   "outputs": [
    {
     "data": {
      "text/plain": [
       "[<li>삼겹살</li>, <li>치킨</li>, <li>비빕밥</li>]"
      ]
     },
     "execution_count": 140,
     "metadata": {},
     "output_type": "execute_result"
    }
   ],
   "source": [
    "# ['삼겹살', '치킨', '비빕밥'] 만들기\n",
    "lis = soup.find_all('li')\n",
    "lis"
   ]
  },
  {
   "cell_type": "code",
   "execution_count": 141,
   "id": "e9b6e97f",
   "metadata": {},
   "outputs": [
    {
     "name": "stdout",
     "output_type": "stream",
     "text": [
      "삼겹살\n",
      "치킨\n",
      "비빕밥\n"
     ]
    }
   ],
   "source": [
    "for li in lis:\n",
    "    print(li.get_text())"
   ]
  },
  {
   "cell_type": "code",
   "execution_count": 142,
   "id": "fb58fb67",
   "metadata": {},
   "outputs": [
    {
     "data": {
      "text/plain": [
       "['삼겹살', '치킨', '비빕밥']"
      ]
     },
     "execution_count": 142,
     "metadata": {},
     "output_type": "execute_result"
    }
   ],
   "source": [
    "menu = []\n",
    "for li in lis:\n",
    "    menu.append(li.get_text())\n",
    "menu"
   ]
  },
  {
   "cell_type": "code",
   "execution_count": 149,
   "id": "976772c4",
   "metadata": {},
   "outputs": [
    {
     "data": {
      "text/plain": [
       "[<tr>\n",
       " <td>A</td>\n",
       " <td>B</td>\n",
       " <td>C</td>\n",
       " </tr>,\n",
       " <tr>\n",
       " <td>x</td>\n",
       " <td>y</td>\n",
       " <td>z</td>\n",
       " </tr>]"
      ]
     },
     "execution_count": 149,
     "metadata": {},
     "output_type": "execute_result"
    }
   ],
   "source": [
    "soup.find_all('tr')"
   ]
  },
  {
   "cell_type": "code",
   "execution_count": 160,
   "id": "7014fa0f",
   "metadata": {},
   "outputs": [
    {
     "name": "stdout",
     "output_type": "stream",
     "text": [
      "A B C \n",
      "x y z \n"
     ]
    }
   ],
   "source": [
    "trs = soup.find('table').find_all('tr')\n",
    "trs\n",
    "for tr in trs:\n",
    "    tds = tr.find_all('td')\n",
    "    for td in tds:\n",
    "        print(td.get_text(), end=\" \")\n",
    "    print()"
   ]
  }
 ],
 "metadata": {
  "kernelspec": {
   "display_name": "Python 3 (ipykernel)",
   "language": "python",
   "name": "python3"
  },
  "language_info": {
   "codemirror_mode": {
    "name": "ipython",
    "version": 3
   },
   "file_extension": ".py",
   "mimetype": "text/x-python",
   "name": "python",
   "nbconvert_exporter": "python",
   "pygments_lexer": "ipython3",
   "version": "3.8.7"
  }
 },
 "nbformat": 4,
 "nbformat_minor": 5
}
