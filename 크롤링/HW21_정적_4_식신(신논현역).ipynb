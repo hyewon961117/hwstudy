{
 "cells": [
  {
   "cell_type": "markdown",
   "id": "302a581f",
   "metadata": {},
   "source": [
    "# 식신 - 신논현역 맛집"
   ]
  },
  {
   "cell_type": "code",
   "execution_count": 1,
   "id": "74380e45",
   "metadata": {},
   "outputs": [],
   "source": [
    "import requests\n",
    "from bs4 import BeautifulSoup\n",
    "from urllib.parse import quote\n",
    "import pandas as pd\n",
    "\n",
    "keywords = quote(\"신논현역\")\n",
    "url = f\"https://www.siksinhot.com/search?Keywords={keywords}\"\n",
    "\n",
    "response = requests.get(url)\n",
    "soup = BeautifulSoup(response.text,'html.parser')"
   ]
  },
  {
   "cell_type": "code",
   "execution_count": 2,
   "id": "9d644af6",
   "metadata": {},
   "outputs": [],
   "source": [
    "# line = [{'상호' : store, '평점': score, '위치':place, '메뉴':menu}]\n",
    "# csv로 저장하기\n",
    "# quote - 신논현역\n",
    "# 스코어가 없는 경우 try except score= 0.0"
   ]
  },
  {
   "cell_type": "code",
   "execution_count": 3,
   "id": "a5aa525f",
   "metadata": {},
   "outputs": [],
   "source": [
    "store = soup.select(\".localFood_list>li\")[0].select_one(\"h2\").text"
   ]
  },
  {
   "cell_type": "code",
   "execution_count": 4,
   "id": "eaa7a2b7",
   "metadata": {},
   "outputs": [],
   "source": [
    "score = soup.select(\".localFood_list>li\")[0].select_one(\".score\").text"
   ]
  },
  {
   "cell_type": "code",
   "execution_count": 5,
   "id": "fea74d26",
   "metadata": {},
   "outputs": [],
   "source": [
    "place = soup.select(\".localFood_list>li\")[0].select_one(\".cate\").select(\"a\")[0].text"
   ]
  },
  {
   "cell_type": "code",
   "execution_count": 6,
   "id": "76b31838",
   "metadata": {},
   "outputs": [],
   "source": [
    "menu = soup.select(\".localFood_list>li\")[0].select_one(\".cate\").select(\"a\")[1].text"
   ]
  },
  {
   "cell_type": "code",
   "execution_count": 7,
   "id": "bfdc664a",
   "metadata": {},
   "outputs": [
    {
     "name": "stdout",
     "output_type": "stream",
     "text": [
      "4.1 원강 신논현/영동시장 소구이/불고기\n"
     ]
    }
   ],
   "source": [
    "print(score, store, place, menu)"
   ]
  },
  {
   "cell_type": "code",
   "execution_count": 8,
   "id": "3a7dfacd",
   "metadata": {},
   "outputs": [
    {
     "name": "stdout",
     "output_type": "stream",
     "text": [
      "[{'상호': '원강', '평점': '4.1', '위치': '신논현/영동시장', '메뉴': '소구이/불고기'}, {'상호': '스시려 프리미엄', '평점': '4.7', '위치': '강남역', '메뉴': '일식'}, {'상호': '영동삼미숯불갈비', '평점': '4.2', '위치': '신논현/영동시장', '메뉴': '돼지갈비'}, {'상호': '강남교자 본점', '평점': '4.1', '위치': '강남역', '메뉴': '칼국수/국수'}, {'상호': '리북집', '평점': '4.1', '위치': '신논현/영동시장', '메뉴': '족발/보쌈'}, {'상호': '아빠곰수제돈까스', '평점': '4.5', '위치': '신논현/영동시장', '메뉴': '경양식/돈가스'}, {'상호': '도치피자 강남점', '평점': '4.4', '위치': '강남역', '메뉴': '이탈리안'}, {'상호': '청류벽', '평점': '4.2', '위치': '강남역', '메뉴': '칼국수/국수'}, {'상호': '함지곱창', '평점': '4.2', '위치': '신논현/영동시장', '메뉴': '곱창/대창'}, {'상호': '히까리', '평점': '4.2', '위치': '신논현/영동시장', '메뉴': '우동/소바'}, {'상호': '아나고야', '평점': '4.1', '위치': '신논현/영동시장', '메뉴': '해물탕/해물요리'}, {'상호': '시골야채된장', '평점': '4.0', '위치': '강남역', '메뉴': '비빔밥/돌솥밥/쌈밥'}, {'상호': '강남원주추어탕', '평점': '4.0', '위치': '신논현/영동시장', '메뉴': '해물탕/해물요리'}, {'상호': '배꼽집', '평점': '3.9', '위치': '신논현/영동시장', '메뉴': '육회/육사시미'}, {'상호': '노들강 본채', '평점': '3.9', '위치': '신논현/영동시장', '메뉴': '남도요리'}, {'상호': '띠엘로', '평점': '3.8', '위치': '강남역', '메뉴': '유러피안'}, {'상호': '맛보리생돼지김치두루치기', '평점': '3.7', '위치': '강남역', '메뉴': '한정식'}, {'상호': '큐리오', '평점': '평가중', '위치': '신논현/영동시장', '메뉴': '프렌치'}, {'상호': '위트앤미트W&M', '평점': '평가중', '위치': '신논현/영동시장', '메뉴': '버거'}, {'상호': '봉피양제주 강남점', '평점': '4.2', '위치': '강남역', '메뉴': '냉면/막국수'}]\n"
     ]
    }
   ],
   "source": [
    "line = []\n",
    "for item in soup.select(\".localFood_list>li\"):\n",
    "    store = item.select_one(\"h2\").text\n",
    "    score = item.select_one(\".score\").text\n",
    "    place = item.select_one(\".cate\").select(\"a\")[0].text\n",
    "    menu = item.select_one(\".cate\").select(\"a\")[1].text\n",
    "    \n",
    "    line.append({\"상호\": store, \n",
    "                 \"평점\": score, \n",
    "                 \"위치\": place, \n",
    "                 \"메뉴\": menu})\n",
    "    \n",
    "print(line)"
   ]
  },
  {
   "cell_type": "markdown",
   "id": "90cb0488",
   "metadata": {},
   "source": [
    "## 강사님 방법"
   ]
  },
  {
   "cell_type": "markdown",
   "id": "e3573158",
   "metadata": {},
   "source": [
    "### 원하는 데이터 찾기"
   ]
  },
  {
   "cell_type": "code",
   "execution_count": 9,
   "id": "5c3dbe58",
   "metadata": {},
   "outputs": [
    {
     "data": {
      "text/plain": [
       "[<li data-reactid=\"72\"><figure data-reactid=\"73\"><a data-reactid=\"74\" href=\"https://www.siksinhot.com/P/101542\" target=\"_blank\"><img alt=\"원강 , 서울특별시 강남구 학동로6길 16\" data-reactid=\"75\" height=\"448\" src=\"https://img.siksinhot.com/place/1463987224153019.png?w=560&amp;h=448&amp;c=Y\" width=\"560\"/><img alt=\"best\" data-reactid=\"76\" src=\"/static2/images/common/ico_best_3.png\"/></a></figure><figcaption data-reactid=\"77\"><a class=\"textBox\" data-reactid=\"78\" href=\"https://www.siksinhot.com/P/101542\" target=\"_blank\"><h2 data-reactid=\"79\">원강</h2><span class=\"score\" data-reactid=\"80\">4.1</span></a><p class=\"cate\" data-reactid=\"81\"><a data-reactid=\"82\" href=\"/search?keywords=신논현/영동시장\">신논현/영동시장</a><!-- react-text: 83 --> / <!-- /react-text --><a data-reactid=\"84\" href=\"/search?keywords=소구이/불고기\">소구이/불고기</a></p><p class=\"counting\" data-reactid=\"85\"><img data-reactid=\"86\" src=\"/static2/images/search/img/icon_view.png\"/><span data-reactid=\"87\">32041</span><img data-reactid=\"88\" src=\"/static2/images/search/img/icon_bookmark.png\"/><span data-reactid=\"89\">129</span></p></figcaption></li>,\n",
       " <li data-reactid=\"90\"><figure data-reactid=\"91\"><a data-reactid=\"92\" href=\"https://www.siksinhot.com/P/842156\" target=\"_blank\"><img alt=\"스시려 프리미엄 , 서울특별시 서초구 효령로77길 34\" data-reactid=\"93\" height=\"448\" src=\"https://img.siksinhot.com/place/1583454985591756.jpg?w=560&amp;h=448&amp;c=Y\" width=\"560\"/><img alt=\"best\" data-reactid=\"94\" src=\"/static2/images/common/ico_best_2.png\"/></a></figure><figcaption data-reactid=\"95\"><a class=\"textBox\" data-reactid=\"96\" href=\"https://www.siksinhot.com/P/842156\" target=\"_blank\"><h2 data-reactid=\"97\">스시려 프리미엄</h2><span class=\"score\" data-reactid=\"98\">4.7</span></a><p class=\"cate\" data-reactid=\"99\"><a data-reactid=\"100\" href=\"/search?keywords=강남역\">강남역</a><!-- react-text: 101 --> / <!-- /react-text --><a data-reactid=\"102\" href=\"/search?keywords=일식\">일식</a></p><p class=\"counting\" data-reactid=\"103\"><img data-reactid=\"104\" src=\"/static2/images/search/img/icon_view.png\"/><span data-reactid=\"105\">18813</span><img data-reactid=\"106\" src=\"/static2/images/search/img/icon_bookmark.png\"/><span data-reactid=\"107\">16</span></p></figcaption></li>,\n",
       " <li data-reactid=\"108\"><figure data-reactid=\"109\"><a data-reactid=\"110\" href=\"https://www.siksinhot.com/P/82324\" target=\"_blank\"><img alt=\"영동삼미숯불갈비 , 서울특별시 강남구 학동로2길 30\" data-reactid=\"111\" height=\"448\" src=\"https://img.siksinhot.com/place/1458029932681207.PNG?w=560&amp;h=448&amp;c=Y\" width=\"560\"/><img alt=\"best\" data-reactid=\"112\" src=\"/static2/images/common/ico_best_2.png\"/></a></figure><figcaption data-reactid=\"113\"><a class=\"textBox\" data-reactid=\"114\" href=\"https://www.siksinhot.com/P/82324\" target=\"_blank\"><h2 data-reactid=\"115\">영동삼미숯불갈비</h2><span class=\"score\" data-reactid=\"116\">4.2</span></a><p class=\"cate\" data-reactid=\"117\"><a data-reactid=\"118\" href=\"/search?keywords=신논현/영동시장\">신논현/영동시장</a><!-- react-text: 119 --> / <!-- /react-text --><a data-reactid=\"120\" href=\"/search?keywords=돼지갈비\">돼지갈비</a></p><p class=\"counting\" data-reactid=\"121\"><img data-reactid=\"122\" src=\"/static2/images/search/img/icon_view.png\"/><span data-reactid=\"123\">20068</span><img data-reactid=\"124\" src=\"/static2/images/search/img/icon_bookmark.png\"/><span data-reactid=\"125\">66</span></p></figcaption></li>,\n",
       " <li data-reactid=\"126\"><figure data-reactid=\"127\"><a data-reactid=\"128\" href=\"https://www.siksinhot.com/P/56310\" target=\"_blank\"><img alt=\"강남교자 본점 , 서울특별시 서초구 강남대로69길 11\" data-reactid=\"129\" height=\"448\" src=\"https://img.siksinhot.com/place/1458027947166169.PNG?w=560&amp;h=448&amp;c=Y\" width=\"560\"/><img alt=\"best\" data-reactid=\"130\" src=\"/static2/images/common/ico_best_2.png\"/></a></figure><figcaption data-reactid=\"131\"><a class=\"textBox\" data-reactid=\"132\" href=\"https://www.siksinhot.com/P/56310\" target=\"_blank\"><h2 data-reactid=\"133\">강남교자 본점</h2><span class=\"score\" data-reactid=\"134\">4.1</span></a><p class=\"cate\" data-reactid=\"135\"><a data-reactid=\"136\" href=\"/search?keywords=강남역\">강남역</a><!-- react-text: 137 --> / <!-- /react-text --><a data-reactid=\"138\" href=\"/search?keywords=칼국수/국수\">칼국수/국수</a></p><p class=\"counting\" data-reactid=\"139\"><img data-reactid=\"140\" src=\"/static2/images/search/img/icon_view.png\"/><span data-reactid=\"141\">76402</span><img data-reactid=\"142\" src=\"/static2/images/search/img/icon_bookmark.png\"/><span data-reactid=\"143\">259</span></p></figcaption></li>,\n",
       " <li data-reactid=\"144\"><figure data-reactid=\"145\"><a data-reactid=\"146\" href=\"https://www.siksinhot.com/P/28432\" target=\"_blank\"><img alt=\"리북집 , 서울특별시 강남구 학동로2길 45\" data-reactid=\"147\" height=\"448\" src=\"https://img.siksinhot.com/place/1536820854956129.jpg?w=560&amp;h=448&amp;c=Y\" width=\"560\"/><img alt=\"best\" data-reactid=\"148\" src=\"/static2/images/common/ico_best_2.png\"/></a></figure><figcaption data-reactid=\"149\"><a class=\"textBox\" data-reactid=\"150\" href=\"https://www.siksinhot.com/P/28432\" target=\"_blank\"><h2 data-reactid=\"151\">리북집</h2><span class=\"score\" data-reactid=\"152\">4.1</span></a><p class=\"cate\" data-reactid=\"153\"><a data-reactid=\"154\" href=\"/search?keywords=신논현/영동시장\">신논현/영동시장</a><!-- react-text: 155 --> / <!-- /react-text --><a data-reactid=\"156\" href=\"/search?keywords=족발/보쌈\">족발/보쌈</a></p><p class=\"counting\" data-reactid=\"157\"><img data-reactid=\"158\" src=\"/static2/images/search/img/icon_view.png\"/><span data-reactid=\"159\">48973</span><img data-reactid=\"160\" src=\"/static2/images/search/img/icon_bookmark.png\"/><span data-reactid=\"161\">235</span></p></figcaption></li>,\n",
       " <li data-reactid=\"162\"><figure data-reactid=\"163\"><a data-reactid=\"164\" href=\"https://www.siksinhot.com/P/427145\" target=\"_blank\"><img alt=\"아빠곰수제돈까스 , 서울특별시 서초구 사평대로56길 7 서초한일유앤아이주상복합\" data-reactid=\"165\" height=\"448\" src=\"https://img.siksinhot.com/place/1542865024291144.jpg?w=560&amp;h=448&amp;c=Y\" width=\"560\"/><img alt=\"best\" data-reactid=\"166\" src=\"/static2/images/common/ico_best_1.png\"/></a></figure><figcaption data-reactid=\"167\"><a class=\"textBox\" data-reactid=\"168\" href=\"https://www.siksinhot.com/P/427145\" target=\"_blank\"><h2 data-reactid=\"169\">아빠곰수제돈까스</h2><span class=\"score\" data-reactid=\"170\">4.5</span></a><p class=\"cate\" data-reactid=\"171\"><a data-reactid=\"172\" href=\"/search?keywords=신논현/영동시장\">신논현/영동시장</a><!-- react-text: 173 --> / <!-- /react-text --><a data-reactid=\"174\" href=\"/search?keywords=경양식/돈가스\">경양식/돈가스</a></p><p class=\"counting\" data-reactid=\"175\"><img data-reactid=\"176\" src=\"/static2/images/search/img/icon_view.png\"/><span data-reactid=\"177\">17205</span><img data-reactid=\"178\" src=\"/static2/images/search/img/icon_bookmark.png\"/><span data-reactid=\"179\">21</span></p></figcaption></li>,\n",
       " <li data-reactid=\"180\"><figure data-reactid=\"181\"><a data-reactid=\"182\" href=\"https://www.siksinhot.com/P/343390\" target=\"_blank\"><img alt=\"도치피자 강남점 , 서울특별시 강남구 강남대로98길 27\" data-reactid=\"183\" height=\"448\" src=\"https://img.siksinhot.com/place/1462951929604739.png?w=560&amp;h=448&amp;c=Y\" width=\"560\"/><img alt=\"best\" data-reactid=\"184\" src=\"/static2/images/common/ico_best_1.png\"/></a></figure><figcaption data-reactid=\"185\"><a class=\"textBox\" data-reactid=\"186\" href=\"https://www.siksinhot.com/P/343390\" target=\"_blank\"><h2 data-reactid=\"187\">도치피자 강남점</h2><span class=\"score\" data-reactid=\"188\">4.4</span></a><p class=\"cate\" data-reactid=\"189\"><a data-reactid=\"190\" href=\"/search?keywords=강남역\">강남역</a><!-- react-text: 191 --> / <!-- /react-text --><a data-reactid=\"192\" href=\"/search?keywords=이탈리안\">이탈리안</a></p><p class=\"counting\" data-reactid=\"193\"><img data-reactid=\"194\" src=\"/static2/images/search/img/icon_view.png\"/><span data-reactid=\"195\">64051</span><img data-reactid=\"196\" src=\"/static2/images/search/img/icon_bookmark.png\"/><span data-reactid=\"197\">219</span></p></figcaption></li>,\n",
       " <li data-reactid=\"198\"><figure data-reactid=\"199\"><a data-reactid=\"200\" href=\"https://www.siksinhot.com/P/1132196\" target=\"_blank\"><img alt=\"청류벽 , 서울특별시 서초구 서초대로74길 29\" data-reactid=\"201\" height=\"448\" src=\"https://img.siksinhot.com/place/1592208063410306.jpg?w=560&amp;h=448&amp;c=Y\" width=\"560\"/><img alt=\"best\" data-reactid=\"202\" src=\"/static2/images/common/ico_best_1.png\"/></a></figure><figcaption data-reactid=\"203\"><a class=\"textBox\" data-reactid=\"204\" href=\"https://www.siksinhot.com/P/1132196\" target=\"_blank\"><h2 data-reactid=\"205\">청류벽</h2><span class=\"score\" data-reactid=\"206\">4.2</span></a><p class=\"cate\" data-reactid=\"207\"><a data-reactid=\"208\" href=\"/search?keywords=강남역\">강남역</a><!-- react-text: 209 --> / <!-- /react-text --><a data-reactid=\"210\" href=\"/search?keywords=칼국수/국수\">칼국수/국수</a></p><p class=\"counting\" data-reactid=\"211\"><img data-reactid=\"212\" src=\"/static2/images/search/img/icon_view.png\"/><span data-reactid=\"213\">14212</span><img data-reactid=\"214\" src=\"/static2/images/search/img/icon_bookmark.png\"/><span data-reactid=\"215\">13</span></p></figcaption></li>,\n",
       " <li data-reactid=\"216\"><figure data-reactid=\"217\"><a data-reactid=\"218\" href=\"https://www.siksinhot.com/P/68455\" target=\"_blank\"><img alt=\"함지곱창 , 서울특별시 강남구 학동로2길 33\" data-reactid=\"219\" height=\"448\" src=\"https://img.siksinhot.com/place/1458028313901178.PNG?w=560&amp;h=448&amp;c=Y\" width=\"560\"/><img alt=\"best\" data-reactid=\"220\" src=\"/static2/images/common/ico_best_1.png\"/></a></figure><figcaption data-reactid=\"221\"><a class=\"textBox\" data-reactid=\"222\" href=\"https://www.siksinhot.com/P/68455\" target=\"_blank\"><h2 data-reactid=\"223\">함지곱창</h2><span class=\"score\" data-reactid=\"224\">4.2</span></a><p class=\"cate\" data-reactid=\"225\"><a data-reactid=\"226\" href=\"/search?keywords=신논현/영동시장\">신논현/영동시장</a><!-- react-text: 227 --> / <!-- /react-text --><a data-reactid=\"228\" href=\"/search?keywords=곱창/대창\">곱창/대창</a></p><p class=\"counting\" data-reactid=\"229\"><img data-reactid=\"230\" src=\"/static2/images/search/img/icon_view.png\"/><span data-reactid=\"231\">20077</span><img data-reactid=\"232\" src=\"/static2/images/search/img/icon_bookmark.png\"/><span data-reactid=\"233\">81</span></p></figcaption></li>,\n",
       " <li data-reactid=\"234\"><figure data-reactid=\"235\"><a data-reactid=\"236\" href=\"https://www.siksinhot.com/P/352014\" target=\"_blank\"><img alt=\"히까리 , 서울특별시 강남구 강남대로 506\" data-reactid=\"237\" height=\"448\" src=\"https://img.siksinhot.com/place/1405572339548233.jpg?w=560&amp;h=448&amp;c=Y\" width=\"560\"/><img alt=\"best\" data-reactid=\"238\" src=\"/static2/images/common/ico_best_1.png\"/></a></figure><figcaption data-reactid=\"239\"><a class=\"textBox\" data-reactid=\"240\" href=\"https://www.siksinhot.com/P/352014\" target=\"_blank\"><h2 data-reactid=\"241\">히까리</h2><span class=\"score\" data-reactid=\"242\">4.2</span></a><p class=\"cate\" data-reactid=\"243\"><a data-reactid=\"244\" href=\"/search?keywords=신논현/영동시장\">신논현/영동시장</a><!-- react-text: 245 --> / <!-- /react-text --><a data-reactid=\"246\" href=\"/search?keywords=우동/소바\">우동/소바</a></p><p class=\"counting\" data-reactid=\"247\"><img data-reactid=\"248\" src=\"/static2/images/search/img/icon_view.png\"/><span data-reactid=\"249\">24800</span><img data-reactid=\"250\" src=\"/static2/images/search/img/icon_bookmark.png\"/><span data-reactid=\"251\">89</span></p></figcaption></li>,\n",
       " <li data-reactid=\"252\"><figure data-reactid=\"253\"><a data-reactid=\"254\" href=\"https://www.siksinhot.com/P/349036\" target=\"_blank\"><img alt=\"아나고야 , 서울특별시 강남구 강남대로124길 3-9\" data-reactid=\"255\" height=\"448\" src=\"https://img.siksinhot.com/place/1423595063475330.jpg?w=560&amp;h=448&amp;c=Y\" width=\"560\"/><img alt=\"best\" data-reactid=\"256\" src=\"/static2/images/common/ico_best_1.png\"/></a></figure><figcaption data-reactid=\"257\"><a class=\"textBox\" data-reactid=\"258\" href=\"https://www.siksinhot.com/P/349036\" target=\"_blank\"><h2 data-reactid=\"259\">아나고야</h2><span class=\"score\" data-reactid=\"260\">4.1</span></a><p class=\"cate\" data-reactid=\"261\"><a data-reactid=\"262\" href=\"/search?keywords=신논현/영동시장\">신논현/영동시장</a><!-- react-text: 263 --> / <!-- /react-text --><a data-reactid=\"264\" href=\"/search?keywords=해물탕/해물요리\">해물탕/해물요리</a></p><p class=\"counting\" data-reactid=\"265\"><img data-reactid=\"266\" src=\"/static2/images/search/img/icon_view.png\"/><span data-reactid=\"267\">19964</span><img data-reactid=\"268\" src=\"/static2/images/search/img/icon_bookmark.png\"/><span data-reactid=\"269\">64</span></p></figcaption></li>,\n",
       " <li data-reactid=\"270\"><figure data-reactid=\"271\"><a data-reactid=\"272\" href=\"https://www.siksinhot.com/P/36923\" target=\"_blank\"><img alt=\"시골야채된장 , 서울특별시 서초구 강남대로69길 11\" data-reactid=\"273\" height=\"448\" src=\"https://img.siksinhot.com/place/1528429320949009.jpeg?w=560&amp;h=448&amp;c=Y\" width=\"560\"/><img alt=\"best\" data-reactid=\"274\" src=\"/static2/images/common/ico_best_1.png\"/></a></figure><figcaption data-reactid=\"275\"><a class=\"textBox\" data-reactid=\"276\" href=\"https://www.siksinhot.com/P/36923\" target=\"_blank\"><h2 data-reactid=\"277\">시골야채된장</h2><span class=\"score\" data-reactid=\"278\">4.0</span></a><p class=\"cate\" data-reactid=\"279\"><a data-reactid=\"280\" href=\"/search?keywords=강남역\">강남역</a><!-- react-text: 281 --> / <!-- /react-text --><a data-reactid=\"282\" href=\"/search?keywords=비빔밥/돌솥밥/쌈밥\">비빔밥/돌솥밥/쌈밥</a></p><p class=\"counting\" data-reactid=\"283\"><img data-reactid=\"284\" src=\"/static2/images/search/img/icon_view.png\"/><span data-reactid=\"285\">52301</span><img data-reactid=\"286\" src=\"/static2/images/search/img/icon_bookmark.png\"/><span data-reactid=\"287\">217</span></p></figcaption></li>,\n",
       " <li data-reactid=\"288\"><figure data-reactid=\"289\"><a data-reactid=\"290\" href=\"https://www.siksinhot.com/P/3209\" target=\"_blank\"><img alt=\"강남원주추어탕 , 서울특별시 강남구 강남대로110길 6\" data-reactid=\"291\" height=\"448\" src=\"https://img.siksinhot.com/place/1599036647476777.jpg?w=560&amp;h=448&amp;c=Y\" width=\"560\"/><img alt=\"best\" data-reactid=\"292\" src=\"/static2/images/common/ico_best_1.png\"/></a></figure><figcaption data-reactid=\"293\"><a class=\"textBox\" data-reactid=\"294\" href=\"https://www.siksinhot.com/P/3209\" target=\"_blank\"><h2 data-reactid=\"295\">강남원주추어탕</h2><span class=\"score\" data-reactid=\"296\">4.0</span></a><p class=\"cate\" data-reactid=\"297\"><a data-reactid=\"298\" href=\"/search?keywords=신논현/영동시장\">신논현/영동시장</a><!-- react-text: 299 --> / <!-- /react-text --><a data-reactid=\"300\" href=\"/search?keywords=해물탕/해물요리\">해물탕/해물요리</a></p><p class=\"counting\" data-reactid=\"301\"><img data-reactid=\"302\" src=\"/static2/images/search/img/icon_view.png\"/><span data-reactid=\"303\">18273</span><img data-reactid=\"304\" src=\"/static2/images/search/img/icon_bookmark.png\"/><span data-reactid=\"305\">46</span></p></figcaption></li>,\n",
       " <li data-reactid=\"306\"><figure data-reactid=\"307\"><a data-reactid=\"308\" href=\"https://www.siksinhot.com/P/369227\" target=\"_blank\"><img alt=\"배꼽집 , 서울특별시 강남구 강남대로128길 22\" data-reactid=\"309\" height=\"448\" src=\"https://img.siksinhot.com/place/1463731889857008.png?w=560&amp;h=448&amp;c=X\" width=\"560\"/><img alt=\"best\" data-reactid=\"310\" src=\"/static2/images/common/ico_best_1.png\"/></a></figure><figcaption data-reactid=\"311\"><a class=\"textBox\" data-reactid=\"312\" href=\"https://www.siksinhot.com/P/369227\" target=\"_blank\"><h2 data-reactid=\"313\">배꼽집</h2><span class=\"score\" data-reactid=\"314\">3.9</span></a><p class=\"cate\" data-reactid=\"315\"><a data-reactid=\"316\" href=\"/search?keywords=신논현/영동시장\">신논현/영동시장</a><!-- react-text: 317 --> / <!-- /react-text --><a data-reactid=\"318\" href=\"/search?keywords=육회/육사시미\">육회/육사시미</a></p><p class=\"counting\" data-reactid=\"319\"><img data-reactid=\"320\" src=\"/static2/images/search/img/icon_view.png\"/><span data-reactid=\"321\">9680</span><img data-reactid=\"322\" src=\"/static2/images/search/img/icon_bookmark.png\"/><span data-reactid=\"323\">15</span></p></figcaption></li>,\n",
       " <li data-reactid=\"324\"><figure data-reactid=\"325\"><a data-reactid=\"326\" href=\"https://www.siksinhot.com/P/4452\" target=\"_blank\"><img alt=\"노들강 본채 , 서울특별시 강남구 강남대로114길 21\" data-reactid=\"327\" height=\"448\" src=\"https://img.siksinhot.com/place/1533617171434090.jpg?w=560&amp;h=448&amp;c=Y\" width=\"560\"/><img alt=\"best\" data-reactid=\"328\" src=\"/static2/images/common/ico_best_1.png\"/></a></figure><figcaption data-reactid=\"329\"><a class=\"textBox\" data-reactid=\"330\" href=\"https://www.siksinhot.com/P/4452\" target=\"_blank\"><h2 data-reactid=\"331\">노들강 본채</h2><span class=\"score\" data-reactid=\"332\">3.9</span></a><p class=\"cate\" data-reactid=\"333\"><a data-reactid=\"334\" href=\"/search?keywords=신논현/영동시장\">신논현/영동시장</a><!-- react-text: 335 --> / <!-- /react-text --><a data-reactid=\"336\" href=\"/search?keywords=남도요리\">남도요리</a></p><p class=\"counting\" data-reactid=\"337\"><img data-reactid=\"338\" src=\"/static2/images/search/img/icon_view.png\"/><span data-reactid=\"339\">22805</span><img data-reactid=\"340\" src=\"/static2/images/search/img/icon_bookmark.png\"/><span data-reactid=\"341\">60</span></p></figcaption></li>,\n",
       " <li data-reactid=\"342\"><figure data-reactid=\"343\"><a data-reactid=\"344\" href=\"https://www.siksinhot.com/P/1251792\" target=\"_blank\"><img alt=\"띠엘로 , 서울특별시 강남구 강남대로94길 14\" data-reactid=\"345\" height=\"448\" src=\"https://img.siksinhot.com/place/1591581515940207.PNG?w=560&amp;h=448&amp;c=Y\" width=\"560\"/><img alt=\"best\" data-reactid=\"346\" src=\"/static2/images/common/ico_best_1.png\"/></a></figure><figcaption data-reactid=\"347\"><a class=\"textBox\" data-reactid=\"348\" href=\"https://www.siksinhot.com/P/1251792\" target=\"_blank\"><h2 data-reactid=\"349\">띠엘로</h2><span class=\"score\" data-reactid=\"350\">3.8</span></a><p class=\"cate\" data-reactid=\"351\"><a data-reactid=\"352\" href=\"/search?keywords=강남역\">강남역</a><!-- react-text: 353 --> / <!-- /react-text --><a data-reactid=\"354\" href=\"/search?keywords=유러피안\">유러피안</a></p><p class=\"counting\" data-reactid=\"355\"><img data-reactid=\"356\" src=\"/static2/images/search/img/icon_view.png\"/><span data-reactid=\"357\">9170</span><img data-reactid=\"358\" src=\"/static2/images/search/img/icon_bookmark.png\"/><span data-reactid=\"359\">5</span></p></figcaption></li>,\n",
       " <li data-reactid=\"360\"><figure data-reactid=\"361\"><a data-reactid=\"362\" href=\"https://www.siksinhot.com/P/408166\" target=\"_blank\"><img alt=\"맛보리생돼지김치두루치기 , 서울특별시 서초구 사임당로 180\" data-reactid=\"363\" height=\"448\" src=\"https://img.siksinhot.com/place/1610005907815720.jpg?w=560&amp;h=448&amp;c=X\" width=\"560\"/><img alt=\"best\" data-reactid=\"364\" src=\"/static2/images/common/ico_best_1.png\"/></a></figure><figcaption data-reactid=\"365\"><a class=\"textBox\" data-reactid=\"366\" href=\"https://www.siksinhot.com/P/408166\" target=\"_blank\"><h2 data-reactid=\"367\">맛보리생돼지김치두루치기</h2><span class=\"score\" data-reactid=\"368\">3.7</span></a><p class=\"cate\" data-reactid=\"369\"><a data-reactid=\"370\" href=\"/search?keywords=강남역\">강남역</a><!-- react-text: 371 --> / <!-- /react-text --><a data-reactid=\"372\" href=\"/search?keywords=한정식\">한정식</a></p><p class=\"counting\" data-reactid=\"373\"><img data-reactid=\"374\" src=\"/static2/images/search/img/icon_view.png\"/><span data-reactid=\"375\">6860</span><img data-reactid=\"376\" src=\"/static2/images/search/img/icon_bookmark.png\"/><span data-reactid=\"377\">5</span></p></figcaption></li>,\n",
       " <li data-reactid=\"378\"><figure data-reactid=\"379\"><a data-reactid=\"380\" href=\"https://www.siksinhot.com/P/1130325\" target=\"_blank\"><img alt=\"큐리오 , 서울특별시 서초구 서운로 226 \" data-reactid=\"381\" height=\"448\" src=\"https://img.siksinhot.com/place/1616547088077597.jpeg?w=560&amp;h=448&amp;c=Y\" width=\"560\"/><img alt=\"best\" data-reactid=\"382\" src=\"/static2/images/common/ico_best_1.png\"/></a></figure><figcaption data-reactid=\"383\"><a class=\"textBox\" data-reactid=\"384\" href=\"https://www.siksinhot.com/P/1130325\" target=\"_blank\"><h2 data-reactid=\"385\">큐리오</h2><span class=\"score\" data-reactid=\"386\" style=\"color:lightgrey;\">평가중</span></a><p class=\"cate\" data-reactid=\"387\"><a data-reactid=\"388\" href=\"/search?keywords=신논현/영동시장\">신논현/영동시장</a><!-- react-text: 389 --> / <!-- /react-text --><a data-reactid=\"390\" href=\"/search?keywords=프렌치\">프렌치</a></p><p class=\"counting\" data-reactid=\"391\"><img data-reactid=\"392\" src=\"/static2/images/search/img/icon_view.png\"/><span data-reactid=\"393\">2148</span><img data-reactid=\"394\" src=\"/static2/images/search/img/icon_bookmark.png\"/><span data-reactid=\"395\"></span></p></figcaption></li>,\n",
       " <li data-reactid=\"396\"><figure data-reactid=\"397\"><a data-reactid=\"398\" href=\"https://www.siksinhot.com/P/1315789\" target=\"_blank\"><img alt=\"위트앤미트W&amp;M , 서울특별시 강남구 강남대로110길 32\" data-reactid=\"399\" height=\"448\" src=\"https://img.siksinhot.com/place/1676258179827519.jpg?w=560&amp;h=448&amp;c=X\" width=\"560\"/><img alt=\"best\" data-reactid=\"400\" src=\"/static2/images/common/ico_best_1.png\"/></a></figure><figcaption data-reactid=\"401\"><a class=\"textBox\" data-reactid=\"402\" href=\"https://www.siksinhot.com/P/1315789\" target=\"_blank\"><h2 data-reactid=\"403\">위트앤미트W&amp;M</h2><span class=\"score\" data-reactid=\"404\" style=\"color:lightgrey;\">평가중</span></a><p class=\"cate\" data-reactid=\"405\"><a data-reactid=\"406\" href=\"/search?keywords=신논현/영동시장\">신논현/영동시장</a><!-- react-text: 407 --> / <!-- /react-text --><a data-reactid=\"408\" href=\"/search?keywords=버거\">버거</a></p><p class=\"counting\" data-reactid=\"409\"><img data-reactid=\"410\" src=\"/static2/images/search/img/icon_view.png\"/><span data-reactid=\"411\">2722</span><img data-reactid=\"412\" src=\"/static2/images/search/img/icon_bookmark.png\"/><span data-reactid=\"413\">2</span></p></figcaption></li>,\n",
       " <li data-reactid=\"414\"><figure data-reactid=\"415\"><a data-reactid=\"416\" href=\"https://www.siksinhot.com/P/8828\" target=\"_blank\"><img alt=\"봉피양제주 강남점 , 서울특별시 서초구 강남대로 359 대우도씨에빛2 \" data-reactid=\"417\" height=\"448\" src=\"https://img.siksinhot.com/place/1453787399204135.jpg?w=560&amp;h=448&amp;c=Y\" width=\"560\"/><img alt=\"best\" data-reactid=\"418\" src=\"/static2/images/common/ico_best_0.png\"/></a></figure><figcaption data-reactid=\"419\"><a class=\"textBox\" data-reactid=\"420\" href=\"https://www.siksinhot.com/P/8828\" target=\"_blank\"><h2 data-reactid=\"421\">봉피양제주 강남점</h2><span class=\"score\" data-reactid=\"422\">4.2</span></a><p class=\"cate\" data-reactid=\"423\"><a data-reactid=\"424\" href=\"/search?keywords=강남역\">강남역</a><!-- react-text: 425 --> / <!-- /react-text --><a data-reactid=\"426\" href=\"/search?keywords=냉면/막국수\">냉면/막국수</a></p><p class=\"counting\" data-reactid=\"427\"><img data-reactid=\"428\" src=\"/static2/images/search/img/icon_view.png\"/><span data-reactid=\"429\">94088</span><img data-reactid=\"430\" src=\"/static2/images/search/img/icon_bookmark.png\"/><span data-reactid=\"431\">261</span></p></figcaption></li>]"
      ]
     },
     "execution_count": 9,
     "metadata": {},
     "output_type": "execute_result"
    }
   ],
   "source": [
    "lst = soup.select_one(\".div_search_menu\").find_all('li')\n",
    "lst"
   ]
  },
  {
   "cell_type": "code",
   "execution_count": 10,
   "id": "4ae700c3",
   "metadata": {},
   "outputs": [
    {
     "data": {
      "text/plain": [
       "'원강'"
      ]
     },
     "execution_count": 10,
     "metadata": {},
     "output_type": "execute_result"
    }
   ],
   "source": [
    "store = lst[0].select_one(\".textBox>h2\").get_text()\n",
    "store"
   ]
  },
  {
   "cell_type": "code",
   "execution_count": 11,
   "id": "2c26e600",
   "metadata": {},
   "outputs": [
    {
     "data": {
      "text/plain": [
       "4.1"
      ]
     },
     "execution_count": 11,
     "metadata": {},
     "output_type": "execute_result"
    }
   ],
   "source": [
    "# 스코어가 없는 경우도 있음 try except로 처리\n",
    "score = float(lst[0].select_one(\".score\").get_text())\n",
    "score\n",
    "\n",
    "# try :\n",
    "#     score = float(lst[0].select_one(\".score\").get_text())\n",
    "# except :\n",
    "#     score = 0.0"
   ]
  },
  {
   "cell_type": "code",
   "execution_count": 12,
   "id": "2d7edd28",
   "metadata": {},
   "outputs": [
    {
     "data": {
      "text/plain": [
       "'신논현'"
      ]
     },
     "execution_count": 12,
     "metadata": {},
     "output_type": "execute_result"
    }
   ],
   "source": [
    "place = lst[0].select_one('.cate').get_text().split('/')[0].strip()\n",
    "place"
   ]
  },
  {
   "cell_type": "code",
   "execution_count": 13,
   "id": "4be3d8f8",
   "metadata": {},
   "outputs": [
    {
     "data": {
      "text/plain": [
       "'소구이'"
      ]
     },
     "execution_count": 13,
     "metadata": {},
     "output_type": "execute_result"
    }
   ],
   "source": [
    "menu = lst[0].select('.cate a')[1].get_text().split('/')[0].strip()\n",
    "menu"
   ]
  },
  {
   "cell_type": "markdown",
   "id": "44161a02",
   "metadata": {},
   "source": [
    "### 반복문으로 데이터 전부 가져오기"
   ]
  },
  {
   "cell_type": "code",
   "execution_count": 15,
   "id": "001d3863",
   "metadata": {},
   "outputs": [
    {
     "data": {
      "text/plain": [
       "[{'상호': '원강', '평점': 4.1, '위치': '신논현', '메뉴': '소구이'},\n",
       " {'상호': '스시려 프리미엄', '평점': 4.7, '위치': '강남역', '메뉴': '일식'},\n",
       " {'상호': '영동삼미숯불갈비', '평점': 4.2, '위치': '신논현', '메뉴': '돼지갈비'},\n",
       " {'상호': '강남교자 본점', '평점': 4.1, '위치': '강남역', '메뉴': '칼국수'},\n",
       " {'상호': '리북집', '평점': 4.1, '위치': '신논현', '메뉴': '족발'},\n",
       " {'상호': '아빠곰수제돈까스', '평점': 4.5, '위치': '신논현', '메뉴': '경양식'},\n",
       " {'상호': '도치피자 강남점', '평점': 4.4, '위치': '강남역', '메뉴': '이탈리안'},\n",
       " {'상호': '청류벽', '평점': 4.2, '위치': '강남역', '메뉴': '칼국수'},\n",
       " {'상호': '함지곱창', '평점': 4.2, '위치': '신논현', '메뉴': '곱창'},\n",
       " {'상호': '히까리', '평점': 4.2, '위치': '신논현', '메뉴': '우동'},\n",
       " {'상호': '아나고야', '평점': 4.1, '위치': '신논현', '메뉴': '해물탕'},\n",
       " {'상호': '시골야채된장', '평점': 4.0, '위치': '강남역', '메뉴': '비빔밥'},\n",
       " {'상호': '강남원주추어탕', '평점': 4.0, '위치': '신논현', '메뉴': '해물탕'},\n",
       " {'상호': '배꼽집', '평점': 3.9, '위치': '신논현', '메뉴': '육회'},\n",
       " {'상호': '노들강 본채', '평점': 3.9, '위치': '신논현', '메뉴': '남도요리'},\n",
       " {'상호': '띠엘로', '평점': 3.8, '위치': '강남역', '메뉴': '유러피안'},\n",
       " {'상호': '맛보리생돼지김치두루치기', '평점': 3.7, '위치': '강남역', '메뉴': '한정식'},\n",
       " {'상호': '큐리오', '평점': 0.0, '위치': '신논현', '메뉴': '프렌치'},\n",
       " {'상호': '위트앤미트W&M', '평점': 0.0, '위치': '신논현', '메뉴': '버거'},\n",
       " {'상호': '봉피양제주 강남점', '평점': 4.2, '위치': '강남역', '메뉴': '냉면'}]"
      ]
     },
     "execution_count": 15,
     "metadata": {},
     "output_type": "execute_result"
    }
   ],
   "source": [
    "line = []\n",
    "for li in lst:\n",
    "    store = li.select_one(\".textBox>h2\").get_text()\n",
    "    try :\n",
    "        score = float(li.select_one(\".score\").get_text())\n",
    "    except :\n",
    "        score = 0.0\n",
    "    place = li.select_one('.cate').get_text().split('/')[0].strip()\n",
    "    menu = li.select('.cate a')[1].get_text().split('/')[0].strip()\n",
    "    \n",
    "    line.append({\"상호\": store, \n",
    "                 \"평점\": score, \n",
    "                 \"위치\": place, \n",
    "                 \"메뉴\": menu})\n",
    "line"
   ]
  },
  {
   "cell_type": "code",
   "execution_count": 16,
   "id": "26070d89",
   "metadata": {},
   "outputs": [
    {
     "data": {
      "text/html": [
       "<div>\n",
       "<style scoped>\n",
       "    .dataframe tbody tr th:only-of-type {\n",
       "        vertical-align: middle;\n",
       "    }\n",
       "\n",
       "    .dataframe tbody tr th {\n",
       "        vertical-align: top;\n",
       "    }\n",
       "\n",
       "    .dataframe thead th {\n",
       "        text-align: right;\n",
       "    }\n",
       "</style>\n",
       "<table border=\"1\" class=\"dataframe\">\n",
       "  <thead>\n",
       "    <tr style=\"text-align: right;\">\n",
       "      <th></th>\n",
       "      <th>상호</th>\n",
       "      <th>평점</th>\n",
       "      <th>위치</th>\n",
       "      <th>메뉴</th>\n",
       "    </tr>\n",
       "  </thead>\n",
       "  <tbody>\n",
       "    <tr>\n",
       "      <th>0</th>\n",
       "      <td>원강</td>\n",
       "      <td>4.1</td>\n",
       "      <td>신논현</td>\n",
       "      <td>소구이</td>\n",
       "    </tr>\n",
       "    <tr>\n",
       "      <th>1</th>\n",
       "      <td>스시려 프리미엄</td>\n",
       "      <td>4.7</td>\n",
       "      <td>강남역</td>\n",
       "      <td>일식</td>\n",
       "    </tr>\n",
       "    <tr>\n",
       "      <th>2</th>\n",
       "      <td>영동삼미숯불갈비</td>\n",
       "      <td>4.2</td>\n",
       "      <td>신논현</td>\n",
       "      <td>돼지갈비</td>\n",
       "    </tr>\n",
       "    <tr>\n",
       "      <th>3</th>\n",
       "      <td>강남교자 본점</td>\n",
       "      <td>4.1</td>\n",
       "      <td>강남역</td>\n",
       "      <td>칼국수</td>\n",
       "    </tr>\n",
       "    <tr>\n",
       "      <th>4</th>\n",
       "      <td>리북집</td>\n",
       "      <td>4.1</td>\n",
       "      <td>신논현</td>\n",
       "      <td>족발</td>\n",
       "    </tr>\n",
       "    <tr>\n",
       "      <th>5</th>\n",
       "      <td>아빠곰수제돈까스</td>\n",
       "      <td>4.5</td>\n",
       "      <td>신논현</td>\n",
       "      <td>경양식</td>\n",
       "    </tr>\n",
       "    <tr>\n",
       "      <th>6</th>\n",
       "      <td>도치피자 강남점</td>\n",
       "      <td>4.4</td>\n",
       "      <td>강남역</td>\n",
       "      <td>이탈리안</td>\n",
       "    </tr>\n",
       "    <tr>\n",
       "      <th>7</th>\n",
       "      <td>청류벽</td>\n",
       "      <td>4.2</td>\n",
       "      <td>강남역</td>\n",
       "      <td>칼국수</td>\n",
       "    </tr>\n",
       "    <tr>\n",
       "      <th>8</th>\n",
       "      <td>함지곱창</td>\n",
       "      <td>4.2</td>\n",
       "      <td>신논현</td>\n",
       "      <td>곱창</td>\n",
       "    </tr>\n",
       "    <tr>\n",
       "      <th>9</th>\n",
       "      <td>히까리</td>\n",
       "      <td>4.2</td>\n",
       "      <td>신논현</td>\n",
       "      <td>우동</td>\n",
       "    </tr>\n",
       "    <tr>\n",
       "      <th>10</th>\n",
       "      <td>아나고야</td>\n",
       "      <td>4.1</td>\n",
       "      <td>신논현</td>\n",
       "      <td>해물탕</td>\n",
       "    </tr>\n",
       "    <tr>\n",
       "      <th>11</th>\n",
       "      <td>시골야채된장</td>\n",
       "      <td>4.0</td>\n",
       "      <td>강남역</td>\n",
       "      <td>비빔밥</td>\n",
       "    </tr>\n",
       "    <tr>\n",
       "      <th>12</th>\n",
       "      <td>강남원주추어탕</td>\n",
       "      <td>4.0</td>\n",
       "      <td>신논현</td>\n",
       "      <td>해물탕</td>\n",
       "    </tr>\n",
       "    <tr>\n",
       "      <th>13</th>\n",
       "      <td>배꼽집</td>\n",
       "      <td>3.9</td>\n",
       "      <td>신논현</td>\n",
       "      <td>육회</td>\n",
       "    </tr>\n",
       "    <tr>\n",
       "      <th>14</th>\n",
       "      <td>노들강 본채</td>\n",
       "      <td>3.9</td>\n",
       "      <td>신논현</td>\n",
       "      <td>남도요리</td>\n",
       "    </tr>\n",
       "    <tr>\n",
       "      <th>15</th>\n",
       "      <td>띠엘로</td>\n",
       "      <td>3.8</td>\n",
       "      <td>강남역</td>\n",
       "      <td>유러피안</td>\n",
       "    </tr>\n",
       "    <tr>\n",
       "      <th>16</th>\n",
       "      <td>맛보리생돼지김치두루치기</td>\n",
       "      <td>3.7</td>\n",
       "      <td>강남역</td>\n",
       "      <td>한정식</td>\n",
       "    </tr>\n",
       "    <tr>\n",
       "      <th>17</th>\n",
       "      <td>큐리오</td>\n",
       "      <td>0.0</td>\n",
       "      <td>신논현</td>\n",
       "      <td>프렌치</td>\n",
       "    </tr>\n",
       "    <tr>\n",
       "      <th>18</th>\n",
       "      <td>위트앤미트W&amp;M</td>\n",
       "      <td>0.0</td>\n",
       "      <td>신논현</td>\n",
       "      <td>버거</td>\n",
       "    </tr>\n",
       "    <tr>\n",
       "      <th>19</th>\n",
       "      <td>봉피양제주 강남점</td>\n",
       "      <td>4.2</td>\n",
       "      <td>강남역</td>\n",
       "      <td>냉면</td>\n",
       "    </tr>\n",
       "  </tbody>\n",
       "</table>\n",
       "</div>"
      ],
      "text/plain": [
       "              상호   평점   위치    메뉴\n",
       "0             원강  4.1  신논현   소구이\n",
       "1       스시려 프리미엄  4.7  강남역    일식\n",
       "2       영동삼미숯불갈비  4.2  신논현  돼지갈비\n",
       "3        강남교자 본점  4.1  강남역   칼국수\n",
       "4            리북집  4.1  신논현    족발\n",
       "5       아빠곰수제돈까스  4.5  신논현   경양식\n",
       "6       도치피자 강남점  4.4  강남역  이탈리안\n",
       "7            청류벽  4.2  강남역   칼국수\n",
       "8           함지곱창  4.2  신논현    곱창\n",
       "9            히까리  4.2  신논현    우동\n",
       "10          아나고야  4.1  신논현   해물탕\n",
       "11        시골야채된장  4.0  강남역   비빔밥\n",
       "12       강남원주추어탕  4.0  신논현   해물탕\n",
       "13           배꼽집  3.9  신논현    육회\n",
       "14        노들강 본채  3.9  신논현  남도요리\n",
       "15           띠엘로  3.8  강남역  유러피안\n",
       "16  맛보리생돼지김치두루치기  3.7  강남역   한정식\n",
       "17           큐리오  0.0  신논현   프렌치\n",
       "18      위트앤미트W&M  0.0  신논현    버거\n",
       "19     봉피양제주 강남점  4.2  강남역    냉면"
      ]
     },
     "execution_count": 16,
     "metadata": {},
     "output_type": "execute_result"
    }
   ],
   "source": [
    "df = pd.DataFrame(line)\n",
    "df"
   ]
  },
  {
   "cell_type": "code",
   "execution_count": 17,
   "id": "c156f1a2",
   "metadata": {},
   "outputs": [],
   "source": [
    "df.to_csv(\"식신맛집(신논현).csv\", index=False)"
   ]
  }
 ],
 "metadata": {
  "kernelspec": {
   "display_name": "Python 3 (ipykernel)",
   "language": "python",
   "name": "python3"
  },
  "language_info": {
   "codemirror_mode": {
    "name": "ipython",
    "version": 3
   },
   "file_extension": ".py",
   "mimetype": "text/x-python",
   "name": "python",
   "nbconvert_exporter": "python",
   "pygments_lexer": "ipython3",
   "version": "3.8.7"
  }
 },
 "nbformat": 4,
 "nbformat_minor": 5
}
