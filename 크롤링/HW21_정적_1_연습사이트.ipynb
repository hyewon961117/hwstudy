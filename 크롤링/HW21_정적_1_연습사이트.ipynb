{
 "cells": [
  {
   "cell_type": "code",
   "execution_count": 1,
   "id": "9a60acc8",
   "metadata": {},
   "outputs": [],
   "source": [
    "# http://crawlingstudy-dd3c9.web.app/01/\n",
    "\n",
    "# 전통적인 요리법이나 양식은 상당한 차이가 있지만, ~~~\n",
    "# 파스타의 종류와 소스와 수프 등도 다름을 의미한다."
   ]
  },
  {
   "cell_type": "markdown",
   "id": "31799bce",
   "metadata": {},
   "source": [
    "# 연습사이트 1"
   ]
  },
  {
   "cell_type": "code",
   "execution_count": 2,
   "id": "9e113036",
   "metadata": {},
   "outputs": [],
   "source": [
    "import requests\n",
    "from bs4 import BeautifulSoup\n",
    "url = \"https://crawlingstudy-dd3c9.web.app/01/\"\n",
    "response = requests.get(url)\n",
    "soup = BeautifulSoup(response.text, 'html.parser')"
   ]
  },
  {
   "cell_type": "code",
   "execution_count": 3,
   "id": "c5e415de",
   "metadata": {},
   "outputs": [
    {
     "data": {
      "text/plain": [
       "'\\n    전통적인 요리법이나 양식은 상당한 차이가 있지만, 이탈리아 요리는 다른 국가의 요리 문화에서 다양한 영감을 줄 만큼 다양하고 혁신적인 것으로 평가되고 있다. 각 지방마다 고유의 특색이 있어 그 양식도 다양하지만 크게 북부와 남부로 나눌 수 있다. 다른 나라와 국경을 맞대고 있던 북부 지방은 산업화되어 경제적으로 풍족하고 농업이 발달해 쌀이 풍부해 유제품이 다양한 반면 경제적으로 침체되었던 남부 지방은 올리브와 토마토, 모차렐라 치즈가 유명하고 특별히 해산물을 활용한 요리가 많다. 식재료와 치즈 등의 차이는 파스타의 종류와 소스와 수프 등도 다름을 의미한다.\\n'"
      ]
     },
     "execution_count": 3,
     "metadata": {},
     "output_type": "execute_result"
    }
   ],
   "source": [
    "soup.select_one(\"p#cook\").get_text()"
   ]
  },
  {
   "cell_type": "code",
   "execution_count": 4,
   "id": "fbe25f8d",
   "metadata": {},
   "outputs": [
    {
     "data": {
      "text/plain": [
       "'\\n    전통적인 요리법이나 양식은 상당한 차이가 있지만, 이탈리아 요리는 다른 국가의 요리 문화에서 다양한 영감을 줄 만큼 다양하고 혁신적인 것으로 평가되고 있다. 각 지방마다 고유의 특색이 있어 그 양식도 다양하지만 크게 북부와 남부로 나눌 수 있다. 다른 나라와 국경을 맞대고 있던 북부 지방은 산업화되어 경제적으로 풍족하고 농업이 발달해 쌀이 풍부해 유제품이 다양한 반면 경제적으로 침체되었던 남부 지방은 올리브와 토마토, 모차렐라 치즈가 유명하고 특별히 해산물을 활용한 요리가 많다. 식재료와 치즈 등의 차이는 파스타의 종류와 소스와 수프 등도 다름을 의미한다.\\n'"
      ]
     },
     "execution_count": 4,
     "metadata": {},
     "output_type": "execute_result"
    }
   ],
   "source": [
    "soup.select_one(\"p#cook\").string"
   ]
  },
  {
   "cell_type": "code",
   "execution_count": 5,
   "id": "479d3fe5",
   "metadata": {},
   "outputs": [
    {
     "data": {
      "text/plain": [
       "'\\n    전통적인 요리법이나 양식은 상당한 차이가 있지만, 이탈리아 요리는 다른 국가의 요리 문화에서 다양한 영감을 줄 만큼 다양하고 혁신적인 것으로 평가되고 있다. 각 지방마다 고유의 특색이 있어 그 양식도 다양하지만 크게 북부와 남부로 나눌 수 있다. 다른 나라와 국경을 맞대고 있던 북부 지방은 산업화되어 경제적으로 풍족하고 농업이 발달해 쌀이 풍부해 유제품이 다양한 반면 경제적으로 침체되었던 남부 지방은 올리브와 토마토, 모차렐라 치즈가 유명하고 특별히 해산물을 활용한 요리가 많다. 식재료와 치즈 등의 차이는 파스타의 종류와 소스와 수프 등도 다름을 의미한다.\\n'"
      ]
     },
     "execution_count": 5,
     "metadata": {},
     "output_type": "execute_result"
    }
   ],
   "source": [
    "soup.select_one(\"p#cook\").text"
   ]
  },
  {
   "cell_type": "code",
   "execution_count": 6,
   "id": "338a81f6",
   "metadata": {},
   "outputs": [
    {
     "data": {
      "text/plain": [
       "[{'이름': '이몽룡', '나이': '34'}, {'이름': '홍길동', '나이': '23'}]"
      ]
     },
     "execution_count": 6,
     "metadata": {},
     "output_type": "execute_result"
    }
   ],
   "source": [
    "lst=[]\n",
    "keys=[]\n",
    "\n",
    "for th in soup.select(\"th\"):\n",
    "    keys.append(th.string)\n",
    "\n",
    "for tr in soup.find('tbody').select(\"tr\"):\n",
    "    values=[]\n",
    "    for td in tr.select(\"td\"):\n",
    "        values.append(td.string)\n",
    "    lst.append(dict(zip(keys,values)))\n",
    "\n",
    "lst"
   ]
  },
  {
   "cell_type": "code",
   "execution_count": 7,
   "id": "d6be54d7",
   "metadata": {},
   "outputs": [
    {
     "data": {
      "text/plain": [
       "[{'이름': '이몽룡', '나이': '34'}, {'이름': '홍길동', '나이': '23'}]"
      ]
     },
     "execution_count": 7,
     "metadata": {},
     "output_type": "execute_result"
    }
   ],
   "source": [
    "# 답\n",
    "# [{'이름': '이몽룡', '나이': '34'}, {'이름': '홍길동', '나이': '23'}]\n",
    "\n",
    "key = []\n",
    "value = []\n",
    "\n",
    "for element in soup.find('table').find_all('th'):\n",
    "    key.append(element.text)\n",
    "    \n",
    "for element in soup.find('table').find('tbody').find_all('tr'):\n",
    "    temp = []\n",
    "    for td_element in element.find_all('td'):\n",
    "        temp.append(td_element.text)\n",
    "    value.append(dict(zip(key, temp)))\n",
    "\n",
    "value"
   ]
  },
  {
   "cell_type": "markdown",
   "id": "bf4e2dbc",
   "metadata": {},
   "source": [
    "# 연습사이트 2"
   ]
  },
  {
   "cell_type": "code",
   "execution_count": 8,
   "id": "8e1b3ba8",
   "metadata": {},
   "outputs": [],
   "source": [
    "import requests\n",
    "from bs4 import BeautifulSoup\n",
    "url = \"https://crawlingstudy-dd3c9.web.app/03/\"\n",
    "response = requests.get(url)\n",
    "soup = BeautifulSoup(response.text, 'html.parser')"
   ]
  },
  {
   "cell_type": "code",
   "execution_count": 9,
   "id": "7ee7003a",
   "metadata": {},
   "outputs": [
    {
     "name": "stdout",
     "output_type": "stream",
     "text": [
      "[['써니전자', '5,000'], ['삼성전자', '55,200'], ['안랩', '81,000'], ['케이엠더블..', '57,300'], ['피피아이', '12,600'], ['KT&G', '92,500'], ['삼성전자우', '45,600'], ['대양금속', '10,550'], ['SK하이닉스', '94,700'], ['SK텔레콤', '234,000']]\n"
     ]
    }
   ],
   "source": [
    "# [['써니전자', '5,000'], ['삼성전자', '55,200'], ['안랩', '81,000'], ..., ['SK텔레콤', '234,000']]\n",
    "popular = []\n",
    "\n",
    "soup.select(\".lst_pop\")\n",
    "soup.select('#popularItemList>li') # 리스트로 담김\n",
    "\n",
    "for item in soup.select('#popularItemList>li'):\n",
    "#     print(item)\n",
    "    popular.append([item.select_one('a').text, item.select_one('span').text])\n",
    "\n",
    "print(popular)"
   ]
  },
  {
   "cell_type": "code",
   "execution_count": 10,
   "id": "a70f0842",
   "metadata": {},
   "outputs": [
    {
     "name": "stdout",
     "output_type": "stream",
     "text": [
      "[['다우산업', '28,647.43'], ['나스닥', '9,015.03'], ['홍콩H', '11,320.56'], ['상해종합', '3,085.20'], ['니케이225', '23,656.62']]\n"
     ]
    }
   ],
   "source": [
    "major = []\n",
    "\n",
    "for item in soup.select(\".lst_major>li\"):\n",
    "    major.append([item.select_one(\"a\").text, item.select_one(\"span\").text])\n",
    "\n",
    "print(major)"
   ]
  },
  {
   "cell_type": "code",
   "execution_count": 11,
   "id": "bf198ecd",
   "metadata": {},
   "outputs": [
    {
     "name": "stdout",
     "output_type": "stream",
     "text": [
      "[['써니전자', '상한'], ['삼성전자', '하락'], ['안랩', '상승'], ['케이엠더블..', '상승'], ['피피아이', '상한'], ['KT&G', '하락'], ['삼성전자우', '상승'], ['대양금속', '하한'], ['SK하이닉스', '상승'], ['SK텔레콤', '하락']]\n"
     ]
    }
   ],
   "source": [
    "up_down_pop = []\n",
    "\n",
    "for item in soup.select('#popularItemList>li'):\n",
    "    up_down_pop.append([item.select_one('a').text, item.select_one('img')['alt']])\n",
    "\n",
    "print(up_down_pop)"
   ]
  },
  {
   "cell_type": "code",
   "execution_count": 12,
   "id": "8c229965",
   "metadata": {},
   "outputs": [
    {
     "name": "stdout",
     "output_type": "stream",
     "text": [
      "[['다우산업', '상한'], ['나스닥', '상한'], ['홍콩H', '상한'], ['상해종합', '상한'], ['니케이225', '하락']]\n"
     ]
    }
   ],
   "source": [
    "up_down_major = []\n",
    "\n",
    "for item in soup.select('.lst_major>li'):\n",
    "    up_down_major.append([item.select_one('a').text, item.select_one('img')['alt']])\n",
    "\n",
    "print(up_down_major)"
   ]
  },
  {
   "cell_type": "code",
   "execution_count": 13,
   "id": "e519879a",
   "metadata": {},
   "outputs": [
    {
     "name": "stdout",
     "output_type": "stream",
     "text": [
      "[['써니전자', '상한'], ['안랩', '상승'], ['케이엠더블..', '상승'], ['피피아이', '상한'], ['삼성전자우', '상승'], ['SK하이닉스', '상승']]\n"
     ]
    }
   ],
   "source": [
    "up_pop = []\n",
    "\n",
    "for item in soup.select('#popularItemList>li'):\n",
    "    if (item.select_one('img').attrs['alt'] ==\"상한\") | (item.select_one('img').attrs['alt'] ==\"상승\"):\n",
    "        up_pop.append([item.select_one('a').text, item.select_one('img')['alt']])\n",
    "\n",
    "print(up_pop)"
   ]
  },
  {
   "cell_type": "code",
   "execution_count": 14,
   "id": "00ebc50b",
   "metadata": {},
   "outputs": [
    {
     "name": "stdout",
     "output_type": "stream",
     "text": [
      "[['다우산업', '상한'], ['나스닥', '상한'], ['홍콩H', '상한'], ['상해종합', '상한']]\n"
     ]
    }
   ],
   "source": [
    "up_major = []\n",
    "\n",
    "for item in soup.select('.lst_major>li'):\n",
    "    if (item.select_one('img').attrs['alt'] ==\"상한\") | (item.select_one('img').attrs['alt'] ==\"상승\"):\n",
    "        up_major.append([item.select_one('a').text, item.select_one('img')['alt']])\n",
    "\n",
    "print(up_major)"
   ]
  },
  {
   "cell_type": "code",
   "execution_count": 15,
   "id": "d0509a1c",
   "metadata": {},
   "outputs": [
    {
     "name": "stdout",
     "output_type": "stream",
     "text": [
      "[{'이름': 'H하우스장위', '보증금': '16000', '유형': '아파트', '분양유형': '일반민간임대', '세대수': '분양 134세대', '평형': '45㎡~65㎡'}, {'이름': '고덕리엔파크2단지 장기전세', '보증금': '38400', '유형': '아파트', '분양유형': '장기전세주택', '세대수': '분양 1세대', '평형': '149㎡'}, {'이름': '신정이펜하우스3단지 장기전세', '보증금': '39040', '유형': '아파트', '분양유형': '장기전세주택', '세대수': '분양 1세대', '평형': '148㎡'}, {'이름': '천왕이펜하우스2단지 장기전세', '보증금': '38240', '유형': '아파트', '분양유형': '장기전세주택', '세대수': '분양 1세대', '평형': '142㎡'}, {'이름': '송파파크데일2단지 장기전세', '보증금': '45600', '유형': '아파트', '분양유형': '장기전세주택', '세대수': '분양 1세대', '평형': '150㎡'}]\n"
     ]
    },
    {
     "data": {
      "text/plain": [
       "[{'이름': 'H하우스장위',\n",
       "  '보증금': '16000',\n",
       "  '유형': '아파트',\n",
       "  '분양유형': '일반민간임대',\n",
       "  '세대수': '분양 134세대',\n",
       "  '평형': '45㎡~65㎡'},\n",
       " {'이름': '고덕리엔파크2단지 장기전세',\n",
       "  '보증금': '38400',\n",
       "  '유형': '아파트',\n",
       "  '분양유형': '장기전세주택',\n",
       "  '세대수': '분양 1세대',\n",
       "  '평형': '149㎡'},\n",
       " {'이름': '신정이펜하우스3단지 장기전세',\n",
       "  '보증금': '39040',\n",
       "  '유형': '아파트',\n",
       "  '분양유형': '장기전세주택',\n",
       "  '세대수': '분양 1세대',\n",
       "  '평형': '148㎡'},\n",
       " {'이름': '천왕이펜하우스2단지 장기전세',\n",
       "  '보증금': '38240',\n",
       "  '유형': '아파트',\n",
       "  '분양유형': '장기전세주택',\n",
       "  '세대수': '분양 1세대',\n",
       "  '평형': '142㎡'},\n",
       " {'이름': '송파파크데일2단지 장기전세',\n",
       "  '보증금': '45600',\n",
       "  '유형': '아파트',\n",
       "  '분양유형': '장기전세주택',\n",
       "  '세대수': '분양 1세대',\n",
       "  '평형': '150㎡'}]"
      ]
     },
     "execution_count": 15,
     "metadata": {},
     "output_type": "execute_result"
    }
   ],
   "source": [
    "# 답\n",
    "apt = []\n",
    "for item in soup.select('.sale_list li'):\n",
    "    apt.append({'이름' : item.select_one(\".sale_tit\").text.strip(),\n",
    "                '보증금' : item.select(\".detail_info dd.txt\")[0].select_one(\"strong\").text.replace(',',''),\n",
    "                '유형' : item.select(\".detail_info dd.txt\")[1].text.split('|')[0], # 아파트|장기전세주택\n",
    "                '분양유형' : item.select(\".detail_info dd.txt\")[1].text.split('|')[1],\n",
    "                '세대수' : item.select(\".detail_info dd.txt\")[2].text.split('|')[0], # 분양 1세대|149㎡\n",
    "                '평형' : item.select(\".detail_info dd.txt\")[2].text.split('|')[1]})\n",
    "print(apt)\n",
    "apt"
   ]
  }
 ],
 "metadata": {
  "kernelspec": {
   "display_name": "Python 3 (ipykernel)",
   "language": "python",
   "name": "python3"
  },
  "language_info": {
   "codemirror_mode": {
    "name": "ipython",
    "version": 3
   },
   "file_extension": ".py",
   "mimetype": "text/x-python",
   "name": "python",
   "nbconvert_exporter": "python",
   "pygments_lexer": "ipython3",
   "version": "3.8.7"
  }
 },
 "nbformat": 4,
 "nbformat_minor": 5
}
