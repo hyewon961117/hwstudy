{
 "cells": [
  {
   "cell_type": "code",
   "execution_count": 1,
   "id": "a39ac2b8",
   "metadata": {},
   "outputs": [],
   "source": [
    "import numpy as np\n",
    "import pandas as pd\n",
    "import folium, json\n",
    "\n",
    "import warnings\n",
    "warnings.filterwarnings('ignore')\n",
    "\n",
    "import requests\n",
    "from bs4 import BeautifulSoup\n",
    "from urllib.parse import quote\n",
    "from tqdm.notebook import tqdm\n",
    "\n",
    "import re\n",
    "import time\n",
    "\n",
    "import selenium\n",
    "from selenium import webdriver\n",
    "from selenium.webdriver.common.keys import Keys\n",
    "from selenium.webdriver.common.by import By"
   ]
  },
  {
   "cell_type": "code",
   "execution_count": 3,
   "id": "97c92eb2",
   "metadata": {},
   "outputs": [],
   "source": [
    "from wordcloud import WordCloud, STOPWORDS # 주피터는 wordCloud 인것 같음\n",
    "from PIL import Image # 그림을 불러오는 패키지\n",
    "import numpy as np\n",
    "import matplotlib.pyplot as plt\n",
    "from nltk.corpus import stopwords\n",
    "from konlpy.tag import Okt, Kkma, Komoran\n",
    "\n",
    "from matplotlib import font_manager, rc \n",
    "import matplotlib.pyplot as plt\n",
    "import matplotlib as mpl\n",
    "\n",
    "#마이너스 표시\n",
    "mpl.rcParams['axes.unicode_minus'] = False\n",
    "plt.rc('font', family='Malgun Gothic')"
   ]
  },
  {
   "cell_type": "code",
   "execution_count": 7,
   "id": "bed5013e",
   "metadata": {},
   "outputs": [],
   "source": [
    "# url\n",
    "i = 1\n",
    "keyword = \"여친선물\" \n",
    "url = f'https://kin.naver.com/search/list.naver?query={quote(keyword)}&page={i}'\n",
    "\n",
    "req = requests.get(url)\n",
    "soup = BeautifulSoup(req.text, 'html.parser')"
   ]
  },
  {
   "cell_type": "code",
   "execution_count": 93,
   "id": "f32fddc4",
   "metadata": {},
   "outputs": [],
   "source": [
    "answerList=[]\n",
    "keyword = \"여친선물\" \n",
    "\n",
    "for i in range(1,11):\n",
    "    url = f'https://kin.naver.com/search/list.naver?query={quote(keyword)}&page={i}'\n",
    "\n",
    "    req = requests.get(url)\n",
    "    soup = BeautifulSoup(req.text, 'html.parser')\n",
    "\n",
    "    for li in soup.select(\".basic1 li\"):\n",
    "        try: \n",
    "            driver = webdriver.Chrome()\n",
    "            li_url = li.select_one('a')['href']\n",
    "            driver.get(li_url)\n",
    "            time.sleep(2)\n",
    "\n",
    "            ans_num = int(driver.find_element(By.CSS_SELECTOR, \".c-classify__title em\").text)\n",
    "            \n",
    "            if ans_num%5 == 0:\n",
    "                plus = int(ans_num / 5)-1\n",
    "            else :\n",
    "                plus = int(ans_num / 5)\n",
    "\n",
    "            for j in range(0,plus):\n",
    "                driver.find_element(By.CSS_SELECTOR, \"#nextPageButton\").click()\n",
    "                time.sleep(1)\n",
    "\n",
    "            li_soup = BeautifulSoup(driver.page_source, 'html.parser')\n",
    "\n",
    "            for p in li_soup.select(\"._endContents\"):\n",
    "                try : \n",
    "                    answerList.append(p.select_one(\".se-module\").text)\n",
    "                except :\n",
    "                    answerList.append(p.select_one(\"._endContentsText\").text)\n",
    "            \n",
    "            driver.close()\n",
    "            time.sleep(1)\n",
    "        except :\n",
    "            print(li_url)\n",
    "            break"
   ]
  },
  {
   "cell_type": "code",
   "execution_count": 99,
   "id": "56c0afa4",
   "metadata": {},
   "outputs": [
    {
     "data": {
      "text/html": [
       "<div>\n",
       "<style scoped>\n",
       "    .dataframe tbody tr th:only-of-type {\n",
       "        vertical-align: middle;\n",
       "    }\n",
       "\n",
       "    .dataframe tbody tr th {\n",
       "        vertical-align: top;\n",
       "    }\n",
       "\n",
       "    .dataframe thead th {\n",
       "        text-align: right;\n",
       "    }\n",
       "</style>\n",
       "<table border=\"1\" class=\"dataframe\">\n",
       "  <thead>\n",
       "    <tr style=\"text-align: right;\">\n",
       "      <th></th>\n",
       "      <th>0</th>\n",
       "    </tr>\n",
       "  </thead>\n",
       "  <tbody>\n",
       "    <tr>\n",
       "      <th>0</th>\n",
       "      <td>여친선물로​데일리로맨틱 오르골 무드등 강추요​여친선물 BEST입니다~^^ 후기봐보...</td>\n",
       "    </tr>\n",
       "    <tr>\n",
       "      <th>1</th>\n",
       "      <td>먼저 여친의 생일을 축하합니다!​20대 초반 여친 생일선물 추천드립니다.20대 여...</td>\n",
       "    </tr>\n",
       "    <tr>\n",
       "      <th>2</th>\n",
       "      <td>인기있는 여친선물 리스트 말고뭔가 특별한 선물이어야 하지 않을까요?​정성스런 손편...</td>\n",
       "    </tr>\n",
       "    <tr>\n",
       "      <th>3</th>\n",
       "      <td>20대 초반 여자친구 선물로사랑 문답, 펜디 카드지갑, 꽃다발 추천드려요!!카드지...</td>\n",
       "    </tr>\n",
       "    <tr>\n",
       "      <th>4</th>\n",
       "      <td>여자친구 선물 고민중이시면 목걸이 완전 추천해요!오랫동안 간직할수도 있고 여자친구...</td>\n",
       "    </tr>\n",
       "    <tr>\n",
       "      <th>...</th>\n",
       "      <td>...</td>\n",
       "    </tr>\n",
       "    <tr>\n",
       "      <th>621</th>\n",
       "      <td>꽃이고 반지고 목걸이고 남자들이 사는거 꺼려지는거내가 잘 알지. 글씨도 잘 못써서 ...</td>\n",
       "    </tr>\n",
       "    <tr>\n",
       "      <th>622</th>\n",
       "      <td>여친선물 추천사이트들 모아둔 곳 소개합니다!!여친선물에 대해서 알아보고 계시는군요^...</td>\n",
       "    </tr>\n",
       "    <tr>\n",
       "      <th>623</th>\n",
       "      <td>여자선물은 목걸이나 귀걸이가 최고아닌가요 ㅋㅋㅋㅋ 몇개추천함..다이아티니하트 목걸이...</td>\n",
       "    </tr>\n",
       "    <tr>\n",
       "      <th>624</th>\n",
       "      <td>선물 베스트 20 1. 공책2. 지갑(빨간게좋음)3. 커플링4. 색볼펜5. 스케치북...</td>\n",
       "    </tr>\n",
       "    <tr>\n",
       "      <th>625</th>\n",
       "      <td>여친선물 궁금한게 정말 많죠~?여친선물 분명히 많이들 찾을탠대 왜이리 정보가 없지 ...</td>\n",
       "    </tr>\n",
       "  </tbody>\n",
       "</table>\n",
       "<p>626 rows × 1 columns</p>\n",
       "</div>"
      ],
      "text/plain": [
       "                                                     0\n",
       "0     여친선물로​데일리로맨틱 오르골 무드등 강추요​여친선물 BEST입니다~^^ 후기봐보...\n",
       "1     먼저 여친의 생일을 축하합니다!​20대 초반 여친 생일선물 추천드립니다.20대 여...\n",
       "2     인기있는 여친선물 리스트 말고뭔가 특별한 선물이어야 하지 않을까요?​정성스런 손편...\n",
       "3     20대 초반 여자친구 선물로사랑 문답, 펜디 카드지갑, 꽃다발 추천드려요!!카드지...\n",
       "4     여자친구 선물 고민중이시면 목걸이 완전 추천해요!오랫동안 간직할수도 있고 여자친구...\n",
       "..                                                 ...\n",
       "621  꽃이고 반지고 목걸이고 남자들이 사는거 꺼려지는거내가 잘 알지. 글씨도 잘 못써서 ...\n",
       "622  여친선물 추천사이트들 모아둔 곳 소개합니다!!여친선물에 대해서 알아보고 계시는군요^...\n",
       "623  여자선물은 목걸이나 귀걸이가 최고아닌가요 ㅋㅋㅋㅋ 몇개추천함..다이아티니하트 목걸이...\n",
       "624  선물 베스트 20 1. 공책2. 지갑(빨간게좋음)3. 커플링4. 색볼펜5. 스케치북...\n",
       "625  여친선물 궁금한게 정말 많죠~?여친선물 분명히 많이들 찾을탠대 왜이리 정보가 없지 ...\n",
       "\n",
       "[626 rows x 1 columns]"
      ]
     },
     "execution_count": 99,
     "metadata": {},
     "output_type": "execute_result"
    }
   ],
   "source": [
    "hw_answer = pd.DataFrame(answerList)\n",
    "hw_answer.to_csv('hw_answer.csv', index=False)\n",
    "hw_answer"
   ]
  },
  {
   "cell_type": "markdown",
   "id": "0079e181",
   "metadata": {},
   "source": [
    "## 강사님 방법"
   ]
  },
  {
   "cell_type": "code",
   "execution_count": 106,
   "id": "9e26450d",
   "metadata": {},
   "outputs": [],
   "source": [
    "base_url = \"https://kin.naver.com/search/list.naver?query=\"\n",
    "url = base_url + quote(\"여친선물\")\n",
    "driver = webdriver.Chrome()"
   ]
  },
  {
   "cell_type": "code",
   "execution_count": 117,
   "id": "c099c20f",
   "metadata": {},
   "outputs": [
    {
     "name": "stdout",
     "output_type": "stream",
     "text": [
      "page 1\n",
      "page 2\n",
      "page 3\n",
      "page 4\n",
      "page 5\n",
      "page 6\n",
      "page 7\n",
      "page 8\n",
      "page 9\n",
      "page 10\n"
     ]
    }
   ],
   "source": [
    "answer_list = []\n",
    "driver = webdriver.Chrome()\n",
    "for page in range(1,11):\n",
    "    print('page', page)\n",
    "    url = f'{base_url}{quote(\"여친선물\")}&page={page}'\n",
    "    driver.get(url)\n",
    "    time.sleep(1)\n",
    "    \n",
    "    html = driver.page_source\n",
    "    soup = BeautifulSoup(html, 'html.parser')\n",
    "    lis = soup.select('ul.basic1>li')\n",
    "    \n",
    "    for li in lis:\n",
    "        sub_url = li.select_one('a._searchListTitleAnchor')['href']\n",
    "        driver.get(sub_url)\n",
    "        time.sleep(1)\n",
    "        \n",
    "        count = int(driver.find_element(By.CSS_SELECTOR,\"._answerCount.num\").text)\n",
    "        answer_page=(count-1)//5\n",
    "        \n",
    "        for i in range(answer_page):\n",
    "            driver.find_element(By.ID, 'nextPageButton').click()\n",
    "            time.sleep(1)\n",
    "        \n",
    "        html = driver.page_source\n",
    "        soup = BeautifulSoup(html, 'html.parser')\n",
    "        divs = soup.select('div.answer-content__item._contentWrap._answer')\n",
    "        for div in divs:\n",
    "            ps = div.select('p.se-text-paragraph')\n",
    "            for p in ps:\n",
    "                text = p.get_text()\n",
    "                if text == \" \" or text == \"\\u200b\":\n",
    "                    continue\n",
    "                answer_list.append(text)\n",
    "        driver.back()\n",
    "        time.sleep(1)"
   ]
  },
  {
   "cell_type": "code",
   "execution_count": 114,
   "id": "dfe912e8",
   "metadata": {},
   "outputs": [
    {
     "data": {
      "text/plain": [
       "'https://kin.naver.com/qna/detail.naver?d1id=5&dirId=511&docId=443958205&qb=7Jes7Lmc7ISg66y8&enc=utf8&section=kin&rank=1&search_sort=0&spq=0'"
      ]
     },
     "execution_count": 114,
     "metadata": {},
     "output_type": "execute_result"
    }
   ],
   "source": [
    "soup.select('ul.basic1>li')[0].select_one('a._searchListTitleAnchor')['href']"
   ]
  },
  {
   "cell_type": "code",
   "execution_count": 119,
   "id": "d9d41585",
   "metadata": {},
   "outputs": [],
   "source": [
    "with open('gf_gift.txt',\"w\",encoding='utf-8') as f :\n",
    "    for answer in answer_list:\n",
    "        f.write(answer + '\\n')"
   ]
  },
  {
   "cell_type": "code",
   "execution_count": null,
   "id": "82341e7e",
   "metadata": {},
   "outputs": [],
   "source": []
  }
 ],
 "metadata": {
  "kernelspec": {
   "display_name": "Python 3 (ipykernel)",
   "language": "python",
   "name": "python3"
  },
  "language_info": {
   "codemirror_mode": {
    "name": "ipython",
    "version": 3
   },
   "file_extension": ".py",
   "mimetype": "text/x-python",
   "name": "python",
   "nbconvert_exporter": "python",
   "pygments_lexer": "ipython3",
   "version": "3.8.7"
  }
 },
 "nbformat": 4,
 "nbformat_minor": 5
}
